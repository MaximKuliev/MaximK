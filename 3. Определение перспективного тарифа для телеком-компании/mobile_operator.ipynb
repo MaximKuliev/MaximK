{
 "cells": [
  {
   "cell_type": "markdown",
   "id": "1ebc36fd",
   "metadata": {},
   "source": [
    "# Определение перспективного тарифа для телеком-компании\n",
    "\n",
    "Вы аналитик компании «Мегалайн» — федерального оператора сотовой связи. Клиентам предлагают два тарифных плана: «Смарт» и «Ультра». Чтобы скорректировать рекламный бюджет, коммерческий департамент хочет понять, какой тариф приносит больше денег.\n",
    "Вам предстоит сделать предварительный анализ тарифов на небольшой выборке клиентов. В вашем распоряжении данные 500 пользователей «Мегалайна»: кто они, откуда, каким тарифом пользуются, сколько звонков и сообщений каждый отправил за 2018 год. Нужно проанализировать поведение клиентов и сделать вывод — какой тариф лучше."
   ]
  },
  {
   "cell_type": "markdown",
   "id": "b29b68ae",
   "metadata": {},
   "source": [
    "## Изучим данные"
   ]
  },
  {
   "cell_type": "code",
   "execution_count": 2,
   "id": "50611be1",
   "metadata": {},
   "outputs": [],
   "source": [
    "import pandas as pd\n",
    "import matplotlib.pyplot as plt \n",
    "import numpy as np\n",
    "import datetime as dt\n",
    "import seaborn as sns\n",
    "from scipy import stats as st\n",
    "import os\n",
    "\n",
    "\n",
    "sns.set(rc={'figure.figsize':(17,8)}) #Зададим размер фигур построеных с помощью seaborn\n",
    "np.set_printoptions(threshold=np.inf)\n",
    "sns.set_palette('dark')\n",
    "pd.set_option('display.max_columns', None) #Уберем ограничение на максимальное число отображаемых столбцов за раз"
   ]
  },
  {
   "cell_type": "code",
   "execution_count": 4,
   "id": "9d811200",
   "metadata": {},
   "outputs": [],
   "source": [
    "pth1_1 = 'calls.csv'\n",
    "pth1_2 = 'internet.csv'\n",
    "pth1_3 = 'messages.csv'\n",
    "pth1_4 = 'tariffs.csv'\n",
    "pth1_5 = 'users.csv'\n",
    "pth2_1 = '/datasets/calls.csv'\n",
    "pth2_2 = '/datasets/internet.csv'\n",
    "pth2_3 = '/datasets/messages.csv'\n",
    "pth2_4 = '/datasets/tariffs.csv'\n",
    "pth2_5 = '/datasets/users.csv'\n",
    "\n",
    "if os.path.exists(pth1_1):\n",
    "    calls = pd.read_csv(pth1_1)\n",
    "    internet = pd.read_csv(pth1_2)\n",
    "    messages = pd.read_csv(pth1_3)\n",
    "    tariffs = pd.read_csv(pth1_4)\n",
    "    users = pd.read_csv(pth1_5)\n",
    "elif os.path.exists(pth2):\n",
    "    calls = pd.read_csv(pth2_1)\n",
    "    internet = pd.read_csv(pth2_2)\n",
    "    messages = pd.read_csv(pth2_3)\n",
    "    tariffs = pd.read_csv(pth2_4)\n",
    "    users = pd.read_csv(pth2_5)\n",
    "else:\n",
    "    print('Что-то пошло не так')"
   ]
  },
  {
   "cell_type": "markdown",
   "id": "4cdeba43",
   "metadata": {},
   "source": [
    "Для начала нужно ознакомиться с файлами, что лежит в датасетах, какие типы данных."
   ]
  },
  {
   "cell_type": "code",
   "execution_count": 5,
   "id": "983c0670",
   "metadata": {
    "scrolled": true
   },
   "outputs": [
    {
     "data": {
      "text/html": [
       "<div>\n",
       "<style scoped>\n",
       "    .dataframe tbody tr th:only-of-type {\n",
       "        vertical-align: middle;\n",
       "    }\n",
       "\n",
       "    .dataframe tbody tr th {\n",
       "        vertical-align: top;\n",
       "    }\n",
       "\n",
       "    .dataframe thead th {\n",
       "        text-align: right;\n",
       "    }\n",
       "</style>\n",
       "<table border=\"1\" class=\"dataframe\">\n",
       "  <thead>\n",
       "    <tr style=\"text-align: right;\">\n",
       "      <th></th>\n",
       "      <th>id</th>\n",
       "      <th>call_date</th>\n",
       "      <th>duration</th>\n",
       "      <th>user_id</th>\n",
       "    </tr>\n",
       "  </thead>\n",
       "  <tbody>\n",
       "    <tr>\n",
       "      <th>0</th>\n",
       "      <td>1000_0</td>\n",
       "      <td>2018-07-25</td>\n",
       "      <td>0.00</td>\n",
       "      <td>1000</td>\n",
       "    </tr>\n",
       "    <tr>\n",
       "      <th>1</th>\n",
       "      <td>1000_1</td>\n",
       "      <td>2018-08-17</td>\n",
       "      <td>0.00</td>\n",
       "      <td>1000</td>\n",
       "    </tr>\n",
       "    <tr>\n",
       "      <th>2</th>\n",
       "      <td>1000_2</td>\n",
       "      <td>2018-06-11</td>\n",
       "      <td>2.85</td>\n",
       "      <td>1000</td>\n",
       "    </tr>\n",
       "    <tr>\n",
       "      <th>3</th>\n",
       "      <td>1000_3</td>\n",
       "      <td>2018-09-21</td>\n",
       "      <td>13.80</td>\n",
       "      <td>1000</td>\n",
       "    </tr>\n",
       "    <tr>\n",
       "      <th>4</th>\n",
       "      <td>1000_4</td>\n",
       "      <td>2018-12-15</td>\n",
       "      <td>5.18</td>\n",
       "      <td>1000</td>\n",
       "    </tr>\n",
       "    <tr>\n",
       "      <th>5</th>\n",
       "      <td>1000_5</td>\n",
       "      <td>2018-11-02</td>\n",
       "      <td>0.00</td>\n",
       "      <td>1000</td>\n",
       "    </tr>\n",
       "    <tr>\n",
       "      <th>6</th>\n",
       "      <td>1000_6</td>\n",
       "      <td>2018-10-18</td>\n",
       "      <td>0.00</td>\n",
       "      <td>1000</td>\n",
       "    </tr>\n",
       "    <tr>\n",
       "      <th>7</th>\n",
       "      <td>1000_7</td>\n",
       "      <td>2018-08-22</td>\n",
       "      <td>18.31</td>\n",
       "      <td>1000</td>\n",
       "    </tr>\n",
       "    <tr>\n",
       "      <th>8</th>\n",
       "      <td>1000_8</td>\n",
       "      <td>2018-09-15</td>\n",
       "      <td>18.44</td>\n",
       "      <td>1000</td>\n",
       "    </tr>\n",
       "    <tr>\n",
       "      <th>9</th>\n",
       "      <td>1000_9</td>\n",
       "      <td>2018-08-15</td>\n",
       "      <td>0.00</td>\n",
       "      <td>1000</td>\n",
       "    </tr>\n",
       "  </tbody>\n",
       "</table>\n",
       "</div>"
      ],
      "text/plain": [
       "       id   call_date  duration  user_id\n",
       "0  1000_0  2018-07-25      0.00     1000\n",
       "1  1000_1  2018-08-17      0.00     1000\n",
       "2  1000_2  2018-06-11      2.85     1000\n",
       "3  1000_3  2018-09-21     13.80     1000\n",
       "4  1000_4  2018-12-15      5.18     1000\n",
       "5  1000_5  2018-11-02      0.00     1000\n",
       "6  1000_6  2018-10-18      0.00     1000\n",
       "7  1000_7  2018-08-22     18.31     1000\n",
       "8  1000_8  2018-09-15     18.44     1000\n",
       "9  1000_9  2018-08-15      0.00     1000"
      ]
     },
     "metadata": {},
     "output_type": "display_data"
    },
    {
     "name": "stdout",
     "output_type": "stream",
     "text": [
      "<class 'pandas.core.frame.DataFrame'>\n",
      "RangeIndex: 202607 entries, 0 to 202606\n",
      "Data columns (total 4 columns):\n",
      " #   Column     Non-Null Count   Dtype  \n",
      "---  ------     --------------   -----  \n",
      " 0   id         202607 non-null  object \n",
      " 1   call_date  202607 non-null  object \n",
      " 2   duration   202607 non-null  float64\n",
      " 3   user_id    202607 non-null  int64  \n",
      "dtypes: float64(1), int64(1), object(2)\n",
      "memory usage: 6.2+ MB\n"
     ]
    },
    {
     "data": {
      "text/html": [
       "<div>\n",
       "<style scoped>\n",
       "    .dataframe tbody tr th:only-of-type {\n",
       "        vertical-align: middle;\n",
       "    }\n",
       "\n",
       "    .dataframe tbody tr th {\n",
       "        vertical-align: top;\n",
       "    }\n",
       "\n",
       "    .dataframe thead th {\n",
       "        text-align: right;\n",
       "    }\n",
       "</style>\n",
       "<table border=\"1\" class=\"dataframe\">\n",
       "  <thead>\n",
       "    <tr style=\"text-align: right;\">\n",
       "      <th></th>\n",
       "      <th>Unnamed: 0</th>\n",
       "      <th>id</th>\n",
       "      <th>mb_used</th>\n",
       "      <th>session_date</th>\n",
       "      <th>user_id</th>\n",
       "    </tr>\n",
       "  </thead>\n",
       "  <tbody>\n",
       "    <tr>\n",
       "      <th>0</th>\n",
       "      <td>0</td>\n",
       "      <td>1000_0</td>\n",
       "      <td>112.95</td>\n",
       "      <td>2018-11-25</td>\n",
       "      <td>1000</td>\n",
       "    </tr>\n",
       "    <tr>\n",
       "      <th>1</th>\n",
       "      <td>1</td>\n",
       "      <td>1000_1</td>\n",
       "      <td>1052.81</td>\n",
       "      <td>2018-09-07</td>\n",
       "      <td>1000</td>\n",
       "    </tr>\n",
       "    <tr>\n",
       "      <th>2</th>\n",
       "      <td>2</td>\n",
       "      <td>1000_2</td>\n",
       "      <td>1197.26</td>\n",
       "      <td>2018-06-25</td>\n",
       "      <td>1000</td>\n",
       "    </tr>\n",
       "    <tr>\n",
       "      <th>3</th>\n",
       "      <td>3</td>\n",
       "      <td>1000_3</td>\n",
       "      <td>550.27</td>\n",
       "      <td>2018-08-22</td>\n",
       "      <td>1000</td>\n",
       "    </tr>\n",
       "    <tr>\n",
       "      <th>4</th>\n",
       "      <td>4</td>\n",
       "      <td>1000_4</td>\n",
       "      <td>302.56</td>\n",
       "      <td>2018-09-24</td>\n",
       "      <td>1000</td>\n",
       "    </tr>\n",
       "    <tr>\n",
       "      <th>5</th>\n",
       "      <td>5</td>\n",
       "      <td>1000_5</td>\n",
       "      <td>399.97</td>\n",
       "      <td>2018-10-02</td>\n",
       "      <td>1000</td>\n",
       "    </tr>\n",
       "    <tr>\n",
       "      <th>6</th>\n",
       "      <td>6</td>\n",
       "      <td>1000_6</td>\n",
       "      <td>540.08</td>\n",
       "      <td>2018-09-07</td>\n",
       "      <td>1000</td>\n",
       "    </tr>\n",
       "    <tr>\n",
       "      <th>7</th>\n",
       "      <td>7</td>\n",
       "      <td>1000_7</td>\n",
       "      <td>415.70</td>\n",
       "      <td>2018-07-11</td>\n",
       "      <td>1000</td>\n",
       "    </tr>\n",
       "    <tr>\n",
       "      <th>8</th>\n",
       "      <td>8</td>\n",
       "      <td>1000_8</td>\n",
       "      <td>505.40</td>\n",
       "      <td>2018-10-08</td>\n",
       "      <td>1000</td>\n",
       "    </tr>\n",
       "    <tr>\n",
       "      <th>9</th>\n",
       "      <td>9</td>\n",
       "      <td>1000_9</td>\n",
       "      <td>345.54</td>\n",
       "      <td>2018-09-03</td>\n",
       "      <td>1000</td>\n",
       "    </tr>\n",
       "  </tbody>\n",
       "</table>\n",
       "</div>"
      ],
      "text/plain": [
       "   Unnamed: 0      id  mb_used session_date  user_id\n",
       "0           0  1000_0   112.95   2018-11-25     1000\n",
       "1           1  1000_1  1052.81   2018-09-07     1000\n",
       "2           2  1000_2  1197.26   2018-06-25     1000\n",
       "3           3  1000_3   550.27   2018-08-22     1000\n",
       "4           4  1000_4   302.56   2018-09-24     1000\n",
       "5           5  1000_5   399.97   2018-10-02     1000\n",
       "6           6  1000_6   540.08   2018-09-07     1000\n",
       "7           7  1000_7   415.70   2018-07-11     1000\n",
       "8           8  1000_8   505.40   2018-10-08     1000\n",
       "9           9  1000_9   345.54   2018-09-03     1000"
      ]
     },
     "metadata": {},
     "output_type": "display_data"
    },
    {
     "name": "stdout",
     "output_type": "stream",
     "text": [
      "<class 'pandas.core.frame.DataFrame'>\n",
      "RangeIndex: 149396 entries, 0 to 149395\n",
      "Data columns (total 5 columns):\n",
      " #   Column        Non-Null Count   Dtype  \n",
      "---  ------        --------------   -----  \n",
      " 0   Unnamed: 0    149396 non-null  int64  \n",
      " 1   id            149396 non-null  object \n",
      " 2   mb_used       149396 non-null  float64\n",
      " 3   session_date  149396 non-null  object \n",
      " 4   user_id       149396 non-null  int64  \n",
      "dtypes: float64(1), int64(2), object(2)\n",
      "memory usage: 5.7+ MB\n"
     ]
    },
    {
     "data": {
      "text/html": [
       "<div>\n",
       "<style scoped>\n",
       "    .dataframe tbody tr th:only-of-type {\n",
       "        vertical-align: middle;\n",
       "    }\n",
       "\n",
       "    .dataframe tbody tr th {\n",
       "        vertical-align: top;\n",
       "    }\n",
       "\n",
       "    .dataframe thead th {\n",
       "        text-align: right;\n",
       "    }\n",
       "</style>\n",
       "<table border=\"1\" class=\"dataframe\">\n",
       "  <thead>\n",
       "    <tr style=\"text-align: right;\">\n",
       "      <th></th>\n",
       "      <th>id</th>\n",
       "      <th>message_date</th>\n",
       "      <th>user_id</th>\n",
       "    </tr>\n",
       "  </thead>\n",
       "  <tbody>\n",
       "    <tr>\n",
       "      <th>0</th>\n",
       "      <td>1000_0</td>\n",
       "      <td>2018-06-27</td>\n",
       "      <td>1000</td>\n",
       "    </tr>\n",
       "    <tr>\n",
       "      <th>1</th>\n",
       "      <td>1000_1</td>\n",
       "      <td>2018-10-08</td>\n",
       "      <td>1000</td>\n",
       "    </tr>\n",
       "    <tr>\n",
       "      <th>2</th>\n",
       "      <td>1000_2</td>\n",
       "      <td>2018-08-04</td>\n",
       "      <td>1000</td>\n",
       "    </tr>\n",
       "    <tr>\n",
       "      <th>3</th>\n",
       "      <td>1000_3</td>\n",
       "      <td>2018-06-16</td>\n",
       "      <td>1000</td>\n",
       "    </tr>\n",
       "    <tr>\n",
       "      <th>4</th>\n",
       "      <td>1000_4</td>\n",
       "      <td>2018-12-05</td>\n",
       "      <td>1000</td>\n",
       "    </tr>\n",
       "    <tr>\n",
       "      <th>5</th>\n",
       "      <td>1000_5</td>\n",
       "      <td>2018-06-20</td>\n",
       "      <td>1000</td>\n",
       "    </tr>\n",
       "    <tr>\n",
       "      <th>6</th>\n",
       "      <td>1000_6</td>\n",
       "      <td>2018-11-19</td>\n",
       "      <td>1000</td>\n",
       "    </tr>\n",
       "    <tr>\n",
       "      <th>7</th>\n",
       "      <td>1000_7</td>\n",
       "      <td>2018-10-29</td>\n",
       "      <td>1000</td>\n",
       "    </tr>\n",
       "    <tr>\n",
       "      <th>8</th>\n",
       "      <td>1000_8</td>\n",
       "      <td>2018-06-25</td>\n",
       "      <td>1000</td>\n",
       "    </tr>\n",
       "    <tr>\n",
       "      <th>9</th>\n",
       "      <td>1000_9</td>\n",
       "      <td>2018-12-18</td>\n",
       "      <td>1000</td>\n",
       "    </tr>\n",
       "  </tbody>\n",
       "</table>\n",
       "</div>"
      ],
      "text/plain": [
       "       id message_date  user_id\n",
       "0  1000_0   2018-06-27     1000\n",
       "1  1000_1   2018-10-08     1000\n",
       "2  1000_2   2018-08-04     1000\n",
       "3  1000_3   2018-06-16     1000\n",
       "4  1000_4   2018-12-05     1000\n",
       "5  1000_5   2018-06-20     1000\n",
       "6  1000_6   2018-11-19     1000\n",
       "7  1000_7   2018-10-29     1000\n",
       "8  1000_8   2018-06-25     1000\n",
       "9  1000_9   2018-12-18     1000"
      ]
     },
     "metadata": {},
     "output_type": "display_data"
    },
    {
     "name": "stdout",
     "output_type": "stream",
     "text": [
      "<class 'pandas.core.frame.DataFrame'>\n",
      "RangeIndex: 123036 entries, 0 to 123035\n",
      "Data columns (total 3 columns):\n",
      " #   Column        Non-Null Count   Dtype \n",
      "---  ------        --------------   ----- \n",
      " 0   id            123036 non-null  object\n",
      " 1   message_date  123036 non-null  object\n",
      " 2   user_id       123036 non-null  int64 \n",
      "dtypes: int64(1), object(2)\n",
      "memory usage: 2.8+ MB\n"
     ]
    },
    {
     "data": {
      "text/html": [
       "<div>\n",
       "<style scoped>\n",
       "    .dataframe tbody tr th:only-of-type {\n",
       "        vertical-align: middle;\n",
       "    }\n",
       "\n",
       "    .dataframe tbody tr th {\n",
       "        vertical-align: top;\n",
       "    }\n",
       "\n",
       "    .dataframe thead th {\n",
       "        text-align: right;\n",
       "    }\n",
       "</style>\n",
       "<table border=\"1\" class=\"dataframe\">\n",
       "  <thead>\n",
       "    <tr style=\"text-align: right;\">\n",
       "      <th></th>\n",
       "      <th>messages_included</th>\n",
       "      <th>mb_per_month_included</th>\n",
       "      <th>minutes_included</th>\n",
       "      <th>rub_monthly_fee</th>\n",
       "      <th>rub_per_gb</th>\n",
       "      <th>rub_per_message</th>\n",
       "      <th>rub_per_minute</th>\n",
       "      <th>tariff_name</th>\n",
       "    </tr>\n",
       "  </thead>\n",
       "  <tbody>\n",
       "    <tr>\n",
       "      <th>0</th>\n",
       "      <td>50</td>\n",
       "      <td>15360</td>\n",
       "      <td>500</td>\n",
       "      <td>550</td>\n",
       "      <td>200</td>\n",
       "      <td>3</td>\n",
       "      <td>3</td>\n",
       "      <td>smart</td>\n",
       "    </tr>\n",
       "    <tr>\n",
       "      <th>1</th>\n",
       "      <td>1000</td>\n",
       "      <td>30720</td>\n",
       "      <td>3000</td>\n",
       "      <td>1950</td>\n",
       "      <td>150</td>\n",
       "      <td>1</td>\n",
       "      <td>1</td>\n",
       "      <td>ultra</td>\n",
       "    </tr>\n",
       "  </tbody>\n",
       "</table>\n",
       "</div>"
      ],
      "text/plain": [
       "   messages_included  mb_per_month_included  minutes_included  \\\n",
       "0                 50                  15360               500   \n",
       "1               1000                  30720              3000   \n",
       "\n",
       "   rub_monthly_fee  rub_per_gb  rub_per_message  rub_per_minute tariff_name  \n",
       "0              550         200                3               3       smart  \n",
       "1             1950         150                1               1       ultra  "
      ]
     },
     "metadata": {},
     "output_type": "display_data"
    },
    {
     "name": "stdout",
     "output_type": "stream",
     "text": [
      "<class 'pandas.core.frame.DataFrame'>\n",
      "RangeIndex: 2 entries, 0 to 1\n",
      "Data columns (total 8 columns):\n",
      " #   Column                 Non-Null Count  Dtype \n",
      "---  ------                 --------------  ----- \n",
      " 0   messages_included      2 non-null      int64 \n",
      " 1   mb_per_month_included  2 non-null      int64 \n",
      " 2   minutes_included       2 non-null      int64 \n",
      " 3   rub_monthly_fee        2 non-null      int64 \n",
      " 4   rub_per_gb             2 non-null      int64 \n",
      " 5   rub_per_message        2 non-null      int64 \n",
      " 6   rub_per_minute         2 non-null      int64 \n",
      " 7   tariff_name            2 non-null      object\n",
      "dtypes: int64(7), object(1)\n",
      "memory usage: 256.0+ bytes\n"
     ]
    },
    {
     "data": {
      "text/html": [
       "<div>\n",
       "<style scoped>\n",
       "    .dataframe tbody tr th:only-of-type {\n",
       "        vertical-align: middle;\n",
       "    }\n",
       "\n",
       "    .dataframe tbody tr th {\n",
       "        vertical-align: top;\n",
       "    }\n",
       "\n",
       "    .dataframe thead th {\n",
       "        text-align: right;\n",
       "    }\n",
       "</style>\n",
       "<table border=\"1\" class=\"dataframe\">\n",
       "  <thead>\n",
       "    <tr style=\"text-align: right;\">\n",
       "      <th></th>\n",
       "      <th>user_id</th>\n",
       "      <th>age</th>\n",
       "      <th>churn_date</th>\n",
       "      <th>city</th>\n",
       "      <th>first_name</th>\n",
       "      <th>last_name</th>\n",
       "      <th>reg_date</th>\n",
       "      <th>tariff</th>\n",
       "    </tr>\n",
       "  </thead>\n",
       "  <tbody>\n",
       "    <tr>\n",
       "      <th>0</th>\n",
       "      <td>1000</td>\n",
       "      <td>52</td>\n",
       "      <td>NaN</td>\n",
       "      <td>Краснодар</td>\n",
       "      <td>Рафаил</td>\n",
       "      <td>Верещагин</td>\n",
       "      <td>2018-05-25</td>\n",
       "      <td>ultra</td>\n",
       "    </tr>\n",
       "    <tr>\n",
       "      <th>1</th>\n",
       "      <td>1001</td>\n",
       "      <td>41</td>\n",
       "      <td>NaN</td>\n",
       "      <td>Москва</td>\n",
       "      <td>Иван</td>\n",
       "      <td>Ежов</td>\n",
       "      <td>2018-11-01</td>\n",
       "      <td>smart</td>\n",
       "    </tr>\n",
       "    <tr>\n",
       "      <th>2</th>\n",
       "      <td>1002</td>\n",
       "      <td>59</td>\n",
       "      <td>NaN</td>\n",
       "      <td>Стерлитамак</td>\n",
       "      <td>Евгений</td>\n",
       "      <td>Абрамович</td>\n",
       "      <td>2018-06-17</td>\n",
       "      <td>smart</td>\n",
       "    </tr>\n",
       "    <tr>\n",
       "      <th>3</th>\n",
       "      <td>1003</td>\n",
       "      <td>23</td>\n",
       "      <td>NaN</td>\n",
       "      <td>Москва</td>\n",
       "      <td>Белла</td>\n",
       "      <td>Белякова</td>\n",
       "      <td>2018-08-17</td>\n",
       "      <td>ultra</td>\n",
       "    </tr>\n",
       "    <tr>\n",
       "      <th>4</th>\n",
       "      <td>1004</td>\n",
       "      <td>68</td>\n",
       "      <td>NaN</td>\n",
       "      <td>Новокузнецк</td>\n",
       "      <td>Татьяна</td>\n",
       "      <td>Авдеенко</td>\n",
       "      <td>2018-05-14</td>\n",
       "      <td>ultra</td>\n",
       "    </tr>\n",
       "    <tr>\n",
       "      <th>5</th>\n",
       "      <td>1005</td>\n",
       "      <td>67</td>\n",
       "      <td>NaN</td>\n",
       "      <td>Набережные Челны</td>\n",
       "      <td>Афанасий</td>\n",
       "      <td>Горлов</td>\n",
       "      <td>2018-01-25</td>\n",
       "      <td>smart</td>\n",
       "    </tr>\n",
       "    <tr>\n",
       "      <th>6</th>\n",
       "      <td>1006</td>\n",
       "      <td>21</td>\n",
       "      <td>NaN</td>\n",
       "      <td>Ульяновск</td>\n",
       "      <td>Леонид</td>\n",
       "      <td>Ермолаев</td>\n",
       "      <td>2018-02-26</td>\n",
       "      <td>smart</td>\n",
       "    </tr>\n",
       "    <tr>\n",
       "      <th>7</th>\n",
       "      <td>1007</td>\n",
       "      <td>65</td>\n",
       "      <td>NaN</td>\n",
       "      <td>Москва</td>\n",
       "      <td>Юна</td>\n",
       "      <td>Березина</td>\n",
       "      <td>2018-04-19</td>\n",
       "      <td>smart</td>\n",
       "    </tr>\n",
       "    <tr>\n",
       "      <th>8</th>\n",
       "      <td>1008</td>\n",
       "      <td>63</td>\n",
       "      <td>NaN</td>\n",
       "      <td>Челябинск</td>\n",
       "      <td>Рустэм</td>\n",
       "      <td>Пономарёв</td>\n",
       "      <td>2018-12-19</td>\n",
       "      <td>smart</td>\n",
       "    </tr>\n",
       "    <tr>\n",
       "      <th>9</th>\n",
       "      <td>1009</td>\n",
       "      <td>24</td>\n",
       "      <td>NaN</td>\n",
       "      <td>Пермь</td>\n",
       "      <td>Василиса</td>\n",
       "      <td>Блинова</td>\n",
       "      <td>2018-03-22</td>\n",
       "      <td>smart</td>\n",
       "    </tr>\n",
       "  </tbody>\n",
       "</table>\n",
       "</div>"
      ],
      "text/plain": [
       "   user_id  age churn_date              city first_name  last_name  \\\n",
       "0     1000   52        NaN         Краснодар     Рафаил  Верещагин   \n",
       "1     1001   41        NaN            Москва       Иван       Ежов   \n",
       "2     1002   59        NaN       Стерлитамак    Евгений  Абрамович   \n",
       "3     1003   23        NaN            Москва      Белла   Белякова   \n",
       "4     1004   68        NaN       Новокузнецк    Татьяна   Авдеенко   \n",
       "5     1005   67        NaN  Набережные Челны   Афанасий     Горлов   \n",
       "6     1006   21        NaN         Ульяновск     Леонид   Ермолаев   \n",
       "7     1007   65        NaN            Москва        Юна   Березина   \n",
       "8     1008   63        NaN         Челябинск     Рустэм  Пономарёв   \n",
       "9     1009   24        NaN             Пермь   Василиса    Блинова   \n",
       "\n",
       "     reg_date tariff  \n",
       "0  2018-05-25  ultra  \n",
       "1  2018-11-01  smart  \n",
       "2  2018-06-17  smart  \n",
       "3  2018-08-17  ultra  \n",
       "4  2018-05-14  ultra  \n",
       "5  2018-01-25  smart  \n",
       "6  2018-02-26  smart  \n",
       "7  2018-04-19  smart  \n",
       "8  2018-12-19  smart  \n",
       "9  2018-03-22  smart  "
      ]
     },
     "metadata": {},
     "output_type": "display_data"
    },
    {
     "name": "stdout",
     "output_type": "stream",
     "text": [
      "<class 'pandas.core.frame.DataFrame'>\n",
      "RangeIndex: 500 entries, 0 to 499\n",
      "Data columns (total 8 columns):\n",
      " #   Column      Non-Null Count  Dtype \n",
      "---  ------      --------------  ----- \n",
      " 0   user_id     500 non-null    int64 \n",
      " 1   age         500 non-null    int64 \n",
      " 2   churn_date  38 non-null     object\n",
      " 3   city        500 non-null    object\n",
      " 4   first_name  500 non-null    object\n",
      " 5   last_name   500 non-null    object\n",
      " 6   reg_date    500 non-null    object\n",
      " 7   tariff      500 non-null    object\n",
      "dtypes: int64(2), object(6)\n",
      "memory usage: 31.4+ KB\n"
     ]
    }
   ],
   "source": [
    "display(calls.head(10))\n",
    "calls.info()\n",
    "\n",
    "display(internet.head(10))\n",
    "internet.info()\n",
    "\n",
    "display(messages.head(10))\n",
    "messages.info()\n",
    "\n",
    "display(tariffs.head(10))\n",
    "tariffs.info()\n",
    "\n",
    "display(users.head(10))\n",
    "users.info()\n"
   ]
  },
  {
   "cell_type": "markdown",
   "id": "541046cf",
   "metadata": {},
   "source": [
    "Ознакомившись с таблицами, мы можем сделать вывод, что ключом для объединения таблиц может выступать столбец `user_id`, так как он указан в одном формате.\n",
    "\n",
    "Так как задача - анализ пользователей, если в других таблицах есть пользователи, которых нет в таблице с пользователями, мы можем ими принибречь, а значит нужно сделать объединение, по ключу `user_id` из таблицы `users`.\n",
    "\n",
    "Однако нам нет смысла объединять все таблицы в одну, так как многие данные уникальны для своей таблицы и работать с ними будет неудобно. Создадим `3` таблицы \n",
    "- Пользователи-Звонки (Users_Calls)\n",
    "- Пользователи-Интернет (Users_Internet)\n",
    "- Пользователи-Сообщения (Users_Messages)"
   ]
  },
  {
   "cell_type": "code",
   "execution_count": 6,
   "id": "844882c7",
   "metadata": {
    "scrolled": true
   },
   "outputs": [
    {
     "data": {
      "text/html": [
       "<div>\n",
       "<style scoped>\n",
       "    .dataframe tbody tr th:only-of-type {\n",
       "        vertical-align: middle;\n",
       "    }\n",
       "\n",
       "    .dataframe tbody tr th {\n",
       "        vertical-align: top;\n",
       "    }\n",
       "\n",
       "    .dataframe thead th {\n",
       "        text-align: right;\n",
       "    }\n",
       "</style>\n",
       "<table border=\"1\" class=\"dataframe\">\n",
       "  <thead>\n",
       "    <tr style=\"text-align: right;\">\n",
       "      <th></th>\n",
       "      <th>user_id</th>\n",
       "      <th>age</th>\n",
       "      <th>churn_date</th>\n",
       "      <th>city</th>\n",
       "      <th>first_name</th>\n",
       "      <th>last_name</th>\n",
       "      <th>reg_date</th>\n",
       "      <th>tariff</th>\n",
       "      <th>id</th>\n",
       "      <th>call_date</th>\n",
       "      <th>duration</th>\n",
       "    </tr>\n",
       "  </thead>\n",
       "  <tbody>\n",
       "    <tr>\n",
       "      <th>0</th>\n",
       "      <td>1000</td>\n",
       "      <td>52</td>\n",
       "      <td>NaN</td>\n",
       "      <td>Краснодар</td>\n",
       "      <td>Рафаил</td>\n",
       "      <td>Верещагин</td>\n",
       "      <td>2018-05-25</td>\n",
       "      <td>ultra</td>\n",
       "      <td>1000_0</td>\n",
       "      <td>2018-07-25</td>\n",
       "      <td>0.00</td>\n",
       "    </tr>\n",
       "    <tr>\n",
       "      <th>1</th>\n",
       "      <td>1000</td>\n",
       "      <td>52</td>\n",
       "      <td>NaN</td>\n",
       "      <td>Краснодар</td>\n",
       "      <td>Рафаил</td>\n",
       "      <td>Верещагин</td>\n",
       "      <td>2018-05-25</td>\n",
       "      <td>ultra</td>\n",
       "      <td>1000_1</td>\n",
       "      <td>2018-08-17</td>\n",
       "      <td>0.00</td>\n",
       "    </tr>\n",
       "    <tr>\n",
       "      <th>2</th>\n",
       "      <td>1000</td>\n",
       "      <td>52</td>\n",
       "      <td>NaN</td>\n",
       "      <td>Краснодар</td>\n",
       "      <td>Рафаил</td>\n",
       "      <td>Верещагин</td>\n",
       "      <td>2018-05-25</td>\n",
       "      <td>ultra</td>\n",
       "      <td>1000_2</td>\n",
       "      <td>2018-06-11</td>\n",
       "      <td>2.85</td>\n",
       "    </tr>\n",
       "    <tr>\n",
       "      <th>3</th>\n",
       "      <td>1000</td>\n",
       "      <td>52</td>\n",
       "      <td>NaN</td>\n",
       "      <td>Краснодар</td>\n",
       "      <td>Рафаил</td>\n",
       "      <td>Верещагин</td>\n",
       "      <td>2018-05-25</td>\n",
       "      <td>ultra</td>\n",
       "      <td>1000_3</td>\n",
       "      <td>2018-09-21</td>\n",
       "      <td>13.80</td>\n",
       "    </tr>\n",
       "    <tr>\n",
       "      <th>4</th>\n",
       "      <td>1000</td>\n",
       "      <td>52</td>\n",
       "      <td>NaN</td>\n",
       "      <td>Краснодар</td>\n",
       "      <td>Рафаил</td>\n",
       "      <td>Верещагин</td>\n",
       "      <td>2018-05-25</td>\n",
       "      <td>ultra</td>\n",
       "      <td>1000_4</td>\n",
       "      <td>2018-12-15</td>\n",
       "      <td>5.18</td>\n",
       "    </tr>\n",
       "    <tr>\n",
       "      <th>...</th>\n",
       "      <td>...</td>\n",
       "      <td>...</td>\n",
       "      <td>...</td>\n",
       "      <td>...</td>\n",
       "      <td>...</td>\n",
       "      <td>...</td>\n",
       "      <td>...</td>\n",
       "      <td>...</td>\n",
       "      <td>...</td>\n",
       "      <td>...</td>\n",
       "      <td>...</td>\n",
       "    </tr>\n",
       "    <tr>\n",
       "      <th>202610</th>\n",
       "      <td>1499</td>\n",
       "      <td>35</td>\n",
       "      <td>NaN</td>\n",
       "      <td>Пермь</td>\n",
       "      <td>Гектор</td>\n",
       "      <td>Корнилов</td>\n",
       "      <td>2018-09-27</td>\n",
       "      <td>smart</td>\n",
       "      <td>1499_215</td>\n",
       "      <td>2018-12-26</td>\n",
       "      <td>0.76</td>\n",
       "    </tr>\n",
       "    <tr>\n",
       "      <th>202611</th>\n",
       "      <td>1499</td>\n",
       "      <td>35</td>\n",
       "      <td>NaN</td>\n",
       "      <td>Пермь</td>\n",
       "      <td>Гектор</td>\n",
       "      <td>Корнилов</td>\n",
       "      <td>2018-09-27</td>\n",
       "      <td>smart</td>\n",
       "      <td>1499_216</td>\n",
       "      <td>2018-10-18</td>\n",
       "      <td>18.83</td>\n",
       "    </tr>\n",
       "    <tr>\n",
       "      <th>202612</th>\n",
       "      <td>1499</td>\n",
       "      <td>35</td>\n",
       "      <td>NaN</td>\n",
       "      <td>Пермь</td>\n",
       "      <td>Гектор</td>\n",
       "      <td>Корнилов</td>\n",
       "      <td>2018-09-27</td>\n",
       "      <td>smart</td>\n",
       "      <td>1499_217</td>\n",
       "      <td>2018-11-10</td>\n",
       "      <td>10.81</td>\n",
       "    </tr>\n",
       "    <tr>\n",
       "      <th>202613</th>\n",
       "      <td>1499</td>\n",
       "      <td>35</td>\n",
       "      <td>NaN</td>\n",
       "      <td>Пермь</td>\n",
       "      <td>Гектор</td>\n",
       "      <td>Корнилов</td>\n",
       "      <td>2018-09-27</td>\n",
       "      <td>smart</td>\n",
       "      <td>1499_218</td>\n",
       "      <td>2018-10-06</td>\n",
       "      <td>4.27</td>\n",
       "    </tr>\n",
       "    <tr>\n",
       "      <th>202614</th>\n",
       "      <td>1499</td>\n",
       "      <td>35</td>\n",
       "      <td>NaN</td>\n",
       "      <td>Пермь</td>\n",
       "      <td>Гектор</td>\n",
       "      <td>Корнилов</td>\n",
       "      <td>2018-09-27</td>\n",
       "      <td>smart</td>\n",
       "      <td>1499_219</td>\n",
       "      <td>2018-12-14</td>\n",
       "      <td>19.62</td>\n",
       "    </tr>\n",
       "  </tbody>\n",
       "</table>\n",
       "<p>202615 rows × 11 columns</p>\n",
       "</div>"
      ],
      "text/plain": [
       "        user_id  age churn_date       city first_name  last_name    reg_date  \\\n",
       "0          1000   52        NaN  Краснодар     Рафаил  Верещагин  2018-05-25   \n",
       "1          1000   52        NaN  Краснодар     Рафаил  Верещагин  2018-05-25   \n",
       "2          1000   52        NaN  Краснодар     Рафаил  Верещагин  2018-05-25   \n",
       "3          1000   52        NaN  Краснодар     Рафаил  Верещагин  2018-05-25   \n",
       "4          1000   52        NaN  Краснодар     Рафаил  Верещагин  2018-05-25   \n",
       "...         ...  ...        ...        ...        ...        ...         ...   \n",
       "202610     1499   35        NaN      Пермь     Гектор   Корнилов  2018-09-27   \n",
       "202611     1499   35        NaN      Пермь     Гектор   Корнилов  2018-09-27   \n",
       "202612     1499   35        NaN      Пермь     Гектор   Корнилов  2018-09-27   \n",
       "202613     1499   35        NaN      Пермь     Гектор   Корнилов  2018-09-27   \n",
       "202614     1499   35        NaN      Пермь     Гектор   Корнилов  2018-09-27   \n",
       "\n",
       "       tariff        id   call_date  duration  \n",
       "0       ultra    1000_0  2018-07-25      0.00  \n",
       "1       ultra    1000_1  2018-08-17      0.00  \n",
       "2       ultra    1000_2  2018-06-11      2.85  \n",
       "3       ultra    1000_3  2018-09-21     13.80  \n",
       "4       ultra    1000_4  2018-12-15      5.18  \n",
       "...       ...       ...         ...       ...  \n",
       "202610  smart  1499_215  2018-12-26      0.76  \n",
       "202611  smart  1499_216  2018-10-18     18.83  \n",
       "202612  smart  1499_217  2018-11-10     10.81  \n",
       "202613  smart  1499_218  2018-10-06      4.27  \n",
       "202614  smart  1499_219  2018-12-14     19.62  \n",
       "\n",
       "[202615 rows x 11 columns]"
      ]
     },
     "metadata": {},
     "output_type": "display_data"
    },
    {
     "data": {
      "text/html": [
       "<div>\n",
       "<style scoped>\n",
       "    .dataframe tbody tr th:only-of-type {\n",
       "        vertical-align: middle;\n",
       "    }\n",
       "\n",
       "    .dataframe tbody tr th {\n",
       "        vertical-align: top;\n",
       "    }\n",
       "\n",
       "    .dataframe thead th {\n",
       "        text-align: right;\n",
       "    }\n",
       "</style>\n",
       "<table border=\"1\" class=\"dataframe\">\n",
       "  <thead>\n",
       "    <tr style=\"text-align: right;\">\n",
       "      <th></th>\n",
       "      <th>user_id</th>\n",
       "      <th>age</th>\n",
       "      <th>churn_date</th>\n",
       "      <th>city</th>\n",
       "      <th>first_name</th>\n",
       "      <th>last_name</th>\n",
       "      <th>reg_date</th>\n",
       "      <th>tariff</th>\n",
       "      <th>Unnamed: 0</th>\n",
       "      <th>id</th>\n",
       "      <th>mb_used</th>\n",
       "      <th>session_date</th>\n",
       "    </tr>\n",
       "  </thead>\n",
       "  <tbody>\n",
       "    <tr>\n",
       "      <th>0</th>\n",
       "      <td>1000</td>\n",
       "      <td>52</td>\n",
       "      <td>NaN</td>\n",
       "      <td>Краснодар</td>\n",
       "      <td>Рафаил</td>\n",
       "      <td>Верещагин</td>\n",
       "      <td>2018-05-25</td>\n",
       "      <td>ultra</td>\n",
       "      <td>0.0</td>\n",
       "      <td>1000_0</td>\n",
       "      <td>112.95</td>\n",
       "      <td>2018-11-25</td>\n",
       "    </tr>\n",
       "    <tr>\n",
       "      <th>1</th>\n",
       "      <td>1000</td>\n",
       "      <td>52</td>\n",
       "      <td>NaN</td>\n",
       "      <td>Краснодар</td>\n",
       "      <td>Рафаил</td>\n",
       "      <td>Верещагин</td>\n",
       "      <td>2018-05-25</td>\n",
       "      <td>ultra</td>\n",
       "      <td>1.0</td>\n",
       "      <td>1000_1</td>\n",
       "      <td>1052.81</td>\n",
       "      <td>2018-09-07</td>\n",
       "    </tr>\n",
       "    <tr>\n",
       "      <th>2</th>\n",
       "      <td>1000</td>\n",
       "      <td>52</td>\n",
       "      <td>NaN</td>\n",
       "      <td>Краснодар</td>\n",
       "      <td>Рафаил</td>\n",
       "      <td>Верещагин</td>\n",
       "      <td>2018-05-25</td>\n",
       "      <td>ultra</td>\n",
       "      <td>2.0</td>\n",
       "      <td>1000_2</td>\n",
       "      <td>1197.26</td>\n",
       "      <td>2018-06-25</td>\n",
       "    </tr>\n",
       "    <tr>\n",
       "      <th>3</th>\n",
       "      <td>1000</td>\n",
       "      <td>52</td>\n",
       "      <td>NaN</td>\n",
       "      <td>Краснодар</td>\n",
       "      <td>Рафаил</td>\n",
       "      <td>Верещагин</td>\n",
       "      <td>2018-05-25</td>\n",
       "      <td>ultra</td>\n",
       "      <td>3.0</td>\n",
       "      <td>1000_3</td>\n",
       "      <td>550.27</td>\n",
       "      <td>2018-08-22</td>\n",
       "    </tr>\n",
       "    <tr>\n",
       "      <th>4</th>\n",
       "      <td>1000</td>\n",
       "      <td>52</td>\n",
       "      <td>NaN</td>\n",
       "      <td>Краснодар</td>\n",
       "      <td>Рафаил</td>\n",
       "      <td>Верещагин</td>\n",
       "      <td>2018-05-25</td>\n",
       "      <td>ultra</td>\n",
       "      <td>4.0</td>\n",
       "      <td>1000_4</td>\n",
       "      <td>302.56</td>\n",
       "      <td>2018-09-24</td>\n",
       "    </tr>\n",
       "    <tr>\n",
       "      <th>...</th>\n",
       "      <td>...</td>\n",
       "      <td>...</td>\n",
       "      <td>...</td>\n",
       "      <td>...</td>\n",
       "      <td>...</td>\n",
       "      <td>...</td>\n",
       "      <td>...</td>\n",
       "      <td>...</td>\n",
       "      <td>...</td>\n",
       "      <td>...</td>\n",
       "      <td>...</td>\n",
       "      <td>...</td>\n",
       "    </tr>\n",
       "    <tr>\n",
       "      <th>149394</th>\n",
       "      <td>1499</td>\n",
       "      <td>35</td>\n",
       "      <td>NaN</td>\n",
       "      <td>Пермь</td>\n",
       "      <td>Гектор</td>\n",
       "      <td>Корнилов</td>\n",
       "      <td>2018-09-27</td>\n",
       "      <td>smart</td>\n",
       "      <td>149391.0</td>\n",
       "      <td>1499_152</td>\n",
       "      <td>318.90</td>\n",
       "      <td>2018-10-03</td>\n",
       "    </tr>\n",
       "    <tr>\n",
       "      <th>149395</th>\n",
       "      <td>1499</td>\n",
       "      <td>35</td>\n",
       "      <td>NaN</td>\n",
       "      <td>Пермь</td>\n",
       "      <td>Гектор</td>\n",
       "      <td>Корнилов</td>\n",
       "      <td>2018-09-27</td>\n",
       "      <td>smart</td>\n",
       "      <td>149392.0</td>\n",
       "      <td>1499_153</td>\n",
       "      <td>490.13</td>\n",
       "      <td>2018-12-14</td>\n",
       "    </tr>\n",
       "    <tr>\n",
       "      <th>149396</th>\n",
       "      <td>1499</td>\n",
       "      <td>35</td>\n",
       "      <td>NaN</td>\n",
       "      <td>Пермь</td>\n",
       "      <td>Гектор</td>\n",
       "      <td>Корнилов</td>\n",
       "      <td>2018-09-27</td>\n",
       "      <td>smart</td>\n",
       "      <td>149393.0</td>\n",
       "      <td>1499_154</td>\n",
       "      <td>0.00</td>\n",
       "      <td>2018-10-27</td>\n",
       "    </tr>\n",
       "    <tr>\n",
       "      <th>149397</th>\n",
       "      <td>1499</td>\n",
       "      <td>35</td>\n",
       "      <td>NaN</td>\n",
       "      <td>Пермь</td>\n",
       "      <td>Гектор</td>\n",
       "      <td>Корнилов</td>\n",
       "      <td>2018-09-27</td>\n",
       "      <td>smart</td>\n",
       "      <td>149394.0</td>\n",
       "      <td>1499_155</td>\n",
       "      <td>1246.32</td>\n",
       "      <td>2018-11-26</td>\n",
       "    </tr>\n",
       "    <tr>\n",
       "      <th>149398</th>\n",
       "      <td>1499</td>\n",
       "      <td>35</td>\n",
       "      <td>NaN</td>\n",
       "      <td>Пермь</td>\n",
       "      <td>Гектор</td>\n",
       "      <td>Корнилов</td>\n",
       "      <td>2018-09-27</td>\n",
       "      <td>smart</td>\n",
       "      <td>149395.0</td>\n",
       "      <td>1499_156</td>\n",
       "      <td>544.37</td>\n",
       "      <td>2018-10-26</td>\n",
       "    </tr>\n",
       "  </tbody>\n",
       "</table>\n",
       "<p>149399 rows × 12 columns</p>\n",
       "</div>"
      ],
      "text/plain": [
       "        user_id  age churn_date       city first_name  last_name    reg_date  \\\n",
       "0          1000   52        NaN  Краснодар     Рафаил  Верещагин  2018-05-25   \n",
       "1          1000   52        NaN  Краснодар     Рафаил  Верещагин  2018-05-25   \n",
       "2          1000   52        NaN  Краснодар     Рафаил  Верещагин  2018-05-25   \n",
       "3          1000   52        NaN  Краснодар     Рафаил  Верещагин  2018-05-25   \n",
       "4          1000   52        NaN  Краснодар     Рафаил  Верещагин  2018-05-25   \n",
       "...         ...  ...        ...        ...        ...        ...         ...   \n",
       "149394     1499   35        NaN      Пермь     Гектор   Корнилов  2018-09-27   \n",
       "149395     1499   35        NaN      Пермь     Гектор   Корнилов  2018-09-27   \n",
       "149396     1499   35        NaN      Пермь     Гектор   Корнилов  2018-09-27   \n",
       "149397     1499   35        NaN      Пермь     Гектор   Корнилов  2018-09-27   \n",
       "149398     1499   35        NaN      Пермь     Гектор   Корнилов  2018-09-27   \n",
       "\n",
       "       tariff  Unnamed: 0        id  mb_used session_date  \n",
       "0       ultra         0.0    1000_0   112.95   2018-11-25  \n",
       "1       ultra         1.0    1000_1  1052.81   2018-09-07  \n",
       "2       ultra         2.0    1000_2  1197.26   2018-06-25  \n",
       "3       ultra         3.0    1000_3   550.27   2018-08-22  \n",
       "4       ultra         4.0    1000_4   302.56   2018-09-24  \n",
       "...       ...         ...       ...      ...          ...  \n",
       "149394  smart    149391.0  1499_152   318.90   2018-10-03  \n",
       "149395  smart    149392.0  1499_153   490.13   2018-12-14  \n",
       "149396  smart    149393.0  1499_154     0.00   2018-10-27  \n",
       "149397  smart    149394.0  1499_155  1246.32   2018-11-26  \n",
       "149398  smart    149395.0  1499_156   544.37   2018-10-26  \n",
       "\n",
       "[149399 rows x 12 columns]"
      ]
     },
     "metadata": {},
     "output_type": "display_data"
    },
    {
     "data": {
      "text/html": [
       "<div>\n",
       "<style scoped>\n",
       "    .dataframe tbody tr th:only-of-type {\n",
       "        vertical-align: middle;\n",
       "    }\n",
       "\n",
       "    .dataframe tbody tr th {\n",
       "        vertical-align: top;\n",
       "    }\n",
       "\n",
       "    .dataframe thead th {\n",
       "        text-align: right;\n",
       "    }\n",
       "</style>\n",
       "<table border=\"1\" class=\"dataframe\">\n",
       "  <thead>\n",
       "    <tr style=\"text-align: right;\">\n",
       "      <th></th>\n",
       "      <th>user_id</th>\n",
       "      <th>age</th>\n",
       "      <th>churn_date</th>\n",
       "      <th>city</th>\n",
       "      <th>first_name</th>\n",
       "      <th>last_name</th>\n",
       "      <th>reg_date</th>\n",
       "      <th>tariff</th>\n",
       "      <th>id</th>\n",
       "      <th>message_date</th>\n",
       "    </tr>\n",
       "  </thead>\n",
       "  <tbody>\n",
       "    <tr>\n",
       "      <th>0</th>\n",
       "      <td>1000</td>\n",
       "      <td>52</td>\n",
       "      <td>NaN</td>\n",
       "      <td>Краснодар</td>\n",
       "      <td>Рафаил</td>\n",
       "      <td>Верещагин</td>\n",
       "      <td>2018-05-25</td>\n",
       "      <td>ultra</td>\n",
       "      <td>1000_0</td>\n",
       "      <td>2018-06-27</td>\n",
       "    </tr>\n",
       "    <tr>\n",
       "      <th>1</th>\n",
       "      <td>1000</td>\n",
       "      <td>52</td>\n",
       "      <td>NaN</td>\n",
       "      <td>Краснодар</td>\n",
       "      <td>Рафаил</td>\n",
       "      <td>Верещагин</td>\n",
       "      <td>2018-05-25</td>\n",
       "      <td>ultra</td>\n",
       "      <td>1000_1</td>\n",
       "      <td>2018-10-08</td>\n",
       "    </tr>\n",
       "    <tr>\n",
       "      <th>2</th>\n",
       "      <td>1000</td>\n",
       "      <td>52</td>\n",
       "      <td>NaN</td>\n",
       "      <td>Краснодар</td>\n",
       "      <td>Рафаил</td>\n",
       "      <td>Верещагин</td>\n",
       "      <td>2018-05-25</td>\n",
       "      <td>ultra</td>\n",
       "      <td>1000_2</td>\n",
       "      <td>2018-08-04</td>\n",
       "    </tr>\n",
       "    <tr>\n",
       "      <th>3</th>\n",
       "      <td>1000</td>\n",
       "      <td>52</td>\n",
       "      <td>NaN</td>\n",
       "      <td>Краснодар</td>\n",
       "      <td>Рафаил</td>\n",
       "      <td>Верещагин</td>\n",
       "      <td>2018-05-25</td>\n",
       "      <td>ultra</td>\n",
       "      <td>1000_3</td>\n",
       "      <td>2018-06-16</td>\n",
       "    </tr>\n",
       "    <tr>\n",
       "      <th>4</th>\n",
       "      <td>1000</td>\n",
       "      <td>52</td>\n",
       "      <td>NaN</td>\n",
       "      <td>Краснодар</td>\n",
       "      <td>Рафаил</td>\n",
       "      <td>Верещагин</td>\n",
       "      <td>2018-05-25</td>\n",
       "      <td>ultra</td>\n",
       "      <td>1000_4</td>\n",
       "      <td>2018-12-05</td>\n",
       "    </tr>\n",
       "    <tr>\n",
       "      <th>...</th>\n",
       "      <td>...</td>\n",
       "      <td>...</td>\n",
       "      <td>...</td>\n",
       "      <td>...</td>\n",
       "      <td>...</td>\n",
       "      <td>...</td>\n",
       "      <td>...</td>\n",
       "      <td>...</td>\n",
       "      <td>...</td>\n",
       "      <td>...</td>\n",
       "    </tr>\n",
       "    <tr>\n",
       "      <th>123105</th>\n",
       "      <td>1499</td>\n",
       "      <td>35</td>\n",
       "      <td>NaN</td>\n",
       "      <td>Пермь</td>\n",
       "      <td>Гектор</td>\n",
       "      <td>Корнилов</td>\n",
       "      <td>2018-09-27</td>\n",
       "      <td>smart</td>\n",
       "      <td>1499_179</td>\n",
       "      <td>2018-12-12</td>\n",
       "    </tr>\n",
       "    <tr>\n",
       "      <th>123106</th>\n",
       "      <td>1499</td>\n",
       "      <td>35</td>\n",
       "      <td>NaN</td>\n",
       "      <td>Пермь</td>\n",
       "      <td>Гектор</td>\n",
       "      <td>Корнилов</td>\n",
       "      <td>2018-09-27</td>\n",
       "      <td>smart</td>\n",
       "      <td>1499_180</td>\n",
       "      <td>2018-09-28</td>\n",
       "    </tr>\n",
       "    <tr>\n",
       "      <th>123107</th>\n",
       "      <td>1499</td>\n",
       "      <td>35</td>\n",
       "      <td>NaN</td>\n",
       "      <td>Пермь</td>\n",
       "      <td>Гектор</td>\n",
       "      <td>Корнилов</td>\n",
       "      <td>2018-09-27</td>\n",
       "      <td>smart</td>\n",
       "      <td>1499_181</td>\n",
       "      <td>2018-09-27</td>\n",
       "    </tr>\n",
       "    <tr>\n",
       "      <th>123108</th>\n",
       "      <td>1499</td>\n",
       "      <td>35</td>\n",
       "      <td>NaN</td>\n",
       "      <td>Пермь</td>\n",
       "      <td>Гектор</td>\n",
       "      <td>Корнилов</td>\n",
       "      <td>2018-09-27</td>\n",
       "      <td>smart</td>\n",
       "      <td>1499_182</td>\n",
       "      <td>2018-11-15</td>\n",
       "    </tr>\n",
       "    <tr>\n",
       "      <th>123109</th>\n",
       "      <td>1499</td>\n",
       "      <td>35</td>\n",
       "      <td>NaN</td>\n",
       "      <td>Пермь</td>\n",
       "      <td>Гектор</td>\n",
       "      <td>Корнилов</td>\n",
       "      <td>2018-09-27</td>\n",
       "      <td>smart</td>\n",
       "      <td>1499_183</td>\n",
       "      <td>2018-11-16</td>\n",
       "    </tr>\n",
       "  </tbody>\n",
       "</table>\n",
       "<p>123110 rows × 10 columns</p>\n",
       "</div>"
      ],
      "text/plain": [
       "        user_id  age churn_date       city first_name  last_name    reg_date  \\\n",
       "0          1000   52        NaN  Краснодар     Рафаил  Верещагин  2018-05-25   \n",
       "1          1000   52        NaN  Краснодар     Рафаил  Верещагин  2018-05-25   \n",
       "2          1000   52        NaN  Краснодар     Рафаил  Верещагин  2018-05-25   \n",
       "3          1000   52        NaN  Краснодар     Рафаил  Верещагин  2018-05-25   \n",
       "4          1000   52        NaN  Краснодар     Рафаил  Верещагин  2018-05-25   \n",
       "...         ...  ...        ...        ...        ...        ...         ...   \n",
       "123105     1499   35        NaN      Пермь     Гектор   Корнилов  2018-09-27   \n",
       "123106     1499   35        NaN      Пермь     Гектор   Корнилов  2018-09-27   \n",
       "123107     1499   35        NaN      Пермь     Гектор   Корнилов  2018-09-27   \n",
       "123108     1499   35        NaN      Пермь     Гектор   Корнилов  2018-09-27   \n",
       "123109     1499   35        NaN      Пермь     Гектор   Корнилов  2018-09-27   \n",
       "\n",
       "       tariff        id message_date  \n",
       "0       ultra    1000_0   2018-06-27  \n",
       "1       ultra    1000_1   2018-10-08  \n",
       "2       ultra    1000_2   2018-08-04  \n",
       "3       ultra    1000_3   2018-06-16  \n",
       "4       ultra    1000_4   2018-12-05  \n",
       "...       ...       ...          ...  \n",
       "123105  smart  1499_179   2018-12-12  \n",
       "123106  smart  1499_180   2018-09-28  \n",
       "123107  smart  1499_181   2018-09-27  \n",
       "123108  smart  1499_182   2018-11-15  \n",
       "123109  smart  1499_183   2018-11-16  \n",
       "\n",
       "[123110 rows x 10 columns]"
      ]
     },
     "metadata": {},
     "output_type": "display_data"
    }
   ],
   "source": [
    "users_calls = users.join(calls.set_index('user_id'), on='user_id').reset_index(drop=True) #Объединим таблицы по ключу user_id и обновим индексы\n",
    "users_internet = users.join(internet.set_index('user_id'), on='user_id').reset_index(drop=True) #Объединим таблицы по ключу user_id и обновим индексы\n",
    "users_messages = users.join(messages.set_index('user_id'), on='user_id').reset_index(drop=True) #Объединим таблицы по ключу user_id и обновим индексы\n",
    "display(users_calls)\n",
    "display(users_internet)\n",
    "display(users_messages)"
   ]
  },
  {
   "cell_type": "markdown",
   "id": "a8aa4c3f",
   "metadata": {},
   "source": [
    "Построим гистограмму распределения интернет сессий"
   ]
  },
  {
   "cell_type": "code",
   "execution_count": 8,
   "id": "f059d625",
   "metadata": {
    "scrolled": true
   },
   "outputs": [
    {
     "data": {
      "text/plain": [
       "<AxesSubplot:>"
      ]
     },
     "execution_count": 8,
     "metadata": {},
     "output_type": "execute_result"
    },
    {
     "data": {
      "image/png": "[encoded data removed]",
      "text/plain": [
       "<Figure size 1224x576 with 1 Axes>"
      ]
     },
     "metadata": {},
     "output_type": "display_data"
    }
   ],
   "source": [
    "users_internet['mb_used'].hist(bins=50)"
   ]
  },
  {
   "cell_type": "code",
   "execution_count": 6,
   "id": "911651e6",
   "metadata": {
    "scrolled": true
   },
   "outputs": [
    {
     "data": {
      "text/html": [
       "<div>\n",
       "<style scoped>\n",
       "    .dataframe tbody tr th:only-of-type {\n",
       "        vertical-align: middle;\n",
       "    }\n",
       "\n",
       "    .dataframe tbody tr th {\n",
       "        vertical-align: top;\n",
       "    }\n",
       "\n",
       "    .dataframe thead th {\n",
       "        text-align: right;\n",
       "    }\n",
       "</style>\n",
       "<table border=\"1\" class=\"dataframe\">\n",
       "  <thead>\n",
       "    <tr style=\"text-align: right;\">\n",
       "      <th></th>\n",
       "      <th>user_id</th>\n",
       "      <th>age</th>\n",
       "      <th>churn_date</th>\n",
       "      <th>city</th>\n",
       "      <th>first_name</th>\n",
       "      <th>last_name</th>\n",
       "      <th>reg_date</th>\n",
       "      <th>tariff</th>\n",
       "      <th>Unnamed: 0</th>\n",
       "      <th>id</th>\n",
       "      <th>mb_used</th>\n",
       "      <th>session_date</th>\n",
       "    </tr>\n",
       "  </thead>\n",
       "  <tbody>\n",
       "    <tr>\n",
       "      <th>11</th>\n",
       "      <td>1000</td>\n",
       "      <td>52</td>\n",
       "      <td>NaN</td>\n",
       "      <td>Краснодар</td>\n",
       "      <td>Рафаил</td>\n",
       "      <td>Верещагин</td>\n",
       "      <td>2018-05-25</td>\n",
       "      <td>ultra</td>\n",
       "      <td>11.0</td>\n",
       "      <td>1000_11</td>\n",
       "      <td>0.0</td>\n",
       "      <td>2018-08-28</td>\n",
       "    </tr>\n",
       "    <tr>\n",
       "      <th>38</th>\n",
       "      <td>1000</td>\n",
       "      <td>52</td>\n",
       "      <td>NaN</td>\n",
       "      <td>Краснодар</td>\n",
       "      <td>Рафаил</td>\n",
       "      <td>Верещагин</td>\n",
       "      <td>2018-05-25</td>\n",
       "      <td>ultra</td>\n",
       "      <td>38.0</td>\n",
       "      <td>1000_38</td>\n",
       "      <td>0.0</td>\n",
       "      <td>2018-11-27</td>\n",
       "    </tr>\n",
       "    <tr>\n",
       "      <th>46</th>\n",
       "      <td>1000</td>\n",
       "      <td>52</td>\n",
       "      <td>NaN</td>\n",
       "      <td>Краснодар</td>\n",
       "      <td>Рафаил</td>\n",
       "      <td>Верещагин</td>\n",
       "      <td>2018-05-25</td>\n",
       "      <td>ultra</td>\n",
       "      <td>46.0</td>\n",
       "      <td>1000_46</td>\n",
       "      <td>0.0</td>\n",
       "      <td>2018-06-30</td>\n",
       "    </tr>\n",
       "    <tr>\n",
       "      <th>67</th>\n",
       "      <td>1000</td>\n",
       "      <td>52</td>\n",
       "      <td>NaN</td>\n",
       "      <td>Краснодар</td>\n",
       "      <td>Рафаил</td>\n",
       "      <td>Верещагин</td>\n",
       "      <td>2018-05-25</td>\n",
       "      <td>ultra</td>\n",
       "      <td>67.0</td>\n",
       "      <td>1000_67</td>\n",
       "      <td>0.0</td>\n",
       "      <td>2018-06-16</td>\n",
       "    </tr>\n",
       "    <tr>\n",
       "      <th>72</th>\n",
       "      <td>1000</td>\n",
       "      <td>52</td>\n",
       "      <td>NaN</td>\n",
       "      <td>Краснодар</td>\n",
       "      <td>Рафаил</td>\n",
       "      <td>Верещагин</td>\n",
       "      <td>2018-05-25</td>\n",
       "      <td>ultra</td>\n",
       "      <td>72.0</td>\n",
       "      <td>1000_72</td>\n",
       "      <td>0.0</td>\n",
       "      <td>2018-06-15</td>\n",
       "    </tr>\n",
       "    <tr>\n",
       "      <th>...</th>\n",
       "      <td>...</td>\n",
       "      <td>...</td>\n",
       "      <td>...</td>\n",
       "      <td>...</td>\n",
       "      <td>...</td>\n",
       "      <td>...</td>\n",
       "      <td>...</td>\n",
       "      <td>...</td>\n",
       "      <td>...</td>\n",
       "      <td>...</td>\n",
       "      <td>...</td>\n",
       "      <td>...</td>\n",
       "    </tr>\n",
       "    <tr>\n",
       "      <th>149383</th>\n",
       "      <td>1499</td>\n",
       "      <td>35</td>\n",
       "      <td>NaN</td>\n",
       "      <td>Пермь</td>\n",
       "      <td>Гектор</td>\n",
       "      <td>Корнилов</td>\n",
       "      <td>2018-09-27</td>\n",
       "      <td>smart</td>\n",
       "      <td>149380.0</td>\n",
       "      <td>1499_141</td>\n",
       "      <td>0.0</td>\n",
       "      <td>2018-12-11</td>\n",
       "    </tr>\n",
       "    <tr>\n",
       "      <th>149384</th>\n",
       "      <td>1499</td>\n",
       "      <td>35</td>\n",
       "      <td>NaN</td>\n",
       "      <td>Пермь</td>\n",
       "      <td>Гектор</td>\n",
       "      <td>Корнилов</td>\n",
       "      <td>2018-09-27</td>\n",
       "      <td>smart</td>\n",
       "      <td>149381.0</td>\n",
       "      <td>1499_142</td>\n",
       "      <td>0.0</td>\n",
       "      <td>2018-11-01</td>\n",
       "    </tr>\n",
       "    <tr>\n",
       "      <th>149386</th>\n",
       "      <td>1499</td>\n",
       "      <td>35</td>\n",
       "      <td>NaN</td>\n",
       "      <td>Пермь</td>\n",
       "      <td>Гектор</td>\n",
       "      <td>Корнилов</td>\n",
       "      <td>2018-09-27</td>\n",
       "      <td>smart</td>\n",
       "      <td>149383.0</td>\n",
       "      <td>1499_144</td>\n",
       "      <td>0.0</td>\n",
       "      <td>2018-11-27</td>\n",
       "    </tr>\n",
       "    <tr>\n",
       "      <th>149389</th>\n",
       "      <td>1499</td>\n",
       "      <td>35</td>\n",
       "      <td>NaN</td>\n",
       "      <td>Пермь</td>\n",
       "      <td>Гектор</td>\n",
       "      <td>Корнилов</td>\n",
       "      <td>2018-09-27</td>\n",
       "      <td>smart</td>\n",
       "      <td>149386.0</td>\n",
       "      <td>1499_147</td>\n",
       "      <td>0.0</td>\n",
       "      <td>2018-10-21</td>\n",
       "    </tr>\n",
       "    <tr>\n",
       "      <th>149396</th>\n",
       "      <td>1499</td>\n",
       "      <td>35</td>\n",
       "      <td>NaN</td>\n",
       "      <td>Пермь</td>\n",
       "      <td>Гектор</td>\n",
       "      <td>Корнилов</td>\n",
       "      <td>2018-09-27</td>\n",
       "      <td>smart</td>\n",
       "      <td>149393.0</td>\n",
       "      <td>1499_154</td>\n",
       "      <td>0.0</td>\n",
       "      <td>2018-10-27</td>\n",
       "    </tr>\n",
       "  </tbody>\n",
       "</table>\n",
       "<p>19598 rows × 12 columns</p>\n",
       "</div>"
      ],
      "text/plain": [
       "        user_id  age churn_date       city first_name  last_name    reg_date  \\\n",
       "11         1000   52        NaN  Краснодар     Рафаил  Верещагин  2018-05-25   \n",
       "38         1000   52        NaN  Краснодар     Рафаил  Верещагин  2018-05-25   \n",
       "46         1000   52        NaN  Краснодар     Рафаил  Верещагин  2018-05-25   \n",
       "67         1000   52        NaN  Краснодар     Рафаил  Верещагин  2018-05-25   \n",
       "72         1000   52        NaN  Краснодар     Рафаил  Верещагин  2018-05-25   \n",
       "...         ...  ...        ...        ...        ...        ...         ...   \n",
       "149383     1499   35        NaN      Пермь     Гектор   Корнилов  2018-09-27   \n",
       "149384     1499   35        NaN      Пермь     Гектор   Корнилов  2018-09-27   \n",
       "149386     1499   35        NaN      Пермь     Гектор   Корнилов  2018-09-27   \n",
       "149389     1499   35        NaN      Пермь     Гектор   Корнилов  2018-09-27   \n",
       "149396     1499   35        NaN      Пермь     Гектор   Корнилов  2018-09-27   \n",
       "\n",
       "       tariff  Unnamed: 0        id  mb_used session_date  \n",
       "11      ultra        11.0   1000_11      0.0   2018-08-28  \n",
       "38      ultra        38.0   1000_38      0.0   2018-11-27  \n",
       "46      ultra        46.0   1000_46      0.0   2018-06-30  \n",
       "67      ultra        67.0   1000_67      0.0   2018-06-16  \n",
       "72      ultra        72.0   1000_72      0.0   2018-06-15  \n",
       "...       ...         ...       ...      ...          ...  \n",
       "149383  smart    149380.0  1499_141      0.0   2018-12-11  \n",
       "149384  smart    149381.0  1499_142      0.0   2018-11-01  \n",
       "149386  smart    149383.0  1499_144      0.0   2018-11-27  \n",
       "149389  smart    149386.0  1499_147      0.0   2018-10-21  \n",
       "149396  smart    149393.0  1499_154      0.0   2018-10-27  \n",
       "\n",
       "[19598 rows x 12 columns]"
      ]
     },
     "metadata": {},
     "output_type": "display_data"
    }
   ],
   "source": [
    "display(users_internet.loc[users_internet['mb_used'] == 0])"
   ]
  },
  {
   "cell_type": "markdown",
   "id": "05895d8b",
   "metadata": {},
   "source": [
    "Мы можем увидеть большое количество нулей в объеме трафика. Как в дальнейшем при анализе мы не используем количество сессий, можно говорить о том, что данные строки нам не нужны. Однако более 10% процента 0 это не нормально. Возможно лучше обратиться к тем кто выгрузил базу для разъяснения. \n",
    "А в дальнейшем при суммировании трафика по месяцам, данные строки уйдут сами собой."
   ]
  },
  {
   "cell_type": "markdown",
   "id": "080695e6",
   "metadata": {},
   "source": [
    "Удалим явные дубликаты "
   ]
  },
  {
   "cell_type": "code",
   "execution_count": 9,
   "id": "8a82b8a5",
   "metadata": {
    "scrolled": true
   },
   "outputs": [
    {
     "name": "stdout",
     "output_type": "stream",
     "text": [
      "До удаления дубликатов в users_calls: 202615\n",
      "После удаления дубликатов: 202615\n",
      "До удаления дубликатов в users_messages: 123110\n",
      "После удаления дубликатов: 123110\n",
      "До удаления дубликатов в users_internet: 149399\n",
      "После удаления дубликатов: 149399\n"
     ]
    }
   ],
   "source": [
    "print(f'До удаления дубликатов в users_calls: {len(users_calls)}')\n",
    "users_calls = users_calls.drop_duplicates().reset_index(drop=True)\n",
    "print(f'После удаления дубликатов: {len(users_calls)}')\n",
    "\n",
    "print(f'До удаления дубликатов в users_messages: {len(users_messages)}')\n",
    "users_messages = users_messages.drop_duplicates().reset_index(drop=True)\n",
    "print(f'После удаления дубликатов: {len(users_messages)}')\n",
    "\n",
    "print(f'До удаления дубликатов в users_internet: {len(users_internet)}')\n",
    "users_internet = users_internet.drop_duplicates().reset_index(drop=True)\n",
    "print(f'После удаления дубликатов: {len(users_internet)}')"
   ]
  },
  {
   "cell_type": "markdown",
   "id": "bc054f36",
   "metadata": {},
   "source": [
    "### Вывод \n",
    "Просмотрев таблицы, мы можем точно сказать, что не все данные нам нужны для анализа. Например мы точно можем убрать:\n",
    "- Имена пользователей (`first_name`, `last_name`) и возраст (`age`), так как это не дает нам никакой информации необходимой для исследования, а идентификацию мы сможем проводить через `user_id`.\n",
    "- Уникальный идентификатор сессии (`id`) - он не требуется для задач\n",
    "- Дату регистрации (`reg_date`) - она не треубется для задач\n",
    "- Дату расторжения договора (`churn_date`) - она не требуется для задач"
   ]
  },
  {
   "cell_type": "code",
   "execution_count": 10,
   "id": "0528cc8f",
   "metadata": {},
   "outputs": [],
   "source": [
    "users_calls = users_calls.drop(columns=['age','churn_date','first_name','reg_date','last_name','id']) #Удалим стобцы\n",
    "users_internet = users_internet.drop(columns=['age','churn_date','first_name','reg_date','last_name','id','Unnamed: 0']) #Удалим стобцы\n",
    "users_messages = users_messages.drop(columns=['age','churn_date','first_name','reg_date','last_name','id']) #Удалим стобцы"
   ]
  },
  {
   "cell_type": "markdown",
   "id": "7741e8ff",
   "metadata": {},
   "source": [
    "## Предобработка данных"
   ]
  },
  {
   "cell_type": "markdown",
   "id": "9771a153",
   "metadata": {},
   "source": [
    "### Users_calls"
   ]
  },
  {
   "cell_type": "markdown",
   "id": "21fafcdf",
   "metadata": {},
   "source": [
    "Теперь нужно детально изучить каждую таблицу, изменить типы, обработать дубликаты и NaN.\n",
    "\n",
    "Начнем с `users_calls`"
   ]
  },
  {
   "cell_type": "code",
   "execution_count": 11,
   "id": "6204a80c",
   "metadata": {},
   "outputs": [
    {
     "name": "stdout",
     "output_type": "stream",
     "text": [
      "<class 'pandas.core.frame.DataFrame'>\n",
      "RangeIndex: 202615 entries, 0 to 202614\n",
      "Data columns (total 5 columns):\n",
      " #   Column     Non-Null Count   Dtype  \n",
      "---  ------     --------------   -----  \n",
      " 0   user_id    202615 non-null  int64  \n",
      " 1   city       202615 non-null  object \n",
      " 2   tariff     202615 non-null  object \n",
      " 3   call_date  202607 non-null  object \n",
      " 4   duration   202607 non-null  float64\n",
      "dtypes: float64(1), int64(1), object(3)\n",
      "memory usage: 7.7+ MB\n",
      "None\n"
     ]
    }
   ],
   "source": [
    "print(users_calls.info())"
   ]
  },
  {
   "cell_type": "markdown",
   "id": "66085119",
   "metadata": {},
   "source": [
    "- `call_date` имеет неверный тип, нужно привести к DateTime.\n",
    "- `tariff` нужно проверить уникальные значения\n",
    "- `duration` - необходимо округлить значения в соотвествии с правилами компании и привести к int\n",
    "- `city` - нужно проверить уникальные значения     \n",
    "\n",
    "Для начала изучим пропуски. Судя по `info` пропуски есть в `call_date` и `duration`"
   ]
  },
  {
   "cell_type": "code",
   "execution_count": 12,
   "id": "60ed6351",
   "metadata": {},
   "outputs": [
    {
     "data": {
      "text/html": [
       "<div>\n",
       "<style scoped>\n",
       "    .dataframe tbody tr th:only-of-type {\n",
       "        vertical-align: middle;\n",
       "    }\n",
       "\n",
       "    .dataframe tbody tr th {\n",
       "        vertical-align: top;\n",
       "    }\n",
       "\n",
       "    .dataframe thead th {\n",
       "        text-align: right;\n",
       "    }\n",
       "</style>\n",
       "<table border=\"1\" class=\"dataframe\">\n",
       "  <thead>\n",
       "    <tr style=\"text-align: right;\">\n",
       "      <th></th>\n",
       "      <th>user_id</th>\n",
       "      <th>city</th>\n",
       "      <th>tariff</th>\n",
       "      <th>call_date</th>\n",
       "      <th>duration</th>\n",
       "    </tr>\n",
       "  </thead>\n",
       "  <tbody>\n",
       "    <tr>\n",
       "      <th>36344</th>\n",
       "      <td>1091</td>\n",
       "      <td>Набережные Челны</td>\n",
       "      <td>ultra</td>\n",
       "      <td>NaN</td>\n",
       "      <td>NaN</td>\n",
       "    </tr>\n",
       "    <tr>\n",
       "      <th>42758</th>\n",
       "      <td>1106</td>\n",
       "      <td>Калуга</td>\n",
       "      <td>ultra</td>\n",
       "      <td>NaN</td>\n",
       "      <td>NaN</td>\n",
       "    </tr>\n",
       "    <tr>\n",
       "      <th>51654</th>\n",
       "      <td>1128</td>\n",
       "      <td>Волжский</td>\n",
       "      <td>ultra</td>\n",
       "      <td>NaN</td>\n",
       "      <td>NaN</td>\n",
       "    </tr>\n",
       "    <tr>\n",
       "      <th>92592</th>\n",
       "      <td>1231</td>\n",
       "      <td>Чебоксары</td>\n",
       "      <td>ultra</td>\n",
       "      <td>NaN</td>\n",
       "      <td>NaN</td>\n",
       "    </tr>\n",
       "    <tr>\n",
       "      <th>127924</th>\n",
       "      <td>1328</td>\n",
       "      <td>Мурманск</td>\n",
       "      <td>ultra</td>\n",
       "      <td>NaN</td>\n",
       "      <td>NaN</td>\n",
       "    </tr>\n",
       "    <tr>\n",
       "      <th>145827</th>\n",
       "      <td>1371</td>\n",
       "      <td>Омск</td>\n",
       "      <td>smart</td>\n",
       "      <td>NaN</td>\n",
       "      <td>NaN</td>\n",
       "    </tr>\n",
       "    <tr>\n",
       "      <th>193093</th>\n",
       "      <td>1473</td>\n",
       "      <td>Красноярск</td>\n",
       "      <td>ultra</td>\n",
       "      <td>NaN</td>\n",
       "      <td>NaN</td>\n",
       "    </tr>\n",
       "    <tr>\n",
       "      <th>198661</th>\n",
       "      <td>1489</td>\n",
       "      <td>Санкт-Петербург</td>\n",
       "      <td>smart</td>\n",
       "      <td>NaN</td>\n",
       "      <td>NaN</td>\n",
       "    </tr>\n",
       "  </tbody>\n",
       "</table>\n",
       "</div>"
      ],
      "text/plain": [
       "        user_id              city tariff call_date  duration\n",
       "36344      1091  Набережные Челны  ultra       NaN       NaN\n",
       "42758      1106            Калуга  ultra       NaN       NaN\n",
       "51654      1128          Волжский  ultra       NaN       NaN\n",
       "92592      1231         Чебоксары  ultra       NaN       NaN\n",
       "127924     1328          Мурманск  ultra       NaN       NaN\n",
       "145827     1371              Омск  smart       NaN       NaN\n",
       "193093     1473        Красноярск  ultra       NaN       NaN\n",
       "198661     1489   Санкт-Петербург  smart       NaN       NaN"
      ]
     },
     "metadata": {},
     "output_type": "display_data"
    }
   ],
   "source": [
    "display(users_calls.loc[users_calls['call_date'].isna()]) #Отобразим все пропуски в значениях "
   ]
  },
  {
   "cell_type": "markdown",
   "id": "71a9e983",
   "metadata": {},
   "source": [
    "Пропуски можно удалить, так как они нам ничего не дадут, мы не знаем длительность звонка. Возможно это были ложные срабатывания базовой станции"
   ]
  },
  {
   "cell_type": "code",
   "execution_count": 13,
   "id": "8577441e",
   "metadata": {
    "scrolled": false
   },
   "outputs": [
    {
     "name": "stdout",
     "output_type": "stream",
     "text": [
      "['Краснодар' 'Москва' 'Стерлитамак' 'Новокузнецк' 'Набережные Челны'\n",
      " 'Ульяновск' 'Челябинск' 'Пермь' 'Тюмень' 'Самара' 'Санкт-Петербург'\n",
      " 'Иваново' 'Чебоксары' 'Омск' 'Уфа' 'Томск' 'Чита' 'Мурманск'\n",
      " 'Петрозаводск' 'Тверь' 'Екатеринбург' 'Махачкала' 'Вологда' 'Череповец'\n",
      " 'Ярославль' 'Сочи' 'Хабаровск' 'Ставрополь' 'Рязань' 'Улан-Удэ' 'Тула'\n",
      " 'Саратов' 'Ростов-на-Дону' 'Казань' 'Иркутск' 'Курск' 'Калуга' 'Якутск'\n",
      " 'Астрахань' 'Химки' 'Владикавказ' 'Волгоград' 'Саранск' 'Ижевск'\n",
      " 'Новосибирск' 'Брянск' 'Тольятти' 'Нижний Тагил' 'Орёл' 'Белгород'\n",
      " 'Воронеж' 'Курган' 'Барнаул' 'Красноярск' 'Архангельск' 'Липецк'\n",
      " 'Кемерово' 'Киров' 'Сургут' 'Пенза' 'Волжский' 'Магнитогорск'\n",
      " 'Нижний Новгород' 'Кострома' 'Владивосток' 'Тамбов' 'Балашиха'\n",
      " 'Севастополь' 'Калининград' 'Оренбург' 'Смоленск' 'Нижневартовск'\n",
      " 'Владимир' 'Новороссийск' 'Грозный' 'Подольск']\n",
      "['ultra' 'smart']\n"
     ]
    }
   ],
   "source": [
    "users_calls = users_calls.dropna(subset=['call_date']) #Удалим пропуски\n",
    "print(users_calls['city'].unique()) #Отобразим уникальные значения\n",
    "print(users_calls['tariff'].unique()) #Отобразим уникальные значения"
   ]
  },
  {
   "cell_type": "markdown",
   "id": "9720586b",
   "metadata": {},
   "source": [
    "Проблем с дубликатами нет."
   ]
  },
  {
   "cell_type": "code",
   "execution_count": 14,
   "id": "e7fa630f",
   "metadata": {
    "scrolled": true
   },
   "outputs": [
    {
     "data": {
      "text/html": [
       "<div>\n",
       "<style scoped>\n",
       "    .dataframe tbody tr th:only-of-type {\n",
       "        vertical-align: middle;\n",
       "    }\n",
       "\n",
       "    .dataframe tbody tr th {\n",
       "        vertical-align: top;\n",
       "    }\n",
       "\n",
       "    .dataframe thead th {\n",
       "        text-align: right;\n",
       "    }\n",
       "</style>\n",
       "<table border=\"1\" class=\"dataframe\">\n",
       "  <thead>\n",
       "    <tr style=\"text-align: right;\">\n",
       "      <th></th>\n",
       "      <th>user_id</th>\n",
       "      <th>city</th>\n",
       "      <th>tariff</th>\n",
       "      <th>call_date</th>\n",
       "      <th>duration</th>\n",
       "      <th>call_month</th>\n",
       "    </tr>\n",
       "  </thead>\n",
       "  <tbody>\n",
       "    <tr>\n",
       "      <th>0</th>\n",
       "      <td>1000</td>\n",
       "      <td>Краснодар</td>\n",
       "      <td>ultra</td>\n",
       "      <td>2018-07-25</td>\n",
       "      <td>0</td>\n",
       "      <td>July</td>\n",
       "    </tr>\n",
       "    <tr>\n",
       "      <th>1</th>\n",
       "      <td>1000</td>\n",
       "      <td>Краснодар</td>\n",
       "      <td>ultra</td>\n",
       "      <td>2018-08-17</td>\n",
       "      <td>0</td>\n",
       "      <td>August</td>\n",
       "    </tr>\n",
       "    <tr>\n",
       "      <th>2</th>\n",
       "      <td>1000</td>\n",
       "      <td>Краснодар</td>\n",
       "      <td>ultra</td>\n",
       "      <td>2018-06-11</td>\n",
       "      <td>3</td>\n",
       "      <td>June</td>\n",
       "    </tr>\n",
       "    <tr>\n",
       "      <th>3</th>\n",
       "      <td>1000</td>\n",
       "      <td>Краснодар</td>\n",
       "      <td>ultra</td>\n",
       "      <td>2018-09-21</td>\n",
       "      <td>14</td>\n",
       "      <td>September</td>\n",
       "    </tr>\n",
       "    <tr>\n",
       "      <th>4</th>\n",
       "      <td>1000</td>\n",
       "      <td>Краснодар</td>\n",
       "      <td>ultra</td>\n",
       "      <td>2018-12-15</td>\n",
       "      <td>6</td>\n",
       "      <td>December</td>\n",
       "    </tr>\n",
       "    <tr>\n",
       "      <th>...</th>\n",
       "      <td>...</td>\n",
       "      <td>...</td>\n",
       "      <td>...</td>\n",
       "      <td>...</td>\n",
       "      <td>...</td>\n",
       "      <td>...</td>\n",
       "    </tr>\n",
       "    <tr>\n",
       "      <th>202610</th>\n",
       "      <td>1499</td>\n",
       "      <td>Пермь</td>\n",
       "      <td>smart</td>\n",
       "      <td>2018-12-26</td>\n",
       "      <td>1</td>\n",
       "      <td>December</td>\n",
       "    </tr>\n",
       "    <tr>\n",
       "      <th>202611</th>\n",
       "      <td>1499</td>\n",
       "      <td>Пермь</td>\n",
       "      <td>smart</td>\n",
       "      <td>2018-10-18</td>\n",
       "      <td>19</td>\n",
       "      <td>October</td>\n",
       "    </tr>\n",
       "    <tr>\n",
       "      <th>202612</th>\n",
       "      <td>1499</td>\n",
       "      <td>Пермь</td>\n",
       "      <td>smart</td>\n",
       "      <td>2018-11-10</td>\n",
       "      <td>11</td>\n",
       "      <td>November</td>\n",
       "    </tr>\n",
       "    <tr>\n",
       "      <th>202613</th>\n",
       "      <td>1499</td>\n",
       "      <td>Пермь</td>\n",
       "      <td>smart</td>\n",
       "      <td>2018-10-06</td>\n",
       "      <td>5</td>\n",
       "      <td>October</td>\n",
       "    </tr>\n",
       "    <tr>\n",
       "      <th>202614</th>\n",
       "      <td>1499</td>\n",
       "      <td>Пермь</td>\n",
       "      <td>smart</td>\n",
       "      <td>2018-12-14</td>\n",
       "      <td>20</td>\n",
       "      <td>December</td>\n",
       "    </tr>\n",
       "  </tbody>\n",
       "</table>\n",
       "<p>202607 rows × 6 columns</p>\n",
       "</div>"
      ],
      "text/plain": [
       "        user_id       city tariff  call_date  duration call_month\n",
       "0          1000  Краснодар  ultra 2018-07-25         0       July\n",
       "1          1000  Краснодар  ultra 2018-08-17         0     August\n",
       "2          1000  Краснодар  ultra 2018-06-11         3       June\n",
       "3          1000  Краснодар  ultra 2018-09-21        14  September\n",
       "4          1000  Краснодар  ultra 2018-12-15         6   December\n",
       "...         ...        ...    ...        ...       ...        ...\n",
       "202610     1499      Пермь  smart 2018-12-26         1   December\n",
       "202611     1499      Пермь  smart 2018-10-18        19    October\n",
       "202612     1499      Пермь  smart 2018-11-10        11   November\n",
       "202613     1499      Пермь  smart 2018-10-06         5    October\n",
       "202614     1499      Пермь  smart 2018-12-14        20   December\n",
       "\n",
       "[202607 rows x 6 columns]"
      ]
     },
     "metadata": {},
     "output_type": "display_data"
    },
    {
     "name": "stdout",
     "output_type": "stream",
     "text": [
      "<class 'pandas.core.frame.DataFrame'>\n",
      "Int64Index: 202607 entries, 0 to 202614\n",
      "Data columns (total 6 columns):\n",
      " #   Column      Non-Null Count   Dtype         \n",
      "---  ------      --------------   -----         \n",
      " 0   user_id     202607 non-null  int64         \n",
      " 1   city        202607 non-null  object        \n",
      " 2   tariff      202607 non-null  object        \n",
      " 3   call_date   202607 non-null  datetime64[ns]\n",
      " 4   duration    202607 non-null  int64         \n",
      " 5   call_month  202607 non-null  object        \n",
      "dtypes: datetime64[ns](1), int64(2), object(3)\n",
      "memory usage: 10.8+ MB\n"
     ]
    },
    {
     "data": {
      "text/plain": [
       "None"
      ]
     },
     "metadata": {},
     "output_type": "display_data"
    }
   ],
   "source": [
    "users_calls['duration'] = np.ceil(users_calls['duration']).astype('int64') #Округлим значение звонка вверх и уберем дробную часть\n",
    "users_calls['call_date'] = pd.to_datetime(users_calls['call_date'], format='%Y%m%dT') #Приведем дату к нужному типу\n",
    "users_calls['call_month'] = users_calls['call_date'].dt.month_name() #Создадим столбец с названиями месяцевв\n",
    "\n",
    "display(users_calls)\n",
    "display(users_calls.info())"
   ]
  },
  {
   "cell_type": "markdown",
   "id": "3aa500ae",
   "metadata": {},
   "source": [
    "Таблица готова к обработке."
   ]
  },
  {
   "cell_type": "markdown",
   "id": "7a3d1a06",
   "metadata": {},
   "source": [
    "### Users_internet"
   ]
  },
  {
   "cell_type": "markdown",
   "id": "2216b34e",
   "metadata": {},
   "source": [
    "Изучим `users_internet`"
   ]
  },
  {
   "cell_type": "code",
   "execution_count": 15,
   "id": "ee66aba6",
   "metadata": {
    "scrolled": true
   },
   "outputs": [
    {
     "name": "stdout",
     "output_type": "stream",
     "text": [
      "<class 'pandas.core.frame.DataFrame'>\n",
      "RangeIndex: 149399 entries, 0 to 149398\n",
      "Data columns (total 5 columns):\n",
      " #   Column        Non-Null Count   Dtype  \n",
      "---  ------        --------------   -----  \n",
      " 0   user_id       149399 non-null  int64  \n",
      " 1   city          149399 non-null  object \n",
      " 2   tariff        149399 non-null  object \n",
      " 3   mb_used       149396 non-null  float64\n",
      " 4   session_date  149396 non-null  object \n",
      "dtypes: float64(1), int64(1), object(3)\n",
      "memory usage: 5.7+ MB\n",
      "None\n"
     ]
    }
   ],
   "source": [
    "print(users_internet.info())"
   ]
  },
  {
   "cell_type": "markdown",
   "id": "4eab50d0",
   "metadata": {},
   "source": [
    "Как мы видим, есть попуски в `mb_used` и `session_date`"
   ]
  },
  {
   "cell_type": "markdown",
   "id": "8f5e03af",
   "metadata": {},
   "source": [
    "- `session_date` имеет неверный тип, нужно привести к DateTime.\n",
    "\n",
    "Для начала изучим пропуски. Судя по `info` пропуски есть в `mb_used` и `session_date`"
   ]
  },
  {
   "cell_type": "code",
   "execution_count": 16,
   "id": "99c07023",
   "metadata": {},
   "outputs": [
    {
     "data": {
      "text/html": [
       "<div>\n",
       "<style scoped>\n",
       "    .dataframe tbody tr th:only-of-type {\n",
       "        vertical-align: middle;\n",
       "    }\n",
       "\n",
       "    .dataframe tbody tr th {\n",
       "        vertical-align: top;\n",
       "    }\n",
       "\n",
       "    .dataframe thead th {\n",
       "        text-align: right;\n",
       "    }\n",
       "</style>\n",
       "<table border=\"1\" class=\"dataframe\">\n",
       "  <thead>\n",
       "    <tr style=\"text-align: right;\">\n",
       "      <th></th>\n",
       "      <th>user_id</th>\n",
       "      <th>city</th>\n",
       "      <th>tariff</th>\n",
       "      <th>mb_used</th>\n",
       "      <th>session_date</th>\n",
       "    </tr>\n",
       "  </thead>\n",
       "  <tbody>\n",
       "    <tr>\n",
       "      <th>37050</th>\n",
       "      <td>1128</td>\n",
       "      <td>Волжский</td>\n",
       "      <td>ultra</td>\n",
       "      <td>NaN</td>\n",
       "      <td>NaN</td>\n",
       "    </tr>\n",
       "    <tr>\n",
       "      <th>80796</th>\n",
       "      <td>1273</td>\n",
       "      <td>Курган</td>\n",
       "      <td>ultra</td>\n",
       "      <td>NaN</td>\n",
       "      <td>NaN</td>\n",
       "    </tr>\n",
       "    <tr>\n",
       "      <th>108634</th>\n",
       "      <td>1371</td>\n",
       "      <td>Омск</td>\n",
       "      <td>smart</td>\n",
       "      <td>NaN</td>\n",
       "      <td>NaN</td>\n",
       "    </tr>\n",
       "  </tbody>\n",
       "</table>\n",
       "</div>"
      ],
      "text/plain": [
       "        user_id      city tariff  mb_used session_date\n",
       "37050      1128  Волжский  ultra      NaN          NaN\n",
       "80796      1273    Курган  ultra      NaN          NaN\n",
       "108634     1371      Омск  smart      NaN          NaN"
      ]
     },
     "metadata": {},
     "output_type": "display_data"
    }
   ],
   "source": [
    "display(users_internet.loc[users_internet['mb_used'].isna()]) #Отобразим пропуски"
   ]
  },
  {
   "cell_type": "markdown",
   "id": "029eee3f",
   "metadata": {},
   "source": [
    "Так же как и в предыдущей таблице, пропуски нам ничего не дадут, возможно ошибка базовой станции. Их можно удалять"
   ]
  },
  {
   "cell_type": "code",
   "execution_count": 17,
   "id": "5e780bb1",
   "metadata": {},
   "outputs": [],
   "source": [
    "users_internet = users_internet.dropna(subset=['mb_used']) #Удалим пропуски"
   ]
  },
  {
   "cell_type": "code",
   "execution_count": 18,
   "id": "81da2f9a",
   "metadata": {
    "scrolled": false
   },
   "outputs": [
    {
     "data": {
      "text/html": [
       "<div>\n",
       "<style scoped>\n",
       "    .dataframe tbody tr th:only-of-type {\n",
       "        vertical-align: middle;\n",
       "    }\n",
       "\n",
       "    .dataframe tbody tr th {\n",
       "        vertical-align: top;\n",
       "    }\n",
       "\n",
       "    .dataframe thead th {\n",
       "        text-align: right;\n",
       "    }\n",
       "</style>\n",
       "<table border=\"1\" class=\"dataframe\">\n",
       "  <thead>\n",
       "    <tr style=\"text-align: right;\">\n",
       "      <th></th>\n",
       "      <th>user_id</th>\n",
       "      <th>city</th>\n",
       "      <th>tariff</th>\n",
       "      <th>mb_used</th>\n",
       "      <th>session_date</th>\n",
       "      <th>session_month</th>\n",
       "    </tr>\n",
       "  </thead>\n",
       "  <tbody>\n",
       "    <tr>\n",
       "      <th>0</th>\n",
       "      <td>1000</td>\n",
       "      <td>Краснодар</td>\n",
       "      <td>ultra</td>\n",
       "      <td>112.95</td>\n",
       "      <td>2018-11-25</td>\n",
       "      <td>November</td>\n",
       "    </tr>\n",
       "    <tr>\n",
       "      <th>1</th>\n",
       "      <td>1000</td>\n",
       "      <td>Краснодар</td>\n",
       "      <td>ultra</td>\n",
       "      <td>1052.81</td>\n",
       "      <td>2018-09-07</td>\n",
       "      <td>September</td>\n",
       "    </tr>\n",
       "    <tr>\n",
       "      <th>2</th>\n",
       "      <td>1000</td>\n",
       "      <td>Краснодар</td>\n",
       "      <td>ultra</td>\n",
       "      <td>1197.26</td>\n",
       "      <td>2018-06-25</td>\n",
       "      <td>June</td>\n",
       "    </tr>\n",
       "    <tr>\n",
       "      <th>3</th>\n",
       "      <td>1000</td>\n",
       "      <td>Краснодар</td>\n",
       "      <td>ultra</td>\n",
       "      <td>550.27</td>\n",
       "      <td>2018-08-22</td>\n",
       "      <td>August</td>\n",
       "    </tr>\n",
       "    <tr>\n",
       "      <th>4</th>\n",
       "      <td>1000</td>\n",
       "      <td>Краснодар</td>\n",
       "      <td>ultra</td>\n",
       "      <td>302.56</td>\n",
       "      <td>2018-09-24</td>\n",
       "      <td>September</td>\n",
       "    </tr>\n",
       "    <tr>\n",
       "      <th>...</th>\n",
       "      <td>...</td>\n",
       "      <td>...</td>\n",
       "      <td>...</td>\n",
       "      <td>...</td>\n",
       "      <td>...</td>\n",
       "      <td>...</td>\n",
       "    </tr>\n",
       "    <tr>\n",
       "      <th>149394</th>\n",
       "      <td>1499</td>\n",
       "      <td>Пермь</td>\n",
       "      <td>smart</td>\n",
       "      <td>318.90</td>\n",
       "      <td>2018-10-03</td>\n",
       "      <td>October</td>\n",
       "    </tr>\n",
       "    <tr>\n",
       "      <th>149395</th>\n",
       "      <td>1499</td>\n",
       "      <td>Пермь</td>\n",
       "      <td>smart</td>\n",
       "      <td>490.13</td>\n",
       "      <td>2018-12-14</td>\n",
       "      <td>December</td>\n",
       "    </tr>\n",
       "    <tr>\n",
       "      <th>149396</th>\n",
       "      <td>1499</td>\n",
       "      <td>Пермь</td>\n",
       "      <td>smart</td>\n",
       "      <td>0.00</td>\n",
       "      <td>2018-10-27</td>\n",
       "      <td>October</td>\n",
       "    </tr>\n",
       "    <tr>\n",
       "      <th>149397</th>\n",
       "      <td>1499</td>\n",
       "      <td>Пермь</td>\n",
       "      <td>smart</td>\n",
       "      <td>1246.32</td>\n",
       "      <td>2018-11-26</td>\n",
       "      <td>November</td>\n",
       "    </tr>\n",
       "    <tr>\n",
       "      <th>149398</th>\n",
       "      <td>1499</td>\n",
       "      <td>Пермь</td>\n",
       "      <td>smart</td>\n",
       "      <td>544.37</td>\n",
       "      <td>2018-10-26</td>\n",
       "      <td>October</td>\n",
       "    </tr>\n",
       "  </tbody>\n",
       "</table>\n",
       "<p>149396 rows × 6 columns</p>\n",
       "</div>"
      ],
      "text/plain": [
       "        user_id       city tariff  mb_used session_date session_month\n",
       "0          1000  Краснодар  ultra   112.95   2018-11-25      November\n",
       "1          1000  Краснодар  ultra  1052.81   2018-09-07     September\n",
       "2          1000  Краснодар  ultra  1197.26   2018-06-25          June\n",
       "3          1000  Краснодар  ultra   550.27   2018-08-22        August\n",
       "4          1000  Краснодар  ultra   302.56   2018-09-24     September\n",
       "...         ...        ...    ...      ...          ...           ...\n",
       "149394     1499      Пермь  smart   318.90   2018-10-03       October\n",
       "149395     1499      Пермь  smart   490.13   2018-12-14      December\n",
       "149396     1499      Пермь  smart     0.00   2018-10-27       October\n",
       "149397     1499      Пермь  smart  1246.32   2018-11-26      November\n",
       "149398     1499      Пермь  smart   544.37   2018-10-26       October\n",
       "\n",
       "[149396 rows x 6 columns]"
      ]
     },
     "metadata": {},
     "output_type": "display_data"
    },
    {
     "name": "stdout",
     "output_type": "stream",
     "text": [
      "<class 'pandas.core.frame.DataFrame'>\n",
      "Int64Index: 149396 entries, 0 to 149398\n",
      "Data columns (total 6 columns):\n",
      " #   Column         Non-Null Count   Dtype         \n",
      "---  ------         --------------   -----         \n",
      " 0   user_id        149396 non-null  int64         \n",
      " 1   city           149396 non-null  object        \n",
      " 2   tariff         149396 non-null  object        \n",
      " 3   mb_used        149396 non-null  float64       \n",
      " 4   session_date   149396 non-null  datetime64[ns]\n",
      " 5   session_month  149396 non-null  object        \n",
      "dtypes: datetime64[ns](1), float64(1), int64(1), object(3)\n",
      "memory usage: 8.0+ MB\n"
     ]
    },
    {
     "data": {
      "text/plain": [
       "None"
      ]
     },
     "metadata": {},
     "output_type": "display_data"
    }
   ],
   "source": [
    "users_internet['session_date'] = pd.to_datetime(users_internet['session_date'], format='%Y%m%dT') #Изменим тип даты на корректный\n",
    "users_internet['session_month'] = users_internet['session_date'].dt.month_name() #Выделим название месяцев в дате\n",
    "display(users_internet)\n",
    "display(users_internet.info())"
   ]
  },
  {
   "cell_type": "markdown",
   "id": "64834e33",
   "metadata": {},
   "source": [
    "Таблица готова к обработке."
   ]
  },
  {
   "cell_type": "markdown",
   "id": "763f7c51",
   "metadata": {},
   "source": [
    "### Users_messages"
   ]
  },
  {
   "cell_type": "markdown",
   "id": "7384983a",
   "metadata": {},
   "source": [
    "Изучим `users_internet`"
   ]
  },
  {
   "cell_type": "code",
   "execution_count": 19,
   "id": "3a1bfefd",
   "metadata": {
    "scrolled": true
   },
   "outputs": [
    {
     "name": "stdout",
     "output_type": "stream",
     "text": [
      "<class 'pandas.core.frame.DataFrame'>\n",
      "RangeIndex: 123110 entries, 0 to 123109\n",
      "Data columns (total 4 columns):\n",
      " #   Column        Non-Null Count   Dtype \n",
      "---  ------        --------------   ----- \n",
      " 0   user_id       123110 non-null  int64 \n",
      " 1   city          123110 non-null  object\n",
      " 2   tariff        123110 non-null  object\n",
      " 3   message_date  123036 non-null  object\n",
      "dtypes: int64(1), object(3)\n",
      "memory usage: 3.8+ MB\n",
      "None\n"
     ]
    }
   ],
   "source": [
    "print(users_messages.info())"
   ]
  },
  {
   "cell_type": "markdown",
   "id": "a78f4bca",
   "metadata": {},
   "source": [
    "Как мы видим, есть попуски в `message_date`. Так как их немного лучше не учитывать данные сообщения при анализе данных, так как не может сказать самое важно, дату их отправки"
   ]
  },
  {
   "cell_type": "markdown",
   "id": "bdfaf58e",
   "metadata": {},
   "source": [
    "- `message_date` имеет неверный тип, нужно привести к DateTime."
   ]
  },
  {
   "cell_type": "code",
   "execution_count": 20,
   "id": "b60933dc",
   "metadata": {
    "scrolled": true
   },
   "outputs": [
    {
     "data": {
      "text/html": [
       "<div>\n",
       "<style scoped>\n",
       "    .dataframe tbody tr th:only-of-type {\n",
       "        vertical-align: middle;\n",
       "    }\n",
       "\n",
       "    .dataframe tbody tr th {\n",
       "        vertical-align: top;\n",
       "    }\n",
       "\n",
       "    .dataframe thead th {\n",
       "        text-align: right;\n",
       "    }\n",
       "</style>\n",
       "<table border=\"1\" class=\"dataframe\">\n",
       "  <thead>\n",
       "    <tr style=\"text-align: right;\">\n",
       "      <th></th>\n",
       "      <th>user_id</th>\n",
       "      <th>city</th>\n",
       "      <th>tariff</th>\n",
       "      <th>message_date</th>\n",
       "      <th>message_month</th>\n",
       "    </tr>\n",
       "  </thead>\n",
       "  <tbody>\n",
       "    <tr>\n",
       "      <th>0</th>\n",
       "      <td>1000</td>\n",
       "      <td>Краснодар</td>\n",
       "      <td>ultra</td>\n",
       "      <td>2018-06-27</td>\n",
       "      <td>June</td>\n",
       "    </tr>\n",
       "    <tr>\n",
       "      <th>1</th>\n",
       "      <td>1000</td>\n",
       "      <td>Краснодар</td>\n",
       "      <td>ultra</td>\n",
       "      <td>2018-10-08</td>\n",
       "      <td>October</td>\n",
       "    </tr>\n",
       "    <tr>\n",
       "      <th>2</th>\n",
       "      <td>1000</td>\n",
       "      <td>Краснодар</td>\n",
       "      <td>ultra</td>\n",
       "      <td>2018-08-04</td>\n",
       "      <td>August</td>\n",
       "    </tr>\n",
       "    <tr>\n",
       "      <th>3</th>\n",
       "      <td>1000</td>\n",
       "      <td>Краснодар</td>\n",
       "      <td>ultra</td>\n",
       "      <td>2018-06-16</td>\n",
       "      <td>June</td>\n",
       "    </tr>\n",
       "    <tr>\n",
       "      <th>4</th>\n",
       "      <td>1000</td>\n",
       "      <td>Краснодар</td>\n",
       "      <td>ultra</td>\n",
       "      <td>2018-12-05</td>\n",
       "      <td>December</td>\n",
       "    </tr>\n",
       "    <tr>\n",
       "      <th>...</th>\n",
       "      <td>...</td>\n",
       "      <td>...</td>\n",
       "      <td>...</td>\n",
       "      <td>...</td>\n",
       "      <td>...</td>\n",
       "    </tr>\n",
       "    <tr>\n",
       "      <th>123105</th>\n",
       "      <td>1499</td>\n",
       "      <td>Пермь</td>\n",
       "      <td>smart</td>\n",
       "      <td>2018-12-12</td>\n",
       "      <td>December</td>\n",
       "    </tr>\n",
       "    <tr>\n",
       "      <th>123106</th>\n",
       "      <td>1499</td>\n",
       "      <td>Пермь</td>\n",
       "      <td>smart</td>\n",
       "      <td>2018-09-28</td>\n",
       "      <td>September</td>\n",
       "    </tr>\n",
       "    <tr>\n",
       "      <th>123107</th>\n",
       "      <td>1499</td>\n",
       "      <td>Пермь</td>\n",
       "      <td>smart</td>\n",
       "      <td>2018-09-27</td>\n",
       "      <td>September</td>\n",
       "    </tr>\n",
       "    <tr>\n",
       "      <th>123108</th>\n",
       "      <td>1499</td>\n",
       "      <td>Пермь</td>\n",
       "      <td>smart</td>\n",
       "      <td>2018-11-15</td>\n",
       "      <td>November</td>\n",
       "    </tr>\n",
       "    <tr>\n",
       "      <th>123109</th>\n",
       "      <td>1499</td>\n",
       "      <td>Пермь</td>\n",
       "      <td>smart</td>\n",
       "      <td>2018-11-16</td>\n",
       "      <td>November</td>\n",
       "    </tr>\n",
       "  </tbody>\n",
       "</table>\n",
       "<p>123036 rows × 5 columns</p>\n",
       "</div>"
      ],
      "text/plain": [
       "        user_id       city tariff message_date message_month\n",
       "0          1000  Краснодар  ultra   2018-06-27          June\n",
       "1          1000  Краснодар  ultra   2018-10-08       October\n",
       "2          1000  Краснодар  ultra   2018-08-04        August\n",
       "3          1000  Краснодар  ultra   2018-06-16          June\n",
       "4          1000  Краснодар  ultra   2018-12-05      December\n",
       "...         ...        ...    ...          ...           ...\n",
       "123105     1499      Пермь  smart   2018-12-12      December\n",
       "123106     1499      Пермь  smart   2018-09-28     September\n",
       "123107     1499      Пермь  smart   2018-09-27     September\n",
       "123108     1499      Пермь  smart   2018-11-15      November\n",
       "123109     1499      Пермь  smart   2018-11-16      November\n",
       "\n",
       "[123036 rows x 5 columns]"
      ]
     },
     "metadata": {},
     "output_type": "display_data"
    },
    {
     "name": "stdout",
     "output_type": "stream",
     "text": [
      "<class 'pandas.core.frame.DataFrame'>\n",
      "Int64Index: 123036 entries, 0 to 123109\n",
      "Data columns (total 5 columns):\n",
      " #   Column         Non-Null Count   Dtype         \n",
      "---  ------         --------------   -----         \n",
      " 0   user_id        123036 non-null  int64         \n",
      " 1   city           123036 non-null  object        \n",
      " 2   tariff         123036 non-null  object        \n",
      " 3   message_date   123036 non-null  datetime64[ns]\n",
      " 4   message_month  123036 non-null  object        \n",
      "dtypes: datetime64[ns](1), int64(1), object(3)\n",
      "memory usage: 5.6+ MB\n"
     ]
    },
    {
     "data": {
      "text/plain": [
       "None"
      ]
     },
     "metadata": {},
     "output_type": "display_data"
    }
   ],
   "source": [
    "users_messages = users_messages.dropna(subset=['message_date']) #Удалим отсуствующие даты\n",
    "users_messages['message_date'] = pd.to_datetime(users_messages['message_date'], format='%Y%m%dT') #Изменим тип даты\n",
    "users_messages['message_month'] = users_messages['message_date'].dt.month_name() #Добавим столбец с названием месяца в дате\n",
    "display(users_messages)\n",
    "display(users_messages.info())"
   ]
  },
  {
   "cell_type": "markdown",
   "id": "3438a429",
   "metadata": {},
   "source": [
    "Таблица готова к обработке."
   ]
  },
  {
   "cell_type": "markdown",
   "id": "819f2cdd",
   "metadata": {},
   "source": [
    "### Вывод\n",
    "\n",
    "Мы привели столбцы к одному типу, убрали отсутствущие значения и теперь можем начать объеденение таблиц и их группировку."
   ]
  },
  {
   "cell_type": "markdown",
   "id": "7e235e33",
   "metadata": {},
   "source": [
    "## Подготовка таблиц по пользователю"
   ]
  },
  {
   "cell_type": "markdown",
   "id": "57bbf775",
   "metadata": {},
   "source": [
    "Для дальнейшего анализа нам не нужны точные даты, мы объединим таблицы по пользователю и по месяцу и оставим тариф у каждого пользователя, это нужно для дальнейшего анализа"
   ]
  },
  {
   "cell_type": "code",
   "execution_count": 21,
   "id": "edad350e",
   "metadata": {},
   "outputs": [
    {
     "data": {
      "text/html": [
       "<div>\n",
       "<style scoped>\n",
       "    .dataframe tbody tr th:only-of-type {\n",
       "        vertical-align: middle;\n",
       "    }\n",
       "\n",
       "    .dataframe tbody tr th {\n",
       "        vertical-align: top;\n",
       "    }\n",
       "\n",
       "    .dataframe thead th {\n",
       "        text-align: right;\n",
       "    }\n",
       "</style>\n",
       "<table border=\"1\" class=\"dataframe\">\n",
       "  <thead>\n",
       "    <tr style=\"text-align: right;\">\n",
       "      <th></th>\n",
       "      <th></th>\n",
       "      <th></th>\n",
       "      <th>duration</th>\n",
       "    </tr>\n",
       "    <tr>\n",
       "      <th>user_id</th>\n",
       "      <th>call_month</th>\n",
       "      <th>tariff</th>\n",
       "      <th></th>\n",
       "    </tr>\n",
       "  </thead>\n",
       "  <tbody>\n",
       "    <tr>\n",
       "      <th rowspan=\"5\" valign=\"top\">1000</th>\n",
       "      <th>August</th>\n",
       "      <th>ultra</th>\n",
       "      <td>408</td>\n",
       "    </tr>\n",
       "    <tr>\n",
       "      <th>December</th>\n",
       "      <th>ultra</th>\n",
       "      <td>333</td>\n",
       "    </tr>\n",
       "    <tr>\n",
       "      <th>July</th>\n",
       "      <th>ultra</th>\n",
       "      <td>340</td>\n",
       "    </tr>\n",
       "    <tr>\n",
       "      <th>June</th>\n",
       "      <th>ultra</th>\n",
       "      <td>172</td>\n",
       "    </tr>\n",
       "    <tr>\n",
       "      <th>May</th>\n",
       "      <th>ultra</th>\n",
       "      <td>159</td>\n",
       "    </tr>\n",
       "    <tr>\n",
       "      <th>...</th>\n",
       "      <th>...</th>\n",
       "      <th>...</th>\n",
       "      <td>...</td>\n",
       "    </tr>\n",
       "    <tr>\n",
       "      <th>1498</th>\n",
       "      <th>September</th>\n",
       "      <th>smart</th>\n",
       "      <td>471</td>\n",
       "    </tr>\n",
       "    <tr>\n",
       "      <th rowspan=\"4\" valign=\"top\">1499</th>\n",
       "      <th>December</th>\n",
       "      <th>smart</th>\n",
       "      <td>492</td>\n",
       "    </tr>\n",
       "    <tr>\n",
       "      <th>November</th>\n",
       "      <th>smart</th>\n",
       "      <td>612</td>\n",
       "    </tr>\n",
       "    <tr>\n",
       "      <th>October</th>\n",
       "      <th>smart</th>\n",
       "      <td>449</td>\n",
       "    </tr>\n",
       "    <tr>\n",
       "      <th>September</th>\n",
       "      <th>smart</th>\n",
       "      <td>70</td>\n",
       "    </tr>\n",
       "  </tbody>\n",
       "</table>\n",
       "<p>3174 rows × 1 columns</p>\n",
       "</div>"
      ],
      "text/plain": [
       "                           duration\n",
       "user_id call_month tariff          \n",
       "1000    August     ultra        408\n",
       "        December   ultra        333\n",
       "        July       ultra        340\n",
       "        June       ultra        172\n",
       "        May        ultra        159\n",
       "...                             ...\n",
       "1498    September  smart        471\n",
       "1499    December   smart        492\n",
       "        November   smart        612\n",
       "        October    smart        449\n",
       "        September  smart         70\n",
       "\n",
       "[3174 rows x 1 columns]"
      ]
     },
     "metadata": {},
     "output_type": "display_data"
    },
    {
     "data": {
      "text/html": [
       "<div>\n",
       "<style scoped>\n",
       "    .dataframe tbody tr th:only-of-type {\n",
       "        vertical-align: middle;\n",
       "    }\n",
       "\n",
       "    .dataframe tbody tr th {\n",
       "        vertical-align: top;\n",
       "    }\n",
       "\n",
       "    .dataframe thead th {\n",
       "        text-align: right;\n",
       "    }\n",
       "</style>\n",
       "<table border=\"1\" class=\"dataframe\">\n",
       "  <thead>\n",
       "    <tr style=\"text-align: right;\">\n",
       "      <th></th>\n",
       "      <th></th>\n",
       "      <th></th>\n",
       "      <th>mb_used</th>\n",
       "    </tr>\n",
       "    <tr>\n",
       "      <th>user_id</th>\n",
       "      <th>session_month</th>\n",
       "      <th>tariff</th>\n",
       "      <th></th>\n",
       "    </tr>\n",
       "  </thead>\n",
       "  <tbody>\n",
       "    <tr>\n",
       "      <th rowspan=\"5\" valign=\"top\">1000</th>\n",
       "      <th>August</th>\n",
       "      <th>ultra</th>\n",
       "      <td>14055.93</td>\n",
       "    </tr>\n",
       "    <tr>\n",
       "      <th>December</th>\n",
       "      <th>ultra</th>\n",
       "      <td>9817.61</td>\n",
       "    </tr>\n",
       "    <tr>\n",
       "      <th>July</th>\n",
       "      <th>ultra</th>\n",
       "      <td>14003.64</td>\n",
       "    </tr>\n",
       "    <tr>\n",
       "      <th>June</th>\n",
       "      <th>ultra</th>\n",
       "      <td>23233.77</td>\n",
       "    </tr>\n",
       "    <tr>\n",
       "      <th>May</th>\n",
       "      <th>ultra</th>\n",
       "      <td>2253.49</td>\n",
       "    </tr>\n",
       "    <tr>\n",
       "      <th>...</th>\n",
       "      <th>...</th>\n",
       "      <th>...</th>\n",
       "      <td>...</td>\n",
       "    </tr>\n",
       "    <tr>\n",
       "      <th>1498</th>\n",
       "      <th>September</th>\n",
       "      <th>smart</th>\n",
       "      <td>22134.41</td>\n",
       "    </tr>\n",
       "    <tr>\n",
       "      <th rowspan=\"4\" valign=\"top\">1499</th>\n",
       "      <th>December</th>\n",
       "      <th>smart</th>\n",
       "      <td>13055.58</td>\n",
       "    </tr>\n",
       "    <tr>\n",
       "      <th>November</th>\n",
       "      <th>smart</th>\n",
       "      <td>17963.31</td>\n",
       "    </tr>\n",
       "    <tr>\n",
       "      <th>October</th>\n",
       "      <th>smart</th>\n",
       "      <td>17788.51</td>\n",
       "    </tr>\n",
       "    <tr>\n",
       "      <th>September</th>\n",
       "      <th>smart</th>\n",
       "      <td>1845.75</td>\n",
       "    </tr>\n",
       "  </tbody>\n",
       "</table>\n",
       "<p>3203 rows × 1 columns</p>\n",
       "</div>"
      ],
      "text/plain": [
       "                               mb_used\n",
       "user_id session_month tariff          \n",
       "1000    August        ultra   14055.93\n",
       "        December      ultra    9817.61\n",
       "        July          ultra   14003.64\n",
       "        June          ultra   23233.77\n",
       "        May           ultra    2253.49\n",
       "...                                ...\n",
       "1498    September     smart   22134.41\n",
       "1499    December      smart   13055.58\n",
       "        November      smart   17963.31\n",
       "        October       smart   17788.51\n",
       "        September     smart    1845.75\n",
       "\n",
       "[3203 rows x 1 columns]"
      ]
     },
     "metadata": {},
     "output_type": "display_data"
    },
    {
     "data": {
      "text/html": [
       "<div>\n",
       "<style scoped>\n",
       "    .dataframe tbody tr th:only-of-type {\n",
       "        vertical-align: middle;\n",
       "    }\n",
       "\n",
       "    .dataframe tbody tr th {\n",
       "        vertical-align: top;\n",
       "    }\n",
       "\n",
       "    .dataframe thead th {\n",
       "        text-align: right;\n",
       "    }\n",
       "</style>\n",
       "<table border=\"1\" class=\"dataframe\">\n",
       "  <thead>\n",
       "    <tr style=\"text-align: right;\">\n",
       "      <th></th>\n",
       "      <th></th>\n",
       "      <th></th>\n",
       "      <th>message_date</th>\n",
       "    </tr>\n",
       "    <tr>\n",
       "      <th>user_id</th>\n",
       "      <th>message_month</th>\n",
       "      <th>tariff</th>\n",
       "      <th></th>\n",
       "    </tr>\n",
       "  </thead>\n",
       "  <tbody>\n",
       "    <tr>\n",
       "      <th rowspan=\"5\" valign=\"top\">1000</th>\n",
       "      <th>August</th>\n",
       "      <th>ultra</th>\n",
       "      <td>81</td>\n",
       "    </tr>\n",
       "    <tr>\n",
       "      <th>December</th>\n",
       "      <th>ultra</th>\n",
       "      <td>70</td>\n",
       "    </tr>\n",
       "    <tr>\n",
       "      <th>July</th>\n",
       "      <th>ultra</th>\n",
       "      <td>75</td>\n",
       "    </tr>\n",
       "    <tr>\n",
       "      <th>June</th>\n",
       "      <th>ultra</th>\n",
       "      <td>60</td>\n",
       "    </tr>\n",
       "    <tr>\n",
       "      <th>May</th>\n",
       "      <th>ultra</th>\n",
       "      <td>22</td>\n",
       "    </tr>\n",
       "    <tr>\n",
       "      <th>...</th>\n",
       "      <th>...</th>\n",
       "      <th>...</th>\n",
       "      <td>...</td>\n",
       "    </tr>\n",
       "    <tr>\n",
       "      <th>1498</th>\n",
       "      <th>September</th>\n",
       "      <th>smart</th>\n",
       "      <td>44</td>\n",
       "    </tr>\n",
       "    <tr>\n",
       "      <th rowspan=\"4\" valign=\"top\">1499</th>\n",
       "      <th>December</th>\n",
       "      <th>smart</th>\n",
       "      <td>66</td>\n",
       "    </tr>\n",
       "    <tr>\n",
       "      <th>November</th>\n",
       "      <th>smart</th>\n",
       "      <td>59</td>\n",
       "    </tr>\n",
       "    <tr>\n",
       "      <th>October</th>\n",
       "      <th>smart</th>\n",
       "      <td>48</td>\n",
       "    </tr>\n",
       "    <tr>\n",
       "      <th>September</th>\n",
       "      <th>smart</th>\n",
       "      <td>11</td>\n",
       "    </tr>\n",
       "  </tbody>\n",
       "</table>\n",
       "<p>2717 rows × 1 columns</p>\n",
       "</div>"
      ],
      "text/plain": [
       "                              message_date\n",
       "user_id message_month tariff              \n",
       "1000    August        ultra             81\n",
       "        December      ultra             70\n",
       "        July          ultra             75\n",
       "        June          ultra             60\n",
       "        May           ultra             22\n",
       "...                                    ...\n",
       "1498    September     smart             44\n",
       "1499    December      smart             66\n",
       "        November      smart             59\n",
       "        October       smart             48\n",
       "        September     smart             11\n",
       "\n",
       "[2717 rows x 1 columns]"
      ]
     },
     "metadata": {},
     "output_type": "display_data"
    }
   ],
   "source": [
    "users_calls_pivot = users_calls.groupby(['user_id','call_month','tariff']).sum() #Сгруппируем и расчитаем сумму по месяцу\n",
    "users_internet_pivot = users_internet.groupby(['user_id','session_month','tariff']).sum() #Сгруппируем и расчитаем сумму по месяцу\n",
    "users_messages_pivot = users_messages.groupby(['user_id','message_month','tariff']).count().drop(columns=['city']) #Сгруппируем и расчитаем сумму по месяцу\n",
    "\n",
    "display(users_calls_pivot)\n",
    "display(users_internet_pivot)\n",
    "display(users_messages_pivot)"
   ]
  },
  {
   "cell_type": "markdown",
   "id": "4d7e432d",
   "metadata": {},
   "source": [
    "Группировка проведена успешно.\n",
    "Теперь создадим результирующую таблицу."
   ]
  },
  {
   "cell_type": "code",
   "execution_count": 22,
   "id": "93765239",
   "metadata": {
    "scrolled": true
   },
   "outputs": [
    {
     "data": {
      "text/html": [
       "<div>\n",
       "<style scoped>\n",
       "    .dataframe tbody tr th:only-of-type {\n",
       "        vertical-align: middle;\n",
       "    }\n",
       "\n",
       "    .dataframe tbody tr th {\n",
       "        vertical-align: top;\n",
       "    }\n",
       "\n",
       "    .dataframe thead th {\n",
       "        text-align: right;\n",
       "    }\n",
       "</style>\n",
       "<table border=\"1\" class=\"dataframe\">\n",
       "  <thead>\n",
       "    <tr style=\"text-align: right;\">\n",
       "      <th></th>\n",
       "      <th></th>\n",
       "      <th></th>\n",
       "      <th>gb_used</th>\n",
       "      <th>message_by_month</th>\n",
       "      <th>sum_duration</th>\n",
       "    </tr>\n",
       "    <tr>\n",
       "      <th>user_id</th>\n",
       "      <th>session_month</th>\n",
       "      <th>tariff</th>\n",
       "      <th></th>\n",
       "      <th></th>\n",
       "      <th></th>\n",
       "    </tr>\n",
       "  </thead>\n",
       "  <tbody>\n",
       "    <tr>\n",
       "      <th rowspan=\"5\" valign=\"top\">1000</th>\n",
       "      <th>August</th>\n",
       "      <th>ultra</th>\n",
       "      <td>14.0</td>\n",
       "      <td>81.0</td>\n",
       "      <td>408.0</td>\n",
       "    </tr>\n",
       "    <tr>\n",
       "      <th>December</th>\n",
       "      <th>ultra</th>\n",
       "      <td>10.0</td>\n",
       "      <td>70.0</td>\n",
       "      <td>333.0</td>\n",
       "    </tr>\n",
       "    <tr>\n",
       "      <th>July</th>\n",
       "      <th>ultra</th>\n",
       "      <td>14.0</td>\n",
       "      <td>75.0</td>\n",
       "      <td>340.0</td>\n",
       "    </tr>\n",
       "    <tr>\n",
       "      <th>June</th>\n",
       "      <th>ultra</th>\n",
       "      <td>23.0</td>\n",
       "      <td>60.0</td>\n",
       "      <td>172.0</td>\n",
       "    </tr>\n",
       "    <tr>\n",
       "      <th>May</th>\n",
       "      <th>ultra</th>\n",
       "      <td>3.0</td>\n",
       "      <td>22.0</td>\n",
       "      <td>159.0</td>\n",
       "    </tr>\n",
       "    <tr>\n",
       "      <th>...</th>\n",
       "      <th>...</th>\n",
       "      <th>...</th>\n",
       "      <td>...</td>\n",
       "      <td>...</td>\n",
       "      <td>...</td>\n",
       "    </tr>\n",
       "    <tr>\n",
       "      <th rowspan=\"2\" valign=\"top\">1273</th>\n",
       "      <th>October</th>\n",
       "      <th>ultra</th>\n",
       "      <td>0.0</td>\n",
       "      <td>35.0</td>\n",
       "      <td>315.0</td>\n",
       "    </tr>\n",
       "    <tr>\n",
       "      <th>September</th>\n",
       "      <th>ultra</th>\n",
       "      <td>0.0</td>\n",
       "      <td>32.0</td>\n",
       "      <td>223.0</td>\n",
       "    </tr>\n",
       "    <tr>\n",
       "      <th>1377</th>\n",
       "      <th>February</th>\n",
       "      <th>ultra</th>\n",
       "      <td>0.0</td>\n",
       "      <td>2.0</td>\n",
       "      <td>179.0</td>\n",
       "    </tr>\n",
       "    <tr>\n",
       "      <th>1392</th>\n",
       "      <th>February</th>\n",
       "      <th>ultra</th>\n",
       "      <td>0.0</td>\n",
       "      <td>3.0</td>\n",
       "      <td>13.0</td>\n",
       "    </tr>\n",
       "    <tr>\n",
       "      <th>1446</th>\n",
       "      <th>August</th>\n",
       "      <th>smart</th>\n",
       "      <td>0.0</td>\n",
       "      <td>1.0</td>\n",
       "      <td>50.0</td>\n",
       "    </tr>\n",
       "  </tbody>\n",
       "</table>\n",
       "<p>3214 rows × 3 columns</p>\n",
       "</div>"
      ],
      "text/plain": [
       "                              gb_used  message_by_month  sum_duration\n",
       "user_id session_month tariff                                         \n",
       "1000    August        ultra      14.0              81.0         408.0\n",
       "        December      ultra      10.0              70.0         333.0\n",
       "        July          ultra      14.0              75.0         340.0\n",
       "        June          ultra      23.0              60.0         172.0\n",
       "        May           ultra       3.0              22.0         159.0\n",
       "...                               ...               ...           ...\n",
       "1273    October       ultra       0.0              35.0         315.0\n",
       "        September     ultra       0.0              32.0         223.0\n",
       "1377    February      ultra       0.0               2.0         179.0\n",
       "1392    February      ultra       0.0               3.0          13.0\n",
       "1446    August        smart       0.0               1.0          50.0\n",
       "\n",
       "[3214 rows x 3 columns]"
      ]
     },
     "metadata": {},
     "output_type": "display_data"
    }
   ],
   "source": [
    "final_pivot = users_internet_pivot.join(users_messages_pivot, on=['user_id','session_month','tariff'], how='outer') #Объединим таблицы\n",
    "final_pivot = final_pivot.join(users_calls_pivot, on=['user_id','session_month','tariff'], how='outer')  #Объединим таблицы\n",
    "final_pivot['mb_used'] = np.ceil((final_pivot['mb_used'] / 1024))  #Вместо мб округлим до гб по правилам компании\n",
    "final_pivot = final_pivot.fillna(0).rename(\n",
    "    columns={'mb_used':'gb_used','message_date':'message_by_month','duration':'sum_duration'}\n",
    ")  #Переименуем столбцы для удобства работы с ними\n",
    "display(final_pivot)  "
   ]
  },
  {
   "cell_type": "markdown",
   "id": "c7ea43da",
   "metadata": {},
   "source": [
    "Финальная таблица успешно создана. Теперь необходимо подсчитать сколько пользователь заплатил в каждый месяц использования.\n",
    "Для этого нам необходимо использовать таблицу с тарифами, однако там указаны мегабайты, вместо гигабайтов. Для удобства изменим единицы измерения."
   ]
  },
  {
   "cell_type": "code",
   "execution_count": 23,
   "id": "1d395227",
   "metadata": {
    "scrolled": true
   },
   "outputs": [
    {
     "data": {
      "text/html": [
       "<div>\n",
       "<style scoped>\n",
       "    .dataframe tbody tr th:only-of-type {\n",
       "        vertical-align: middle;\n",
       "    }\n",
       "\n",
       "    .dataframe tbody tr th {\n",
       "        vertical-align: top;\n",
       "    }\n",
       "\n",
       "    .dataframe thead th {\n",
       "        text-align: right;\n",
       "    }\n",
       "</style>\n",
       "<table border=\"1\" class=\"dataframe\">\n",
       "  <thead>\n",
       "    <tr style=\"text-align: right;\">\n",
       "      <th></th>\n",
       "      <th>messages_included</th>\n",
       "      <th>gb_per_month_included</th>\n",
       "      <th>minutes_included</th>\n",
       "      <th>rub_monthly_fee</th>\n",
       "      <th>rub_per_gb</th>\n",
       "      <th>rub_per_message</th>\n",
       "      <th>rub_per_minute</th>\n",
       "      <th>tariff_name</th>\n",
       "    </tr>\n",
       "  </thead>\n",
       "  <tbody>\n",
       "    <tr>\n",
       "      <th>0</th>\n",
       "      <td>50</td>\n",
       "      <td>15.0</td>\n",
       "      <td>500</td>\n",
       "      <td>550</td>\n",
       "      <td>200</td>\n",
       "      <td>3</td>\n",
       "      <td>3</td>\n",
       "      <td>smart</td>\n",
       "    </tr>\n",
       "    <tr>\n",
       "      <th>1</th>\n",
       "      <td>1000</td>\n",
       "      <td>30.0</td>\n",
       "      <td>3000</td>\n",
       "      <td>1950</td>\n",
       "      <td>150</td>\n",
       "      <td>1</td>\n",
       "      <td>1</td>\n",
       "      <td>ultra</td>\n",
       "    </tr>\n",
       "  </tbody>\n",
       "</table>\n",
       "</div>"
      ],
      "text/plain": [
       "   messages_included  gb_per_month_included  minutes_included  \\\n",
       "0                 50                   15.0               500   \n",
       "1               1000                   30.0              3000   \n",
       "\n",
       "   rub_monthly_fee  rub_per_gb  rub_per_message  rub_per_minute tariff_name  \n",
       "0              550         200                3               3       smart  \n",
       "1             1950         150                1               1       ultra  "
      ]
     },
     "metadata": {},
     "output_type": "display_data"
    }
   ],
   "source": [
    "tariffs['mb_per_month_included'] = tariffs['mb_per_month_included'] / 1024 #Переведем мегабайты в гигабайты\n",
    "tariffs = tariffs.rename(columns={'mb_per_month_included':'gb_per_month_included'}) #Изменим название стобца\n",
    "display(tariffs)"
   ]
  },
  {
   "cell_type": "markdown",
   "id": "17e98b37",
   "metadata": {},
   "source": [
    "Все изменения успешно проведены. Теперь расчитаем доход."
   ]
  },
  {
   "cell_type": "code",
   "execution_count": 24,
   "id": "41cb7267",
   "metadata": {
    "scrolled": true
   },
   "outputs": [
    {
     "data": {
      "text/html": [
       "<div>\n",
       "<style scoped>\n",
       "    .dataframe tbody tr th:only-of-type {\n",
       "        vertical-align: middle;\n",
       "    }\n",
       "\n",
       "    .dataframe tbody tr th {\n",
       "        vertical-align: top;\n",
       "    }\n",
       "\n",
       "    .dataframe thead th {\n",
       "        text-align: right;\n",
       "    }\n",
       "</style>\n",
       "<table border=\"1\" class=\"dataframe\">\n",
       "  <thead>\n",
       "    <tr style=\"text-align: right;\">\n",
       "      <th></th>\n",
       "      <th></th>\n",
       "      <th>tariff</th>\n",
       "      <th>gb_used</th>\n",
       "      <th>message_by_month</th>\n",
       "      <th>sum_duration</th>\n",
       "      <th>income</th>\n",
       "    </tr>\n",
       "    <tr>\n",
       "      <th>user_id</th>\n",
       "      <th>session_month</th>\n",
       "      <th></th>\n",
       "      <th></th>\n",
       "      <th></th>\n",
       "      <th></th>\n",
       "      <th></th>\n",
       "    </tr>\n",
       "  </thead>\n",
       "  <tbody>\n",
       "    <tr>\n",
       "      <th rowspan=\"5\" valign=\"top\">1000</th>\n",
       "      <th>August</th>\n",
       "      <td>ultra</td>\n",
       "      <td>14.0</td>\n",
       "      <td>81.0</td>\n",
       "      <td>408.0</td>\n",
       "      <td>1950.0</td>\n",
       "    </tr>\n",
       "    <tr>\n",
       "      <th>December</th>\n",
       "      <td>ultra</td>\n",
       "      <td>10.0</td>\n",
       "      <td>70.0</td>\n",
       "      <td>333.0</td>\n",
       "      <td>1950.0</td>\n",
       "    </tr>\n",
       "    <tr>\n",
       "      <th>July</th>\n",
       "      <td>ultra</td>\n",
       "      <td>14.0</td>\n",
       "      <td>75.0</td>\n",
       "      <td>340.0</td>\n",
       "      <td>1950.0</td>\n",
       "    </tr>\n",
       "    <tr>\n",
       "      <th>June</th>\n",
       "      <td>ultra</td>\n",
       "      <td>23.0</td>\n",
       "      <td>60.0</td>\n",
       "      <td>172.0</td>\n",
       "      <td>1950.0</td>\n",
       "    </tr>\n",
       "    <tr>\n",
       "      <th>May</th>\n",
       "      <td>ultra</td>\n",
       "      <td>3.0</td>\n",
       "      <td>22.0</td>\n",
       "      <td>159.0</td>\n",
       "      <td>1950.0</td>\n",
       "    </tr>\n",
       "    <tr>\n",
       "      <th>...</th>\n",
       "      <th>...</th>\n",
       "      <td>...</td>\n",
       "      <td>...</td>\n",
       "      <td>...</td>\n",
       "      <td>...</td>\n",
       "      <td>...</td>\n",
       "    </tr>\n",
       "    <tr>\n",
       "      <th rowspan=\"2\" valign=\"top\">1273</th>\n",
       "      <th>October</th>\n",
       "      <td>ultra</td>\n",
       "      <td>0.0</td>\n",
       "      <td>35.0</td>\n",
       "      <td>315.0</td>\n",
       "      <td>1950.0</td>\n",
       "    </tr>\n",
       "    <tr>\n",
       "      <th>September</th>\n",
       "      <td>ultra</td>\n",
       "      <td>0.0</td>\n",
       "      <td>32.0</td>\n",
       "      <td>223.0</td>\n",
       "      <td>1950.0</td>\n",
       "    </tr>\n",
       "    <tr>\n",
       "      <th>1377</th>\n",
       "      <th>February</th>\n",
       "      <td>ultra</td>\n",
       "      <td>0.0</td>\n",
       "      <td>2.0</td>\n",
       "      <td>179.0</td>\n",
       "      <td>1950.0</td>\n",
       "    </tr>\n",
       "    <tr>\n",
       "      <th>1392</th>\n",
       "      <th>February</th>\n",
       "      <td>ultra</td>\n",
       "      <td>0.0</td>\n",
       "      <td>3.0</td>\n",
       "      <td>13.0</td>\n",
       "      <td>1950.0</td>\n",
       "    </tr>\n",
       "    <tr>\n",
       "      <th>1446</th>\n",
       "      <th>August</th>\n",
       "      <td>smart</td>\n",
       "      <td>0.0</td>\n",
       "      <td>1.0</td>\n",
       "      <td>50.0</td>\n",
       "      <td>550.0</td>\n",
       "    </tr>\n",
       "  </tbody>\n",
       "</table>\n",
       "<p>3214 rows × 5 columns</p>\n",
       "</div>"
      ],
      "text/plain": [
       "                      tariff  gb_used  message_by_month  sum_duration  income\n",
       "user_id session_month                                                        \n",
       "1000    August         ultra     14.0              81.0         408.0  1950.0\n",
       "        December       ultra     10.0              70.0         333.0  1950.0\n",
       "        July           ultra     14.0              75.0         340.0  1950.0\n",
       "        June           ultra     23.0              60.0         172.0  1950.0\n",
       "        May            ultra      3.0              22.0         159.0  1950.0\n",
       "...                      ...      ...               ...           ...     ...\n",
       "1273    October        ultra      0.0              35.0         315.0  1950.0\n",
       "        September      ultra      0.0              32.0         223.0  1950.0\n",
       "1377    February       ultra      0.0               2.0         179.0  1950.0\n",
       "1392    February       ultra      0.0               3.0          13.0  1950.0\n",
       "1446    August         smart      0.0               1.0          50.0   550.0\n",
       "\n",
       "[3214 rows x 5 columns]"
      ]
     },
     "metadata": {},
     "output_type": "display_data"
    }
   ],
   "source": [
    "final_pivot = final_pivot.reset_index(level='tariff') #Подготовим индекс тариф к работе\n",
    "def user_income(user_tariff, gb, messages, duration): #Создадим функцию для расчета доходности\n",
    "    tariff_limits = tariffs.loc[tariffs['tariff_name'] == user_tariff] #Из таблицы с тарифами достанем строку с нужным тарифом\n",
    "    income_internet = (gb - tariff_limits['gb_per_month_included']) * tariff_limits['rub_per_gb'] #Расчитаем доход за перерасход интернета\n",
    "    income_internet = income_internet.where(income_internet >= 0, other=0) #Если перерасхода нет, что значение доходности будет отрицательным, приведем его к 0\n",
    "    income_messages = (messages - tariff_limits['messages_included']) * tariff_limits['rub_per_message'] #Расчитаем доход за перерасход смс\n",
    "    income_messages = income_messages.where(income_messages >= 0, other=0) #Если перерасхода нет, что значение доходности будет отрицательным, приведем его к 0\n",
    "    income_duration = (duration - tariff_limits['minutes_included']) * tariff_limits['rub_per_minute'] #Расчитаем доход за перерасход минут\n",
    "    income_duration = income_duration.where(income_duration >= 0, other=0) #Если перерасхода нет, что значение доходности будет отрицательным, приведем его к 0\n",
    "    total_income = (income_internet + income_messages + income_duration + tariff_limits['rub_monthly_fee']).reset_index(drop=True) #Расчитаем финальный доход \n",
    "    return total_income[0] #Так как по итогам мы получаем series нужно вытащить оттуда нужное нам значение в формате, который мы можем внести в таблицу\n",
    "final_pivot['income'] = final_pivot.apply(lambda x : user_income(x.tariff, x.gb_used, x.message_by_month, x.sum_duration),axis = 1) #Применим ф-цию на каждую строку таблицы\n",
    "display(final_pivot)"
   ]
  },
  {
   "cell_type": "markdown",
   "id": "a305aeb6",
   "metadata": {},
   "source": [
    "Доход расчитан успешно"
   ]
  },
  {
   "cell_type": "markdown",
   "id": "49df88fc",
   "metadata": {},
   "source": [
    "### Вывод\n",
    "\n",
    "Мы расчитали ежемесячную доходность по каждому пользователю и подготовили таблицу для дальнейшего разделения на две группы. \n",
    "С тарифом Smart и с тарифом Ultra. "
   ]
  },
  {
   "cell_type": "markdown",
   "id": "91a74be0",
   "metadata": {},
   "source": [
    "## Подготовка таблицы по каждому тарифу"
   ]
  },
  {
   "cell_type": "markdown",
   "id": "e67423dc",
   "metadata": {},
   "source": [
    "Для начала нам нужно убрать id пользователей, так как они нам больше не нужны.\n",
    "После этого выделить под каждый тариф свою таблицу и объединить значения по месяцам высчитав среднее."
   ]
  },
  {
   "cell_type": "code",
   "execution_count": 28,
   "id": "aabc5f9a",
   "metadata": {
    "scrolled": true
   },
   "outputs": [
    {
     "data": {
      "text/html": [
       "<div>\n",
       "<style scoped>\n",
       "    .dataframe tbody tr th:only-of-type {\n",
       "        vertical-align: middle;\n",
       "    }\n",
       "\n",
       "    .dataframe tbody tr th {\n",
       "        vertical-align: top;\n",
       "    }\n",
       "\n",
       "    .dataframe thead th {\n",
       "        text-align: right;\n",
       "    }\n",
       "</style>\n",
       "<table border=\"1\" class=\"dataframe\">\n",
       "  <thead>\n",
       "    <tr style=\"text-align: right;\">\n",
       "      <th></th>\n",
       "      <th>gb_used</th>\n",
       "      <th>message_by_month</th>\n",
       "      <th>sum_duration</th>\n",
       "      <th>income</th>\n",
       "    </tr>\n",
       "    <tr>\n",
       "      <th>session_month</th>\n",
       "      <th></th>\n",
       "      <th></th>\n",
       "      <th></th>\n",
       "      <th></th>\n",
       "    </tr>\n",
       "  </thead>\n",
       "  <tbody>\n",
       "    <tr>\n",
       "      <th>April</th>\n",
       "      <td>16.963636</td>\n",
       "      <td>31.563636</td>\n",
       "      <td>458.018182</td>\n",
       "      <td>2001.818182</td>\n",
       "    </tr>\n",
       "    <tr>\n",
       "      <th>August</th>\n",
       "      <td>19.598131</td>\n",
       "      <td>48.439252</td>\n",
       "      <td>510.775701</td>\n",
       "      <td>2083.177570</td>\n",
       "    </tr>\n",
       "    <tr>\n",
       "      <th>December</th>\n",
       "      <td>21.741007</td>\n",
       "      <td>60.611511</td>\n",
       "      <td>592.805755</td>\n",
       "      <td>2138.848921</td>\n",
       "    </tr>\n",
       "    <tr>\n",
       "      <th>February</th>\n",
       "      <td>12.000000</td>\n",
       "      <td>21.958333</td>\n",
       "      <td>297.125000</td>\n",
       "      <td>1975.000000</td>\n",
       "    </tr>\n",
       "    <tr>\n",
       "      <th>January</th>\n",
       "      <td>13.222222</td>\n",
       "      <td>33.777778</td>\n",
       "      <td>428.111111</td>\n",
       "      <td>1950.000000</td>\n",
       "    </tr>\n",
       "    <tr>\n",
       "      <th>July</th>\n",
       "      <td>20.505495</td>\n",
       "      <td>49.846154</td>\n",
       "      <td>545.791209</td>\n",
       "      <td>2118.131868</td>\n",
       "    </tr>\n",
       "    <tr>\n",
       "      <th>June</th>\n",
       "      <td>18.940476</td>\n",
       "      <td>41.726190</td>\n",
       "      <td>479.702381</td>\n",
       "      <td>2039.285714</td>\n",
       "    </tr>\n",
       "    <tr>\n",
       "      <th>March</th>\n",
       "      <td>17.648649</td>\n",
       "      <td>32.297297</td>\n",
       "      <td>489.648649</td>\n",
       "      <td>2014.864865</td>\n",
       "    </tr>\n",
       "    <tr>\n",
       "      <th>May</th>\n",
       "      <td>19.373134</td>\n",
       "      <td>37.850746</td>\n",
       "      <td>510.328358</td>\n",
       "      <td>2059.701493</td>\n",
       "    </tr>\n",
       "    <tr>\n",
       "      <th>November</th>\n",
       "      <td>19.805970</td>\n",
       "      <td>55.791045</td>\n",
       "      <td>541.380597</td>\n",
       "      <td>2092.164179</td>\n",
       "    </tr>\n",
       "    <tr>\n",
       "      <th>October</th>\n",
       "      <td>20.065041</td>\n",
       "      <td>58.430894</td>\n",
       "      <td>558.081301</td>\n",
       "      <td>2065.853659</td>\n",
       "    </tr>\n",
       "    <tr>\n",
       "      <th>September</th>\n",
       "      <td>19.243478</td>\n",
       "      <td>52.286957</td>\n",
       "      <td>539.443478</td>\n",
       "      <td>2024.347826</td>\n",
       "    </tr>\n",
       "  </tbody>\n",
       "</table>\n",
       "</div>"
      ],
      "text/plain": [
       "                 gb_used  message_by_month  sum_duration       income\n",
       "session_month                                                        \n",
       "April          16.963636         31.563636    458.018182  2001.818182\n",
       "August         19.598131         48.439252    510.775701  2083.177570\n",
       "December       21.741007         60.611511    592.805755  2138.848921\n",
       "February       12.000000         21.958333    297.125000  1975.000000\n",
       "January        13.222222         33.777778    428.111111  1950.000000\n",
       "July           20.505495         49.846154    545.791209  2118.131868\n",
       "June           18.940476         41.726190    479.702381  2039.285714\n",
       "March          17.648649         32.297297    489.648649  2014.864865\n",
       "May            19.373134         37.850746    510.328358  2059.701493\n",
       "November       19.805970         55.791045    541.380597  2092.164179\n",
       "October        20.065041         58.430894    558.081301  2065.853659\n",
       "September      19.243478         52.286957    539.443478  2024.347826"
      ]
     },
     "metadata": {},
     "output_type": "display_data"
    }
   ],
   "source": [
    "pivot_smart = final_pivot.loc[final_pivot['tariff'] == 'smart'].reset_index().drop(columns='user_id') #Выделим тариф Смарт в отдельную таблицу\n",
    "pivot_ultra = final_pivot.loc[final_pivot['tariff'] == 'ultra'].reset_index().drop(columns='user_id') #Выделим тариф Ультра в отдельную таблицу\n",
    "pivot_ultra_by_month = pivot_ultra.groupby('session_month').mean() #Сгруппируем по месяцу и расчитаем среднее\n",
    "display(pivot_ultra_by_month)"
   ]
  },
  {
   "cell_type": "code",
   "execution_count": 29,
   "id": "9e04d432",
   "metadata": {},
   "outputs": [
    {
     "data": {
      "text/html": [
       "<div>\n",
       "<style scoped>\n",
       "    .dataframe tbody tr th:only-of-type {\n",
       "        vertical-align: middle;\n",
       "    }\n",
       "\n",
       "    .dataframe tbody tr th {\n",
       "        vertical-align: top;\n",
       "    }\n",
       "\n",
       "    .dataframe thead th {\n",
       "        text-align: right;\n",
       "    }\n",
       "</style>\n",
       "<table border=\"1\" class=\"dataframe\">\n",
       "  <thead>\n",
       "    <tr style=\"text-align: right;\">\n",
       "      <th></th>\n",
       "      <th>session_month</th>\n",
       "      <th>tariff</th>\n",
       "      <th>gb_used</th>\n",
       "      <th>message_by_month</th>\n",
       "      <th>sum_duration</th>\n",
       "      <th>income</th>\n",
       "    </tr>\n",
       "  </thead>\n",
       "  <tbody>\n",
       "    <tr>\n",
       "      <th>0</th>\n",
       "      <td>December</td>\n",
       "      <td>smart</td>\n",
       "      <td>14.0</td>\n",
       "      <td>0.0</td>\n",
       "      <td>414.0</td>\n",
       "      <td>550.0</td>\n",
       "    </tr>\n",
       "    <tr>\n",
       "      <th>1</th>\n",
       "      <td>November</td>\n",
       "      <td>smart</td>\n",
       "      <td>18.0</td>\n",
       "      <td>0.0</td>\n",
       "      <td>430.0</td>\n",
       "      <td>1150.0</td>\n",
       "    </tr>\n",
       "    <tr>\n",
       "      <th>2</th>\n",
       "      <td>August</td>\n",
       "      <td>smart</td>\n",
       "      <td>20.0</td>\n",
       "      <td>13.0</td>\n",
       "      <td>289.0</td>\n",
       "      <td>1550.0</td>\n",
       "    </tr>\n",
       "    <tr>\n",
       "      <th>3</th>\n",
       "      <td>December</td>\n",
       "      <td>smart</td>\n",
       "      <td>18.0</td>\n",
       "      <td>12.0</td>\n",
       "      <td>236.0</td>\n",
       "      <td>1150.0</td>\n",
       "    </tr>\n",
       "    <tr>\n",
       "      <th>4</th>\n",
       "      <td>July</td>\n",
       "      <td>smart</td>\n",
       "      <td>18.0</td>\n",
       "      <td>11.0</td>\n",
       "      <td>214.0</td>\n",
       "      <td>1150.0</td>\n",
       "    </tr>\n",
       "    <tr>\n",
       "      <th>...</th>\n",
       "      <td>...</td>\n",
       "      <td>...</td>\n",
       "      <td>...</td>\n",
       "      <td>...</td>\n",
       "      <td>...</td>\n",
       "      <td>...</td>\n",
       "    </tr>\n",
       "    <tr>\n",
       "      <th>2224</th>\n",
       "      <td>December</td>\n",
       "      <td>smart</td>\n",
       "      <td>13.0</td>\n",
       "      <td>66.0</td>\n",
       "      <td>492.0</td>\n",
       "      <td>598.0</td>\n",
       "    </tr>\n",
       "    <tr>\n",
       "      <th>2225</th>\n",
       "      <td>November</td>\n",
       "      <td>smart</td>\n",
       "      <td>18.0</td>\n",
       "      <td>59.0</td>\n",
       "      <td>612.0</td>\n",
       "      <td>1513.0</td>\n",
       "    </tr>\n",
       "    <tr>\n",
       "      <th>2226</th>\n",
       "      <td>October</td>\n",
       "      <td>smart</td>\n",
       "      <td>18.0</td>\n",
       "      <td>48.0</td>\n",
       "      <td>449.0</td>\n",
       "      <td>1150.0</td>\n",
       "    </tr>\n",
       "    <tr>\n",
       "      <th>2227</th>\n",
       "      <td>September</td>\n",
       "      <td>smart</td>\n",
       "      <td>2.0</td>\n",
       "      <td>11.0</td>\n",
       "      <td>70.0</td>\n",
       "      <td>550.0</td>\n",
       "    </tr>\n",
       "    <tr>\n",
       "      <th>2228</th>\n",
       "      <td>August</td>\n",
       "      <td>smart</td>\n",
       "      <td>0.0</td>\n",
       "      <td>1.0</td>\n",
       "      <td>50.0</td>\n",
       "      <td>550.0</td>\n",
       "    </tr>\n",
       "  </tbody>\n",
       "</table>\n",
       "<p>2229 rows × 6 columns</p>\n",
       "</div>"
      ],
      "text/plain": [
       "     session_month tariff  gb_used  message_by_month  sum_duration  income\n",
       "0         December  smart     14.0               0.0         414.0   550.0\n",
       "1         November  smart     18.0               0.0         430.0  1150.0\n",
       "2           August  smart     20.0              13.0         289.0  1550.0\n",
       "3         December  smart     18.0              12.0         236.0  1150.0\n",
       "4             July  smart     18.0              11.0         214.0  1150.0\n",
       "...            ...    ...      ...               ...           ...     ...\n",
       "2224      December  smart     13.0              66.0         492.0   598.0\n",
       "2225      November  smart     18.0              59.0         612.0  1513.0\n",
       "2226       October  smart     18.0              48.0         449.0  1150.0\n",
       "2227     September  smart      2.0              11.0          70.0   550.0\n",
       "2228        August  smart      0.0               1.0          50.0   550.0\n",
       "\n",
       "[2229 rows x 6 columns]"
      ]
     },
     "metadata": {},
     "output_type": "display_data"
    }
   ],
   "source": [
    "display(pivot_smart)"
   ]
  },
  {
   "cell_type": "code",
   "execution_count": 30,
   "id": "c855072c",
   "metadata": {},
   "outputs": [
    {
     "data": {
      "text/html": [
       "<div>\n",
       "<style scoped>\n",
       "    .dataframe tbody tr th:only-of-type {\n",
       "        vertical-align: middle;\n",
       "    }\n",
       "\n",
       "    .dataframe tbody tr th {\n",
       "        vertical-align: top;\n",
       "    }\n",
       "\n",
       "    .dataframe thead th {\n",
       "        text-align: right;\n",
       "    }\n",
       "</style>\n",
       "<table border=\"1\" class=\"dataframe\">\n",
       "  <thead>\n",
       "    <tr style=\"text-align: right;\">\n",
       "      <th></th>\n",
       "      <th>gb_used</th>\n",
       "      <th>message_by_month</th>\n",
       "      <th>sum_duration</th>\n",
       "      <th>income</th>\n",
       "    </tr>\n",
       "  </thead>\n",
       "  <tbody>\n",
       "    <tr>\n",
       "      <th>January</th>\n",
       "      <td>8.735294</td>\n",
       "      <td>18.235294</td>\n",
       "      <td>203.852941</td>\n",
       "      <td>721.323529</td>\n",
       "    </tr>\n",
       "    <tr>\n",
       "      <th>February</th>\n",
       "      <td>11.844828</td>\n",
       "      <td>24.086207</td>\n",
       "      <td>298.689655</td>\n",
       "      <td>827.603448</td>\n",
       "    </tr>\n",
       "    <tr>\n",
       "      <th>March</th>\n",
       "      <td>15.233766</td>\n",
       "      <td>31.857143</td>\n",
       "      <td>390.051948</td>\n",
       "      <td>1164.623377</td>\n",
       "    </tr>\n",
       "    <tr>\n",
       "      <th>April</th>\n",
       "      <td>13.625000</td>\n",
       "      <td>30.741071</td>\n",
       "      <td>367.133929</td>\n",
       "      <td>963.089286</td>\n",
       "    </tr>\n",
       "    <tr>\n",
       "      <th>May</th>\n",
       "      <td>15.907801</td>\n",
       "      <td>33.773050</td>\n",
       "      <td>387.361702</td>\n",
       "      <td>1197.510638</td>\n",
       "    </tr>\n",
       "    <tr>\n",
       "      <th>June</th>\n",
       "      <td>15.951220</td>\n",
       "      <td>33.402439</td>\n",
       "      <td>395.640244</td>\n",
       "      <td>1204.018293</td>\n",
       "    </tr>\n",
       "    <tr>\n",
       "      <th>July</th>\n",
       "      <td>15.875622</td>\n",
       "      <td>33.751244</td>\n",
       "      <td>408.353234</td>\n",
       "      <td>1223.950249</td>\n",
       "    </tr>\n",
       "    <tr>\n",
       "      <th>August</th>\n",
       "      <td>16.736170</td>\n",
       "      <td>33.638298</td>\n",
       "      <td>421.468085</td>\n",
       "      <td>1320.595745</td>\n",
       "    </tr>\n",
       "    <tr>\n",
       "      <th>September</th>\n",
       "      <td>16.392308</td>\n",
       "      <td>33.638462</td>\n",
       "      <td>428.611538</td>\n",
       "      <td>1249.946154</td>\n",
       "    </tr>\n",
       "    <tr>\n",
       "      <th>October</th>\n",
       "      <td>16.880952</td>\n",
       "      <td>33.765306</td>\n",
       "      <td>426.136054</td>\n",
       "      <td>1364.853741</td>\n",
       "    </tr>\n",
       "    <tr>\n",
       "      <th>November</th>\n",
       "      <td>17.000000</td>\n",
       "      <td>34.075949</td>\n",
       "      <td>435.265823</td>\n",
       "      <td>1343.047468</td>\n",
       "    </tr>\n",
       "    <tr>\n",
       "      <th>December</th>\n",
       "      <td>18.201780</td>\n",
       "      <td>35.994065</td>\n",
       "      <td>478.560831</td>\n",
       "      <td>1578.531157</td>\n",
       "    </tr>\n",
       "  </tbody>\n",
       "</table>\n",
       "</div>"
      ],
      "text/plain": [
       "             gb_used  message_by_month  sum_duration       income\n",
       "January     8.735294         18.235294    203.852941   721.323529\n",
       "February   11.844828         24.086207    298.689655   827.603448\n",
       "March      15.233766         31.857143    390.051948  1164.623377\n",
       "April      13.625000         30.741071    367.133929   963.089286\n",
       "May        15.907801         33.773050    387.361702  1197.510638\n",
       "June       15.951220         33.402439    395.640244  1204.018293\n",
       "July       15.875622         33.751244    408.353234  1223.950249\n",
       "August     16.736170         33.638298    421.468085  1320.595745\n",
       "September  16.392308         33.638462    428.611538  1249.946154\n",
       "October    16.880952         33.765306    426.136054  1364.853741\n",
       "November   17.000000         34.075949    435.265823  1343.047468\n",
       "December   18.201780         35.994065    478.560831  1578.531157"
      ]
     },
     "metadata": {},
     "output_type": "display_data"
    },
    {
     "data": {
      "text/html": [
       "<div>\n",
       "<style scoped>\n",
       "    .dataframe tbody tr th:only-of-type {\n",
       "        vertical-align: middle;\n",
       "    }\n",
       "\n",
       "    .dataframe tbody tr th {\n",
       "        vertical-align: top;\n",
       "    }\n",
       "\n",
       "    .dataframe thead th {\n",
       "        text-align: right;\n",
       "    }\n",
       "</style>\n",
       "<table border=\"1\" class=\"dataframe\">\n",
       "  <thead>\n",
       "    <tr style=\"text-align: right;\">\n",
       "      <th></th>\n",
       "      <th>gb_used</th>\n",
       "      <th>message_by_month</th>\n",
       "      <th>sum_duration</th>\n",
       "      <th>income</th>\n",
       "    </tr>\n",
       "  </thead>\n",
       "  <tbody>\n",
       "    <tr>\n",
       "      <th>January</th>\n",
       "      <td>13.222222</td>\n",
       "      <td>33.777778</td>\n",
       "      <td>428.111111</td>\n",
       "      <td>1950.000000</td>\n",
       "    </tr>\n",
       "    <tr>\n",
       "      <th>February</th>\n",
       "      <td>12.000000</td>\n",
       "      <td>21.958333</td>\n",
       "      <td>297.125000</td>\n",
       "      <td>1975.000000</td>\n",
       "    </tr>\n",
       "    <tr>\n",
       "      <th>March</th>\n",
       "      <td>17.648649</td>\n",
       "      <td>32.297297</td>\n",
       "      <td>489.648649</td>\n",
       "      <td>2014.864865</td>\n",
       "    </tr>\n",
       "    <tr>\n",
       "      <th>April</th>\n",
       "      <td>16.963636</td>\n",
       "      <td>31.563636</td>\n",
       "      <td>458.018182</td>\n",
       "      <td>2001.818182</td>\n",
       "    </tr>\n",
       "    <tr>\n",
       "      <th>May</th>\n",
       "      <td>19.373134</td>\n",
       "      <td>37.850746</td>\n",
       "      <td>510.328358</td>\n",
       "      <td>2059.701493</td>\n",
       "    </tr>\n",
       "    <tr>\n",
       "      <th>June</th>\n",
       "      <td>18.940476</td>\n",
       "      <td>41.726190</td>\n",
       "      <td>479.702381</td>\n",
       "      <td>2039.285714</td>\n",
       "    </tr>\n",
       "    <tr>\n",
       "      <th>July</th>\n",
       "      <td>20.505495</td>\n",
       "      <td>49.846154</td>\n",
       "      <td>545.791209</td>\n",
       "      <td>2118.131868</td>\n",
       "    </tr>\n",
       "    <tr>\n",
       "      <th>August</th>\n",
       "      <td>19.598131</td>\n",
       "      <td>48.439252</td>\n",
       "      <td>510.775701</td>\n",
       "      <td>2083.177570</td>\n",
       "    </tr>\n",
       "    <tr>\n",
       "      <th>September</th>\n",
       "      <td>19.243478</td>\n",
       "      <td>52.286957</td>\n",
       "      <td>539.443478</td>\n",
       "      <td>2024.347826</td>\n",
       "    </tr>\n",
       "    <tr>\n",
       "      <th>October</th>\n",
       "      <td>20.065041</td>\n",
       "      <td>58.430894</td>\n",
       "      <td>558.081301</td>\n",
       "      <td>2065.853659</td>\n",
       "    </tr>\n",
       "    <tr>\n",
       "      <th>November</th>\n",
       "      <td>19.805970</td>\n",
       "      <td>55.791045</td>\n",
       "      <td>541.380597</td>\n",
       "      <td>2092.164179</td>\n",
       "    </tr>\n",
       "    <tr>\n",
       "      <th>December</th>\n",
       "      <td>21.741007</td>\n",
       "      <td>60.611511</td>\n",
       "      <td>592.805755</td>\n",
       "      <td>2138.848921</td>\n",
       "    </tr>\n",
       "  </tbody>\n",
       "</table>\n",
       "</div>"
      ],
      "text/plain": [
       "             gb_used  message_by_month  sum_duration       income\n",
       "January    13.222222         33.777778    428.111111  1950.000000\n",
       "February   12.000000         21.958333    297.125000  1975.000000\n",
       "March      17.648649         32.297297    489.648649  2014.864865\n",
       "April      16.963636         31.563636    458.018182  2001.818182\n",
       "May        19.373134         37.850746    510.328358  2059.701493\n",
       "June       18.940476         41.726190    479.702381  2039.285714\n",
       "July       20.505495         49.846154    545.791209  2118.131868\n",
       "August     19.598131         48.439252    510.775701  2083.177570\n",
       "September  19.243478         52.286957    539.443478  2024.347826\n",
       "October    20.065041         58.430894    558.081301  2065.853659\n",
       "November   19.805970         55.791045    541.380597  2092.164179\n",
       "December   21.741007         60.611511    592.805755  2138.848921"
      ]
     },
     "metadata": {},
     "output_type": "display_data"
    }
   ],
   "source": [
    "months = [\"January\", \"February\", \"March\", \"April\", \"May\", \"June\", \n",
    "          \"July\", \"August\", \"September\", \"October\", \"November\", \"December\"]\n",
    "pivot_smart_by_month = pivot_smart.groupby('session_month').mean() #Сгруппируем по месяцу и расчитаем среднее\n",
    "pivot_smart_by_month.index = pd.Categorical(pivot_smart_by_month.index, categories=months, ordered=True) #В индексе сделаем категоральное значение в определенным порядком\n",
    "pivot_smart_by_month = pivot_smart_by_month.sort_index() #Отсортируем индекс\n",
    "display(pivot_smart_by_month)\n",
    "pivot_ultra_by_month = pivot_ultra.groupby('session_month').mean() #Сгруппируем по месяцу и расчитаем среднее\n",
    "pivot_ultra_by_month.index = pd.Categorical(pivot_ultra_by_month.index, categories=months, ordered=True) #В индексе сделаем категоральное значение в определенным порядком\n",
    "pivot_ultra_by_month = pivot_ultra_by_month.sort_index() #Отсортируем индекс\n",
    "display(pivot_ultra_by_month)"
   ]
  },
  {
   "cell_type": "markdown",
   "id": "cf654b16",
   "metadata": {},
   "source": [
    "### Тариф Смарт активность пользователей по месяцам"
   ]
  },
  {
   "cell_type": "markdown",
   "id": "3d0cb242",
   "metadata": {},
   "source": [
    "Теперь мы можем говорить, сколько в среднем тафика, минут разговора и смс тратит пользователь в месяц. \n",
    "Однако для удобства нужно визуализировать эти значения"
   ]
  },
  {
   "cell_type": "code",
   "execution_count": 32,
   "id": "28055b05",
   "metadata": {
    "scrolled": false
   },
   "outputs": [
    {
     "data": {
      "image/png": "[encoded data removed]",
      "text/plain": [
       "<Figure size 1224x576 with 1 Axes>"
      ]
     },
     "metadata": {},
     "output_type": "display_data"
    }
   ],
   "source": [
    "pivot_smart_by_month.plot.bar(y='gb_used',title='Интернет трафик. Тариф Смарт', grid=True) #Построим столбчатую диаграмму\n",
    "plt.xlabel('Месяц')\n",
    "plt.ylabel('Количество трафика')\n",
    "plt.show()"
   ]
  },
  {
   "cell_type": "markdown",
   "id": "1855574f",
   "metadata": {},
   "source": [
    "Пользователь тарифа смарт тратит меньше всего трафика всего в январе, а больше всего в декабре."
   ]
  },
  {
   "cell_type": "code",
   "execution_count": 34,
   "id": "516acc0e",
   "metadata": {},
   "outputs": [
    {
     "data": {
      "image/png": "[encoded data removed]",
      "text/plain": [
       "<Figure size 1224x576 with 1 Axes>"
      ]
     },
     "metadata": {},
     "output_type": "display_data"
    }
   ],
   "source": [
    "pivot_smart_by_month.plot.bar(y='message_by_month',title='СМС. Тариф Смарт', grid=True) #Построим столбчатую диаграмму\n",
    "plt.xlabel('Месяц')\n",
    "plt.ylabel('Количество смс')\n",
    "plt.show()"
   ]
  },
  {
   "cell_type": "markdown",
   "id": "0b99aa4b",
   "metadata": {},
   "source": [
    "Самый большой расход смс в тарифе смарт в декабре, а наименьший в январе."
   ]
  },
  {
   "cell_type": "code",
   "execution_count": 36,
   "id": "11c93283",
   "metadata": {
    "scrolled": true
   },
   "outputs": [
    {
     "data": {
      "image/png": "[encoded data removed]",
      "text/plain": [
       "<Figure size 1224x576 with 1 Axes>"
      ]
     },
     "metadata": {},
     "output_type": "display_data"
    }
   ],
   "source": [
    "pivot_smart_by_month.plot.bar(y='sum_duration',title='Звонки. Тариф Смарт', grid=True)#Построим столбчатую диаграмму\n",
    "plt.xlabel('Месяц')\n",
    "plt.ylabel('Количество минут')\n",
    "plt.show()"
   ]
  },
  {
   "cell_type": "markdown",
   "id": "cd003c6e",
   "metadata": {},
   "source": [
    "Больше всего звонят в декабре, а меньше всего в январе."
   ]
  },
  {
   "cell_type": "markdown",
   "id": "f89395ea",
   "metadata": {},
   "source": [
    "#### Вывод\n",
    "\n",
    "Наибольшая активность пользователя тарифа смарт в декабре, что логично, так как ищутся подарки, места для празднования, ищутся видеорецепты, множество звонков и смс в которых люди планируют то, как будут проводить новый год и январские праздники.\n",
    "\n",
    "Наименьшая активность в январе. Это связанно с тем, что люди отдыхают от посленовогодней суеты, чаще общаются в живую на праздниках. Деловая активность в январе так же снижена. Февраль так же месяц слабый по активности, это связано с тем, что активность пользователей только начинает восстанавливаться после января. "
   ]
  },
  {
   "cell_type": "markdown",
   "id": "6a140673",
   "metadata": {},
   "source": [
    "### Тариф Ультра активность пользователей по месяцам"
   ]
  },
  {
   "cell_type": "code",
   "execution_count": 37,
   "id": "98ad0719",
   "metadata": {},
   "outputs": [
    {
     "data": {
      "text/plain": [
       "<AxesSubplot:title={'center':'Интернет трафик. Тариф Ультра'}>"
      ]
     },
     "execution_count": 37,
     "metadata": {},
     "output_type": "execute_result"
    },
    {
     "data": {
      "image/png": "[encoded data removed]",
      "text/plain": [
       "<Figure size 1224x576 with 1 Axes>"
      ]
     },
     "metadata": {},
     "output_type": "display_data"
    }
   ],
   "source": [
    "pivot_ultra_by_month.plot.bar(y='gb_used',title='Интернет трафик. Тариф Ультра', grid=True) #Построим столбчатую диаграмму\n",
    "plt.xlabel('Месяц')\n",
    "plt.ylabel('Количество трафика')\n",
    "plt.show()"
   ]
  },
  {
   "cell_type": "markdown",
   "id": "dd428c5f",
   "metadata": {},
   "source": [
    "Наименьший расход трафика в феврале и январе, а наибольший в декабре."
   ]
  },
  {
   "cell_type": "code",
   "execution_count": 38,
   "id": "ed80aace",
   "metadata": {
    "scrolled": true
   },
   "outputs": [
    {
     "data": {
      "image/png": "[encoded data removed]",
      "text/plain": [
       "<Figure size 1224x576 with 1 Axes>"
      ]
     },
     "metadata": {},
     "output_type": "display_data"
    }
   ],
   "source": [
    "pivot_ultra_by_month.plot.bar(y='message_by_month',title='СМС. Тариф Ультра', grid=True) #Построим столбчатую диаграмму\n",
    "plt.xlabel('Месяц')\n",
    "plt.ylabel('Количество смс')\n",
    "plt.show()"
   ]
  },
  {
   "cell_type": "markdown",
   "id": "fa2ca80c",
   "metadata": {},
   "source": [
    "Наименьший расход смс в феврале, а наибольший в декабре."
   ]
  },
  {
   "cell_type": "code",
   "execution_count": 39,
   "id": "05b1e373",
   "metadata": {
    "scrolled": true
   },
   "outputs": [
    {
     "data": {
      "image/png": "[encoded data removed]",
      "text/plain": [
       "<Figure size 1224x576 with 1 Axes>"
      ]
     },
     "metadata": {},
     "output_type": "display_data"
    }
   ],
   "source": [
    "pivot_ultra_by_month.plot.bar(y='sum_duration',title='Звонки. Тариф Ультра', grid=True) #Построим столбчатую диаграмму\n",
    "plt.xlabel('Месяц')\n",
    "plt.ylabel('Количество минут')\n",
    "plt.show()"
   ]
  },
  {
   "cell_type": "markdown",
   "id": "d9f6774d",
   "metadata": {},
   "source": [
    "Наименьший расход минут в феврале, а наибольший в декабре."
   ]
  },
  {
   "cell_type": "markdown",
   "id": "553af806",
   "metadata": {},
   "source": [
    "#### Вывод\n",
    "\n",
    "Мы можем сделать вывод, что наименьшая активность пользователей тарифа Ультра в феврале, а наибольшая в декабре.\n",
    "Как было сказано для тарифа смарт, повышенная активность декабря связанна с предновогодней суетой, планированием, подбором подарков, повышенной деловой активностью.\n",
    "\n",
    "Однако как можно заметить, различие с тарифом смарт состоит в том, что у пользователей ультра большее падение наблюдается в феврале, а не январе.\n",
    "Необходимо поднимать ЦА по тарифам, чтобы сделать правильный вывод касательно данного факта."
   ]
  },
  {
   "cell_type": "markdown",
   "id": "efe32f28",
   "metadata": {},
   "source": [
    "### Тарифы, оценка распределения, статистические параметры "
   ]
  },
  {
   "cell_type": "code",
   "execution_count": 42,
   "id": "56749a30",
   "metadata": {
    "scrolled": false
   },
   "outputs": [
    {
     "data": {
      "image/png": "[encoded data removed]",
      "text/plain": [
       "<Figure size 720x432 with 1 Axes>"
      ]
     },
     "metadata": {},
     "output_type": "display_data"
    },
    {
     "data": {
      "image/png": "[encoded data removed]",
      "text/plain": [
       "<Figure size 720x432 with 1 Axes>"
      ]
     },
     "metadata": {},
     "output_type": "display_data"
    },
    {
     "data": {
      "image/png": "[encoded data removed]",
      "text/plain": [
       "<Figure size 720x432 with 1 Axes>"
      ]
     },
     "metadata": {},
     "output_type": "display_data"
    }
   ],
   "source": [
    "pivot_smart.hist(column='gb_used', bins=10, figsize=(10,6)) #Построим гистограмму для тарифа смарт\n",
    "plt.title('Распределение трафика. Тариф Смарт')\n",
    "plt.ylabel('Количество трафика')\n",
    "plt.show()\n",
    "pivot_smart.hist(column='sum_duration', bins=50, figsize=(10,6)) #Построим гистограмму для тарифа смарт\n",
    "plt.title('Распределение минут. Тариф Смарт')\n",
    "plt.ylabel('Количество минут')\n",
    "plt.show()\n",
    "pivot_smart.hist(column='message_by_month', bins=10, figsize=(10,6)) #Построим гистограмму для тарифа смарт\n",
    "plt.title('Распределеие смс. Тариф Смарт')\n",
    "plt.ylabel('Количество смс')\n",
    "plt.show()"
   ]
  },
  {
   "cell_type": "markdown",
   "id": "655820e7",
   "metadata": {},
   "source": [
    "Оценив гистограммы тарифа Смарт, мы можем сделать следующий вывод. \n",
    "- Расход трафика распределен нормально\n",
    "- Расход минут распреден нормально\n",
    "- Смс распределены согласно распределению пуасонна, так как факт `смс отправлено` это биномиальное распределение."
   ]
  },
  {
   "cell_type": "code",
   "execution_count": 43,
   "id": "956159dd",
   "metadata": {
    "scrolled": false
   },
   "outputs": [
    {
     "data": {
      "image/png": "[encoded data removed]",
      "text/plain": [
       "<Figure size 720x432 with 1 Axes>"
      ]
     },
     "metadata": {},
     "output_type": "display_data"
    },
    {
     "data": {
      "image/png": "[encoded data removed]",
      "text/plain": [
       "<Figure size 720x432 with 1 Axes>"
      ]
     },
     "metadata": {},
     "output_type": "display_data"
    },
    {
     "data": {
      "image/png": "[encoded data removed]",
      "text/plain": [
       "<Figure size 720x432 with 1 Axes>"
      ]
     },
     "metadata": {},
     "output_type": "display_data"
    }
   ],
   "source": [
    "pivot_ultra.hist(column='gb_used', bins=10, figsize=(10,6)) #Построим гистограмму для тарифа ультра\n",
    "plt.title('Распределение трафика. Тариф Ультра')\n",
    "plt.ylabel('Количество трафика')\n",
    "plt.show()\n",
    "pivot_ultra.hist(column='sum_duration', bins=40, figsize=(10,6)) #Построим гистограмму для тарифа ультра\n",
    "plt.title('Распределение минут. Тариф Ультра')\n",
    "plt.ylabel('Количество минут')\n",
    "plt.show()\n",
    "pivot_ultra.hist(column='message_by_month', bins=20, figsize=(10,6)) #Построим гистограмму для тарифа ультра\n",
    "plt.title('Распределеие смс. Тариф Ультра')\n",
    "plt.ylabel('Количество смс')\n",
    "plt.show()"
   ]
  },
  {
   "cell_type": "markdown",
   "id": "b107dc96",
   "metadata": {},
   "source": [
    "Оценив гистограммы тарифа Ультра, мы можем сделать следующий вывод. \n",
    "- Расход трафика распределен нормально\n",
    "- Расход минут распреден нормально, кроме большого числа звонков равных нулю. Это важная информация, так как 0 в звонке значит то, что неудалось соединиться и таких звонком много в тарифе Ультра. Возможно стоит детально погрузиться в то, что значит 0 в данном случае.\n",
    "- Смс распределены согласно распределению пуасонна, так как факт `смс отправлено` это биномиальное распределение."
   ]
  },
  {
   "cell_type": "markdown",
   "id": "8032d419",
   "metadata": {},
   "source": [
    "Расчитаем дисперсию и среднеквадратичное отклонение для каждого столбца в каждом тарифе"
   ]
  },
  {
   "cell_type": "code",
   "execution_count": 44,
   "id": "29ed76d6",
   "metadata": {
    "scrolled": true
   },
   "outputs": [
    {
     "data": {
      "text/html": [
       "<div>\n",
       "<style scoped>\n",
       "    .dataframe tbody tr th:only-of-type {\n",
       "        vertical-align: middle;\n",
       "    }\n",
       "\n",
       "    .dataframe tbody tr th {\n",
       "        vertical-align: top;\n",
       "    }\n",
       "\n",
       "    .dataframe thead th {\n",
       "        text-align: right;\n",
       "    }\n",
       "</style>\n",
       "<table border=\"1\" class=\"dataframe\">\n",
       "  <thead>\n",
       "    <tr style=\"text-align: right;\">\n",
       "      <th></th>\n",
       "      <th>stat_smart</th>\n",
       "      <th>income</th>\n",
       "      <th>traffic</th>\n",
       "      <th>duration_calls</th>\n",
       "      <th>messages</th>\n",
       "    </tr>\n",
       "  </thead>\n",
       "  <tbody>\n",
       "    <tr>\n",
       "      <th>0</th>\n",
       "      <td>variance</td>\n",
       "      <td>669785.71</td>\n",
       "      <td>33.03</td>\n",
       "      <td>36219.32</td>\n",
       "      <td>796.81</td>\n",
       "    </tr>\n",
       "    <tr>\n",
       "      <th>1</th>\n",
       "      <td>std</td>\n",
       "      <td>818.40</td>\n",
       "      <td>5.75</td>\n",
       "      <td>190.31</td>\n",
       "      <td>28.23</td>\n",
       "    </tr>\n",
       "  </tbody>\n",
       "</table>\n",
       "</div>"
      ],
      "text/plain": [
       "  stat_smart     income  traffic  duration_calls  messages\n",
       "0   variance  669785.71    33.03        36219.32    796.81\n",
       "1        std     818.40     5.75          190.31     28.23"
      ]
     },
     "metadata": {},
     "output_type": "display_data"
    }
   ],
   "source": [
    "stat_smart = pd.DataFrame({'stat_smart':['variance', 'std'],\n",
    "                           'income': [pivot_smart['income'].var(),  pivot_smart['income'].std()],\n",
    "                           'traffic': [pivot_smart['gb_used'].var(), pivot_smart['gb_used'].std()],\n",
    "                           'duration_calls': [pivot_smart['sum_duration'].var(), pivot_smart['sum_duration'].std()],\n",
    "                           'messages': [pivot_smart['message_by_month'].var(), pivot_smart['message_by_month'].std()]\n",
    "                            }).round(2) #Построим датафрейм для удобного отображения, где с помощью встроенных методов расчитаем дисперсию и отклонение\n",
    "display(stat_smart)"
   ]
  },
  {
   "cell_type": "code",
   "execution_count": 45,
   "id": "00d246f2",
   "metadata": {
    "scrolled": true
   },
   "outputs": [
    {
     "data": {
      "text/html": [
       "<div>\n",
       "<style scoped>\n",
       "    .dataframe tbody tr th:only-of-type {\n",
       "        vertical-align: middle;\n",
       "    }\n",
       "\n",
       "    .dataframe tbody tr th {\n",
       "        vertical-align: top;\n",
       "    }\n",
       "\n",
       "    .dataframe thead th {\n",
       "        text-align: right;\n",
       "    }\n",
       "</style>\n",
       "<table border=\"1\" class=\"dataframe\">\n",
       "  <thead>\n",
       "    <tr style=\"text-align: right;\">\n",
       "      <th></th>\n",
       "      <th>stat_ultra</th>\n",
       "      <th>income</th>\n",
       "      <th>traffic</th>\n",
       "      <th>duration_calls</th>\n",
       "      <th>messages</th>\n",
       "    </tr>\n",
       "  </thead>\n",
       "  <tbody>\n",
       "    <tr>\n",
       "      <th>0</th>\n",
       "      <td>variance</td>\n",
       "      <td>141516.75</td>\n",
       "      <td>97.09</td>\n",
       "      <td>100873.63</td>\n",
       "      <td>2285.27</td>\n",
       "    </tr>\n",
       "    <tr>\n",
       "      <th>1</th>\n",
       "      <td>std</td>\n",
       "      <td>376.19</td>\n",
       "      <td>9.85</td>\n",
       "      <td>317.61</td>\n",
       "      <td>47.80</td>\n",
       "    </tr>\n",
       "  </tbody>\n",
       "</table>\n",
       "</div>"
      ],
      "text/plain": [
       "  stat_ultra     income  traffic  duration_calls  messages\n",
       "0   variance  141516.75    97.09       100873.63   2285.27\n",
       "1        std     376.19     9.85          317.61     47.80"
      ]
     },
     "metadata": {},
     "output_type": "display_data"
    }
   ],
   "source": [
    "stat_ultra = pd.DataFrame({'stat_ultra':['variance', 'std'],\n",
    "                           'income': [pivot_ultra['income'].var(),  pivot_ultra['income'].std()],\n",
    "                           'traffic': [pivot_ultra['gb_used'].var(), pivot_ultra['gb_used'].std()],\n",
    "                           'duration_calls': [pivot_ultra['sum_duration'].var(), pivot_ultra['sum_duration'].std()],\n",
    "                           'messages': [pivot_ultra['message_by_month'].var(), pivot_ultra['message_by_month'].std()]\n",
    "                            }).round(2)  #Построим датафрейм для удобного отображения, где с помощью встроенных методов расчитаем дисперсию и отклонение\n",
    "display(stat_ultra)"
   ]
  },
  {
   "cell_type": "markdown",
   "id": "3cfbbe58",
   "metadata": {},
   "source": [
    "#### Вывод\n",
    "Как мы видим у двух выборочных совокупностей дисперсии не равны, это нужно учесть для дальнейшей проверки гипотез."
   ]
  },
  {
   "cell_type": "markdown",
   "id": "40bc30b1",
   "metadata": {},
   "source": [
    "### Общий вывод\n",
    "Все столбцы распределены нормально, однако обратить внимание на большое число 0 в длительности звонка в тарифе Ультра.\n",
    "Данный показатель может быть важен для оценки довольства и удержания доходных клиентов.\n",
    "Дисперсии у данных выборок не равны, это значит что нужно учесть это при проведении t-теста"
   ]
  },
  {
   "cell_type": "markdown",
   "id": "507dc4c5",
   "metadata": {},
   "source": [
    "### Гипотеза: средняя выручка пользователей тарифов «Ультра» и «Смарт» различаются. \n",
    "**Нулевая гипотеза.** Средняя выручка пользователей тарифов Ультра и Смарт не различаются. Т.е генеральная совокупность тарифа Ультра равна генеральной совокупности Тарифа Смарт\n",
    "- Данная гипотеза принята нулевой, для удоства проведения t теста о равенстве генеральных совокупностей\n",
    "\n",
    "**Альтернативная гипотеза.** Средняя выручка пользователей тарифов Ультра и Смарт различаются. Т.е генеральная совокупность тарифа Ультра не равна генеральной совокупности Тарифа Смарт\n",
    "- Мы приняли данную гипотезу за альтернативную, так как она является обратной для нашей гипотезы. Так как если оно будет принято верным, мы отбросим нулевую гипотезу.\n",
    "\n",
    "Коэфф значимости мы примем за 5%\n",
    "\n",
    "Стоит учитывать, что дисперии не равны, при проведении t теста о равенстве двух генеральных совокупностей."
   ]
  },
  {
   "cell_type": "code",
   "execution_count": 46,
   "id": "32b083be",
   "metadata": {},
   "outputs": [
    {
     "name": "stdout",
     "output_type": "stream",
     "text": [
      "p-значение: 4.2606313931076085e-250\n",
      "Отвергаем нулевую гипотезу\n"
     ]
    }
   ],
   "source": [
    "alpha = 0.05 # Задаем коэфф значимости\n",
    "\n",
    "results = st.ttest_ind(pivot_smart['income'], pivot_ultra['income'], equal_var = False) # Проводим t тест о равенстве генеральных совокупностей\n",
    "print('p-значение:', results.pvalue)\n",
    "\n",
    "if results.pvalue < alpha:\n",
    "    print(\"Отвергаем нулевую гипотезу\")\n",
    "else:\n",
    "    print(\"Не получилось отвергнуть нулевую гипотезу\")"
   ]
  },
  {
   "cell_type": "markdown",
   "id": "aea80306",
   "metadata": {},
   "source": [
    "#### Вывод\n",
    "\n",
    "Мы отвегаем нулевую гипотезу, что означает, что мы считаем, что средняя выручка пользователей тарифов Ультра и Смарт различаются."
   ]
  },
  {
   "cell_type": "markdown",
   "id": "722adaca",
   "metadata": {},
   "source": [
    "### Гипотеза: Средняя выручка пользователей из Москвы отличается от выручки пользователей из других регионов.\n",
    "\n",
    "**Нулевая гипотеза.** Средняя выручка пользователей из Москвы и регионов не различаются. Т.е генеральная совокупность Москвы равна генеральной совокупности Регионов\n",
    "- Данная гипотеза принята нулевой, для удоства проведения t теста о равенстве генеральных совокупностей\n",
    "\n",
    "**Альтернативная гипотеза.** Средняя выручка пользователей из Москвы и регионов различаются. Т.е генеральная совокупность Москвы не равна генеральной совокупности Регионов\n",
    "- Мы приняли данную гипотезу за альтернативную, так как она является обратной для нашей гипотезы. Так как если оно будет принято верным, мы отбросим нулевую гипотезу.\n",
    "\n",
    "Коэфф значимости мы примем за 5%\n",
    "\n",
    "Для начала нам нужно построить две выборки по городам."
   ]
  },
  {
   "cell_type": "code",
   "execution_count": 48,
   "id": "a75969f8",
   "metadata": {
    "scrolled": true
   },
   "outputs": [],
   "source": [
    "users_calls_pivot_city = users_calls.groupby(['user_id','call_month','tariff','city']).sum() #Сгруппируем с указанием города\n",
    "users_internet_pivot_city = users_internet.groupby(['user_id','session_month','tariff','city']).sum() #Сгруппируем с указанием города\n",
    "users_messages_pivot_city = users_messages.groupby(['user_id','message_month','tariff','city']).count() #Сгруппируем с указанием города\n",
    "final_pivot_city = users_internet_pivot_city.join(users_messages_pivot_city, on=['user_id','session_month','tariff','city'], how='left') #Объединим сгруппированные таблицы\n",
    "final_pivot_city = final_pivot_city.join(users_calls_pivot_city, on=['user_id','session_month','tariff','city'], how='left') #Объединим сгруппированные таблицы\n",
    "final_pivot_city['mb_used'] = np.ceil((final_pivot_city['mb_used'] / 1024)) #Переведем мб в гб и округлим вверх\n",
    "final_pivot_city = final_pivot_city.fillna(0).rename(\n",
    "    columns={'mb_used':'gb_used','message_date':'message_by_month','duration':'sum_duration'} #Переименуем стобцы для удобства\n",
    ")\n",
    "final_pivot_city = final_pivot_city.reset_index(level=['city','tariff','user_id']) #Оставим в индексе только месяца\n",
    "\n",
    "final_pivot_city['income'] = final_pivot_city.apply(lambda x : user_income(x.tariff, x.gb_used, x.message_by_month, x.sum_duration),axis = 1) #Расчитаем доходность по месяцам по пользователю\n",
    "pivot_moscow = final_pivot_city.loc[final_pivot_city['city'] == 'Москва'] #Создадим таблицу с абонентами из Москвы\n",
    "pivot_other = final_pivot_city.loc[final_pivot_city['city'] != 'Москва'] #Создадим таблицу с абонентами из регионов"
   ]
  },
  {
   "cell_type": "markdown",
   "id": "d5dc4d1c",
   "metadata": {},
   "source": [
    "Отобразим полученные таблицы"
   ]
  },
  {
   "cell_type": "code",
   "execution_count": 49,
   "id": "23bf2600",
   "metadata": {
    "scrolled": true
   },
   "outputs": [
    {
     "data": {
      "text/html": [
       "<div>\n",
       "<style scoped>\n",
       "    .dataframe tbody tr th:only-of-type {\n",
       "        vertical-align: middle;\n",
       "    }\n",
       "\n",
       "    .dataframe tbody tr th {\n",
       "        vertical-align: top;\n",
       "    }\n",
       "\n",
       "    .dataframe thead th {\n",
       "        text-align: right;\n",
       "    }\n",
       "</style>\n",
       "<table border=\"1\" class=\"dataframe\">\n",
       "  <thead>\n",
       "    <tr style=\"text-align: right;\">\n",
       "      <th></th>\n",
       "      <th>user_id</th>\n",
       "      <th>tariff</th>\n",
       "      <th>city</th>\n",
       "      <th>gb_used</th>\n",
       "      <th>message_by_month</th>\n",
       "      <th>sum_duration</th>\n",
       "      <th>income</th>\n",
       "    </tr>\n",
       "    <tr>\n",
       "      <th>session_month</th>\n",
       "      <th></th>\n",
       "      <th></th>\n",
       "      <th></th>\n",
       "      <th></th>\n",
       "      <th></th>\n",
       "      <th></th>\n",
       "      <th></th>\n",
       "    </tr>\n",
       "  </thead>\n",
       "  <tbody>\n",
       "    <tr>\n",
       "      <th>December</th>\n",
       "      <td>1001</td>\n",
       "      <td>smart</td>\n",
       "      <td>Москва</td>\n",
       "      <td>14.0</td>\n",
       "      <td>0.0</td>\n",
       "      <td>414.0</td>\n",
       "      <td>550.0</td>\n",
       "    </tr>\n",
       "    <tr>\n",
       "      <th>November</th>\n",
       "      <td>1001</td>\n",
       "      <td>smart</td>\n",
       "      <td>Москва</td>\n",
       "      <td>18.0</td>\n",
       "      <td>0.0</td>\n",
       "      <td>430.0</td>\n",
       "      <td>1150.0</td>\n",
       "    </tr>\n",
       "    <tr>\n",
       "      <th>August</th>\n",
       "      <td>1003</td>\n",
       "      <td>ultra</td>\n",
       "      <td>Москва</td>\n",
       "      <td>9.0</td>\n",
       "      <td>37.0</td>\n",
       "      <td>380.0</td>\n",
       "      <td>1950.0</td>\n",
       "    </tr>\n",
       "    <tr>\n",
       "      <th>December</th>\n",
       "      <td>1003</td>\n",
       "      <td>ultra</td>\n",
       "      <td>Москва</td>\n",
       "      <td>10.0</td>\n",
       "      <td>75.0</td>\n",
       "      <td>802.0</td>\n",
       "      <td>1950.0</td>\n",
       "    </tr>\n",
       "    <tr>\n",
       "      <th>November</th>\n",
       "      <td>1003</td>\n",
       "      <td>ultra</td>\n",
       "      <td>Москва</td>\n",
       "      <td>12.0</td>\n",
       "      <td>94.0</td>\n",
       "      <td>824.0</td>\n",
       "      <td>1950.0</td>\n",
       "    </tr>\n",
       "    <tr>\n",
       "      <th>...</th>\n",
       "      <td>...</td>\n",
       "      <td>...</td>\n",
       "      <td>...</td>\n",
       "      <td>...</td>\n",
       "      <td>...</td>\n",
       "      <td>...</td>\n",
       "      <td>...</td>\n",
       "    </tr>\n",
       "    <tr>\n",
       "      <th>June</th>\n",
       "      <td>1490</td>\n",
       "      <td>smart</td>\n",
       "      <td>Москва</td>\n",
       "      <td>20.0</td>\n",
       "      <td>50.0</td>\n",
       "      <td>330.0</td>\n",
       "      <td>1550.0</td>\n",
       "    </tr>\n",
       "    <tr>\n",
       "      <th>May</th>\n",
       "      <td>1490</td>\n",
       "      <td>smart</td>\n",
       "      <td>Москва</td>\n",
       "      <td>21.0</td>\n",
       "      <td>37.0</td>\n",
       "      <td>339.0</td>\n",
       "      <td>1750.0</td>\n",
       "    </tr>\n",
       "    <tr>\n",
       "      <th>November</th>\n",
       "      <td>1490</td>\n",
       "      <td>smart</td>\n",
       "      <td>Москва</td>\n",
       "      <td>19.0</td>\n",
       "      <td>47.0</td>\n",
       "      <td>282.0</td>\n",
       "      <td>1350.0</td>\n",
       "    </tr>\n",
       "    <tr>\n",
       "      <th>October</th>\n",
       "      <td>1490</td>\n",
       "      <td>smart</td>\n",
       "      <td>Москва</td>\n",
       "      <td>21.0</td>\n",
       "      <td>45.0</td>\n",
       "      <td>312.0</td>\n",
       "      <td>1750.0</td>\n",
       "    </tr>\n",
       "    <tr>\n",
       "      <th>September</th>\n",
       "      <td>1490</td>\n",
       "      <td>smart</td>\n",
       "      <td>Москва</td>\n",
       "      <td>15.0</td>\n",
       "      <td>48.0</td>\n",
       "      <td>322.0</td>\n",
       "      <td>550.0</td>\n",
       "    </tr>\n",
       "  </tbody>\n",
       "</table>\n",
       "<p>611 rows × 7 columns</p>\n",
       "</div>"
      ],
      "text/plain": [
       "               user_id tariff    city  gb_used  message_by_month  \\\n",
       "session_month                                                      \n",
       "December          1001  smart  Москва     14.0               0.0   \n",
       "November          1001  smart  Москва     18.0               0.0   \n",
       "August            1003  ultra  Москва      9.0              37.0   \n",
       "December          1003  ultra  Москва     10.0              75.0   \n",
       "November          1003  ultra  Москва     12.0              94.0   \n",
       "...                ...    ...     ...      ...               ...   \n",
       "June              1490  smart  Москва     20.0              50.0   \n",
       "May               1490  smart  Москва     21.0              37.0   \n",
       "November          1490  smart  Москва     19.0              47.0   \n",
       "October           1490  smart  Москва     21.0              45.0   \n",
       "September         1490  smart  Москва     15.0              48.0   \n",
       "\n",
       "               sum_duration  income  \n",
       "session_month                        \n",
       "December              414.0   550.0  \n",
       "November              430.0  1150.0  \n",
       "August                380.0  1950.0  \n",
       "December              802.0  1950.0  \n",
       "November              824.0  1950.0  \n",
       "...                     ...     ...  \n",
       "June                  330.0  1550.0  \n",
       "May                   339.0  1750.0  \n",
       "November              282.0  1350.0  \n",
       "October               312.0  1750.0  \n",
       "September             322.0   550.0  \n",
       "\n",
       "[611 rows x 7 columns]"
      ]
     },
     "metadata": {},
     "output_type": "display_data"
    },
    {
     "data": {
      "text/html": [
       "<div>\n",
       "<style scoped>\n",
       "    .dataframe tbody tr th:only-of-type {\n",
       "        vertical-align: middle;\n",
       "    }\n",
       "\n",
       "    .dataframe tbody tr th {\n",
       "        vertical-align: top;\n",
       "    }\n",
       "\n",
       "    .dataframe thead th {\n",
       "        text-align: right;\n",
       "    }\n",
       "</style>\n",
       "<table border=\"1\" class=\"dataframe\">\n",
       "  <thead>\n",
       "    <tr style=\"text-align: right;\">\n",
       "      <th></th>\n",
       "      <th>user_id</th>\n",
       "      <th>tariff</th>\n",
       "      <th>city</th>\n",
       "      <th>gb_used</th>\n",
       "      <th>message_by_month</th>\n",
       "      <th>sum_duration</th>\n",
       "      <th>income</th>\n",
       "    </tr>\n",
       "    <tr>\n",
       "      <th>session_month</th>\n",
       "      <th></th>\n",
       "      <th></th>\n",
       "      <th></th>\n",
       "      <th></th>\n",
       "      <th></th>\n",
       "      <th></th>\n",
       "      <th></th>\n",
       "    </tr>\n",
       "  </thead>\n",
       "  <tbody>\n",
       "    <tr>\n",
       "      <th>August</th>\n",
       "      <td>1000</td>\n",
       "      <td>ultra</td>\n",
       "      <td>Краснодар</td>\n",
       "      <td>14.0</td>\n",
       "      <td>81.0</td>\n",
       "      <td>408.0</td>\n",
       "      <td>1950.0</td>\n",
       "    </tr>\n",
       "    <tr>\n",
       "      <th>December</th>\n",
       "      <td>1000</td>\n",
       "      <td>ultra</td>\n",
       "      <td>Краснодар</td>\n",
       "      <td>10.0</td>\n",
       "      <td>70.0</td>\n",
       "      <td>333.0</td>\n",
       "      <td>1950.0</td>\n",
       "    </tr>\n",
       "    <tr>\n",
       "      <th>July</th>\n",
       "      <td>1000</td>\n",
       "      <td>ultra</td>\n",
       "      <td>Краснодар</td>\n",
       "      <td>14.0</td>\n",
       "      <td>75.0</td>\n",
       "      <td>340.0</td>\n",
       "      <td>1950.0</td>\n",
       "    </tr>\n",
       "    <tr>\n",
       "      <th>June</th>\n",
       "      <td>1000</td>\n",
       "      <td>ultra</td>\n",
       "      <td>Краснодар</td>\n",
       "      <td>23.0</td>\n",
       "      <td>60.0</td>\n",
       "      <td>172.0</td>\n",
       "      <td>1950.0</td>\n",
       "    </tr>\n",
       "    <tr>\n",
       "      <th>May</th>\n",
       "      <td>1000</td>\n",
       "      <td>ultra</td>\n",
       "      <td>Краснодар</td>\n",
       "      <td>3.0</td>\n",
       "      <td>22.0</td>\n",
       "      <td>159.0</td>\n",
       "      <td>1950.0</td>\n",
       "    </tr>\n",
       "    <tr>\n",
       "      <th>...</th>\n",
       "      <td>...</td>\n",
       "      <td>...</td>\n",
       "      <td>...</td>\n",
       "      <td>...</td>\n",
       "      <td>...</td>\n",
       "      <td>...</td>\n",
       "      <td>...</td>\n",
       "    </tr>\n",
       "    <tr>\n",
       "      <th>September</th>\n",
       "      <td>1498</td>\n",
       "      <td>smart</td>\n",
       "      <td>Владикавказ</td>\n",
       "      <td>22.0</td>\n",
       "      <td>44.0</td>\n",
       "      <td>471.0</td>\n",
       "      <td>1950.0</td>\n",
       "    </tr>\n",
       "    <tr>\n",
       "      <th>December</th>\n",
       "      <td>1499</td>\n",
       "      <td>smart</td>\n",
       "      <td>Пермь</td>\n",
       "      <td>13.0</td>\n",
       "      <td>66.0</td>\n",
       "      <td>492.0</td>\n",
       "      <td>598.0</td>\n",
       "    </tr>\n",
       "    <tr>\n",
       "      <th>November</th>\n",
       "      <td>1499</td>\n",
       "      <td>smart</td>\n",
       "      <td>Пермь</td>\n",
       "      <td>18.0</td>\n",
       "      <td>59.0</td>\n",
       "      <td>612.0</td>\n",
       "      <td>1513.0</td>\n",
       "    </tr>\n",
       "    <tr>\n",
       "      <th>October</th>\n",
       "      <td>1499</td>\n",
       "      <td>smart</td>\n",
       "      <td>Пермь</td>\n",
       "      <td>18.0</td>\n",
       "      <td>48.0</td>\n",
       "      <td>449.0</td>\n",
       "      <td>1150.0</td>\n",
       "    </tr>\n",
       "    <tr>\n",
       "      <th>September</th>\n",
       "      <td>1499</td>\n",
       "      <td>smart</td>\n",
       "      <td>Пермь</td>\n",
       "      <td>2.0</td>\n",
       "      <td>11.0</td>\n",
       "      <td>70.0</td>\n",
       "      <td>550.0</td>\n",
       "    </tr>\n",
       "  </tbody>\n",
       "</table>\n",
       "<p>2592 rows × 7 columns</p>\n",
       "</div>"
      ],
      "text/plain": [
       "               user_id tariff         city  gb_used  message_by_month  \\\n",
       "session_month                                                           \n",
       "August            1000  ultra    Краснодар     14.0              81.0   \n",
       "December          1000  ultra    Краснодар     10.0              70.0   \n",
       "July              1000  ultra    Краснодар     14.0              75.0   \n",
       "June              1000  ultra    Краснодар     23.0              60.0   \n",
       "May               1000  ultra    Краснодар      3.0              22.0   \n",
       "...                ...    ...          ...      ...               ...   \n",
       "September         1498  smart  Владикавказ     22.0              44.0   \n",
       "December          1499  smart        Пермь     13.0              66.0   \n",
       "November          1499  smart        Пермь     18.0              59.0   \n",
       "October           1499  smart        Пермь     18.0              48.0   \n",
       "September         1499  smart        Пермь      2.0              11.0   \n",
       "\n",
       "               sum_duration  income  \n",
       "session_month                        \n",
       "August                408.0  1950.0  \n",
       "December              333.0  1950.0  \n",
       "July                  340.0  1950.0  \n",
       "June                  172.0  1950.0  \n",
       "May                   159.0  1950.0  \n",
       "...                     ...     ...  \n",
       "September             471.0  1950.0  \n",
       "December              492.0   598.0  \n",
       "November              612.0  1513.0  \n",
       "October               449.0  1150.0  \n",
       "September              70.0   550.0  \n",
       "\n",
       "[2592 rows x 7 columns]"
      ]
     },
     "metadata": {},
     "output_type": "display_data"
    }
   ],
   "source": [
    "display(pivot_moscow)\n",
    "display(pivot_other)"
   ]
  },
  {
   "cell_type": "markdown",
   "id": "643845ec",
   "metadata": {},
   "source": [
    "Для проведения теста мы не будем считать дисперсии так как и так можно увидеть, что выборки отличаются по размеру друг от друга, а значит мы считаем, что дисперсии разные."
   ]
  },
  {
   "cell_type": "code",
   "execution_count": 50,
   "id": "f9c0da26",
   "metadata": {
    "scrolled": true
   },
   "outputs": [
    {
     "name": "stdout",
     "output_type": "stream",
     "text": [
      "p-значение: 0.5023167352991608\n",
      "Не получилось отвергнуть нулевую гипотезу\n"
     ]
    }
   ],
   "source": [
    "alpha = 0.05\n",
    "\n",
    "results = st.ttest_ind(pivot_moscow['income'], pivot_other['income'], equal_var = False)\n",
    "print('p-значение:', results.pvalue)\n",
    "\n",
    "if results.pvalue < alpha:\n",
    "    print(\"Отвергаем нулевую гипотезу\")\n",
    "else:\n",
    "    print(\"Не получилось отвергнуть нулевую гипотезу\")"
   ]
  },
  {
   "cell_type": "markdown",
   "id": "21aeebf6",
   "metadata": {},
   "source": [
    "#### Вывод\n",
    "Мы не отвергаем нулевую гипотезу, что означает, что мы принимаем, что выручка не отличается в зависимости от региона"
   ]
  },
  {
   "cell_type": "markdown",
   "id": "8e300eae",
   "metadata": {},
   "source": [
    "#### Финальные расчеты\n",
    "\n",
    "На основе проверки гипотез мы можем сделать два вывода, выручка тарифов не зависит от региона и выручка между тарифами различается.\n",
    "\n",
    "Исходя из этого, для ответа на главный вопрос проекта, мы проверим:\n",
    "\n",
    "1. Скорость ежемесячного оттока в зависимости от тарифа\n",
    "2. Доходность от тарифов накопительным итогом \n",
    "3. Скорость оттока в целом\n",
    "\n",
    "\n"
   ]
  },
  {
   "cell_type": "code",
   "execution_count": 51,
   "id": "ba3a5e1a",
   "metadata": {
    "scrolled": true
   },
   "outputs": [
    {
     "name": "stdout",
     "output_type": "stream",
     "text": [
      "Число абонентов тарифа Смарт 351\n",
      "Число абонентов тарифа Ультра 149\n"
     ]
    },
    {
     "data": {
      "image/png": "[encoded data removed]",
      "text/plain": [
       "<Figure size 1224x576 with 1 Axes>"
      ]
     },
     "metadata": {},
     "output_type": "display_data"
    }
   ],
   "source": [
    "pivot_smart_by_month_sum = pivot_smart.groupby('session_month').sum() #Сгруппируем по месяцу и расчитаем среднее\n",
    "pivot_smart_by_month_sum.index = pd.Categorical(pivot_smart_by_month_sum.index, categories=months, ordered=True) #В индексе сделаем категоральное значение в определенным порядком\n",
    "pivot_smart_by_month_sum = pivot_smart_by_month_sum.sort_index() #Отсортируем индекс\n",
    "pivot_smart_by_month_sum['cummulative_inc'] = pivot_smart_by_month_sum['income'].cumsum() #Создадим столбец с накопительным итогом\n",
    "pivot_ultra_by_month_sum = pivot_ultra.groupby('session_month').sum() #Сгруппируем по месяцу и расчитаем среднее\n",
    "pivot_ultra_by_month_sum.index = pd.Categorical(pivot_ultra_by_month_sum.index, categories=months, ordered=True) #В индексе сделаем категоральное значение в определенным порядком\n",
    "pivot_ultra_by_month_sum = pivot_ultra_by_month_sum.sort_index() #Отсортируем индекс\n",
    "pivot_ultra_by_month_sum['cummulative_inc_ultra'] = pivot_ultra_by_month_sum['income'].cumsum() #Создадим столбец с накопительным итогом\n",
    "pivot_ultra_by_month_sum['cummulative_inc_smart'] = pivot_smart_by_month_sum['cummulative_inc'] #Для наглядности графика добавим новый столбец\n",
    "pivot_ultra_by_month_sum.plot.bar(y=['cummulative_inc_ultra','cummulative_inc_smart'], title='Доходность тарифов накопительным итогом', grid=True) #Построим график\n",
    "print('Число абонентов тарифа Смарт', len(users.query('tariff == \"smart\"')))\n",
    "print('Число абонентов тарифа Ультра', len(users.query('tariff == \"ultra\"')))"
   ]
  },
  {
   "cell_type": "markdown",
   "id": "0adac056",
   "metadata": {},
   "source": [
    "Мы можем сделать вывод, что тариф ультра более доходный так как при вдвое меньшем числе абонентов, доходность незначительно меньше."
   ]
  },
  {
   "cell_type": "code",
   "execution_count": 52,
   "id": "ff5cda77",
   "metadata": {},
   "outputs": [],
   "source": [
    "users['churn_date'] = pd.to_datetime(users['churn_date'], format='%Y%m%dT') #Приведем дату к нужному типу\n",
    "users['churn_month'] = users['churn_date'].dt.month_name() #Создадим столбец с названиями месяцевв\n",
    "users['reg_date'] = pd.to_datetime(users['reg_date'], format='%Y%m%dT') #Приведем дату к нужному типу\n",
    "users['reg_month'] = users['reg_date'].dt.month_name() #Создадим столбец с названиями месяцевв\n",
    "users['reg_month'] = pd.Categorical(users['reg_month'], categories=months, ordered=True) #Cделаем категоральное значение c определенным порядком\n",
    "users['churn_month'] = pd.Categorical(users['churn_month'], categories=months, ordered=True)#Cделаем категоральное значение c определенным порядком\n",
    "users = users.sort_values(by=['reg_month','churn_month']) #Отсортируем в соотвествии с порядком"
   ]
  },
  {
   "cell_type": "code",
   "execution_count": 53,
   "id": "af71a793",
   "metadata": {
    "scrolled": true
   },
   "outputs": [
    {
     "data": {
      "text/html": [
       "<div>\n",
       "<style scoped>\n",
       "    .dataframe tbody tr th:only-of-type {\n",
       "        vertical-align: middle;\n",
       "    }\n",
       "\n",
       "    .dataframe tbody tr th {\n",
       "        vertical-align: top;\n",
       "    }\n",
       "\n",
       "    .dataframe thead th {\n",
       "        text-align: right;\n",
       "    }\n",
       "</style>\n",
       "<table border=\"1\" class=\"dataframe\">\n",
       "  <thead>\n",
       "    <tr style=\"text-align: right;\">\n",
       "      <th></th>\n",
       "      <th>user_id</th>\n",
       "      <th>user_id</th>\n",
       "    </tr>\n",
       "  </thead>\n",
       "  <tbody>\n",
       "    <tr>\n",
       "      <th>January</th>\n",
       "      <td>43</td>\n",
       "      <td>0</td>\n",
       "    </tr>\n",
       "    <tr>\n",
       "      <th>February</th>\n",
       "      <td>39</td>\n",
       "      <td>0</td>\n",
       "    </tr>\n",
       "    <tr>\n",
       "      <th>March</th>\n",
       "      <td>32</td>\n",
       "      <td>0</td>\n",
       "    </tr>\n",
       "    <tr>\n",
       "      <th>April</th>\n",
       "      <td>53</td>\n",
       "      <td>0</td>\n",
       "    </tr>\n",
       "    <tr>\n",
       "      <th>May</th>\n",
       "      <td>41</td>\n",
       "      <td>0</td>\n",
       "    </tr>\n",
       "    <tr>\n",
       "      <th>June</th>\n",
       "      <td>40</td>\n",
       "      <td>0</td>\n",
       "    </tr>\n",
       "    <tr>\n",
       "      <th>July</th>\n",
       "      <td>44</td>\n",
       "      <td>0</td>\n",
       "    </tr>\n",
       "    <tr>\n",
       "      <th>August</th>\n",
       "      <td>50</td>\n",
       "      <td>2</td>\n",
       "    </tr>\n",
       "    <tr>\n",
       "      <th>September</th>\n",
       "      <td>35</td>\n",
       "      <td>3</td>\n",
       "    </tr>\n",
       "    <tr>\n",
       "      <th>October</th>\n",
       "      <td>45</td>\n",
       "      <td>9</td>\n",
       "    </tr>\n",
       "    <tr>\n",
       "      <th>November</th>\n",
       "      <td>42</td>\n",
       "      <td>8</td>\n",
       "    </tr>\n",
       "    <tr>\n",
       "      <th>December</th>\n",
       "      <td>36</td>\n",
       "      <td>16</td>\n",
       "    </tr>\n",
       "  </tbody>\n",
       "</table>\n",
       "</div>"
      ],
      "text/plain": [
       "           user_id  user_id\n",
       "January         43        0\n",
       "February        39        0\n",
       "March           32        0\n",
       "April           53        0\n",
       "May             41        0\n",
       "June            40        0\n",
       "July            44        0\n",
       "August          50        2\n",
       "September       35        3\n",
       "October         45        9\n",
       "November        42        8\n",
       "December        36       16"
      ]
     },
     "metadata": {},
     "output_type": "display_data"
    }
   ],
   "source": [
    "influx_by_month = users.groupby('reg_month').agg('user_id').count() #Посчитаем месячный приток \n",
    "outflow_by_month = users.groupby('churn_month').agg('user_id').count() #Посчитаем месячный отток \n",
    "display(pd.concat([influx_by_month, outflow_by_month], axis=1))"
   ]
  },
  {
   "cell_type": "markdown",
   "id": "84ff3a0e",
   "metadata": {},
   "source": [
    "Отток к концу года растет, как растет и количество абонентов."
   ]
  },
  {
   "cell_type": "code",
   "execution_count": 54,
   "id": "739e4442",
   "metadata": {},
   "outputs": [],
   "source": [
    "influx_by_month_smart = users.groupby(['reg_month','tariff']).count().query(\"tariff=='smart'\")['user_id'].rename('in_smart')\n",
    "influx_by_month_ultra = users.groupby(['reg_month','tariff']).count().query(\"tariff=='ultra'\")['user_id'].rename('in_ultra')"
   ]
  },
  {
   "cell_type": "code",
   "execution_count": 55,
   "id": "675ff690",
   "metadata": {},
   "outputs": [],
   "source": [
    "outflow_by_month_smart = users.groupby(['churn_month','tariff']).count().query(\"tariff=='smart'\")['user_id'].rename('out_smart')\n",
    "outflow_by_month_ultra = users.groupby(['churn_month','tariff']).count().query(\"tariff=='ultra'\")['user_id'].rename('out_ultra')"
   ]
  },
  {
   "cell_type": "code",
   "execution_count": 59,
   "id": "016a6ee5",
   "metadata": {
    "scrolled": true
   },
   "outputs": [
    {
     "data": {
      "image/png": "[encoded data removed]",
      "text/plain": [
       "<Figure size 1224x576 with 1 Axes>"
      ]
     },
     "metadata": {},
     "output_type": "display_data"
    },
    {
     "data": {
      "image/png": "[encoded data removed]",
      "text/plain": [
       "<Figure size 1224x576 with 1 Axes>"
      ]
     },
     "metadata": {},
     "output_type": "display_data"
    }
   ],
   "source": [
    "(\n",
    "    pd.concat([outflow_by_month_smart,influx_by_month_smart],axis=1).reset_index(level='tariff', drop=True)\n",
    "    .plot.bar(y=['out_smart','in_smart'],title='Отток и приток по тарифу смарт')\n",
    ")\n",
    "plt.ylabel('Количество оттекших абонентов')\n",
    "plt.xlabel('Месяц')\n",
    "\n",
    "(\n",
    "    pd.concat([outflow_by_month_ultra,influx_by_month_ultra],axis=1).reset_index(level='tariff', drop=True)\n",
    "    .plot.bar(y=['out_ultra','in_ultra'],title='Отток и приток по тарифу ультра')\n",
    ")\n",
    "plt.ylabel('Количество оттекших абонентов')\n",
    "plt.xlabel('Месяц')\n",
    "plt.show()"
   ]
  },
  {
   "cell_type": "markdown",
   "id": "9e2e0609",
   "metadata": {},
   "source": [
    "Так мы можем увидеть что отток в обоих тарифах практически не отличается, однако для удобства лучше посмотрим на графики с накопительным итогом"
   ]
  },
  {
   "cell_type": "code",
   "execution_count": 61,
   "id": "31ba127f",
   "metadata": {
    "scrolled": true
   },
   "outputs": [
    {
     "data": {
      "image/png": "[encoded data removed]",
      "text/plain": [
       "<Figure size 1224x576 with 1 Axes>"
      ]
     },
     "metadata": {},
     "output_type": "display_data"
    },
    {
     "data": {
      "image/png": "[encoded data removed]",
      "text/plain": [
       "<Figure size 1224x576 with 1 Axes>"
      ]
     },
     "metadata": {},
     "output_type": "display_data"
    }
   ],
   "source": [
    "(\n",
    "    pd.concat([outflow_by_month_smart.cumsum(),influx_by_month_smart.cumsum()],axis=1).reset_index(level='tariff', drop=True)\n",
    "    .plot.bar(y=['out_smart','in_smart'],title='Отток и приток по тарифу смарт')\n",
    ")\n",
    "plt.ylabel('Количество оттекших абонентов по тарифу')\n",
    "plt.xlabel('Месяц')\n",
    "(\n",
    "    pd.concat([outflow_by_month_ultra.cumsum(),influx_by_month_ultra.cumsum()],axis=1).reset_index(level='tariff', drop=True)\n",
    "    .plot.bar(y=['out_ultra','in_ultra'],title='Отток и приток по тарифу ультра')\n",
    ")\n",
    "plt.ylabel('Количество оттекших абонентов')\n",
    "plt.xlabel('Месяц')\n",
    "plt.show()"
   ]
  },
  {
   "cell_type": "markdown",
   "id": "19eab80c",
   "metadata": {},
   "source": [
    "Мы можем сделать вывод, что тариф Ультра рискованный с точки зрения оттока, чем тариф Смарт."
   ]
  },
  {
   "cell_type": "markdown",
   "id": "f0a23125",
   "metadata": {},
   "source": [
    "### Общий Вывод\n",
    "\n",
    "Наибольшая активность пользователя тарифа смарт в декабре, что логично, так как ищутся подарки, места для празднования, ищутся видеорецепты, множество звонков и смс в которых люди планируют то, как будут проводить новый год и январские праздники.\n",
    "\n",
    "Наименьшая активность в январе. Это связанно с тем, что люди отдыхают от посленовогодней суеты, чаще общаются в живую на праздниках. Деловая активность в январе так же снижена. Февраль так же месяц слабый по активности, это связано с тем, что активность пользователей только начинает восстанавливаться после января. \n",
    "\n",
    "Мы можем сделать вывод, что наименьшая активность пользователей тарифа Ультра в феврале, а наибольшая в декабре.\n",
    "Как было сказано для тарифа Смарт, повышенная активность декабря связанна с предновогодней суетой, планированием, подбором подарков, повышенной деловой активностью.\n",
    "\n",
    "Однако как можно заметить, различие с тарифом Смарт состоит в том, что у пользователей Ультра большее падение наблюдается в феврале, а не январе.\n",
    "Необходимо поднимать ЦА по тарифам, чтобы сделать правильный вывод касательно данного факта.\n",
    "\n",
    "Все столбцы распределены нормально, однако обратить внимание на большое число 0 в длительности звонка в тарифе Ультра.\n",
    "Данный показатель может быть важен для оценки довольства и удержания доходных клиентов.\n",
    "\n",
    "**Нами было выдвинуто 2 гипотезы:**\n",
    "\n",
    "**Гипотеза: средняя выручка пользователей тарифов «Ультра» и «Смарт» различаются.**\n",
    "- Мы не отвергаем данную гипотезу.\n",
    "\n",
    "**Гипотеза: Средняя выручка пользователей из Москвы отличается от выручки пользователей из других регионов.**\n",
    "- Мы отвергаем данную гипотезу.\n",
    "\n",
    "**Касательно главной нашей задачи.**\n",
    "\n",
    "Проанализировав приток польователей и доходность тарифа Cмарт и Ультра, мы можем сделать следующий вывод.\n",
    "\n",
    "   - Тариф Смарт характеризуется большим приростом абонентов, а так же меньшим оттоком. При этом тариф Смарт за счет распространенности приносит больше денег компании за счет количества абонентов.\n",
    "\n",
    "   - Однако тариф Ультра несмотря на меньшую распространенность, приносит сравнительное с тарифом Смарт количество выручки, однако характеризуется большим оттоком. Более того, что несмотря на меньший размер клиентской базы (более чем в 2 раза), тариф Ультра покажет намного большую выручку при таком же объеме абонентов.\n",
    "\n",
    "   - При планировании рекламных компаний нужно обратить внимание, что наибольшим приток новых абонентов тарифа Ультра произошел в Апреле, Июне, Августе и Ноябре.\n",
    "\n",
    "   - Для рекламных компаний делать упор на тариф Ультра, взяв во внимание растущий отток клиентов."
   ]
  },
  {
   "cell_type": "markdown",
   "id": "9a23c363",
   "metadata": {},
   "source": [
    "## Чек-лист готовности проекта\n",
    "\n",
    "Поставьте 'x' в выполненных пунктах. Далее нажмите Shift+Enter."
   ]
  },
  {
   "cell_type": "markdown",
   "id": "5efe1b1b",
   "metadata": {},
   "source": [
    "- [x]  открыты файлы\n",
    "- [x]  файлы изучены (выведены первые строки, метод `info()`)\n",
    "- [x]  таблицы объеденены по общему ключу\n",
    "- [x]  определены пропущенные значения\n",
    "- [x]  заполнены пропущенные значения\n",
    "- [x]  есть пояснение, какие пропущенные значения обнаружены\n",
    "- [x]  изменены типы данных\n",
    "- [x]  есть пояснение, в каких столбцах изменены типы и почему\n",
    "- [x]  составлена сводная таблица где для пользователя указано \n",
    "    количество сделанных звонков и израсходованных минут разговора по месяцам;\n",
    "    количество отправленных сообщений по месяцам;\n",
    "    объем израсходованного интернет-трафика по месяцам;\n",
    "    помесячную выручку с каждого пользователя (вычтите бесплатный лимит из суммарного количества звонков, сообщений и интернет-трафика; остаток умножьте на значение из тарифного плана; прибавьте абонентскую плату, соответствующую тарифному плану).\n",
    "- [x]  для тарифа смарт расчитать: Сколько минут разговора, сколько сообщений и какой объём интернет-трафика требуется пользователям тарифа в месяц\n",
    "- [x]  для тарифа ультра расчитать: Сколько минут разговора, сколько сообщений и какой объём интернет-трафика требуется пользователям тарифа в месяц\n",
    "- [x]  для тарифа смарт: Построить гистограммы, описать распределение, расчитать дисперсию и среднеквадратичное отклонение\n",
    "- [x]  для тарифа ультра: Построить гистограммы, описать распределение, расчитать дисперсию и среднеквадратичное отклонение\n",
    "- [x]  проверить гипотезу: средняя выручка пользователей тарифов «Ультра» и «Смарт» различаются;\n",
    "- [x]  проверить гипотезу: средняя выручка пользователей из Москвы отличается от выручки пользователей из других регионов.\n",
    "- [x]  пояснить: как вы формулировали нулевую и альтернативную гипотезы;\n",
    "- [x]  какой критерий использовали для проверки гипотез и почему.\n",
    "- [x]  в каждом этапе есть выводы\n",
    "- [x]  есть общий вывод"
   ]
  }
 ],
 "metadata": {
  "ExecuteTimeLog": [
   {
    "duration": 1120,
    "start_time": "2022-05-29T16:43:12.295Z"
   },
   {
    "duration": 1325,
    "start_time": "2022-05-29T16:43:13.417Z"
   },
   {
    "duration": 144,
    "start_time": "2022-05-29T16:43:14.744Z"
   },
   {
    "duration": 211,
    "start_time": "2022-05-29T16:43:14.891Z"
   },
   {
    "duration": 137,
    "start_time": "2022-05-29T16:43:15.103Z"
   },
   {
    "duration": 41,
    "start_time": "2022-05-29T16:43:15.242Z"
   },
   {
    "duration": 26,
    "start_time": "2022-05-29T16:43:15.290Z"
   },
   {
    "duration": 80,
    "start_time": "2022-05-29T16:43:15.318Z"
   },
   {
    "duration": 153,
    "start_time": "2022-05-29T16:43:15.399Z"
   },
   {
    "duration": 54,
    "start_time": "2022-05-29T16:43:15.554Z"
   },
   {
    "duration": 12,
    "start_time": "2022-05-29T16:43:15.610Z"
   },
   {
    "duration": 10,
    "start_time": "2022-05-29T16:43:15.623Z"
   },
   {
    "duration": 122,
    "start_time": "2022-05-29T16:43:15.635Z"
   },
   {
    "duration": 43,
    "start_time": "2022-05-29T16:43:15.759Z"
   },
   {
    "duration": 111,
    "start_time": "2022-05-29T16:43:15.803Z"
   },
   {
    "duration": 150,
    "start_time": "2022-05-29T16:43:15.916Z"
   },
   {
    "duration": 28,
    "start_time": "2022-05-29T16:43:16.077Z"
   },
   {
    "duration": 9,
    "start_time": "2022-05-29T16:43:16.107Z"
   },
   {
    "duration": 10044,
    "start_time": "2022-05-29T16:43:16.118Z"
   },
   {
    "duration": 40,
    "start_time": "2022-05-29T16:43:26.164Z"
   },
   {
    "duration": 261,
    "start_time": "2022-05-29T16:43:26.206Z"
   },
   {
    "duration": 185,
    "start_time": "2022-05-29T16:43:26.469Z"
   },
   {
    "duration": 194,
    "start_time": "2022-05-29T16:43:26.656Z"
   },
   {
    "duration": 169,
    "start_time": "2022-05-29T16:43:26.852Z"
   },
   {
    "duration": 174,
    "start_time": "2022-05-29T16:43:27.023Z"
   },
   {
    "duration": 178,
    "start_time": "2022-05-29T16:43:27.199Z"
   },
   {
    "duration": 511,
    "start_time": "2022-05-29T16:43:27.388Z"
   },
   {
    "duration": 560,
    "start_time": "2022-05-29T16:43:27.902Z"
   },
   {
    "duration": 22,
    "start_time": "2022-05-29T16:43:28.464Z"
   },
   {
    "duration": 39,
    "start_time": "2022-05-29T16:43:28.488Z"
   },
   {
    "duration": 7,
    "start_time": "2022-05-29T16:43:28.529Z"
   },
   {
    "duration": 10551,
    "start_time": "2022-05-29T16:43:28.537Z"
   },
   {
    "duration": 27,
    "start_time": "2022-05-29T16:43:39.089Z"
   },
   {
    "duration": 5,
    "start_time": "2022-05-29T16:43:39.117Z"
   },
   {
    "duration": 4,
    "start_time": "2022-05-29T16:44:25.871Z"
   },
   {
    "duration": 4,
    "start_time": "2022-05-29T16:52:51.972Z"
   },
   {
    "duration": 4,
    "start_time": "2022-05-29T16:53:06.693Z"
   },
   {
    "duration": 15,
    "start_time": "2022-05-29T16:53:36.651Z"
   },
   {
    "duration": 1116,
    "start_time": "2022-05-29T16:54:55.212Z"
   },
   {
    "duration": 822,
    "start_time": "2022-05-29T16:54:56.329Z"
   },
   {
    "duration": 104,
    "start_time": "2022-05-29T16:54:57.153Z"
   },
   {
    "duration": 221,
    "start_time": "2022-05-29T16:54:57.259Z"
   },
   {
    "duration": 150,
    "start_time": "2022-05-29T16:54:57.483Z"
   },
   {
    "duration": 33,
    "start_time": "2022-05-29T16:54:57.635Z"
   },
   {
    "duration": 24,
    "start_time": "2022-05-29T16:54:57.674Z"
   },
   {
    "duration": 52,
    "start_time": "2022-05-29T16:54:57.700Z"
   },
   {
    "duration": 178,
    "start_time": "2022-05-29T16:54:57.754Z"
   },
   {
    "duration": 43,
    "start_time": "2022-05-29T16:54:57.934Z"
   },
   {
    "duration": 11,
    "start_time": "2022-05-29T16:54:57.987Z"
   },
   {
    "duration": 32,
    "start_time": "2022-05-29T16:54:57.999Z"
   },
   {
    "duration": 137,
    "start_time": "2022-05-29T16:54:58.033Z"
   },
   {
    "duration": 36,
    "start_time": "2022-05-29T16:54:58.175Z"
   },
   {
    "duration": 177,
    "start_time": "2022-05-29T16:54:58.213Z"
   },
   {
    "duration": 158,
    "start_time": "2022-05-29T16:54:58.393Z"
   },
   {
    "duration": 39,
    "start_time": "2022-05-29T16:54:58.553Z"
   },
   {
    "duration": 9,
    "start_time": "2022-05-29T16:54:58.593Z"
   },
   {
    "duration": 11505,
    "start_time": "2022-05-29T16:54:58.603Z"
   },
   {
    "duration": 4,
    "start_time": "2022-05-29T16:55:10.110Z"
   },
   {
    "duration": 22,
    "start_time": "2022-05-29T16:55:10.116Z"
   },
   {
    "duration": 40,
    "start_time": "2022-05-29T16:55:10.140Z"
   },
   {
    "duration": 104,
    "start_time": "2022-05-29T16:55:10.181Z"
   },
   {
    "duration": 307,
    "start_time": "2022-05-29T16:55:10.288Z"
   },
   {
    "duration": 188,
    "start_time": "2022-05-29T16:55:10.596Z"
   },
   {
    "duration": 205,
    "start_time": "2022-05-29T16:55:10.786Z"
   },
   {
    "duration": 161,
    "start_time": "2022-05-29T16:55:10.993Z"
   },
   {
    "duration": 184,
    "start_time": "2022-05-29T16:55:11.156Z"
   },
   {
    "duration": 181,
    "start_time": "2022-05-29T16:55:11.341Z"
   },
   {
    "duration": 512,
    "start_time": "2022-05-29T16:55:11.524Z"
   },
   {
    "duration": 494,
    "start_time": "2022-05-29T16:55:12.037Z"
   },
   {
    "duration": 13,
    "start_time": "2022-05-29T16:55:12.533Z"
   },
   {
    "duration": 11,
    "start_time": "2022-05-29T16:55:12.548Z"
   },
   {
    "duration": 6,
    "start_time": "2022-05-29T16:55:12.588Z"
   },
   {
    "duration": 10510,
    "start_time": "2022-05-29T16:55:12.596Z"
   },
   {
    "duration": 39,
    "start_time": "2022-05-29T16:55:23.108Z"
   },
   {
    "duration": 6,
    "start_time": "2022-05-29T16:55:23.149Z"
   },
   {
    "duration": 5,
    "start_time": "2022-05-29T16:55:28.967Z"
   },
   {
    "duration": 12,
    "start_time": "2022-05-29T16:55:32.055Z"
   },
   {
    "duration": 8,
    "start_time": "2022-05-29T17:04:18.498Z"
   },
   {
    "duration": 6,
    "start_time": "2022-05-29T17:08:00.122Z"
   },
   {
    "duration": 1122,
    "start_time": "2022-05-29T17:10:41.563Z"
   },
   {
    "duration": 938,
    "start_time": "2022-05-29T17:10:42.690Z"
   },
   {
    "duration": 101,
    "start_time": "2022-05-29T17:10:43.630Z"
   },
   {
    "duration": 190,
    "start_time": "2022-05-29T17:10:43.733Z"
   },
   {
    "duration": 143,
    "start_time": "2022-05-29T17:10:43.926Z"
   },
   {
    "duration": 46,
    "start_time": "2022-05-29T17:10:44.071Z"
   },
   {
    "duration": 17,
    "start_time": "2022-05-29T17:10:44.119Z"
   },
   {
    "duration": 90,
    "start_time": "2022-05-29T17:10:44.138Z"
   },
   {
    "duration": 182,
    "start_time": "2022-05-29T17:10:44.231Z"
   },
   {
    "duration": 29,
    "start_time": "2022-05-29T17:10:44.415Z"
   },
   {
    "duration": 39,
    "start_time": "2022-05-29T17:10:44.446Z"
   },
   {
    "duration": 14,
    "start_time": "2022-05-29T17:10:44.487Z"
   },
   {
    "duration": 117,
    "start_time": "2022-05-29T17:10:44.503Z"
   },
   {
    "duration": 24,
    "start_time": "2022-05-29T17:10:44.623Z"
   },
   {
    "duration": 136,
    "start_time": "2022-05-29T17:10:44.649Z"
   },
   {
    "duration": 191,
    "start_time": "2022-05-29T17:10:44.791Z"
   },
   {
    "duration": 24,
    "start_time": "2022-05-29T17:10:44.984Z"
   },
   {
    "duration": 11,
    "start_time": "2022-05-29T17:10:45.010Z"
   },
   {
    "duration": 9978,
    "start_time": "2022-05-29T17:10:45.022Z"
   },
   {
    "duration": 4,
    "start_time": "2022-05-29T17:10:55.001Z"
   },
   {
    "duration": 7,
    "start_time": "2022-05-29T17:10:55.007Z"
   },
   {
    "duration": 13,
    "start_time": "2022-05-29T17:10:55.016Z"
   },
   {
    "duration": 46,
    "start_time": "2022-05-29T17:10:55.031Z"
   },
   {
    "duration": 256,
    "start_time": "2022-05-29T17:10:55.078Z"
   },
   {
    "duration": 176,
    "start_time": "2022-05-29T17:10:55.336Z"
   },
   {
    "duration": 172,
    "start_time": "2022-05-29T17:10:55.514Z"
   },
   {
    "duration": 154,
    "start_time": "2022-05-29T17:10:55.691Z"
   },
   {
    "duration": 176,
    "start_time": "2022-05-29T17:10:55.847Z"
   },
   {
    "duration": 180,
    "start_time": "2022-05-29T17:10:56.024Z"
   },
   {
    "duration": 518,
    "start_time": "2022-05-29T17:10:56.206Z"
   },
   {
    "duration": 486,
    "start_time": "2022-05-29T17:10:56.726Z"
   },
   {
    "duration": 12,
    "start_time": "2022-05-29T17:10:57.214Z"
   },
   {
    "duration": 18,
    "start_time": "2022-05-29T17:10:57.227Z"
   },
   {
    "duration": 15,
    "start_time": "2022-05-29T17:10:57.246Z"
   },
   {
    "duration": 11609,
    "start_time": "2022-05-29T17:10:57.263Z"
   },
   {
    "duration": 41,
    "start_time": "2022-05-29T17:11:08.875Z"
   },
   {
    "duration": 6,
    "start_time": "2022-05-29T17:11:08.917Z"
   },
   {
    "duration": 18,
    "start_time": "2022-05-29T17:11:24.502Z"
   },
   {
    "duration": 4,
    "start_time": "2022-05-29T17:12:08.894Z"
   },
   {
    "duration": 10,
    "start_time": "2022-05-29T17:14:07.288Z"
   },
   {
    "duration": 32,
    "start_time": "2022-05-29T17:14:12.372Z"
   },
   {
    "duration": 1067,
    "start_time": "2022-05-29T17:14:20.301Z"
   },
   {
    "duration": 877,
    "start_time": "2022-05-29T17:14:21.369Z"
   },
   {
    "duration": 107,
    "start_time": "2022-05-29T17:14:22.248Z"
   },
   {
    "duration": 204,
    "start_time": "2022-05-29T17:14:22.358Z"
   },
   {
    "duration": 143,
    "start_time": "2022-05-29T17:14:22.563Z"
   },
   {
    "duration": 39,
    "start_time": "2022-05-29T17:14:22.707Z"
   },
   {
    "duration": 40,
    "start_time": "2022-05-29T17:14:22.748Z"
   },
   {
    "duration": 82,
    "start_time": "2022-05-29T17:14:22.797Z"
   },
   {
    "duration": 182,
    "start_time": "2022-05-29T17:14:22.883Z"
   },
   {
    "duration": 32,
    "start_time": "2022-05-29T17:14:23.077Z"
   },
   {
    "duration": 9,
    "start_time": "2022-05-29T17:14:23.110Z"
   },
   {
    "duration": 12,
    "start_time": "2022-05-29T17:14:23.120Z"
   },
   {
    "duration": 119,
    "start_time": "2022-05-29T17:14:23.133Z"
   },
   {
    "duration": 29,
    "start_time": "2022-05-29T17:14:23.253Z"
   },
   {
    "duration": 114,
    "start_time": "2022-05-29T17:14:23.283Z"
   },
   {
    "duration": 168,
    "start_time": "2022-05-29T17:14:23.398Z"
   },
   {
    "duration": 28,
    "start_time": "2022-05-29T17:14:23.579Z"
   },
   {
    "duration": 9,
    "start_time": "2022-05-29T17:14:23.608Z"
   },
   {
    "duration": 9966,
    "start_time": "2022-05-29T17:14:23.619Z"
   },
   {
    "duration": 5,
    "start_time": "2022-05-29T17:14:33.590Z"
   },
   {
    "duration": 13,
    "start_time": "2022-05-29T17:14:33.596Z"
   },
   {
    "duration": 15,
    "start_time": "2022-05-29T17:14:33.611Z"
   },
   {
    "duration": 22,
    "start_time": "2022-05-29T17:14:33.628Z"
   },
   {
    "duration": 281,
    "start_time": "2022-05-29T17:14:33.651Z"
   },
   {
    "duration": 181,
    "start_time": "2022-05-29T17:14:33.933Z"
   },
   {
    "duration": 181,
    "start_time": "2022-05-29T17:14:34.115Z"
   },
   {
    "duration": 165,
    "start_time": "2022-05-29T17:14:34.298Z"
   },
   {
    "duration": 186,
    "start_time": "2022-05-29T17:14:34.466Z"
   },
   {
    "duration": 172,
    "start_time": "2022-05-29T17:14:34.654Z"
   },
   {
    "duration": 498,
    "start_time": "2022-05-29T17:14:34.827Z"
   },
   {
    "duration": 489,
    "start_time": "2022-05-29T17:14:35.327Z"
   },
   {
    "duration": 13,
    "start_time": "2022-05-29T17:14:35.817Z"
   },
   {
    "duration": 14,
    "start_time": "2022-05-29T17:14:35.832Z"
   },
   {
    "duration": 7,
    "start_time": "2022-05-29T17:14:35.848Z"
   },
   {
    "duration": 10439,
    "start_time": "2022-05-29T17:14:35.856Z"
   },
   {
    "duration": 4,
    "start_time": "2022-05-29T17:14:46.297Z"
   },
   {
    "duration": 34,
    "start_time": "2022-05-29T17:14:46.303Z"
   },
   {
    "duration": 45,
    "start_time": "2022-05-29T17:14:46.338Z"
   },
   {
    "duration": 5,
    "start_time": "2022-05-29T17:14:46.389Z"
   },
   {
    "duration": 6,
    "start_time": "2022-05-29T17:16:54.994Z"
   },
   {
    "duration": 19,
    "start_time": "2022-05-29T17:20:54.190Z"
   },
   {
    "duration": 3,
    "start_time": "2022-05-29T17:20:56.694Z"
   },
   {
    "duration": 1135,
    "start_time": "2022-05-29T17:22:05.698Z"
   },
   {
    "duration": 809,
    "start_time": "2022-05-29T17:22:06.835Z"
   },
   {
    "duration": 108,
    "start_time": "2022-05-29T17:22:07.645Z"
   },
   {
    "duration": 207,
    "start_time": "2022-05-29T17:22:07.755Z"
   },
   {
    "duration": 132,
    "start_time": "2022-05-29T17:22:07.976Z"
   },
   {
    "duration": 31,
    "start_time": "2022-05-29T17:22:08.109Z"
   },
   {
    "duration": 50,
    "start_time": "2022-05-29T17:22:08.141Z"
   },
   {
    "duration": 52,
    "start_time": "2022-05-29T17:22:08.192Z"
   },
   {
    "duration": 140,
    "start_time": "2022-05-29T17:22:08.245Z"
   },
   {
    "duration": 40,
    "start_time": "2022-05-29T17:22:08.386Z"
   },
   {
    "duration": 12,
    "start_time": "2022-05-29T17:22:08.429Z"
   },
   {
    "duration": 33,
    "start_time": "2022-05-29T17:22:08.443Z"
   },
   {
    "duration": 125,
    "start_time": "2022-05-29T17:22:08.485Z"
   },
   {
    "duration": 22,
    "start_time": "2022-05-29T17:22:08.613Z"
   },
   {
    "duration": 116,
    "start_time": "2022-05-29T17:22:08.637Z"
   },
   {
    "duration": 183,
    "start_time": "2022-05-29T17:22:08.755Z"
   },
   {
    "duration": 53,
    "start_time": "2022-05-29T17:22:08.940Z"
   },
   {
    "duration": 9,
    "start_time": "2022-05-29T17:22:08.994Z"
   },
   {
    "duration": 9837,
    "start_time": "2022-05-29T17:22:09.005Z"
   },
   {
    "duration": 4,
    "start_time": "2022-05-29T17:22:18.843Z"
   },
   {
    "duration": 7,
    "start_time": "2022-05-29T17:22:18.848Z"
   },
   {
    "duration": 46,
    "start_time": "2022-05-29T17:22:18.856Z"
   },
   {
    "duration": 23,
    "start_time": "2022-05-29T17:22:18.903Z"
   },
   {
    "duration": 268,
    "start_time": "2022-05-29T17:22:18.927Z"
   },
   {
    "duration": 206,
    "start_time": "2022-05-29T17:22:19.198Z"
   },
   {
    "duration": 178,
    "start_time": "2022-05-29T17:22:19.406Z"
   },
   {
    "duration": 159,
    "start_time": "2022-05-29T17:22:19.585Z"
   },
   {
    "duration": 203,
    "start_time": "2022-05-29T17:22:19.745Z"
   },
   {
    "duration": 185,
    "start_time": "2022-05-29T17:22:19.949Z"
   },
   {
    "duration": 521,
    "start_time": "2022-05-29T17:22:20.135Z"
   },
   {
    "duration": 478,
    "start_time": "2022-05-29T17:22:20.658Z"
   },
   {
    "duration": 14,
    "start_time": "2022-05-29T17:22:21.138Z"
   },
   {
    "duration": 30,
    "start_time": "2022-05-29T17:22:21.154Z"
   },
   {
    "duration": 5,
    "start_time": "2022-05-29T17:22:21.186Z"
   },
   {
    "duration": 10191,
    "start_time": "2022-05-29T17:22:21.193Z"
   },
   {
    "duration": 23,
    "start_time": "2022-05-29T17:22:31.389Z"
   },
   {
    "duration": 30,
    "start_time": "2022-05-29T17:22:31.413Z"
   },
   {
    "duration": 6,
    "start_time": "2022-05-29T17:22:31.445Z"
   },
   {
    "duration": 36,
    "start_time": "2022-05-29T17:22:31.452Z"
   },
   {
    "duration": 75,
    "start_time": "2022-05-29T18:30:03.458Z"
   },
   {
    "duration": 1792,
    "start_time": "2022-05-29T18:30:09.408Z"
   },
   {
    "duration": 997,
    "start_time": "2022-05-29T18:30:11.202Z"
   },
   {
    "duration": 195,
    "start_time": "2022-05-29T18:30:12.201Z"
   },
   {
    "duration": 392,
    "start_time": "2022-05-29T18:30:12.398Z"
   },
   {
    "duration": 277,
    "start_time": "2022-05-29T18:30:12.791Z"
   },
   {
    "duration": 26,
    "start_time": "2022-05-29T18:30:13.070Z"
   },
   {
    "duration": 76,
    "start_time": "2022-05-29T18:30:13.097Z"
   },
   {
    "duration": 105,
    "start_time": "2022-05-29T18:30:13.175Z"
   },
   {
    "duration": 281,
    "start_time": "2022-05-29T18:30:13.282Z"
   },
   {
    "duration": 85,
    "start_time": "2022-05-29T18:30:13.567Z"
   },
   {
    "duration": 9,
    "start_time": "2022-05-29T18:30:13.654Z"
   },
   {
    "duration": 11,
    "start_time": "2022-05-29T18:30:13.665Z"
   },
   {
    "duration": 202,
    "start_time": "2022-05-29T18:30:13.677Z"
   },
   {
    "duration": 75,
    "start_time": "2022-05-29T18:30:13.880Z"
   },
   {
    "duration": 202,
    "start_time": "2022-05-29T18:30:13.957Z"
   },
   {
    "duration": 302,
    "start_time": "2022-05-29T18:30:14.160Z"
   },
   {
    "duration": 104,
    "start_time": "2022-05-29T18:30:14.464Z"
   },
   {
    "duration": 10,
    "start_time": "2022-05-29T18:30:14.569Z"
   },
   {
    "duration": 14606,
    "start_time": "2022-05-29T18:30:14.580Z"
   },
   {
    "duration": 5,
    "start_time": "2022-05-29T18:30:29.188Z"
   },
   {
    "duration": 7,
    "start_time": "2022-05-29T18:30:29.195Z"
   },
   {
    "duration": 19,
    "start_time": "2022-05-29T18:30:29.204Z"
   },
   {
    "duration": 60,
    "start_time": "2022-05-29T18:30:29.225Z"
   },
   {
    "duration": 305,
    "start_time": "2022-05-29T18:30:29.288Z"
   },
   {
    "duration": 186,
    "start_time": "2022-05-29T18:30:29.594Z"
   },
   {
    "duration": 182,
    "start_time": "2022-05-29T18:30:29.781Z"
   },
   {
    "duration": 180,
    "start_time": "2022-05-29T18:30:29.965Z"
   },
   {
    "duration": 206,
    "start_time": "2022-05-29T18:30:30.149Z"
   },
   {
    "duration": 180,
    "start_time": "2022-05-29T18:30:30.356Z"
   },
   {
    "duration": 530,
    "start_time": "2022-05-29T18:30:30.538Z"
   },
   {
    "duration": 498,
    "start_time": "2022-05-29T18:30:31.070Z"
   },
   {
    "duration": 15,
    "start_time": "2022-05-29T18:30:31.570Z"
   },
   {
    "duration": 13,
    "start_time": "2022-05-29T18:30:31.587Z"
   },
   {
    "duration": 5,
    "start_time": "2022-05-29T18:30:31.602Z"
   },
   {
    "duration": 10179,
    "start_time": "2022-05-29T18:30:31.609Z"
   },
   {
    "duration": 21,
    "start_time": "2022-05-29T18:30:41.790Z"
   },
   {
    "duration": 41,
    "start_time": "2022-05-29T18:30:41.813Z"
   },
   {
    "duration": 4,
    "start_time": "2022-05-29T18:30:41.855Z"
   },
   {
    "duration": 9,
    "start_time": "2022-05-29T18:30:41.861Z"
   },
   {
    "duration": 21,
    "start_time": "2022-05-29T18:35:38.682Z"
   },
   {
    "duration": 65,
    "start_time": "2022-05-30T18:31:20.385Z"
   },
   {
    "duration": 1847,
    "start_time": "2022-05-30T18:31:25.489Z"
   },
   {
    "duration": 1690,
    "start_time": "2022-05-30T18:31:27.814Z"
   },
   {
    "duration": 140,
    "start_time": "2022-05-30T18:31:29.554Z"
   },
   {
    "duration": 187,
    "start_time": "2022-05-30T18:31:32.186Z"
   },
   {
    "duration": 712,
    "start_time": "2022-05-30T18:31:35.003Z"
   },
   {
    "duration": 284,
    "start_time": "2022-05-30T18:32:03.419Z"
   },
   {
    "duration": 211,
    "start_time": "2022-05-30T18:32:17.882Z"
   },
   {
    "duration": 202,
    "start_time": "2022-05-30T18:32:23.716Z"
   },
   {
    "duration": 252,
    "start_time": "2022-05-30T18:33:45.772Z"
   },
   {
    "duration": 27,
    "start_time": "2022-05-30T18:41:54.289Z"
   },
   {
    "duration": 3,
    "start_time": "2022-05-30T18:41:59.118Z"
   },
   {
    "duration": 15,
    "start_time": "2022-05-30T18:43:05.177Z"
   },
   {
    "duration": 332,
    "start_time": "2022-05-30T18:43:25.079Z"
   },
   {
    "duration": 620,
    "start_time": "2022-05-30T18:45:35.506Z"
   },
   {
    "duration": 356,
    "start_time": "2022-05-30T18:46:02.549Z"
   },
   {
    "duration": 17,
    "start_time": "2022-05-30T18:46:32.291Z"
   },
   {
    "duration": 1173,
    "start_time": "2022-05-30T18:46:53.402Z"
   },
   {
    "duration": 421,
    "start_time": "2022-05-30T18:46:54.577Z"
   },
   {
    "duration": 116,
    "start_time": "2022-05-30T18:46:55.000Z"
   },
   {
    "duration": 196,
    "start_time": "2022-05-30T18:46:55.117Z"
   },
   {
    "duration": 213,
    "start_time": "2022-05-30T18:46:55.315Z"
   },
   {
    "duration": 67,
    "start_time": "2022-05-30T18:46:55.530Z"
   },
   {
    "duration": 570,
    "start_time": "2022-05-30T18:46:55.599Z"
   },
   {
    "duration": 15,
    "start_time": "2022-05-30T18:46:56.176Z"
   },
   {
    "duration": 30,
    "start_time": "2022-05-30T18:46:56.193Z"
   },
   {
    "duration": 122,
    "start_time": "2022-05-30T18:46:56.226Z"
   },
   {
    "duration": 30,
    "start_time": "2022-05-30T18:46:56.350Z"
   },
   {
    "duration": 40,
    "start_time": "2022-05-30T18:46:56.381Z"
   },
   {
    "duration": 164,
    "start_time": "2022-05-30T18:46:56.423Z"
   },
   {
    "duration": 27,
    "start_time": "2022-05-30T18:46:56.589Z"
   },
   {
    "duration": 9,
    "start_time": "2022-05-30T18:46:56.618Z"
   },
   {
    "duration": 35,
    "start_time": "2022-05-30T18:46:56.629Z"
   },
   {
    "duration": 120,
    "start_time": "2022-05-30T18:46:56.666Z"
   },
   {
    "duration": 22,
    "start_time": "2022-05-30T18:46:56.788Z"
   },
   {
    "duration": 119,
    "start_time": "2022-05-30T18:46:56.812Z"
   },
   {
    "duration": 162,
    "start_time": "2022-05-30T18:46:56.932Z"
   },
   {
    "duration": 38,
    "start_time": "2022-05-30T18:46:57.096Z"
   },
   {
    "duration": 30,
    "start_time": "2022-05-30T18:46:57.136Z"
   },
   {
    "duration": 17321,
    "start_time": "2022-05-30T18:46:57.171Z"
   },
   {
    "duration": 4,
    "start_time": "2022-05-30T18:47:14.494Z"
   },
   {
    "duration": 7,
    "start_time": "2022-05-30T18:47:14.499Z"
   },
   {
    "duration": 16,
    "start_time": "2022-05-30T18:47:14.508Z"
   },
   {
    "duration": 42,
    "start_time": "2022-05-30T18:47:14.526Z"
   },
   {
    "duration": 185,
    "start_time": "2022-05-30T18:47:14.572Z"
   },
   {
    "duration": 185,
    "start_time": "2022-05-30T18:47:14.759Z"
   },
   {
    "duration": 184,
    "start_time": "2022-05-30T18:47:14.946Z"
   },
   {
    "duration": 179,
    "start_time": "2022-05-30T18:47:15.132Z"
   },
   {
    "duration": 187,
    "start_time": "2022-05-30T18:47:15.313Z"
   },
   {
    "duration": 188,
    "start_time": "2022-05-30T18:47:15.502Z"
   },
   {
    "duration": 598,
    "start_time": "2022-05-30T18:47:15.692Z"
   },
   {
    "duration": 645,
    "start_time": "2022-05-30T18:47:16.293Z"
   },
   {
    "duration": 28,
    "start_time": "2022-05-30T18:47:16.940Z"
   },
   {
    "duration": 17,
    "start_time": "2022-05-30T18:47:16.969Z"
   },
   {
    "duration": 14,
    "start_time": "2022-05-30T18:47:16.988Z"
   },
   {
    "duration": 10998,
    "start_time": "2022-05-30T18:47:17.004Z"
   },
   {
    "duration": 24,
    "start_time": "2022-05-30T18:47:28.004Z"
   },
   {
    "duration": 57,
    "start_time": "2022-05-30T18:47:28.030Z"
   },
   {
    "duration": 7,
    "start_time": "2022-05-30T18:47:28.090Z"
   },
   {
    "duration": 24,
    "start_time": "2022-05-30T18:47:28.099Z"
   },
   {
    "duration": 29,
    "start_time": "2022-05-30T18:53:54.695Z"
   },
   {
    "duration": 1187,
    "start_time": "2022-05-30T18:54:09.028Z"
   },
   {
    "duration": 513,
    "start_time": "2022-05-30T18:54:10.217Z"
   },
   {
    "duration": 139,
    "start_time": "2022-05-30T18:54:10.732Z"
   },
   {
    "duration": 203,
    "start_time": "2022-05-30T18:54:10.876Z"
   },
   {
    "duration": 260,
    "start_time": "2022-05-30T18:54:11.082Z"
   },
   {
    "duration": 68,
    "start_time": "2022-05-30T18:54:11.344Z"
   },
   {
    "duration": 603,
    "start_time": "2022-05-30T18:54:11.414Z"
   },
   {
    "duration": 26,
    "start_time": "2022-05-30T18:54:12.020Z"
   },
   {
    "duration": 54,
    "start_time": "2022-05-30T18:54:12.064Z"
   },
   {
    "duration": 22,
    "start_time": "2022-05-30T18:54:12.122Z"
   },
   {
    "duration": 79,
    "start_time": "2022-05-30T18:54:12.145Z"
   },
   {
    "duration": 252,
    "start_time": "2022-05-30T18:54:12.227Z"
   },
   {
    "duration": 36,
    "start_time": "2022-05-30T18:54:12.482Z"
   },
   {
    "duration": 10,
    "start_time": "2022-05-30T18:54:12.521Z"
   },
   {
    "duration": 27,
    "start_time": "2022-05-30T18:54:12.533Z"
   },
   {
    "duration": 146,
    "start_time": "2022-05-30T18:54:12.564Z"
   },
   {
    "duration": 42,
    "start_time": "2022-05-30T18:54:12.711Z"
   },
   {
    "duration": 139,
    "start_time": "2022-05-30T18:54:12.756Z"
   },
   {
    "duration": 193,
    "start_time": "2022-05-30T18:54:12.897Z"
   },
   {
    "duration": 42,
    "start_time": "2022-05-30T18:54:13.110Z"
   },
   {
    "duration": 25,
    "start_time": "2022-05-30T18:54:13.155Z"
   },
   {
    "duration": 10986,
    "start_time": "2022-05-30T18:54:13.183Z"
   },
   {
    "duration": 12,
    "start_time": "2022-05-30T18:54:24.171Z"
   },
   {
    "duration": 13,
    "start_time": "2022-05-30T18:54:24.185Z"
   },
   {
    "duration": 17,
    "start_time": "2022-05-30T18:54:24.200Z"
   },
   {
    "duration": 36,
    "start_time": "2022-05-30T18:54:24.219Z"
   },
   {
    "duration": 188,
    "start_time": "2022-05-30T18:54:24.264Z"
   },
   {
    "duration": 195,
    "start_time": "2022-05-30T18:54:24.453Z"
   },
   {
    "duration": 182,
    "start_time": "2022-05-30T18:54:24.649Z"
   },
   {
    "duration": 195,
    "start_time": "2022-05-30T18:54:24.833Z"
   },
   {
    "duration": 193,
    "start_time": "2022-05-30T18:54:25.029Z"
   },
   {
    "duration": 202,
    "start_time": "2022-05-30T18:54:25.224Z"
   },
   {
    "duration": 661,
    "start_time": "2022-05-30T18:54:25.428Z"
   },
   {
    "duration": 635,
    "start_time": "2022-05-30T18:54:26.094Z"
   },
   {
    "duration": 29,
    "start_time": "2022-05-30T18:54:26.731Z"
   },
   {
    "duration": 16,
    "start_time": "2022-05-30T18:54:26.779Z"
   },
   {
    "duration": 10,
    "start_time": "2022-05-30T18:54:26.797Z"
   },
   {
    "duration": 11195,
    "start_time": "2022-05-30T18:54:26.808Z"
   },
   {
    "duration": 24,
    "start_time": "2022-05-30T18:54:38.005Z"
   },
   {
    "duration": 59,
    "start_time": "2022-05-30T18:54:38.031Z"
   },
   {
    "duration": 33,
    "start_time": "2022-05-30T18:54:38.096Z"
   },
   {
    "duration": 15,
    "start_time": "2022-05-30T18:54:38.131Z"
   },
   {
    "duration": 1178,
    "start_time": "2022-05-30T18:55:40.136Z"
   },
   {
    "duration": 482,
    "start_time": "2022-05-30T18:55:41.316Z"
   },
   {
    "duration": 114,
    "start_time": "2022-05-30T18:55:41.799Z"
   },
   {
    "duration": 204,
    "start_time": "2022-05-30T18:55:41.915Z"
   },
   {
    "duration": 213,
    "start_time": "2022-05-30T18:55:42.121Z"
   },
   {
    "duration": 71,
    "start_time": "2022-05-30T18:55:42.336Z"
   },
   {
    "duration": 593,
    "start_time": "2022-05-30T18:55:42.408Z"
   },
   {
    "duration": 27,
    "start_time": "2022-05-30T18:55:43.003Z"
   },
   {
    "duration": 50,
    "start_time": "2022-05-30T18:55:43.032Z"
   },
   {
    "duration": 134,
    "start_time": "2022-05-30T18:55:43.085Z"
   },
   {
    "duration": 73,
    "start_time": "2022-05-30T18:55:43.221Z"
   },
   {
    "duration": 195,
    "start_time": "2022-05-30T18:55:43.296Z"
   },
   {
    "duration": 33,
    "start_time": "2022-05-30T18:55:43.493Z"
   },
   {
    "duration": 11,
    "start_time": "2022-05-30T18:55:43.528Z"
   },
   {
    "duration": 28,
    "start_time": "2022-05-30T18:55:43.540Z"
   },
   {
    "duration": 141,
    "start_time": "2022-05-30T18:55:43.575Z"
   },
   {
    "duration": 26,
    "start_time": "2022-05-30T18:55:43.718Z"
   },
   {
    "duration": 125,
    "start_time": "2022-05-30T18:55:43.761Z"
   },
   {
    "duration": 185,
    "start_time": "2022-05-30T18:55:43.887Z"
   },
   {
    "duration": 42,
    "start_time": "2022-05-30T18:55:44.081Z"
   },
   {
    "duration": 11,
    "start_time": "2022-05-30T18:55:44.124Z"
   },
   {
    "duration": 12639,
    "start_time": "2022-05-30T18:55:44.136Z"
   },
   {
    "duration": 7,
    "start_time": "2022-05-30T18:55:56.776Z"
   },
   {
    "duration": 35,
    "start_time": "2022-05-30T18:55:56.785Z"
   },
   {
    "duration": 20,
    "start_time": "2022-05-30T18:55:56.822Z"
   },
   {
    "duration": 43,
    "start_time": "2022-05-30T18:55:56.843Z"
   },
   {
    "duration": 196,
    "start_time": "2022-05-30T18:55:56.890Z"
   },
   {
    "duration": 226,
    "start_time": "2022-05-30T18:55:57.093Z"
   },
   {
    "duration": 248,
    "start_time": "2022-05-30T18:55:57.321Z"
   },
   {
    "duration": 226,
    "start_time": "2022-05-30T18:55:57.571Z"
   },
   {
    "duration": 211,
    "start_time": "2022-05-30T18:55:57.799Z"
   },
   {
    "duration": 224,
    "start_time": "2022-05-30T18:55:58.012Z"
   },
   {
    "duration": 583,
    "start_time": "2022-05-30T18:55:58.238Z"
   },
   {
    "duration": 646,
    "start_time": "2022-05-30T18:55:58.822Z"
   },
   {
    "duration": 15,
    "start_time": "2022-05-30T18:55:59.475Z"
   },
   {
    "duration": 22,
    "start_time": "2022-05-30T18:55:59.502Z"
   },
   {
    "duration": 23,
    "start_time": "2022-05-30T18:55:59.526Z"
   },
   {
    "duration": 12248,
    "start_time": "2022-05-30T18:55:59.551Z"
   },
   {
    "duration": 136,
    "start_time": "2022-05-30T18:56:11.801Z"
   },
   {
    "duration": 0,
    "start_time": "2022-05-30T18:56:11.938Z"
   },
   {
    "duration": 0,
    "start_time": "2022-05-30T18:56:11.940Z"
   },
   {
    "duration": 0,
    "start_time": "2022-05-30T18:56:11.942Z"
   },
   {
    "duration": 1236,
    "start_time": "2022-05-30T18:56:18.285Z"
   },
   {
    "duration": 469,
    "start_time": "2022-05-30T18:56:19.524Z"
   },
   {
    "duration": 127,
    "start_time": "2022-05-30T18:56:19.995Z"
   },
   {
    "duration": 218,
    "start_time": "2022-05-30T18:56:20.124Z"
   },
   {
    "duration": 262,
    "start_time": "2022-05-30T18:56:20.345Z"
   },
   {
    "duration": 68,
    "start_time": "2022-05-30T18:56:20.609Z"
   },
   {
    "duration": 679,
    "start_time": "2022-05-30T18:56:20.684Z"
   },
   {
    "duration": 35,
    "start_time": "2022-05-30T18:56:21.364Z"
   },
   {
    "duration": 43,
    "start_time": "2022-05-30T18:56:21.406Z"
   },
   {
    "duration": 33,
    "start_time": "2022-05-30T18:56:21.451Z"
   },
   {
    "duration": 84,
    "start_time": "2022-05-30T18:56:21.489Z"
   },
   {
    "duration": 272,
    "start_time": "2022-05-30T18:56:21.575Z"
   },
   {
    "duration": 51,
    "start_time": "2022-05-30T18:56:21.849Z"
   },
   {
    "duration": 11,
    "start_time": "2022-05-30T18:56:21.903Z"
   },
   {
    "duration": 18,
    "start_time": "2022-05-30T18:56:21.916Z"
   },
   {
    "duration": 180,
    "start_time": "2022-05-30T18:56:21.936Z"
   },
   {
    "duration": 65,
    "start_time": "2022-05-30T18:56:22.118Z"
   },
   {
    "duration": 132,
    "start_time": "2022-05-30T18:56:22.191Z"
   },
   {
    "duration": 255,
    "start_time": "2022-05-30T18:56:22.325Z"
   },
   {
    "duration": 101,
    "start_time": "2022-05-30T18:56:22.581Z"
   },
   {
    "duration": 24,
    "start_time": "2022-05-30T18:56:22.685Z"
   },
   {
    "duration": 13192,
    "start_time": "2022-05-30T18:56:22.758Z"
   },
   {
    "duration": 18,
    "start_time": "2022-05-30T18:56:35.962Z"
   },
   {
    "duration": 30,
    "start_time": "2022-05-30T18:56:35.987Z"
   },
   {
    "duration": 135,
    "start_time": "2022-05-30T18:56:36.019Z"
   },
   {
    "duration": 0,
    "start_time": "2022-05-30T18:56:36.158Z"
   },
   {
    "duration": 0,
    "start_time": "2022-05-30T18:56:36.159Z"
   },
   {
    "duration": 0,
    "start_time": "2022-05-30T18:56:36.160Z"
   },
   {
    "duration": 0,
    "start_time": "2022-05-30T18:56:36.168Z"
   },
   {
    "duration": 0,
    "start_time": "2022-05-30T18:56:36.169Z"
   },
   {
    "duration": 0,
    "start_time": "2022-05-30T18:56:36.170Z"
   },
   {
    "duration": 0,
    "start_time": "2022-05-30T18:56:36.170Z"
   },
   {
    "duration": 0,
    "start_time": "2022-05-30T18:56:36.171Z"
   },
   {
    "duration": 1,
    "start_time": "2022-05-30T18:56:36.176Z"
   },
   {
    "duration": 0,
    "start_time": "2022-05-30T18:56:36.177Z"
   },
   {
    "duration": 0,
    "start_time": "2022-05-30T18:56:36.182Z"
   },
   {
    "duration": 0,
    "start_time": "2022-05-30T18:56:36.183Z"
   },
   {
    "duration": 0,
    "start_time": "2022-05-30T18:56:36.184Z"
   },
   {
    "duration": 0,
    "start_time": "2022-05-30T18:56:36.187Z"
   },
   {
    "duration": 0,
    "start_time": "2022-05-30T18:56:36.188Z"
   },
   {
    "duration": 0,
    "start_time": "2022-05-30T18:56:36.189Z"
   },
   {
    "duration": 0,
    "start_time": "2022-05-30T18:56:36.192Z"
   },
   {
    "duration": 33,
    "start_time": "2022-05-30T19:02:59.557Z"
   },
   {
    "duration": 22,
    "start_time": "2022-05-30T19:03:28.450Z"
   },
   {
    "duration": 12,
    "start_time": "2022-05-30T19:03:42.482Z"
   },
   {
    "duration": 10,
    "start_time": "2022-05-30T19:03:51.932Z"
   },
   {
    "duration": 25,
    "start_time": "2022-05-30T19:04:16.072Z"
   },
   {
    "duration": 19,
    "start_time": "2022-05-30T19:04:41.211Z"
   },
   {
    "duration": 203,
    "start_time": "2022-05-30T19:09:37.915Z"
   },
   {
    "duration": 27,
    "start_time": "2022-05-30T19:11:30.772Z"
   },
   {
    "duration": 15,
    "start_time": "2022-05-30T19:11:42.996Z"
   },
   {
    "duration": 15,
    "start_time": "2022-05-30T19:12:39.681Z"
   },
   {
    "duration": 13,
    "start_time": "2022-05-30T19:12:48.101Z"
   },
   {
    "duration": 140,
    "start_time": "2022-05-30T19:12:55.305Z"
   },
   {
    "duration": 14,
    "start_time": "2022-05-30T19:13:00.189Z"
   },
   {
    "duration": 22,
    "start_time": "2022-05-30T19:13:23.156Z"
   },
   {
    "duration": 14,
    "start_time": "2022-05-30T19:14:59.688Z"
   },
   {
    "duration": 14,
    "start_time": "2022-05-30T19:15:06.143Z"
   },
   {
    "duration": 16,
    "start_time": "2022-05-30T19:15:32.224Z"
   },
   {
    "duration": 20,
    "start_time": "2022-05-30T19:15:49.748Z"
   },
   {
    "duration": 23,
    "start_time": "2022-05-30T19:16:02.752Z"
   },
   {
    "duration": 20,
    "start_time": "2022-05-30T19:18:00.242Z"
   },
   {
    "duration": 195,
    "start_time": "2022-05-30T19:18:05.817Z"
   },
   {
    "duration": 17,
    "start_time": "2022-05-30T19:18:38.975Z"
   },
   {
    "duration": 19,
    "start_time": "2022-05-30T19:19:17.283Z"
   },
   {
    "duration": 301,
    "start_time": "2022-05-30T19:21:09.745Z"
   },
   {
    "duration": 200,
    "start_time": "2022-05-30T19:21:29.209Z"
   },
   {
    "duration": 195,
    "start_time": "2022-05-30T19:22:11.244Z"
   },
   {
    "duration": 185,
    "start_time": "2022-05-30T19:34:08.493Z"
   },
   {
    "duration": 34,
    "start_time": "2022-05-30T19:43:58.247Z"
   },
   {
    "duration": 212,
    "start_time": "2022-05-30T19:45:38.487Z"
   },
   {
    "duration": 206,
    "start_time": "2022-05-30T19:45:43.286Z"
   },
   {
    "duration": 193,
    "start_time": "2022-05-30T19:45:46.543Z"
   },
   {
    "duration": 666,
    "start_time": "2022-05-30T19:45:50.338Z"
   },
   {
    "duration": 541,
    "start_time": "2022-05-30T19:45:53.783Z"
   },
   {
    "duration": 33,
    "start_time": "2022-05-30T19:49:44.755Z"
   },
   {
    "duration": 18,
    "start_time": "2022-05-30T19:49:46.177Z"
   },
   {
    "duration": 26,
    "start_time": "2022-05-30T19:50:24.853Z"
   },
   {
    "duration": 18,
    "start_time": "2022-05-30T19:50:35.546Z"
   },
   {
    "duration": 17,
    "start_time": "2022-05-30T19:50:37.539Z"
   },
   {
    "duration": 5,
    "start_time": "2022-05-30T20:08:58.448Z"
   },
   {
    "duration": 12019,
    "start_time": "2022-05-30T20:09:05.041Z"
   },
   {
    "duration": 10,
    "start_time": "2022-05-30T20:09:20.444Z"
   },
   {
    "duration": 36,
    "start_time": "2022-05-30T20:09:23.650Z"
   },
   {
    "duration": 6,
    "start_time": "2022-05-30T20:09:28.201Z"
   },
   {
    "duration": 7,
    "start_time": "2022-05-30T20:17:10.247Z"
   },
   {
    "duration": 8,
    "start_time": "2022-05-30T20:17:17.635Z"
   },
   {
    "duration": 8,
    "start_time": "2022-05-30T20:17:34.075Z"
   },
   {
    "duration": 8,
    "start_time": "2022-05-30T20:17:41.485Z"
   },
   {
    "duration": 11,
    "start_time": "2022-05-30T20:17:54.465Z"
   },
   {
    "duration": 24,
    "start_time": "2022-05-30T20:18:11.164Z"
   },
   {
    "duration": 23,
    "start_time": "2022-05-30T20:19:34.080Z"
   },
   {
    "duration": 69,
    "start_time": "2022-05-31T17:14:37.129Z"
   },
   {
    "duration": 1435,
    "start_time": "2022-05-31T17:14:49.030Z"
   },
   {
    "duration": 1037,
    "start_time": "2022-05-31T17:14:50.467Z"
   },
   {
    "duration": 164,
    "start_time": "2022-05-31T17:14:51.506Z"
   },
   {
    "duration": 255,
    "start_time": "2022-05-31T17:14:51.673Z"
   },
   {
    "duration": 232,
    "start_time": "2022-05-31T17:14:51.930Z"
   },
   {
    "duration": 90,
    "start_time": "2022-05-31T17:14:52.164Z"
   },
   {
    "duration": 632,
    "start_time": "2022-05-31T17:14:52.256Z"
   },
   {
    "duration": 37,
    "start_time": "2022-05-31T17:14:52.890Z"
   },
   {
    "duration": 31,
    "start_time": "2022-05-31T17:14:52.929Z"
   },
   {
    "duration": 106,
    "start_time": "2022-05-31T17:14:52.963Z"
   },
   {
    "duration": 77,
    "start_time": "2022-05-31T17:14:53.071Z"
   },
   {
    "duration": 214,
    "start_time": "2022-05-31T17:14:53.150Z"
   },
   {
    "duration": 25,
    "start_time": "2022-05-31T17:14:53.366Z"
   },
   {
    "duration": 29,
    "start_time": "2022-05-31T17:14:53.394Z"
   },
   {
    "duration": 25,
    "start_time": "2022-05-31T17:14:53.426Z"
   },
   {
    "duration": 136,
    "start_time": "2022-05-31T17:14:53.453Z"
   },
   {
    "duration": 52,
    "start_time": "2022-05-31T17:14:53.591Z"
   },
   {
    "duration": 118,
    "start_time": "2022-05-31T17:14:53.645Z"
   },
   {
    "duration": 168,
    "start_time": "2022-05-31T17:14:53.765Z"
   },
   {
    "duration": 36,
    "start_time": "2022-05-31T17:14:53.935Z"
   },
   {
    "duration": 13,
    "start_time": "2022-05-31T17:14:53.973Z"
   },
   {
    "duration": 11368,
    "start_time": "2022-05-31T17:14:53.988Z"
   },
   {
    "duration": 6,
    "start_time": "2022-05-31T17:15:05.358Z"
   },
   {
    "duration": 15,
    "start_time": "2022-05-31T17:15:05.366Z"
   },
   {
    "duration": 36,
    "start_time": "2022-05-31T17:15:05.383Z"
   },
   {
    "duration": 41,
    "start_time": "2022-05-31T17:15:05.421Z"
   },
   {
    "duration": 51,
    "start_time": "2022-05-31T17:15:05.464Z"
   },
   {
    "duration": 55,
    "start_time": "2022-05-31T17:15:05.520Z"
   },
   {
    "duration": 270,
    "start_time": "2022-05-31T17:15:05.577Z"
   },
   {
    "duration": 226,
    "start_time": "2022-05-31T17:15:05.849Z"
   },
   {
    "duration": 215,
    "start_time": "2022-05-31T17:15:06.077Z"
   },
   {
    "duration": 201,
    "start_time": "2022-05-31T17:15:06.294Z"
   },
   {
    "duration": 281,
    "start_time": "2022-05-31T17:15:06.497Z"
   },
   {
    "duration": 278,
    "start_time": "2022-05-31T17:15:06.780Z"
   },
   {
    "duration": 783,
    "start_time": "2022-05-31T17:15:07.060Z"
   },
   {
    "duration": 684,
    "start_time": "2022-05-31T17:15:07.845Z"
   },
   {
    "duration": 27,
    "start_time": "2022-05-31T17:15:08.531Z"
   },
   {
    "duration": 32,
    "start_time": "2022-05-31T17:15:08.560Z"
   },
   {
    "duration": 26,
    "start_time": "2022-05-31T17:15:08.594Z"
   },
   {
    "duration": 12176,
    "start_time": "2022-05-31T17:15:08.622Z"
   },
   {
    "duration": 24,
    "start_time": "2022-05-31T17:15:20.800Z"
   },
   {
    "duration": 33,
    "start_time": "2022-05-31T17:15:20.826Z"
   },
   {
    "duration": 5,
    "start_time": "2022-05-31T17:15:20.861Z"
   },
   {
    "duration": 16,
    "start_time": "2022-05-31T17:15:20.868Z"
   },
   {
    "duration": 56,
    "start_time": "2022-05-31T17:15:20.886Z"
   },
   {
    "duration": 3,
    "start_time": "2022-05-31T17:15:20.944Z"
   },
   {
    "duration": 131,
    "start_time": "2022-05-31T17:17:04.198Z"
   },
   {
    "duration": 28,
    "start_time": "2022-05-31T17:17:29.730Z"
   },
   {
    "duration": 34,
    "start_time": "2022-05-31T17:17:56.081Z"
   },
   {
    "duration": 30,
    "start_time": "2022-05-31T17:18:08.250Z"
   },
   {
    "duration": 17,
    "start_time": "2022-05-31T17:19:09.003Z"
   },
   {
    "duration": 22,
    "start_time": "2022-05-31T17:19:13.880Z"
   },
   {
    "duration": 17,
    "start_time": "2022-05-31T17:19:32.632Z"
   },
   {
    "duration": 23,
    "start_time": "2022-05-31T17:19:36.696Z"
   },
   {
    "duration": 30,
    "start_time": "2022-05-31T17:19:40.435Z"
   },
   {
    "duration": 1198,
    "start_time": "2022-05-31T17:19:45.487Z"
   },
   {
    "duration": 507,
    "start_time": "2022-05-31T17:19:46.688Z"
   },
   {
    "duration": 154,
    "start_time": "2022-05-31T17:19:47.197Z"
   },
   {
    "duration": 213,
    "start_time": "2022-05-31T17:19:47.353Z"
   },
   {
    "duration": 250,
    "start_time": "2022-05-31T17:19:47.567Z"
   },
   {
    "duration": 90,
    "start_time": "2022-05-31T17:19:47.819Z"
   },
   {
    "duration": 656,
    "start_time": "2022-05-31T17:19:47.912Z"
   },
   {
    "duration": 29,
    "start_time": "2022-05-31T17:19:48.570Z"
   },
   {
    "duration": 58,
    "start_time": "2022-05-31T17:19:48.601Z"
   },
   {
    "duration": 106,
    "start_time": "2022-05-31T17:19:48.662Z"
   },
   {
    "duration": 42,
    "start_time": "2022-05-31T17:19:48.770Z"
   },
   {
    "duration": 178,
    "start_time": "2022-05-31T17:19:48.814Z"
   },
   {
    "duration": 42,
    "start_time": "2022-05-31T17:19:48.994Z"
   },
   {
    "duration": 12,
    "start_time": "2022-05-31T17:19:49.038Z"
   },
   {
    "duration": 15,
    "start_time": "2022-05-31T17:19:49.052Z"
   },
   {
    "duration": 169,
    "start_time": "2022-05-31T17:19:49.069Z"
   },
   {
    "duration": 22,
    "start_time": "2022-05-31T17:19:49.240Z"
   },
   {
    "duration": 126,
    "start_time": "2022-05-31T17:19:49.264Z"
   },
   {
    "duration": 191,
    "start_time": "2022-05-31T17:19:49.392Z"
   },
   {
    "duration": 51,
    "start_time": "2022-05-31T17:19:49.585Z"
   },
   {
    "duration": 9,
    "start_time": "2022-05-31T17:19:49.638Z"
   },
   {
    "duration": 10915,
    "start_time": "2022-05-31T17:19:49.649Z"
   },
   {
    "duration": 5,
    "start_time": "2022-05-31T17:20:00.566Z"
   },
   {
    "duration": 16,
    "start_time": "2022-05-31T17:20:00.573Z"
   },
   {
    "duration": 19,
    "start_time": "2022-05-31T17:20:00.592Z"
   },
   {
    "duration": 37,
    "start_time": "2022-05-31T17:20:00.613Z"
   },
   {
    "duration": 39,
    "start_time": "2022-05-31T17:20:00.653Z"
   },
   {
    "duration": 38,
    "start_time": "2022-05-31T17:20:00.698Z"
   },
   {
    "duration": 213,
    "start_time": "2022-05-31T17:20:00.738Z"
   },
   {
    "duration": 219,
    "start_time": "2022-05-31T17:20:00.953Z"
   },
   {
    "duration": 196,
    "start_time": "2022-05-31T17:20:01.174Z"
   },
   {
    "duration": 248,
    "start_time": "2022-05-31T17:20:01.373Z"
   },
   {
    "duration": 267,
    "start_time": "2022-05-31T17:20:01.626Z"
   },
   {
    "duration": 267,
    "start_time": "2022-05-31T17:20:01.895Z"
   },
   {
    "duration": 581,
    "start_time": "2022-05-31T17:20:02.164Z"
   },
   {
    "duration": 645,
    "start_time": "2022-05-31T17:20:02.747Z"
   },
   {
    "duration": 18,
    "start_time": "2022-05-31T17:20:03.393Z"
   },
   {
    "duration": 28,
    "start_time": "2022-05-31T17:20:03.413Z"
   },
   {
    "duration": 24,
    "start_time": "2022-05-31T17:20:03.443Z"
   },
   {
    "duration": 12254,
    "start_time": "2022-05-31T17:20:03.469Z"
   },
   {
    "duration": 32,
    "start_time": "2022-05-31T17:20:15.726Z"
   },
   {
    "duration": 48,
    "start_time": "2022-05-31T17:20:15.760Z"
   },
   {
    "duration": 5,
    "start_time": "2022-05-31T17:20:15.810Z"
   },
   {
    "duration": 27,
    "start_time": "2022-05-31T17:20:15.826Z"
   },
   {
    "duration": 23,
    "start_time": "2022-05-31T17:20:15.855Z"
   },
   {
    "duration": 6,
    "start_time": "2022-05-31T17:20:15.880Z"
   },
   {
    "duration": 28,
    "start_time": "2022-05-31T17:20:29.610Z"
   },
   {
    "duration": 21,
    "start_time": "2022-05-31T17:20:32.417Z"
   },
   {
    "duration": 25,
    "start_time": "2022-05-31T17:20:35.515Z"
   },
   {
    "duration": 11,
    "start_time": "2022-05-31T17:21:49.490Z"
   },
   {
    "duration": 22,
    "start_time": "2022-05-31T17:21:50.112Z"
   },
   {
    "duration": 13,
    "start_time": "2022-05-31T17:24:09.035Z"
   },
   {
    "duration": 109,
    "start_time": "2022-05-31T17:24:11.825Z"
   },
   {
    "duration": 22,
    "start_time": "2022-05-31T17:24:17.243Z"
   },
   {
    "duration": 14,
    "start_time": "2022-05-31T17:24:29.373Z"
   },
   {
    "duration": 17,
    "start_time": "2022-05-31T17:24:29.981Z"
   },
   {
    "duration": 29,
    "start_time": "2022-05-31T17:25:22.380Z"
   },
   {
    "duration": 22,
    "start_time": "2022-05-31T17:25:23.863Z"
   },
   {
    "duration": 27,
    "start_time": "2022-05-31T17:25:24.427Z"
   },
   {
    "duration": 465,
    "start_time": "2022-05-31T17:26:40.135Z"
   },
   {
    "duration": 13,
    "start_time": "2022-05-31T17:26:45.900Z"
   },
   {
    "duration": 387,
    "start_time": "2022-05-31T17:26:48.125Z"
   },
   {
    "duration": 164,
    "start_time": "2022-05-31T17:29:02.231Z"
   },
   {
    "duration": 20,
    "start_time": "2022-05-31T17:30:07.902Z"
   },
   {
    "duration": 116,
    "start_time": "2022-05-31T17:30:43.010Z"
   },
   {
    "duration": 6,
    "start_time": "2022-05-31T17:30:55.096Z"
   },
   {
    "duration": 11,
    "start_time": "2022-05-31T17:32:42.118Z"
   },
   {
    "duration": 122,
    "start_time": "2022-05-31T17:33:00.877Z"
   },
   {
    "duration": 537,
    "start_time": "2022-05-31T17:33:19.299Z"
   },
   {
    "duration": 573,
    "start_time": "2022-05-31T17:33:45.331Z"
   },
   {
    "duration": 9,
    "start_time": "2022-05-31T17:35:03.113Z"
   },
   {
    "duration": 32,
    "start_time": "2022-05-31T17:35:06.437Z"
   },
   {
    "duration": 22,
    "start_time": "2022-05-31T17:35:52.729Z"
   },
   {
    "duration": 19,
    "start_time": "2022-05-31T17:35:54.438Z"
   },
   {
    "duration": 21,
    "start_time": "2022-05-31T17:35:56.182Z"
   },
   {
    "duration": 22,
    "start_time": "2022-05-31T17:36:20.857Z"
   },
   {
    "duration": 21,
    "start_time": "2022-05-31T17:36:37.841Z"
   },
   {
    "duration": 317,
    "start_time": "2022-05-31T17:37:00.567Z"
   },
   {
    "duration": 454,
    "start_time": "2022-05-31T17:37:26.748Z"
   },
   {
    "duration": 303,
    "start_time": "2022-05-31T17:38:08.092Z"
   },
   {
    "duration": 403,
    "start_time": "2022-05-31T17:39:27.870Z"
   },
   {
    "duration": 393,
    "start_time": "2022-05-31T17:39:46.768Z"
   },
   {
    "duration": 20,
    "start_time": "2022-05-31T17:40:59.499Z"
   },
   {
    "duration": 39,
    "start_time": "2022-05-31T17:42:00.703Z"
   },
   {
    "duration": 16,
    "start_time": "2022-05-31T17:42:01.609Z"
   },
   {
    "duration": 10,
    "start_time": "2022-05-31T17:42:31.051Z"
   },
   {
    "duration": 14,
    "start_time": "2022-05-31T17:42:34.030Z"
   },
   {
    "duration": 23,
    "start_time": "2022-05-31T17:42:41.690Z"
   },
   {
    "duration": 12,
    "start_time": "2022-05-31T17:43:57.706Z"
   },
   {
    "duration": 29,
    "start_time": "2022-05-31T17:44:00.102Z"
   },
   {
    "duration": 8,
    "start_time": "2022-05-31T17:46:17.163Z"
   },
   {
    "duration": 7,
    "start_time": "2022-05-31T17:46:17.685Z"
   },
   {
    "duration": 11,
    "start_time": "2022-05-31T17:47:14.255Z"
   },
   {
    "duration": 11,
    "start_time": "2022-05-31T17:47:15.715Z"
   },
   {
    "duration": 59,
    "start_time": "2022-05-31T17:49:09.649Z"
   },
   {
    "duration": 14,
    "start_time": "2022-05-31T17:49:27.263Z"
   },
   {
    "duration": 8,
    "start_time": "2022-05-31T17:49:29.922Z"
   },
   {
    "duration": 12,
    "start_time": "2022-05-31T17:49:30.636Z"
   },
   {
    "duration": 17,
    "start_time": "2022-05-31T17:50:07.506Z"
   },
   {
    "duration": 15,
    "start_time": "2022-05-31T17:50:25.413Z"
   },
   {
    "duration": 14,
    "start_time": "2022-05-31T17:50:39.983Z"
   },
   {
    "duration": 14,
    "start_time": "2022-05-31T17:50:40.663Z"
   },
   {
    "duration": 14,
    "start_time": "2022-05-31T17:50:58.365Z"
   },
   {
    "duration": 6,
    "start_time": "2022-05-31T17:50:59.498Z"
   },
   {
    "duration": 13,
    "start_time": "2022-05-31T17:51:39.323Z"
   },
   {
    "duration": 17,
    "start_time": "2022-05-31T17:51:42.647Z"
   },
   {
    "duration": 10,
    "start_time": "2022-05-31T17:51:43.262Z"
   },
   {
    "duration": 37,
    "start_time": "2022-05-31T17:53:13.371Z"
   },
   {
    "duration": 26,
    "start_time": "2022-05-31T17:53:26.398Z"
   },
   {
    "duration": 30,
    "start_time": "2022-05-31T17:53:32.574Z"
   },
   {
    "duration": 26,
    "start_time": "2022-05-31T17:53:36.750Z"
   },
   {
    "duration": 22,
    "start_time": "2022-05-31T17:53:44.668Z"
   },
   {
    "duration": 26,
    "start_time": "2022-05-31T17:53:58.964Z"
   },
   {
    "duration": 14,
    "start_time": "2022-05-31T17:54:05.883Z"
   },
   {
    "duration": 31,
    "start_time": "2022-05-31T17:54:16.050Z"
   },
   {
    "duration": 7,
    "start_time": "2022-05-31T17:54:27.927Z"
   },
   {
    "duration": 13,
    "start_time": "2022-05-31T17:54:29.565Z"
   },
   {
    "duration": 14,
    "start_time": "2022-05-31T17:55:00.756Z"
   },
   {
    "duration": 20,
    "start_time": "2022-05-31T17:55:02.072Z"
   },
   {
    "duration": 6,
    "start_time": "2022-05-31T17:55:08.345Z"
   },
   {
    "duration": 7,
    "start_time": "2022-05-31T17:55:08.992Z"
   },
   {
    "duration": 22,
    "start_time": "2022-05-31T17:55:18.553Z"
   },
   {
    "duration": 17,
    "start_time": "2022-05-31T17:55:44.149Z"
   },
   {
    "duration": 22,
    "start_time": "2022-05-31T17:55:44.806Z"
   },
   {
    "duration": 7,
    "start_time": "2022-05-31T17:55:47.656Z"
   },
   {
    "duration": 8,
    "start_time": "2022-05-31T17:55:48.153Z"
   },
   {
    "duration": 18,
    "start_time": "2022-05-31T17:56:06.691Z"
   },
   {
    "duration": 8,
    "start_time": "2022-05-31T17:56:07.314Z"
   },
   {
    "duration": 25,
    "start_time": "2022-05-31T17:57:05.550Z"
   },
   {
    "duration": 9,
    "start_time": "2022-05-31T17:57:20.736Z"
   },
   {
    "duration": 6,
    "start_time": "2022-05-31T17:57:59.507Z"
   },
   {
    "duration": 7,
    "start_time": "2022-05-31T17:58:04.742Z"
   },
   {
    "duration": 20,
    "start_time": "2022-05-31T17:58:18.382Z"
   },
   {
    "duration": 10,
    "start_time": "2022-05-31T17:58:27.252Z"
   },
   {
    "duration": 10,
    "start_time": "2022-05-31T17:58:36.883Z"
   },
   {
    "duration": 14,
    "start_time": "2022-05-31T17:59:36.457Z"
   },
   {
    "duration": 15,
    "start_time": "2022-05-31T18:00:15.025Z"
   },
   {
    "duration": 17,
    "start_time": "2022-05-31T18:01:27.017Z"
   },
   {
    "duration": 13,
    "start_time": "2022-05-31T18:01:58.612Z"
   },
   {
    "duration": 19,
    "start_time": "2022-05-31T18:03:06.272Z"
   },
   {
    "duration": 12,
    "start_time": "2022-05-31T18:03:07.557Z"
   },
   {
    "duration": 27,
    "start_time": "2022-05-31T18:03:23.601Z"
   },
   {
    "duration": 11,
    "start_time": "2022-05-31T18:03:24.511Z"
   },
   {
    "duration": 17,
    "start_time": "2022-05-31T18:03:26.393Z"
   },
   {
    "duration": 24,
    "start_time": "2022-05-31T18:04:00.921Z"
   },
   {
    "duration": 23,
    "start_time": "2022-05-31T18:04:43.710Z"
   },
   {
    "duration": 11,
    "start_time": "2022-05-31T18:04:43.883Z"
   },
   {
    "duration": 28,
    "start_time": "2022-05-31T18:04:45.461Z"
   },
   {
    "duration": 11,
    "start_time": "2022-05-31T18:04:45.491Z"
   },
   {
    "duration": 254,
    "start_time": "2022-05-31T18:05:16.350Z"
   },
   {
    "duration": 48,
    "start_time": "2022-05-31T18:05:47.626Z"
   },
   {
    "duration": 29,
    "start_time": "2022-05-31T18:06:04.856Z"
   },
   {
    "duration": 317,
    "start_time": "2022-05-31T18:06:11.607Z"
   },
   {
    "duration": 811,
    "start_time": "2022-05-31T18:06:30.953Z"
   },
   {
    "duration": 192,
    "start_time": "2022-05-31T18:07:40.658Z"
   },
   {
    "duration": 522,
    "start_time": "2022-05-31T18:07:53.799Z"
   },
   {
    "duration": 459,
    "start_time": "2022-05-31T18:08:03.616Z"
   },
   {
    "duration": 619,
    "start_time": "2022-05-31T18:09:32.936Z"
   },
   {
    "duration": 25,
    "start_time": "2022-05-31T18:11:17.668Z"
   },
   {
    "duration": 26,
    "start_time": "2022-05-31T18:11:41.348Z"
   },
   {
    "duration": 19,
    "start_time": "2022-05-31T18:11:54.162Z"
   },
   {
    "duration": 23,
    "start_time": "2022-05-31T18:12:01.292Z"
   },
   {
    "duration": 26,
    "start_time": "2022-05-31T18:12:13.464Z"
   },
   {
    "duration": 26,
    "start_time": "2022-05-31T18:12:22.902Z"
   },
   {
    "duration": 26,
    "start_time": "2022-05-31T18:12:34.488Z"
   },
   {
    "duration": 597,
    "start_time": "2022-05-31T18:13:11.103Z"
   },
   {
    "duration": 1211,
    "start_time": "2022-05-31T18:19:53.869Z"
   },
   {
    "duration": 1028,
    "start_time": "2022-05-31T18:20:49.914Z"
   },
   {
    "duration": 12,
    "start_time": "2022-05-31T18:21:19.802Z"
   },
   {
    "duration": 1181,
    "start_time": "2022-05-31T18:21:24.282Z"
   },
   {
    "duration": 1237,
    "start_time": "2022-05-31T18:21:33.942Z"
   },
   {
    "duration": 1013,
    "start_time": "2022-05-31T18:22:06.132Z"
   },
   {
    "duration": 1091,
    "start_time": "2022-05-31T18:22:14.330Z"
   },
   {
    "duration": 690,
    "start_time": "2022-05-31T18:22:19.965Z"
   },
   {
    "duration": 788,
    "start_time": "2022-05-31T18:22:33.643Z"
   },
   {
    "duration": 625,
    "start_time": "2022-05-31T18:23:30.302Z"
   },
   {
    "duration": 595,
    "start_time": "2022-05-31T18:24:05.553Z"
   },
   {
    "duration": 80,
    "start_time": "2022-05-31T18:30:41.532Z"
   },
   {
    "duration": 47,
    "start_time": "2022-05-31T18:31:31.618Z"
   },
   {
    "duration": 241,
    "start_time": "2022-05-31T18:31:37.041Z"
   },
   {
    "duration": 233,
    "start_time": "2022-05-31T18:31:43.722Z"
   },
   {
    "duration": 15,
    "start_time": "2022-05-31T18:35:36.105Z"
   },
   {
    "duration": 36,
    "start_time": "2022-05-31T18:36:07.476Z"
   },
   {
    "duration": 22,
    "start_time": "2022-05-31T18:37:40.510Z"
   },
   {
    "duration": 53,
    "start_time": "2022-05-31T22:24:58.280Z"
   },
   {
    "duration": 1136,
    "start_time": "2022-05-31T22:25:03.914Z"
   },
   {
    "duration": 1374,
    "start_time": "2022-05-31T22:25:05.052Z"
   },
   {
    "duration": 141,
    "start_time": "2022-05-31T22:25:06.428Z"
   },
   {
    "duration": 196,
    "start_time": "2022-05-31T22:25:06.571Z"
   },
   {
    "duration": 192,
    "start_time": "2022-05-31T22:25:06.769Z"
   },
   {
    "duration": 73,
    "start_time": "2022-05-31T22:25:06.963Z"
   },
   {
    "duration": 535,
    "start_time": "2022-05-31T22:25:07.038Z"
   },
   {
    "duration": 24,
    "start_time": "2022-05-31T22:25:07.574Z"
   },
   {
    "duration": 39,
    "start_time": "2022-05-31T22:25:07.600Z"
   },
   {
    "duration": 95,
    "start_time": "2022-05-31T22:25:07.642Z"
   },
   {
    "duration": 39,
    "start_time": "2022-05-31T22:25:07.738Z"
   },
   {
    "duration": 149,
    "start_time": "2022-05-31T22:25:07.779Z"
   },
   {
    "duration": 25,
    "start_time": "2022-05-31T22:25:07.929Z"
   },
   {
    "duration": 13,
    "start_time": "2022-05-31T22:25:07.956Z"
   },
   {
    "duration": 14,
    "start_time": "2022-05-31T22:25:07.971Z"
   },
   {
    "duration": 118,
    "start_time": "2022-05-31T22:25:07.987Z"
   },
   {
    "duration": 41,
    "start_time": "2022-05-31T22:25:08.107Z"
   },
   {
    "duration": 97,
    "start_time": "2022-05-31T22:25:08.150Z"
   },
   {
    "duration": 146,
    "start_time": "2022-05-31T22:25:08.249Z"
   },
   {
    "duration": 48,
    "start_time": "2022-05-31T22:25:08.396Z"
   },
   {
    "duration": 8,
    "start_time": "2022-05-31T22:25:08.446Z"
   },
   {
    "duration": 10002,
    "start_time": "2022-05-31T22:25:08.456Z"
   },
   {
    "duration": 5,
    "start_time": "2022-05-31T22:25:18.460Z"
   },
   {
    "duration": 8,
    "start_time": "2022-05-31T22:25:18.467Z"
   },
   {
    "duration": 13,
    "start_time": "2022-05-31T22:25:18.477Z"
   },
   {
    "duration": 38,
    "start_time": "2022-05-31T22:25:18.492Z"
   },
   {
    "duration": 14,
    "start_time": "2022-05-31T22:25:18.532Z"
   },
   {
    "duration": 22,
    "start_time": "2022-05-31T22:25:18.550Z"
   },
   {
    "duration": 206,
    "start_time": "2022-05-31T22:25:18.573Z"
   },
   {
    "duration": 185,
    "start_time": "2022-05-31T22:25:18.781Z"
   },
   {
    "duration": 176,
    "start_time": "2022-05-31T22:25:18.968Z"
   },
   {
    "duration": 199,
    "start_time": "2022-05-31T22:25:19.146Z"
   },
   {
    "duration": 180,
    "start_time": "2022-05-31T22:25:19.347Z"
   },
   {
    "duration": 184,
    "start_time": "2022-05-31T22:25:19.529Z"
   },
   {
    "duration": 489,
    "start_time": "2022-05-31T22:25:19.714Z"
   },
   {
    "duration": 561,
    "start_time": "2022-05-31T22:25:20.205Z"
   },
   {
    "duration": 14,
    "start_time": "2022-05-31T22:25:20.767Z"
   },
   {
    "duration": 21,
    "start_time": "2022-05-31T22:25:20.783Z"
   },
   {
    "duration": 26,
    "start_time": "2022-05-31T22:25:20.805Z"
   },
   {
    "duration": 10479,
    "start_time": "2022-05-31T22:25:20.832Z"
   },
   {
    "duration": 30,
    "start_time": "2022-05-31T22:25:31.313Z"
   },
   {
    "duration": 38,
    "start_time": "2022-05-31T22:25:31.345Z"
   },
   {
    "duration": 44,
    "start_time": "2022-05-31T22:25:31.385Z"
   },
   {
    "duration": 6,
    "start_time": "2022-05-31T22:25:31.431Z"
   },
   {
    "duration": 248,
    "start_time": "2022-05-31T22:25:31.439Z"
   },
   {
    "duration": 17,
    "start_time": "2022-05-31T22:25:31.689Z"
   },
   {
    "duration": 24,
    "start_time": "2022-05-31T22:25:31.707Z"
   },
   {
    "duration": 31,
    "start_time": "2022-05-31T22:25:31.733Z"
   },
   {
    "duration": 28,
    "start_time": "2022-05-31T22:25:31.766Z"
   },
   {
    "duration": 459,
    "start_time": "2022-05-31T22:25:31.796Z"
   },
   {
    "duration": 438,
    "start_time": "2022-05-31T22:25:32.257Z"
   },
   {
    "duration": 2,
    "start_time": "2022-05-31T22:25:32.698Z"
   },
   {
    "duration": 4,
    "start_time": "2022-05-31T22:25:41.459Z"
   },
   {
    "duration": 98,
    "start_time": "2022-05-31T22:26:49.173Z"
   },
   {
    "duration": 4,
    "start_time": "2022-05-31T22:26:52.965Z"
   },
   {
    "duration": 12,
    "start_time": "2022-05-31T22:26:59.013Z"
   },
   {
    "duration": 4,
    "start_time": "2022-05-31T22:27:07.158Z"
   },
   {
    "duration": 4,
    "start_time": "2022-05-31T22:27:22.887Z"
   },
   {
    "duration": 15,
    "start_time": "2022-05-31T22:27:37.518Z"
   },
   {
    "duration": 11,
    "start_time": "2022-05-31T22:28:07.072Z"
   },
   {
    "duration": 6,
    "start_time": "2022-05-31T22:31:02.590Z"
   },
   {
    "duration": 17,
    "start_time": "2022-05-31T22:32:49.050Z"
   },
   {
    "duration": 6,
    "start_time": "2022-05-31T22:33:03.650Z"
   },
   {
    "duration": 5,
    "start_time": "2022-05-31T22:33:07.316Z"
   },
   {
    "duration": 4,
    "start_time": "2022-05-31T22:33:14.067Z"
   },
   {
    "duration": 3,
    "start_time": "2022-05-31T22:34:16.710Z"
   },
   {
    "duration": 14,
    "start_time": "2022-05-31T22:34:17.516Z"
   },
   {
    "duration": 14,
    "start_time": "2022-05-31T22:34:44.191Z"
   },
   {
    "duration": 1077,
    "start_time": "2022-05-31T22:34:51.103Z"
   },
   {
    "duration": 25,
    "start_time": "2022-05-31T22:35:02.384Z"
   },
   {
    "duration": 232,
    "start_time": "2022-05-31T22:35:16.352Z"
   },
   {
    "duration": 8,
    "start_time": "2022-05-31T22:36:08.512Z"
   },
   {
    "duration": 261,
    "start_time": "2022-05-31T22:36:09.721Z"
   },
   {
    "duration": 15,
    "start_time": "2022-05-31T22:36:24.795Z"
   },
   {
    "duration": 4,
    "start_time": "2022-05-31T22:36:32.227Z"
   },
   {
    "duration": 204,
    "start_time": "2022-05-31T22:36:36.282Z"
   },
   {
    "duration": 157,
    "start_time": "2022-05-31T22:36:39.195Z"
   },
   {
    "duration": 155,
    "start_time": "2022-05-31T22:36:44.859Z"
   },
   {
    "duration": 52,
    "start_time": "2022-05-31T22:36:48.652Z"
   },
   {
    "duration": 1148,
    "start_time": "2022-05-31T22:39:55.962Z"
   },
   {
    "duration": 752,
    "start_time": "2022-05-31T22:39:57.112Z"
   },
   {
    "duration": 101,
    "start_time": "2022-05-31T22:39:57.865Z"
   },
   {
    "duration": 181,
    "start_time": "2022-05-31T22:39:57.967Z"
   },
   {
    "duration": 204,
    "start_time": "2022-05-31T22:39:58.151Z"
   },
   {
    "duration": 54,
    "start_time": "2022-05-31T22:39:58.356Z"
   },
   {
    "duration": 497,
    "start_time": "2022-05-31T22:39:58.412Z"
   },
   {
    "duration": 27,
    "start_time": "2022-05-31T22:39:58.911Z"
   },
   {
    "duration": 28,
    "start_time": "2022-05-31T22:39:58.940Z"
   },
   {
    "duration": 15,
    "start_time": "2022-05-31T22:39:58.969Z"
   },
   {
    "duration": 63,
    "start_time": "2022-05-31T22:39:58.985Z"
   },
   {
    "duration": 186,
    "start_time": "2022-05-31T22:39:59.049Z"
   },
   {
    "duration": 26,
    "start_time": "2022-05-31T22:39:59.236Z"
   },
   {
    "duration": 10,
    "start_time": "2022-05-31T22:39:59.265Z"
   },
   {
    "duration": 16,
    "start_time": "2022-05-31T22:39:59.276Z"
   },
   {
    "duration": 116,
    "start_time": "2022-05-31T22:39:59.295Z"
   },
   {
    "duration": 30,
    "start_time": "2022-05-31T22:39:59.413Z"
   },
   {
    "duration": 101,
    "start_time": "2022-05-31T22:39:59.444Z"
   },
   {
    "duration": 137,
    "start_time": "2022-05-31T22:39:59.546Z"
   },
   {
    "duration": 29,
    "start_time": "2022-05-31T22:39:59.685Z"
   },
   {
    "duration": 9,
    "start_time": "2022-05-31T22:39:59.727Z"
   },
   {
    "duration": 10945,
    "start_time": "2022-05-31T22:39:59.738Z"
   },
   {
    "duration": 5,
    "start_time": "2022-05-31T22:40:10.685Z"
   },
   {
    "duration": 9,
    "start_time": "2022-05-31T22:40:10.692Z"
   },
   {
    "duration": 29,
    "start_time": "2022-05-31T22:40:10.703Z"
   },
   {
    "duration": 16,
    "start_time": "2022-05-31T22:40:10.733Z"
   },
   {
    "duration": 13,
    "start_time": "2022-05-31T22:40:10.751Z"
   },
   {
    "duration": 24,
    "start_time": "2022-05-31T22:40:10.765Z"
   },
   {
    "duration": 226,
    "start_time": "2022-05-31T22:40:10.791Z"
   },
   {
    "duration": 185,
    "start_time": "2022-05-31T22:40:11.018Z"
   },
   {
    "duration": 180,
    "start_time": "2022-05-31T22:40:11.204Z"
   },
   {
    "duration": 170,
    "start_time": "2022-05-31T22:40:11.386Z"
   },
   {
    "duration": 184,
    "start_time": "2022-05-31T22:40:11.557Z"
   },
   {
    "duration": 185,
    "start_time": "2022-05-31T22:40:11.742Z"
   },
   {
    "duration": 488,
    "start_time": "2022-05-31T22:40:11.928Z"
   },
   {
    "duration": 535,
    "start_time": "2022-05-31T22:40:12.426Z"
   },
   {
    "duration": 13,
    "start_time": "2022-05-31T22:40:12.963Z"
   },
   {
    "duration": 24,
    "start_time": "2022-05-31T22:40:12.978Z"
   },
   {
    "duration": 23,
    "start_time": "2022-05-31T22:40:13.004Z"
   },
   {
    "duration": 9428,
    "start_time": "2022-05-31T22:40:13.028Z"
   },
   {
    "duration": 10,
    "start_time": "2022-05-31T22:40:22.460Z"
   },
   {
    "duration": 34,
    "start_time": "2022-05-31T22:40:22.472Z"
   },
   {
    "duration": 36,
    "start_time": "2022-05-31T22:40:22.507Z"
   },
   {
    "duration": 5,
    "start_time": "2022-05-31T22:40:22.544Z"
   },
   {
    "duration": 14,
    "start_time": "2022-05-31T22:40:22.550Z"
   },
   {
    "duration": 220,
    "start_time": "2022-05-31T22:40:22.565Z"
   },
   {
    "duration": 12,
    "start_time": "2022-05-31T22:40:22.787Z"
   },
   {
    "duration": 30,
    "start_time": "2022-05-31T22:40:22.801Z"
   },
   {
    "duration": 29,
    "start_time": "2022-05-31T22:40:22.832Z"
   },
   {
    "duration": 23,
    "start_time": "2022-05-31T22:40:22.863Z"
   },
   {
    "duration": 390,
    "start_time": "2022-05-31T22:40:22.887Z"
   },
   {
    "duration": 391,
    "start_time": "2022-05-31T22:40:23.278Z"
   },
   {
    "duration": 2,
    "start_time": "2022-05-31T22:40:23.671Z"
   },
   {
    "duration": 1111,
    "start_time": "2022-05-31T22:40:23.674Z"
   },
   {
    "duration": 3,
    "start_time": "2022-05-31T22:40:24.786Z"
   },
   {
    "duration": 20,
    "start_time": "2022-05-31T22:40:24.791Z"
   },
   {
    "duration": 165,
    "start_time": "2022-05-31T22:40:24.812Z"
   },
   {
    "duration": 267,
    "start_time": "2022-05-31T22:40:24.978Z"
   },
   {
    "duration": 173,
    "start_time": "2022-05-31T22:40:25.246Z"
   },
   {
    "duration": 49,
    "start_time": "2022-05-31T22:40:25.420Z"
   },
   {
    "duration": 1103,
    "start_time": "2022-06-01T15:30:03.895Z"
   },
   {
    "duration": 781,
    "start_time": "2022-06-01T15:30:05.000Z"
   },
   {
    "duration": 104,
    "start_time": "2022-06-01T15:30:05.783Z"
   },
   {
    "duration": 187,
    "start_time": "2022-06-01T15:30:05.889Z"
   },
   {
    "duration": 202,
    "start_time": "2022-06-01T15:30:06.078Z"
   },
   {
    "duration": 59,
    "start_time": "2022-06-01T15:30:06.281Z"
   },
   {
    "duration": 547,
    "start_time": "2022-06-01T15:30:06.341Z"
   },
   {
    "duration": 26,
    "start_time": "2022-06-01T15:30:06.889Z"
   },
   {
    "duration": 31,
    "start_time": "2022-06-01T15:30:06.916Z"
   },
   {
    "duration": 15,
    "start_time": "2022-06-01T15:30:06.965Z"
   },
   {
    "duration": 48,
    "start_time": "2022-06-01T15:30:06.982Z"
   },
   {
    "duration": 216,
    "start_time": "2022-06-01T15:30:07.032Z"
   },
   {
    "duration": 34,
    "start_time": "2022-06-01T15:30:07.250Z"
   },
   {
    "duration": 8,
    "start_time": "2022-06-01T15:30:07.287Z"
   },
   {
    "duration": 11,
    "start_time": "2022-06-01T15:30:07.297Z"
   },
   {
    "duration": 122,
    "start_time": "2022-06-01T15:30:07.309Z"
   },
   {
    "duration": 32,
    "start_time": "2022-06-01T15:30:07.432Z"
   },
   {
    "duration": 109,
    "start_time": "2022-06-01T15:30:07.466Z"
   },
   {
    "duration": 152,
    "start_time": "2022-06-01T15:30:07.577Z"
   },
   {
    "duration": 45,
    "start_time": "2022-06-01T15:30:07.730Z"
   },
   {
    "duration": 9,
    "start_time": "2022-06-01T15:30:07.776Z"
   },
   {
    "duration": 9997,
    "start_time": "2022-06-01T15:30:07.787Z"
   },
   {
    "duration": 4,
    "start_time": "2022-06-01T15:30:17.785Z"
   },
   {
    "duration": 10,
    "start_time": "2022-06-01T15:30:17.791Z"
   },
   {
    "duration": 15,
    "start_time": "2022-06-01T15:30:17.803Z"
   },
   {
    "duration": 16,
    "start_time": "2022-06-01T15:30:17.819Z"
   },
   {
    "duration": 32,
    "start_time": "2022-06-01T15:30:17.836Z"
   },
   {
    "duration": 21,
    "start_time": "2022-06-01T15:30:17.869Z"
   },
   {
    "duration": 198,
    "start_time": "2022-06-01T15:30:17.892Z"
   },
   {
    "duration": 193,
    "start_time": "2022-06-01T15:30:18.092Z"
   },
   {
    "duration": 184,
    "start_time": "2022-06-01T15:30:18.287Z"
   },
   {
    "duration": 179,
    "start_time": "2022-06-01T15:30:18.473Z"
   },
   {
    "duration": 175,
    "start_time": "2022-06-01T15:30:18.653Z"
   },
   {
    "duration": 247,
    "start_time": "2022-06-01T15:30:18.829Z"
   },
   {
    "duration": 508,
    "start_time": "2022-06-01T15:30:19.078Z"
   },
   {
    "duration": 560,
    "start_time": "2022-06-01T15:30:19.588Z"
   },
   {
    "duration": 22,
    "start_time": "2022-06-01T15:30:20.150Z"
   },
   {
    "duration": 27,
    "start_time": "2022-06-01T15:30:20.174Z"
   },
   {
    "duration": 4,
    "start_time": "2022-06-01T15:30:20.203Z"
   },
   {
    "duration": 10014,
    "start_time": "2022-06-01T15:30:20.209Z"
   },
   {
    "duration": 12,
    "start_time": "2022-06-01T15:30:30.227Z"
   },
   {
    "duration": 35,
    "start_time": "2022-06-01T15:30:30.240Z"
   },
   {
    "duration": 34,
    "start_time": "2022-06-01T15:30:30.276Z"
   },
   {
    "duration": 6,
    "start_time": "2022-06-01T15:30:30.312Z"
   },
   {
    "duration": 17,
    "start_time": "2022-06-01T15:30:30.320Z"
   },
   {
    "duration": 249,
    "start_time": "2022-06-01T15:30:30.339Z"
   },
   {
    "duration": 13,
    "start_time": "2022-06-01T15:30:30.590Z"
   },
   {
    "duration": 36,
    "start_time": "2022-06-01T15:30:30.604Z"
   },
   {
    "duration": 33,
    "start_time": "2022-06-01T15:30:30.641Z"
   },
   {
    "duration": 26,
    "start_time": "2022-06-01T15:30:30.675Z"
   },
   {
    "duration": 430,
    "start_time": "2022-06-01T15:30:30.703Z"
   },
   {
    "duration": 412,
    "start_time": "2022-06-01T15:30:31.135Z"
   },
   {
    "duration": 3,
    "start_time": "2022-06-01T15:30:31.549Z"
   },
   {
    "duration": 1091,
    "start_time": "2022-06-01T15:30:31.554Z"
   },
   {
    "duration": 2,
    "start_time": "2022-06-01T15:30:32.647Z"
   },
   {
    "duration": 19,
    "start_time": "2022-06-01T15:30:32.650Z"
   },
   {
    "duration": 169,
    "start_time": "2022-06-01T15:30:32.670Z"
   },
   {
    "duration": 293,
    "start_time": "2022-06-01T15:30:32.841Z"
   },
   {
    "duration": 196,
    "start_time": "2022-06-01T15:30:33.136Z"
   },
   {
    "duration": 54,
    "start_time": "2022-06-01T15:30:33.334Z"
   }
  ],
  "kernelspec": {
   "display_name": "Python 3 (ipykernel)",
   "language": "python",
   "name": "python3"
  },
  "language_info": {
   "codemirror_mode": {
    "name": "ipython",
    "version": 3
   },
   "file_extension": ".py",
   "mimetype": "text/x-python",
   "name": "python",
   "nbconvert_exporter": "python",
   "pygments_lexer": "ipython3",
   "version": "3.9.7"
  },
  "toc": {
   "base_numbering": 1,
   "nav_menu": {},
   "number_sections": true,
   "sideBar": true,
   "skip_h1_title": true,
   "title_cell": "Table of Contents",
   "title_sidebar": "Contents",
   "toc_cell": false,
   "toc_position": {
    "height": "calc(100% - 180px)",
    "left": "10px",
    "top": "150px",
    "width": "402.525px"
   },
   "toc_section_display": true,
   "toc_window_display": true
  }
 },
 "nbformat": 4,
 "nbformat_minor": 5
}
