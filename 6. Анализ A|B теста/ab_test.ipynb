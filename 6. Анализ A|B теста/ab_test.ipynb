{
 "cells": [
  {
   "cell_type": "markdown",
   "id": "2ea0a378",
   "metadata": {},
   "source": [
    "### Описание проекта"
   ]
  },
  {
   "cell_type": "markdown",
   "id": "0670c9c8",
   "metadata": {},
   "source": [
    "Вы — аналитик крупного интернет-магазина. Вместе с отделом маркетинга вы подготовили список гипотез для увеличения выручки.\n",
    "Приоритизируйте гипотезы, запустите A/B-тест и проанализируйте результаты."
   ]
  },
  {
   "cell_type": "markdown",
   "id": "df4e8747",
   "metadata": {},
   "source": [
    "### Часть 1. Приоритизация гипотез.\n",
    "\n",
    "В файле /datasets/hypothesis.csv 9 гипотез по увеличению выручки интернет-магазина с указанными параметрами Reach, Impact, Confidence, Effort."
   ]
  },
  {
   "cell_type": "code",
   "execution_count": 1,
   "id": "0212d5d6",
   "metadata": {},
   "outputs": [],
   "source": [
    "import pandas as pd\n",
    "import matplotlib.pyplot as plt \n",
    "import numpy as np\n",
    "from datetime import datetime, timedelta\n",
    "import datetime as dt\n",
    "import seaborn as sns\n",
    "import scipy.stats as stats\n",
    "import os\n",
    "sns.set(rc={'figure.figsize':(15,11)}) #Зададим размер фигур построеных с помощью seaborn\n",
    "pd.options.display.max_colwidth = 210 #Увеливичим максимальую ширину отображаемого столбца\n",
    "sns.set_palette('dark')"
   ]
  },
  {
   "cell_type": "code",
   "execution_count": 3,
   "id": "2ca1c002",
   "metadata": {},
   "outputs": [],
   "source": [
    "pth1 = 'hypothesis.csv'\n",
    "pth2 = '/datasets/hypothesis.csv'\n",
    "\n",
    "if os.path.exists(pth1):\n",
    "    hypotes = pd.read_csv(pth1)\n",
    "elif os.path.exists(pth2):\n",
    "    hypotes = pd.read_csv(pth2)\n",
    "else:\n",
    "    print('Что-то пошло не так')"
   ]
  },
  {
   "cell_type": "markdown",
   "id": "90321d6a",
   "metadata": {},
   "source": [
    "Изучим данные"
   ]
  },
  {
   "cell_type": "code",
   "execution_count": 4,
   "id": "3852b1b6",
   "metadata": {
    "scrolled": false
   },
   "outputs": [
    {
     "data": {
      "text/html": [
       "<div>\n",
       "<style scoped>\n",
       "    .dataframe tbody tr th:only-of-type {\n",
       "        vertical-align: middle;\n",
       "    }\n",
       "\n",
       "    .dataframe tbody tr th {\n",
       "        vertical-align: top;\n",
       "    }\n",
       "\n",
       "    .dataframe thead th {\n",
       "        text-align: right;\n",
       "    }\n",
       "</style>\n",
       "<table border=\"1\" class=\"dataframe\">\n",
       "  <thead>\n",
       "    <tr style=\"text-align: right;\">\n",
       "      <th></th>\n",
       "      <th>Hypothesis</th>\n",
       "      <th>Reach</th>\n",
       "      <th>Impact</th>\n",
       "      <th>Confidence</th>\n",
       "      <th>Efforts</th>\n",
       "    </tr>\n",
       "  </thead>\n",
       "  <tbody>\n",
       "    <tr>\n",
       "      <th>0</th>\n",
       "      <td>Добавить два новых канала привлечения трафика, что позволит привлекать на 30% больше пользователей</td>\n",
       "      <td>3</td>\n",
       "      <td>10</td>\n",
       "      <td>8</td>\n",
       "      <td>6</td>\n",
       "    </tr>\n",
       "    <tr>\n",
       "      <th>1</th>\n",
       "      <td>Запустить собственную службу доставки, что сократит срок доставки заказов</td>\n",
       "      <td>2</td>\n",
       "      <td>5</td>\n",
       "      <td>4</td>\n",
       "      <td>10</td>\n",
       "    </tr>\n",
       "    <tr>\n",
       "      <th>2</th>\n",
       "      <td>Добавить блоки рекомендаций товаров на сайт интернет магазина, чтобы повысить конверсию и средний чек заказа</td>\n",
       "      <td>8</td>\n",
       "      <td>3</td>\n",
       "      <td>7</td>\n",
       "      <td>3</td>\n",
       "    </tr>\n",
       "    <tr>\n",
       "      <th>3</th>\n",
       "      <td>Изменить структура категорий, что увеличит конверсию, т.к. пользователи быстрее найдут нужный товар</td>\n",
       "      <td>8</td>\n",
       "      <td>3</td>\n",
       "      <td>3</td>\n",
       "      <td>8</td>\n",
       "    </tr>\n",
       "    <tr>\n",
       "      <th>4</th>\n",
       "      <td>Изменить цвет фона главной страницы, чтобы увеличить вовлеченность пользователей</td>\n",
       "      <td>3</td>\n",
       "      <td>1</td>\n",
       "      <td>1</td>\n",
       "      <td>1</td>\n",
       "    </tr>\n",
       "    <tr>\n",
       "      <th>5</th>\n",
       "      <td>Добавить страницу отзывов клиентов о магазине, что позволит увеличить количество заказов</td>\n",
       "      <td>3</td>\n",
       "      <td>2</td>\n",
       "      <td>2</td>\n",
       "      <td>3</td>\n",
       "    </tr>\n",
       "    <tr>\n",
       "      <th>6</th>\n",
       "      <td>Показать на главной странице баннеры с актуальными акциями и распродажами, чтобы увеличить конверсию</td>\n",
       "      <td>5</td>\n",
       "      <td>3</td>\n",
       "      <td>8</td>\n",
       "      <td>3</td>\n",
       "    </tr>\n",
       "    <tr>\n",
       "      <th>7</th>\n",
       "      <td>Добавить форму подписки на все основные страницы, чтобы собрать базу клиентов для email-рассылок</td>\n",
       "      <td>10</td>\n",
       "      <td>7</td>\n",
       "      <td>8</td>\n",
       "      <td>5</td>\n",
       "    </tr>\n",
       "    <tr>\n",
       "      <th>8</th>\n",
       "      <td>Запустить акцию, дающую скидку на товар в день рождения</td>\n",
       "      <td>1</td>\n",
       "      <td>9</td>\n",
       "      <td>9</td>\n",
       "      <td>5</td>\n",
       "    </tr>\n",
       "  </tbody>\n",
       "</table>\n",
       "</div>"
      ],
      "text/plain": [
       "                                                                                                     Hypothesis  \\\n",
       "0            Добавить два новых канала привлечения трафика, что позволит привлекать на 30% больше пользователей   \n",
       "1                                     Запустить собственную службу доставки, что сократит срок доставки заказов   \n",
       "2  Добавить блоки рекомендаций товаров на сайт интернет магазина, чтобы повысить конверсию и средний чек заказа   \n",
       "3           Изменить структура категорий, что увеличит конверсию, т.к. пользователи быстрее найдут нужный товар   \n",
       "4                              Изменить цвет фона главной страницы, чтобы увеличить вовлеченность пользователей   \n",
       "5                      Добавить страницу отзывов клиентов о магазине, что позволит увеличить количество заказов   \n",
       "6          Показать на главной странице баннеры с актуальными акциями и распродажами, чтобы увеличить конверсию   \n",
       "7              Добавить форму подписки на все основные страницы, чтобы собрать базу клиентов для email-рассылок   \n",
       "8                                                       Запустить акцию, дающую скидку на товар в день рождения   \n",
       "\n",
       "   Reach  Impact  Confidence  Efforts  \n",
       "0      3      10           8        6  \n",
       "1      2       5           4       10  \n",
       "2      8       3           7        3  \n",
       "3      8       3           3        8  \n",
       "4      3       1           1        1  \n",
       "5      3       2           2        3  \n",
       "6      5       3           8        3  \n",
       "7     10       7           8        5  \n",
       "8      1       9           9        5  "
      ]
     },
     "metadata": {},
     "output_type": "display_data"
    },
    {
     "name": "stdout",
     "output_type": "stream",
     "text": [
      "<class 'pandas.core.frame.DataFrame'>\n",
      "RangeIndex: 9 entries, 0 to 8\n",
      "Data columns (total 5 columns):\n",
      " #   Column      Non-Null Count  Dtype \n",
      "---  ------      --------------  ----- \n",
      " 0   Hypothesis  9 non-null      object\n",
      " 1   Reach       9 non-null      int64 \n",
      " 2   Impact      9 non-null      int64 \n",
      " 3   Confidence  9 non-null      int64 \n",
      " 4   Efforts     9 non-null      int64 \n",
      "dtypes: int64(4), object(1)\n",
      "memory usage: 488.0+ bytes\n"
     ]
    }
   ],
   "source": [
    "display(hypotes)\n",
    "hypotes.info()"
   ]
  },
  {
   "cell_type": "markdown",
   "id": "a4a475eb",
   "metadata": {},
   "source": [
    "Никаких проблем с данными мы не видим, типы в порядке, однако стоит переименовать стобцы для удобства приоритизации"
   ]
  },
  {
   "cell_type": "code",
   "execution_count": 5,
   "id": "6a02be52",
   "metadata": {},
   "outputs": [],
   "source": [
    "hypotes = hypotes.rename(columns=\n",
    "               {'Hypothesis':'hypothesis',\n",
    "                'Reach':'reach',\n",
    "                'Impact':'impact',\n",
    "                'Confidence':'confidence',\n",
    "                'Efforts':'efforts'\n",
    "                }) # Переименуем столбцы"
   ]
  },
  {
   "cell_type": "markdown",
   "id": "5bdd89fb",
   "metadata": {},
   "source": [
    "#### Приоритизируем гипотезы по методу ICE"
   ]
  },
  {
   "cell_type": "code",
   "execution_count": 6,
   "id": "9913ff38",
   "metadata": {
    "scrolled": false
   },
   "outputs": [
    {
     "data": {
      "text/html": [
       "<div>\n",
       "<style scoped>\n",
       "    .dataframe tbody tr th:only-of-type {\n",
       "        vertical-align: middle;\n",
       "    }\n",
       "\n",
       "    .dataframe tbody tr th {\n",
       "        vertical-align: top;\n",
       "    }\n",
       "\n",
       "    .dataframe thead th {\n",
       "        text-align: right;\n",
       "    }\n",
       "</style>\n",
       "<table border=\"1\" class=\"dataframe\">\n",
       "  <thead>\n",
       "    <tr style=\"text-align: right;\">\n",
       "      <th></th>\n",
       "      <th>hypothesis</th>\n",
       "      <th>ice</th>\n",
       "    </tr>\n",
       "  </thead>\n",
       "  <tbody>\n",
       "    <tr>\n",
       "      <th>8</th>\n",
       "      <td>Запустить акцию, дающую скидку на товар в день рождения</td>\n",
       "      <td>16.200000</td>\n",
       "    </tr>\n",
       "    <tr>\n",
       "      <th>0</th>\n",
       "      <td>Добавить два новых канала привлечения трафика, что позволит привлекать на 30% больше пользователей</td>\n",
       "      <td>13.333333</td>\n",
       "    </tr>\n",
       "    <tr>\n",
       "      <th>7</th>\n",
       "      <td>Добавить форму подписки на все основные страницы, чтобы собрать базу клиентов для email-рассылок</td>\n",
       "      <td>11.200000</td>\n",
       "    </tr>\n",
       "    <tr>\n",
       "      <th>6</th>\n",
       "      <td>Показать на главной странице баннеры с актуальными акциями и распродажами, чтобы увеличить конверсию</td>\n",
       "      <td>8.000000</td>\n",
       "    </tr>\n",
       "    <tr>\n",
       "      <th>2</th>\n",
       "      <td>Добавить блоки рекомендаций товаров на сайт интернет магазина, чтобы повысить конверсию и средний чек заказа</td>\n",
       "      <td>7.000000</td>\n",
       "    </tr>\n",
       "    <tr>\n",
       "      <th>1</th>\n",
       "      <td>Запустить собственную службу доставки, что сократит срок доставки заказов</td>\n",
       "      <td>2.000000</td>\n",
       "    </tr>\n",
       "    <tr>\n",
       "      <th>5</th>\n",
       "      <td>Добавить страницу отзывов клиентов о магазине, что позволит увеличить количество заказов</td>\n",
       "      <td>1.333333</td>\n",
       "    </tr>\n",
       "    <tr>\n",
       "      <th>3</th>\n",
       "      <td>Изменить структура категорий, что увеличит конверсию, т.к. пользователи быстрее найдут нужный товар</td>\n",
       "      <td>1.125000</td>\n",
       "    </tr>\n",
       "    <tr>\n",
       "      <th>4</th>\n",
       "      <td>Изменить цвет фона главной страницы, чтобы увеличить вовлеченность пользователей</td>\n",
       "      <td>1.000000</td>\n",
       "    </tr>\n",
       "  </tbody>\n",
       "</table>\n",
       "</div>"
      ],
      "text/plain": [
       "                                                                                                     hypothesis  \\\n",
       "8                                                       Запустить акцию, дающую скидку на товар в день рождения   \n",
       "0            Добавить два новых канала привлечения трафика, что позволит привлекать на 30% больше пользователей   \n",
       "7              Добавить форму подписки на все основные страницы, чтобы собрать базу клиентов для email-рассылок   \n",
       "6          Показать на главной странице баннеры с актуальными акциями и распродажами, чтобы увеличить конверсию   \n",
       "2  Добавить блоки рекомендаций товаров на сайт интернет магазина, чтобы повысить конверсию и средний чек заказа   \n",
       "1                                     Запустить собственную службу доставки, что сократит срок доставки заказов   \n",
       "5                      Добавить страницу отзывов клиентов о магазине, что позволит увеличить количество заказов   \n",
       "3           Изменить структура категорий, что увеличит конверсию, т.к. пользователи быстрее найдут нужный товар   \n",
       "4                              Изменить цвет фона главной страницы, чтобы увеличить вовлеченность пользователей   \n",
       "\n",
       "         ice  \n",
       "8  16.200000  \n",
       "0  13.333333  \n",
       "7  11.200000  \n",
       "6   8.000000  \n",
       "2   7.000000  \n",
       "1   2.000000  \n",
       "5   1.333333  \n",
       "3   1.125000  \n",
       "4   1.000000  "
      ]
     },
     "metadata": {},
     "output_type": "display_data"
    }
   ],
   "source": [
    "hypotes['ice'] = (hypotes['impact'] * hypotes['confidence']) / hypotes['efforts'] #Расчитаем ICE\n",
    "display(hypotes[['hypothesis','ice']].sort_values('ice',ascending=False))"
   ]
  },
  {
   "cell_type": "markdown",
   "id": "8eedd6dc",
   "metadata": {},
   "source": [
    "Мы можем сделать вывод, что наиболее приоритетные гипотезы это 8, 0 и 7"
   ]
  },
  {
   "cell_type": "markdown",
   "id": "470c494e",
   "metadata": {},
   "source": [
    "#### Приоритизируем гипотезы по методу RICE"
   ]
  },
  {
   "cell_type": "code",
   "execution_count": 7,
   "id": "82bec5a6",
   "metadata": {
    "scrolled": true
   },
   "outputs": [
    {
     "data": {
      "text/html": [
       "<div>\n",
       "<style scoped>\n",
       "    .dataframe tbody tr th:only-of-type {\n",
       "        vertical-align: middle;\n",
       "    }\n",
       "\n",
       "    .dataframe tbody tr th {\n",
       "        vertical-align: top;\n",
       "    }\n",
       "\n",
       "    .dataframe thead th {\n",
       "        text-align: right;\n",
       "    }\n",
       "</style>\n",
       "<table border=\"1\" class=\"dataframe\">\n",
       "  <thead>\n",
       "    <tr style=\"text-align: right;\">\n",
       "      <th></th>\n",
       "      <th>hypothesis</th>\n",
       "      <th>RICE</th>\n",
       "    </tr>\n",
       "  </thead>\n",
       "  <tbody>\n",
       "    <tr>\n",
       "      <th>7</th>\n",
       "      <td>Добавить форму подписки на все основные страницы, чтобы собрать базу клиентов для email-рассылок</td>\n",
       "      <td>112.0</td>\n",
       "    </tr>\n",
       "    <tr>\n",
       "      <th>2</th>\n",
       "      <td>Добавить блоки рекомендаций товаров на сайт интернет магазина, чтобы повысить конверсию и средний чек заказа</td>\n",
       "      <td>56.0</td>\n",
       "    </tr>\n",
       "    <tr>\n",
       "      <th>0</th>\n",
       "      <td>Добавить два новых канала привлечения трафика, что позволит привлекать на 30% больше пользователей</td>\n",
       "      <td>40.0</td>\n",
       "    </tr>\n",
       "    <tr>\n",
       "      <th>6</th>\n",
       "      <td>Показать на главной странице баннеры с актуальными акциями и распродажами, чтобы увеличить конверсию</td>\n",
       "      <td>40.0</td>\n",
       "    </tr>\n",
       "    <tr>\n",
       "      <th>8</th>\n",
       "      <td>Запустить акцию, дающую скидку на товар в день рождения</td>\n",
       "      <td>16.2</td>\n",
       "    </tr>\n",
       "    <tr>\n",
       "      <th>3</th>\n",
       "      <td>Изменить структура категорий, что увеличит конверсию, т.к. пользователи быстрее найдут нужный товар</td>\n",
       "      <td>9.0</td>\n",
       "    </tr>\n",
       "    <tr>\n",
       "      <th>1</th>\n",
       "      <td>Запустить собственную службу доставки, что сократит срок доставки заказов</td>\n",
       "      <td>4.0</td>\n",
       "    </tr>\n",
       "    <tr>\n",
       "      <th>5</th>\n",
       "      <td>Добавить страницу отзывов клиентов о магазине, что позволит увеличить количество заказов</td>\n",
       "      <td>4.0</td>\n",
       "    </tr>\n",
       "    <tr>\n",
       "      <th>4</th>\n",
       "      <td>Изменить цвет фона главной страницы, чтобы увеличить вовлеченность пользователей</td>\n",
       "      <td>3.0</td>\n",
       "    </tr>\n",
       "  </tbody>\n",
       "</table>\n",
       "</div>"
      ],
      "text/plain": [
       "                                                                                                     hypothesis  \\\n",
       "7              Добавить форму подписки на все основные страницы, чтобы собрать базу клиентов для email-рассылок   \n",
       "2  Добавить блоки рекомендаций товаров на сайт интернет магазина, чтобы повысить конверсию и средний чек заказа   \n",
       "0            Добавить два новых канала привлечения трафика, что позволит привлекать на 30% больше пользователей   \n",
       "6          Показать на главной странице баннеры с актуальными акциями и распродажами, чтобы увеличить конверсию   \n",
       "8                                                       Запустить акцию, дающую скидку на товар в день рождения   \n",
       "3           Изменить структура категорий, что увеличит конверсию, т.к. пользователи быстрее найдут нужный товар   \n",
       "1                                     Запустить собственную службу доставки, что сократит срок доставки заказов   \n",
       "5                      Добавить страницу отзывов клиентов о магазине, что позволит увеличить количество заказов   \n",
       "4                              Изменить цвет фона главной страницы, чтобы увеличить вовлеченность пользователей   \n",
       "\n",
       "    RICE  \n",
       "7  112.0  \n",
       "2   56.0  \n",
       "0   40.0  \n",
       "6   40.0  \n",
       "8   16.2  \n",
       "3    9.0  \n",
       "1    4.0  \n",
       "5    4.0  \n",
       "4    3.0  "
      ]
     },
     "metadata": {},
     "output_type": "display_data"
    }
   ],
   "source": [
    "hypotes['RICE'] = (hypotes['reach'] * hypotes['impact'] * hypotes['confidence']) / hypotes['efforts'] #Расчитаем RICE\n",
    "display(hypotes[['hypothesis','RICE']].sort_values('RICE', ascending=False))"
   ]
  },
  {
   "cell_type": "markdown",
   "id": "f95b89ad",
   "metadata": {},
   "source": [
    "Мы можем сделать вывод, что наиболее приоритетные гипотезы это 7, 2 и 0 или 6\n"
   ]
  },
  {
   "cell_type": "code",
   "execution_count": 8,
   "id": "8d4e0215",
   "metadata": {},
   "outputs": [
    {
     "data": {
      "text/html": [
       "<div>\n",
       "<style scoped>\n",
       "    .dataframe tbody tr th:only-of-type {\n",
       "        vertical-align: middle;\n",
       "    }\n",
       "\n",
       "    .dataframe tbody tr th {\n",
       "        vertical-align: top;\n",
       "    }\n",
       "\n",
       "    .dataframe thead th {\n",
       "        text-align: right;\n",
       "    }\n",
       "</style>\n",
       "<table border=\"1\" class=\"dataframe\">\n",
       "  <thead>\n",
       "    <tr style=\"text-align: right;\">\n",
       "      <th></th>\n",
       "      <th>hypothesis</th>\n",
       "      <th>RICE</th>\n",
       "      <th>ice</th>\n",
       "    </tr>\n",
       "  </thead>\n",
       "  <tbody>\n",
       "    <tr>\n",
       "      <th>7</th>\n",
       "      <td>Добавить форму подписки на все основные страницы, чтобы собрать базу клиентов для email-рассылок</td>\n",
       "      <td>112.0</td>\n",
       "      <td>11.200000</td>\n",
       "    </tr>\n",
       "    <tr>\n",
       "      <th>2</th>\n",
       "      <td>Добавить блоки рекомендаций товаров на сайт интернет магазина, чтобы повысить конверсию и средний чек заказа</td>\n",
       "      <td>56.0</td>\n",
       "      <td>7.000000</td>\n",
       "    </tr>\n",
       "    <tr>\n",
       "      <th>0</th>\n",
       "      <td>Добавить два новых канала привлечения трафика, что позволит привлекать на 30% больше пользователей</td>\n",
       "      <td>40.0</td>\n",
       "      <td>13.333333</td>\n",
       "    </tr>\n",
       "    <tr>\n",
       "      <th>6</th>\n",
       "      <td>Показать на главной странице баннеры с актуальными акциями и распродажами, чтобы увеличить конверсию</td>\n",
       "      <td>40.0</td>\n",
       "      <td>8.000000</td>\n",
       "    </tr>\n",
       "    <tr>\n",
       "      <th>8</th>\n",
       "      <td>Запустить акцию, дающую скидку на товар в день рождения</td>\n",
       "      <td>16.2</td>\n",
       "      <td>16.200000</td>\n",
       "    </tr>\n",
       "    <tr>\n",
       "      <th>3</th>\n",
       "      <td>Изменить структура категорий, что увеличит конверсию, т.к. пользователи быстрее найдут нужный товар</td>\n",
       "      <td>9.0</td>\n",
       "      <td>1.125000</td>\n",
       "    </tr>\n",
       "    <tr>\n",
       "      <th>1</th>\n",
       "      <td>Запустить собственную службу доставки, что сократит срок доставки заказов</td>\n",
       "      <td>4.0</td>\n",
       "      <td>2.000000</td>\n",
       "    </tr>\n",
       "    <tr>\n",
       "      <th>5</th>\n",
       "      <td>Добавить страницу отзывов клиентов о магазине, что позволит увеличить количество заказов</td>\n",
       "      <td>4.0</td>\n",
       "      <td>1.333333</td>\n",
       "    </tr>\n",
       "    <tr>\n",
       "      <th>4</th>\n",
       "      <td>Изменить цвет фона главной страницы, чтобы увеличить вовлеченность пользователей</td>\n",
       "      <td>3.0</td>\n",
       "      <td>1.000000</td>\n",
       "    </tr>\n",
       "  </tbody>\n",
       "</table>\n",
       "</div>"
      ],
      "text/plain": [
       "                                                                                                     hypothesis  \\\n",
       "7              Добавить форму подписки на все основные страницы, чтобы собрать базу клиентов для email-рассылок   \n",
       "2  Добавить блоки рекомендаций товаров на сайт интернет магазина, чтобы повысить конверсию и средний чек заказа   \n",
       "0            Добавить два новых канала привлечения трафика, что позволит привлекать на 30% больше пользователей   \n",
       "6          Показать на главной странице баннеры с актуальными акциями и распродажами, чтобы увеличить конверсию   \n",
       "8                                                       Запустить акцию, дающую скидку на товар в день рождения   \n",
       "3           Изменить структура категорий, что увеличит конверсию, т.к. пользователи быстрее найдут нужный товар   \n",
       "1                                     Запустить собственную службу доставки, что сократит срок доставки заказов   \n",
       "5                      Добавить страницу отзывов клиентов о магазине, что позволит увеличить количество заказов   \n",
       "4                              Изменить цвет фона главной страницы, чтобы увеличить вовлеченность пользователей   \n",
       "\n",
       "    RICE        ice  \n",
       "7  112.0  11.200000  \n",
       "2   56.0   7.000000  \n",
       "0   40.0  13.333333  \n",
       "6   40.0   8.000000  \n",
       "8   16.2  16.200000  \n",
       "3    9.0   1.125000  \n",
       "1    4.0   2.000000  \n",
       "5    4.0   1.333333  \n",
       "4    3.0   1.000000  "
      ]
     },
     "metadata": {},
     "output_type": "display_data"
    }
   ],
   "source": [
    "display(hypotes[['hypothesis','RICE','ice']].sort_values(by=['RICE','ice'], ascending=False))"
   ]
  },
  {
   "cell_type": "markdown",
   "id": "19fd183b",
   "metadata": {},
   "source": [
    "#### Вывод\n",
    "\n",
    "Метод RICE является модифицированной версией ICE, в котором есть показатель охвата. Исходя из этого, мы должны выбрать 7 гипотезу как приоритетную, так как она затронет наибольшее число пользователей. \n"
   ]
  },
  {
   "cell_type": "markdown",
   "id": "d7df0d3f",
   "metadata": {},
   "source": [
    "### Часть 2. Анализ A/B-теста\n",
    "\n",
    "Мы провели A/B тест и можем приступить к его анализу. Для начала откроем и изучим файлы\n",
    "\n"
   ]
  },
  {
   "cell_type": "code",
   "execution_count": 11,
   "id": "eb61c202",
   "metadata": {},
   "outputs": [],
   "source": [
    "pth1_1 = 'orders.csv'\n",
    "pth1_2 = 'visitors.csv'\n",
    "pth2_1 = '/datasets/orders.csv'\n",
    "pth2_2 = '/datasets/visitors.csv'\n",
    "    \n",
    "if os.path.exists(pth1_1):\n",
    "    orders = pd.read_csv(pth1_1)\n",
    "    visitors = pd.read_csv(pth1_2)\n",
    "elif os.path.exists(pth2_1):\n",
    "    orders = pd.read_csv(pth2_1)\n",
    "    visitors = pd.read_csv(pth2_2)\n",
    "else:\n",
    "    print('Что-то пошло не так')"
   ]
  },
  {
   "cell_type": "code",
   "execution_count": 12,
   "id": "c5fede1e",
   "metadata": {
    "scrolled": false
   },
   "outputs": [
    {
     "data": {
      "text/html": [
       "<div>\n",
       "<style scoped>\n",
       "    .dataframe tbody tr th:only-of-type {\n",
       "        vertical-align: middle;\n",
       "    }\n",
       "\n",
       "    .dataframe tbody tr th {\n",
       "        vertical-align: top;\n",
       "    }\n",
       "\n",
       "    .dataframe thead th {\n",
       "        text-align: right;\n",
       "    }\n",
       "</style>\n",
       "<table border=\"1\" class=\"dataframe\">\n",
       "  <thead>\n",
       "    <tr style=\"text-align: right;\">\n",
       "      <th></th>\n",
       "      <th>transactionId</th>\n",
       "      <th>visitorId</th>\n",
       "      <th>date</th>\n",
       "      <th>revenue</th>\n",
       "      <th>group</th>\n",
       "    </tr>\n",
       "  </thead>\n",
       "  <tbody>\n",
       "    <tr>\n",
       "      <th>0</th>\n",
       "      <td>3667963787</td>\n",
       "      <td>3312258926</td>\n",
       "      <td>2019-08-15</td>\n",
       "      <td>1650</td>\n",
       "      <td>B</td>\n",
       "    </tr>\n",
       "    <tr>\n",
       "      <th>1</th>\n",
       "      <td>2804400009</td>\n",
       "      <td>3642806036</td>\n",
       "      <td>2019-08-15</td>\n",
       "      <td>730</td>\n",
       "      <td>B</td>\n",
       "    </tr>\n",
       "    <tr>\n",
       "      <th>2</th>\n",
       "      <td>2961555356</td>\n",
       "      <td>4069496402</td>\n",
       "      <td>2019-08-15</td>\n",
       "      <td>400</td>\n",
       "      <td>A</td>\n",
       "    </tr>\n",
       "    <tr>\n",
       "      <th>3</th>\n",
       "      <td>3797467345</td>\n",
       "      <td>1196621759</td>\n",
       "      <td>2019-08-15</td>\n",
       "      <td>9759</td>\n",
       "      <td>B</td>\n",
       "    </tr>\n",
       "    <tr>\n",
       "      <th>4</th>\n",
       "      <td>2282983706</td>\n",
       "      <td>2322279887</td>\n",
       "      <td>2019-08-15</td>\n",
       "      <td>2308</td>\n",
       "      <td>B</td>\n",
       "    </tr>\n",
       "    <tr>\n",
       "      <th>...</th>\n",
       "      <td>...</td>\n",
       "      <td>...</td>\n",
       "      <td>...</td>\n",
       "      <td>...</td>\n",
       "      <td>...</td>\n",
       "    </tr>\n",
       "    <tr>\n",
       "      <th>1192</th>\n",
       "      <td>2662137336</td>\n",
       "      <td>3733762160</td>\n",
       "      <td>2019-08-14</td>\n",
       "      <td>6490</td>\n",
       "      <td>B</td>\n",
       "    </tr>\n",
       "    <tr>\n",
       "      <th>1193</th>\n",
       "      <td>2203539145</td>\n",
       "      <td>370388673</td>\n",
       "      <td>2019-08-14</td>\n",
       "      <td>3190</td>\n",
       "      <td>A</td>\n",
       "    </tr>\n",
       "    <tr>\n",
       "      <th>1194</th>\n",
       "      <td>1807773912</td>\n",
       "      <td>573423106</td>\n",
       "      <td>2019-08-14</td>\n",
       "      <td>10550</td>\n",
       "      <td>A</td>\n",
       "    </tr>\n",
       "    <tr>\n",
       "      <th>1195</th>\n",
       "      <td>1947021204</td>\n",
       "      <td>1614305549</td>\n",
       "      <td>2019-08-14</td>\n",
       "      <td>100</td>\n",
       "      <td>A</td>\n",
       "    </tr>\n",
       "    <tr>\n",
       "      <th>1196</th>\n",
       "      <td>3936777065</td>\n",
       "      <td>2108080724</td>\n",
       "      <td>2019-08-15</td>\n",
       "      <td>202740</td>\n",
       "      <td>B</td>\n",
       "    </tr>\n",
       "  </tbody>\n",
       "</table>\n",
       "<p>1197 rows × 5 columns</p>\n",
       "</div>"
      ],
      "text/plain": [
       "      transactionId   visitorId        date  revenue group\n",
       "0        3667963787  3312258926  2019-08-15     1650     B\n",
       "1        2804400009  3642806036  2019-08-15      730     B\n",
       "2        2961555356  4069496402  2019-08-15      400     A\n",
       "3        3797467345  1196621759  2019-08-15     9759     B\n",
       "4        2282983706  2322279887  2019-08-15     2308     B\n",
       "...             ...         ...         ...      ...   ...\n",
       "1192     2662137336  3733762160  2019-08-14     6490     B\n",
       "1193     2203539145   370388673  2019-08-14     3190     A\n",
       "1194     1807773912   573423106  2019-08-14    10550     A\n",
       "1195     1947021204  1614305549  2019-08-14      100     A\n",
       "1196     3936777065  2108080724  2019-08-15   202740     B\n",
       "\n",
       "[1197 rows x 5 columns]"
      ]
     },
     "metadata": {},
     "output_type": "display_data"
    },
    {
     "name": "stdout",
     "output_type": "stream",
     "text": [
      "<class 'pandas.core.frame.DataFrame'>\n",
      "RangeIndex: 1197 entries, 0 to 1196\n",
      "Data columns (total 5 columns):\n",
      " #   Column         Non-Null Count  Dtype \n",
      "---  ------         --------------  ----- \n",
      " 0   transactionId  1197 non-null   int64 \n",
      " 1   visitorId      1197 non-null   int64 \n",
      " 2   date           1197 non-null   object\n",
      " 3   revenue        1197 non-null   int64 \n",
      " 4   group          1197 non-null   object\n",
      "dtypes: int64(3), object(2)\n",
      "memory usage: 46.9+ KB\n"
     ]
    }
   ],
   "source": [
    "display(orders)\n",
    "orders.info()"
   ]
  },
  {
   "cell_type": "markdown",
   "id": "0a33ccb9",
   "metadata": {},
   "source": [
    "Пропусков нет, типы верные. \n",
    "Проверим два момента:\n",
    "1. Что если есть пользователь который попал в группу А и в группу В?\n",
    "2. Проверим на полные дубликаты"
   ]
  },
  {
   "cell_type": "code",
   "execution_count": 13,
   "id": "acf979f8",
   "metadata": {},
   "outputs": [
    {
     "name": "stdout",
     "output_type": "stream",
     "text": [
      "Число элементов до удаления дубликатов: 1197\n",
      "Число элементов после удаления дубликатов: 1197\n"
     ]
    }
   ],
   "source": [
    "print('Число элементов до удаления дубликатов:',len(orders))\n",
    "orders = orders.drop_duplicates().reset_index(drop=True) #Удалим дубликаты\n",
    "print('Число элементов после удаления дубликатов:',len(orders))"
   ]
  },
  {
   "cell_type": "code",
   "execution_count": 14,
   "id": "00aed2b0",
   "metadata": {},
   "outputs": [
    {
     "name": "stdout",
     "output_type": "stream",
     "text": [
      "Число пользователей попавших в обе группы = 89\n",
      "Размер группы A: 445\n",
      "Размер группы B: 528\n"
     ]
    }
   ],
   "source": [
    "gr_a = orders[orders['group'] == 'A']['visitorId'].reset_index(drop=True) #Создадим отдельную таблицу со всеми пользователями А\n",
    "gr_b = orders[orders['group'] == 'B']['visitorId'].reset_index(drop=True) #Создадим отдельную таблицу со всеми пользователями В\n",
    "gr_c = gr_a[gr_a.isin(gr_b)] #Создадим отдельную таблицу с пересечениями двух групп\n",
    "print('Число пользователей попавших в обе группы =',len(gr_c))\n",
    "\n",
    "orders[orders['visitorId'].isin(gr_c)] = np.nan #Заменим пользователей на nan\n",
    "orders = orders.dropna() #Удалим nan\n",
    "gr_a = orders[orders['group'] == 'A']['visitorId'].reset_index(drop=True).unique()\n",
    "gr_b = orders[orders['group'] == 'B']['visitorId'].reset_index(drop=True).unique()\n",
    "print('Размер группы A:', len(gr_a))\n",
    "print('Размер группы B:', len(gr_b))"
   ]
  },
  {
   "cell_type": "markdown",
   "id": "b946f2e5",
   "metadata": {},
   "source": [
    "Полных дубликатов строк не обнаружено, пользователи попавшие в обе группы удалены\n",
    "\n",
    "Теперь проверим таблицу `visitors`\n",
    "\n",
    "Так првоерим ее на явные дубликаты"
   ]
  },
  {
   "cell_type": "code",
   "execution_count": 15,
   "id": "3941bf80",
   "metadata": {},
   "outputs": [
    {
     "data": {
      "text/html": [
       "<div>\n",
       "<style scoped>\n",
       "    .dataframe tbody tr th:only-of-type {\n",
       "        vertical-align: middle;\n",
       "    }\n",
       "\n",
       "    .dataframe tbody tr th {\n",
       "        vertical-align: top;\n",
       "    }\n",
       "\n",
       "    .dataframe thead th {\n",
       "        text-align: right;\n",
       "    }\n",
       "</style>\n",
       "<table border=\"1\" class=\"dataframe\">\n",
       "  <thead>\n",
       "    <tr style=\"text-align: right;\">\n",
       "      <th></th>\n",
       "      <th>date</th>\n",
       "      <th>group</th>\n",
       "      <th>visitors</th>\n",
       "    </tr>\n",
       "  </thead>\n",
       "  <tbody>\n",
       "    <tr>\n",
       "      <th>0</th>\n",
       "      <td>2019-08-01</td>\n",
       "      <td>A</td>\n",
       "      <td>719</td>\n",
       "    </tr>\n",
       "    <tr>\n",
       "      <th>1</th>\n",
       "      <td>2019-08-02</td>\n",
       "      <td>A</td>\n",
       "      <td>619</td>\n",
       "    </tr>\n",
       "    <tr>\n",
       "      <th>2</th>\n",
       "      <td>2019-08-03</td>\n",
       "      <td>A</td>\n",
       "      <td>507</td>\n",
       "    </tr>\n",
       "    <tr>\n",
       "      <th>3</th>\n",
       "      <td>2019-08-04</td>\n",
       "      <td>A</td>\n",
       "      <td>717</td>\n",
       "    </tr>\n",
       "    <tr>\n",
       "      <th>4</th>\n",
       "      <td>2019-08-05</td>\n",
       "      <td>A</td>\n",
       "      <td>756</td>\n",
       "    </tr>\n",
       "    <tr>\n",
       "      <th>...</th>\n",
       "      <td>...</td>\n",
       "      <td>...</td>\n",
       "      <td>...</td>\n",
       "    </tr>\n",
       "    <tr>\n",
       "      <th>57</th>\n",
       "      <td>2019-08-27</td>\n",
       "      <td>B</td>\n",
       "      <td>720</td>\n",
       "    </tr>\n",
       "    <tr>\n",
       "      <th>58</th>\n",
       "      <td>2019-08-28</td>\n",
       "      <td>B</td>\n",
       "      <td>654</td>\n",
       "    </tr>\n",
       "    <tr>\n",
       "      <th>59</th>\n",
       "      <td>2019-08-29</td>\n",
       "      <td>B</td>\n",
       "      <td>531</td>\n",
       "    </tr>\n",
       "    <tr>\n",
       "      <th>60</th>\n",
       "      <td>2019-08-30</td>\n",
       "      <td>B</td>\n",
       "      <td>490</td>\n",
       "    </tr>\n",
       "    <tr>\n",
       "      <th>61</th>\n",
       "      <td>2019-08-31</td>\n",
       "      <td>B</td>\n",
       "      <td>718</td>\n",
       "    </tr>\n",
       "  </tbody>\n",
       "</table>\n",
       "<p>62 rows × 3 columns</p>\n",
       "</div>"
      ],
      "text/plain": [
       "          date group  visitors\n",
       "0   2019-08-01     A       719\n",
       "1   2019-08-02     A       619\n",
       "2   2019-08-03     A       507\n",
       "3   2019-08-04     A       717\n",
       "4   2019-08-05     A       756\n",
       "..         ...   ...       ...\n",
       "57  2019-08-27     B       720\n",
       "58  2019-08-28     B       654\n",
       "59  2019-08-29     B       531\n",
       "60  2019-08-30     B       490\n",
       "61  2019-08-31     B       718\n",
       "\n",
       "[62 rows x 3 columns]"
      ]
     },
     "metadata": {},
     "output_type": "display_data"
    },
    {
     "name": "stdout",
     "output_type": "stream",
     "text": [
      "<class 'pandas.core.frame.DataFrame'>\n",
      "RangeIndex: 62 entries, 0 to 61\n",
      "Data columns (total 3 columns):\n",
      " #   Column    Non-Null Count  Dtype \n",
      "---  ------    --------------  ----- \n",
      " 0   date      62 non-null     object\n",
      " 1   group     62 non-null     object\n",
      " 2   visitors  62 non-null     int64 \n",
      "dtypes: int64(1), object(2)\n",
      "memory usage: 1.6+ KB\n"
     ]
    }
   ],
   "source": [
    "display(visitors)\n",
    "visitors.info()"
   ]
  },
  {
   "cell_type": "code",
   "execution_count": 16,
   "id": "fa123b2c",
   "metadata": {},
   "outputs": [
    {
     "name": "stdout",
     "output_type": "stream",
     "text": [
      "Число элементов до удаления дубликатов: 62\n",
      "Число элементов после удаления дубликатов: 62\n"
     ]
    }
   ],
   "source": [
    "print('Число элементов до удаления дубликатов:',len(visitors))\n",
    "visitors = visitors.drop_duplicates().reset_index(drop=True) #Удалим дубликаты\n",
    "print('Число элементов после удаления дубликатов:',len(visitors))"
   ]
  },
  {
   "cell_type": "markdown",
   "id": "413ff742",
   "metadata": {},
   "source": [
    "Полных дубликатов и пропусков нет, данные готовы к работе\n",
    "\n",
    "#### Вывод\n",
    "Мы обработали данные и подготовили их к работе"
   ]
  },
  {
   "cell_type": "markdown",
   "id": "81efcf92",
   "metadata": {},
   "source": [
    "#### Построим график кумулятивной выручки по группам"
   ]
  },
  {
   "cell_type": "code",
   "execution_count": 17,
   "id": "dd059c6f",
   "metadata": {
    "scrolled": true
   },
   "outputs": [],
   "source": [
    "datesGroups = orders[['date', 'group']].drop_duplicates()\n",
    "\n",
    "ordersAggregated = datesGroups.apply(\n",
    "    lambda x: orders[\n",
    "        np.logical_and(\n",
    "            orders['date'] <= x['date'], orders['group'] == x['group']\n",
    "        )\n",
    "    ].agg(\n",
    "        {\n",
    "            'date': 'max',\n",
    "            'group': 'max',\n",
    "            'transactionId': 'nunique',\n",
    "            'visitorId': 'nunique',\n",
    "            'revenue': 'sum',\n",
    "        }\n",
    "    ),\n",
    "    axis=1,\n",
    ").sort_values(by=['date', 'group'])\n",
    "\n",
    "visitorsAggregated = datesGroups.apply(\n",
    "    lambda x: visitors[\n",
    "        np.logical_and(\n",
    "            visitors['date'] <= x['date'], visitors['group'] == x['group']\n",
    "        )\n",
    "    ].agg({'date': 'max', 'group': 'max', 'visitors': 'sum'}),\n",
    "    axis=1,\n",
    ").sort_values(by=['date', 'group'])\n",
    "\n",
    "cumulativeData = ordersAggregated.merge(\n",
    "    visitorsAggregated, left_on=['date', 'group'], right_on=['date', 'group']\n",
    ")\n",
    "cumulativeData.columns = [\n",
    "    'date',\n",
    "    'group',\n",
    "    'orders',\n",
    "    'buyers',\n",
    "    'revenue',\n",
    "    'visitors',\n",
    "]\n",
    "\n",
    "# датафрейм с кумулятивным количеством заказов и кумулятивной выручкой по дням в группе А\n",
    "cumulativeRevenueA = cumulativeData[cumulativeData['group']=='A'][['date','revenue', 'orders']]\n",
    "\n",
    "# датафрейм с кумулятивным количеством заказов и кумулятивной выручкой по дням в группе B\n",
    "cumulativeRevenueB = cumulativeData[cumulativeData['group']=='B'][['date','revenue', 'orders']]\n",
    "    "
   ]
  },
  {
   "cell_type": "code",
   "execution_count": 18,
   "id": "24b66f64",
   "metadata": {
    "scrolled": false
   },
   "outputs": [
    {
     "data": {
      "image/png": "[encoded data removed]",
      "text/plain": [
       "<Figure size 1080x792 with 1 Axes>"
      ]
     },
     "metadata": {},
     "output_type": "display_data"
    }
   ],
   "source": [
    "# Строим график выручки группы А\n",
    "plt.plot(cumulativeRevenueA['date'], cumulativeRevenueA['revenue'], label='A')\n",
    "\n",
    "# Строим график выручки группы B\n",
    "plt.plot(cumulativeRevenueB['date'], cumulativeRevenueB['revenue'], label='B')\n",
    "plt.xlabel('Дата')\n",
    "plt.ylabel('Куммулятивная выручка')\n",
    "plt.title('График коммулятивной выручки по группам')\n",
    "plt.xticks(rotation = 90)\n",
    "plt.legend() \n",
    "plt.show()"
   ]
  },
  {
   "cell_type": "markdown",
   "id": "b30a31cb",
   "metadata": {},
   "source": [
    "#### Вывод\n",
    "\n",
    "Выручка увеличивается в течении всего теста. \n",
    "В группе В на 2019-08-18 произошел резкий рост выручки, что свидетельствует о том, что в эту группу попал крупный заказ, стоит удалить аномалии в дальнейшем.\n",
    "Выручка по группе В  немного выше чем выручка по группе А."
   ]
  },
  {
   "cell_type": "markdown",
   "id": "8def4fe6",
   "metadata": {},
   "source": [
    "#### Построим график кумулятивного среднего чека по группам."
   ]
  },
  {
   "cell_type": "code",
   "execution_count": 19,
   "id": "758c4f2b",
   "metadata": {
    "scrolled": false
   },
   "outputs": [
    {
     "data": {
      "image/png": "[encoded data removed]",
      "text/plain": [
       "<Figure size 1080x792 with 1 Axes>"
      ]
     },
     "metadata": {},
     "output_type": "display_data"
    }
   ],
   "source": [
    "plt.plot(cumulativeRevenueA['date'], cumulativeRevenueA['revenue']/cumulativeRevenueA['orders'], label='A')\n",
    "plt.plot(cumulativeRevenueB['date'], cumulativeRevenueB['revenue']/cumulativeRevenueB['orders'], label='B')\n",
    "plt.xlabel('Дата')\n",
    "plt.ylabel('Куммулятивный средний чек')\n",
    "plt.title('График куммулятивного среднего чека по группам')\n",
    "plt.xticks(rotation = 90)\n",
    "plt.legend() \n",
    "plt.show()"
   ]
  },
  {
   "cell_type": "markdown",
   "id": "f8c953f9",
   "metadata": {},
   "source": [
    "#### Вывод\n",
    "\n",
    "Как мы видим 2019-08-18 произошел резкий скачек среднего чека в группе B, что так же подтверждает попадание крупного заказа в эту группу. При этом мы можем видеть, что средний чек в группе A большую часть времени был стабилен, кроме начала теста, однако мы не можем сделать вывод по данной метрике из за крупного заказа"
   ]
  },
  {
   "cell_type": "markdown",
   "id": "bb988a99",
   "metadata": {},
   "source": [
    "#### Построим график относительного изменения кумулятивного среднего чека группы B к группе A. \n"
   ]
  },
  {
   "cell_type": "code",
   "execution_count": 20,
   "id": "e2f8d884",
   "metadata": {
    "scrolled": true
   },
   "outputs": [
    {
     "data": {
      "image/png": "[encoded data removed]",
      "text/plain": [
       "<Figure size 1080x792 with 1 Axes>"
      ]
     },
     "metadata": {},
     "output_type": "display_data"
    }
   ],
   "source": [
    "mergedCumulativeRevenue = cumulativeRevenueA.merge(cumulativeRevenueB, left_on='date', right_on='date', how='left', suffixes=['A', 'B'])\n",
    "# cтроим отношение средних чеков\n",
    "plt.plot(mergedCumulativeRevenue['date'], (mergedCumulativeRevenue['revenueB']/mergedCumulativeRevenue['ordersB'])/(mergedCumulativeRevenue['revenueA']/mergedCumulativeRevenue['ordersA'])-1)\n",
    "\n",
    "# добавляем ось X\n",
    "plt.axhline(y=0, color='black', linestyle='--')\n",
    "plt.xlabel('Дата')\n",
    "plt.ylabel('Отношение изменения группы В к группе А')\n",
    "plt.title('График относительного изменения кумулятивного среднего чека группы B к группе A')\n",
    "plt.xticks(rotation = 90) \n",
    "plt.show()"
   ]
  },
  {
   "cell_type": "markdown",
   "id": "b198b278",
   "metadata": {},
   "source": [
    "#### Вывод\n",
    "\n",
    "Так же как и ранеее, крупный заказ исказил результаты, если смотреть до этого момента мы так же можем увидеть несколько резких изменений, а значит крупные заказы были сделаны в несколько дат"
   ]
  },
  {
   "cell_type": "markdown",
   "id": "4cad65fc",
   "metadata": {},
   "source": [
    "#### Построим график кумулятивной конверсии по группам. "
   ]
  },
  {
   "cell_type": "code",
   "execution_count": 21,
   "id": "4a2310db",
   "metadata": {
    "scrolled": false
   },
   "outputs": [
    {
     "data": {
      "image/png": "[encoded data removed]",
      "text/plain": [
       "<Figure size 1080x792 with 1 Axes>"
      ]
     },
     "metadata": {},
     "output_type": "display_data"
    }
   ],
   "source": [
    "cumulativeData['conversion'] = cumulativeData['orders']/cumulativeData['visitors']\n",
    "# отделяем данные по группе A\n",
    "cumulativeDataA = cumulativeData[cumulativeData['group']=='A']\n",
    "\n",
    "# отделяем данные по группе B\n",
    "cumulativeDataB = cumulativeData[cumulativeData['group']=='B']\n",
    "\n",
    "# строим графики\n",
    "plt.plot(cumulativeDataA['date'], cumulativeDataA['conversion'], label='A')\n",
    "plt.plot(cumulativeDataB['date'], cumulativeDataB['conversion'], label='B')\n",
    "plt.legend()\n",
    "plt.xlabel('Дата')\n",
    "plt.ylabel('Конверсия')\n",
    "plt.title('График кумулятивной конверсии по группам')\n",
    "plt.xticks(rotation = 90) \n",
    "plt.show()"
   ]
  },
  {
   "cell_type": "markdown",
   "id": "e29d35c6",
   "metadata": {},
   "source": [
    "#### Вывод\n",
    "\n",
    "В начале теста конверсия в группе А была выше, однако быстро начала падать и на 6 день уже сравнялась с группой В. При этом несмотря на то, что по группе В конверсия выше, в обоих группах можно заметить слабый нисходящий тренд, что свидетельствует о медленной уменьшении конверсии. \n",
    "Возможно скачки были вызваны рекламной компанией?"
   ]
  },
  {
   "cell_type": "markdown",
   "id": "5ad5961e",
   "metadata": {},
   "source": [
    "#### Построим график относительного изменения кумулятивной конверсии группы B к группе A"
   ]
  },
  {
   "cell_type": "code",
   "execution_count": 22,
   "id": "db6a4b1e",
   "metadata": {
    "scrolled": true
   },
   "outputs": [
    {
     "data": {
      "image/png": "[encoded data removed]",
      "text/plain": [
       "<Figure size 1080x792 with 1 Axes>"
      ]
     },
     "metadata": {},
     "output_type": "display_data"
    }
   ],
   "source": [
    "mergedCumulativeConversions = cumulativeDataA[['date','conversion']].merge(cumulativeDataB[['date','conversion']], left_on='date', right_on='date', how='left', suffixes=['A', 'B'])\n",
    "\n",
    "plt.plot(mergedCumulativeConversions['date'], mergedCumulativeConversions['conversionB']/mergedCumulativeConversions['conversionA']-1, label=\"Относительный прирост конверсии группы B относительно группы A\")\n",
    "plt.legend()\n",
    "plt.xlabel('Дата')\n",
    "plt.ylabel('Отношение')\n",
    "plt.title('График относительного изменения кумулятивной конверсии группы B к группе A')\n",
    "plt.xticks(rotation = 90) \n",
    "plt.axhline(y=0, color='black', linestyle='--')\n",
    "plt.axhline(y=0.13, color='grey', linestyle='--')\n",
    "plt.show()"
   ]
  },
  {
   "cell_type": "markdown",
   "id": "ab2206c6",
   "metadata": {},
   "source": [
    "#### Вывод\n",
    "\n",
    "График подверждает то, что в начале теста конверсия в группе А была выше, однако конверсия по группе В н на 6 день уже сравнялась с группой В и продолжила расти, пока не зафиксировалась на уровне выше 13% выше чем по группе А."
   ]
  },
  {
   "cell_type": "markdown",
   "id": "fdeee802",
   "metadata": {},
   "source": [
    "#### Построим точечный график количества заказов по пользователям"
   ]
  },
  {
   "cell_type": "code",
   "execution_count": 23,
   "id": "84f15513",
   "metadata": {
    "scrolled": true
   },
   "outputs": [
    {
     "data": {
      "text/html": [
       "<div>\n",
       "<style scoped>\n",
       "    .dataframe tbody tr th:only-of-type {\n",
       "        vertical-align: middle;\n",
       "    }\n",
       "\n",
       "    .dataframe tbody tr th {\n",
       "        vertical-align: top;\n",
       "    }\n",
       "\n",
       "    .dataframe thead th {\n",
       "        text-align: right;\n",
       "    }\n",
       "</style>\n",
       "<table border=\"1\" class=\"dataframe\">\n",
       "  <thead>\n",
       "    <tr style=\"text-align: right;\">\n",
       "      <th></th>\n",
       "      <th>userId</th>\n",
       "      <th>orders</th>\n",
       "    </tr>\n",
       "  </thead>\n",
       "  <tbody>\n",
       "    <tr>\n",
       "      <th>908</th>\n",
       "      <td>3.967698e+09</td>\n",
       "      <td>3</td>\n",
       "    </tr>\n",
       "    <tr>\n",
       "      <th>55</th>\n",
       "      <td>2.498647e+08</td>\n",
       "      <td>3</td>\n",
       "    </tr>\n",
       "    <tr>\n",
       "      <th>478</th>\n",
       "      <td>2.108163e+09</td>\n",
       "      <td>3</td>\n",
       "    </tr>\n",
       "    <tr>\n",
       "      <th>687</th>\n",
       "      <td>2.988191e+09</td>\n",
       "      <td>3</td>\n",
       "    </tr>\n",
       "    <tr>\n",
       "      <th>890</th>\n",
       "      <td>3.908431e+09</td>\n",
       "      <td>3</td>\n",
       "    </tr>\n",
       "    <tr>\n",
       "      <th>138</th>\n",
       "      <td>6.110592e+08</td>\n",
       "      <td>3</td>\n",
       "    </tr>\n",
       "    <tr>\n",
       "      <th>632</th>\n",
       "      <td>2.742574e+09</td>\n",
       "      <td>3</td>\n",
       "    </tr>\n",
       "    <tr>\n",
       "      <th>157</th>\n",
       "      <td>6.783541e+08</td>\n",
       "      <td>2</td>\n",
       "    </tr>\n",
       "    <tr>\n",
       "      <th>323</th>\n",
       "      <td>1.404560e+09</td>\n",
       "      <td>2</td>\n",
       "    </tr>\n",
       "    <tr>\n",
       "      <th>452</th>\n",
       "      <td>1.985475e+09</td>\n",
       "      <td>2</td>\n",
       "    </tr>\n",
       "  </tbody>\n",
       "</table>\n",
       "</div>"
      ],
      "text/plain": [
       "           userId  orders\n",
       "908  3.967698e+09       3\n",
       "55   2.498647e+08       3\n",
       "478  2.108163e+09       3\n",
       "687  2.988191e+09       3\n",
       "890  3.908431e+09       3\n",
       "138  6.110592e+08       3\n",
       "632  2.742574e+09       3\n",
       "157  6.783541e+08       2\n",
       "323  1.404560e+09       2\n",
       "452  1.985475e+09       2"
      ]
     },
     "metadata": {},
     "output_type": "display_data"
    },
    {
     "data": {
      "image/png": "[encoded data removed]",
      "text/plain": [
       "<Figure size 1080x792 with 1 Axes>"
      ]
     },
     "metadata": {},
     "output_type": "display_data"
    }
   ],
   "source": [
    "ordersByUsers = (\n",
    "    orders.groupby('visitorId', as_index=False)\n",
    "    .agg({'transactionId': 'nunique'})\n",
    ")\n",
    "ordersByUsers.columns = ['userId', 'orders']\n",
    "\n",
    "display(ordersByUsers.sort_values(by='orders', ascending=False).head(10))\n",
    "\n",
    "# серия из чисел от 0 до количества наблюдений в ordersByUsers\n",
    "x_values = pd.Series(range(0, len(ordersByUsers)))\n",
    "\n",
    "\n",
    "plt.scatter(x_values, ordersByUsers['orders']) \n",
    "plt.show()"
   ]
  },
  {
   "cell_type": "markdown",
   "id": "560d0b0f",
   "metadata": {},
   "source": [
    "#### Вывод\n",
    "\n",
    "Пользователей которые совершили более 1 заказа немного, однако нужно точно сделать вывод, какой порог можно считать аномальным"
   ]
  },
  {
   "cell_type": "markdown",
   "id": "bab80844",
   "metadata": {},
   "source": [
    "#### Посчитаем 95-й и 99-й перцентили количества заказов на пользователя.\n"
   ]
  },
  {
   "cell_type": "code",
   "execution_count": 24,
   "id": "79991361",
   "metadata": {},
   "outputs": [
    {
     "name": "stdout",
     "output_type": "stream",
     "text": [
      "[1. 2.]\n"
     ]
    }
   ],
   "source": [
    "print(np.percentile(ordersByUsers['orders'], [95, 99]))"
   ]
  },
  {
   "cell_type": "markdown",
   "id": "1d29377c",
   "metadata": {},
   "source": [
    "#### Вывод\n",
    "\n",
    "Пользователей которые совершили более 2 заказов менее 1%, стоит признать число заказов более 2-х аномальными."
   ]
  },
  {
   "cell_type": "markdown",
   "id": "2cf4b009",
   "metadata": {},
   "source": [
    "#### Построим точечный график стоимостей заказов."
   ]
  },
  {
   "cell_type": "code",
   "execution_count": 25,
   "id": "76b28173",
   "metadata": {
    "scrolled": true
   },
   "outputs": [
    {
     "data": {
      "text/html": [
       "<div>\n",
       "<style scoped>\n",
       "    .dataframe tbody tr th:only-of-type {\n",
       "        vertical-align: middle;\n",
       "    }\n",
       "\n",
       "    .dataframe tbody tr th {\n",
       "        vertical-align: top;\n",
       "    }\n",
       "\n",
       "    .dataframe thead th {\n",
       "        text-align: right;\n",
       "    }\n",
       "</style>\n",
       "<table border=\"1\" class=\"dataframe\">\n",
       "  <thead>\n",
       "    <tr style=\"text-align: right;\">\n",
       "      <th></th>\n",
       "      <th>transactionId</th>\n",
       "      <th>visitorId</th>\n",
       "      <th>date</th>\n",
       "      <th>revenue</th>\n",
       "      <th>group</th>\n",
       "    </tr>\n",
       "  </thead>\n",
       "  <tbody>\n",
       "    <tr>\n",
       "      <th>425</th>\n",
       "      <td>5.904709e+08</td>\n",
       "      <td>1.920143e+09</td>\n",
       "      <td>2019-08-19</td>\n",
       "      <td>1294500.0</td>\n",
       "      <td>B</td>\n",
       "    </tr>\n",
       "    <tr>\n",
       "      <th>1196</th>\n",
       "      <td>3.936777e+09</td>\n",
       "      <td>2.108081e+09</td>\n",
       "      <td>2019-08-15</td>\n",
       "      <td>202740.0</td>\n",
       "      <td>B</td>\n",
       "    </tr>\n",
       "    <tr>\n",
       "      <th>1136</th>\n",
       "      <td>6.666105e+08</td>\n",
       "      <td>1.307669e+09</td>\n",
       "      <td>2019-08-13</td>\n",
       "      <td>92550.0</td>\n",
       "      <td>A</td>\n",
       "    </tr>\n",
       "    <tr>\n",
       "      <th>744</th>\n",
       "      <td>3.668308e+09</td>\n",
       "      <td>8.885125e+08</td>\n",
       "      <td>2019-08-27</td>\n",
       "      <td>86620.0</td>\n",
       "      <td>B</td>\n",
       "    </tr>\n",
       "    <tr>\n",
       "      <th>743</th>\n",
       "      <td>3.603576e+09</td>\n",
       "      <td>4.133035e+09</td>\n",
       "      <td>2019-08-09</td>\n",
       "      <td>67990.0</td>\n",
       "      <td>A</td>\n",
       "    </tr>\n",
       "    <tr>\n",
       "      <th>1103</th>\n",
       "      <td>1.348774e+09</td>\n",
       "      <td>1.164614e+09</td>\n",
       "      <td>2019-08-12</td>\n",
       "      <td>66350.0</td>\n",
       "      <td>A</td>\n",
       "    </tr>\n",
       "    <tr>\n",
       "      <th>1099</th>\n",
       "      <td>3.169240e+08</td>\n",
       "      <td>1.484273e+08</td>\n",
       "      <td>2019-08-12</td>\n",
       "      <td>65710.0</td>\n",
       "      <td>A</td>\n",
       "    </tr>\n",
       "    <tr>\n",
       "      <th>949</th>\n",
       "      <td>1.347999e+09</td>\n",
       "      <td>8.879085e+08</td>\n",
       "      <td>2019-08-21</td>\n",
       "      <td>60450.0</td>\n",
       "      <td>A</td>\n",
       "    </tr>\n",
       "    <tr>\n",
       "      <th>940</th>\n",
       "      <td>2.420051e+09</td>\n",
       "      <td>4.003629e+09</td>\n",
       "      <td>2019-08-08</td>\n",
       "      <td>58550.0</td>\n",
       "      <td>B</td>\n",
       "    </tr>\n",
       "    <tr>\n",
       "      <th>131</th>\n",
       "      <td>3.163614e+09</td>\n",
       "      <td>2.254587e+09</td>\n",
       "      <td>2019-08-22</td>\n",
       "      <td>53904.0</td>\n",
       "      <td>A</td>\n",
       "    </tr>\n",
       "    <tr>\n",
       "      <th>287</th>\n",
       "      <td>5.878721e+08</td>\n",
       "      <td>2.254456e+09</td>\n",
       "      <td>2019-08-24</td>\n",
       "      <td>53904.0</td>\n",
       "      <td>A</td>\n",
       "    </tr>\n",
       "    <tr>\n",
       "      <th>613</th>\n",
       "      <td>4.071178e+09</td>\n",
       "      <td>3.931967e+09</td>\n",
       "      <td>2019-08-07</td>\n",
       "      <td>53904.0</td>\n",
       "      <td>B</td>\n",
       "    </tr>\n",
       "    <tr>\n",
       "      <th>1006</th>\n",
       "      <td>1.861540e+09</td>\n",
       "      <td>2.261935e+09</td>\n",
       "      <td>2019-08-10</td>\n",
       "      <td>52900.0</td>\n",
       "      <td>A</td>\n",
       "    </tr>\n",
       "    <tr>\n",
       "      <th>1142</th>\n",
       "      <td>3.815014e+09</td>\n",
       "      <td>2.606909e+09</td>\n",
       "      <td>2019-08-13</td>\n",
       "      <td>52900.0</td>\n",
       "      <td>B</td>\n",
       "    </tr>\n",
       "    <tr>\n",
       "      <th>1137</th>\n",
       "      <td>2.183070e+09</td>\n",
       "      <td>7.594731e+08</td>\n",
       "      <td>2019-08-13</td>\n",
       "      <td>52480.0</td>\n",
       "      <td>A</td>\n",
       "    </tr>\n",
       "    <tr>\n",
       "      <th>746</th>\n",
       "      <td>1.589083e+09</td>\n",
       "      <td>3.321014e+09</td>\n",
       "      <td>2019-08-27</td>\n",
       "      <td>49495.0</td>\n",
       "      <td>A</td>\n",
       "    </tr>\n",
       "    <tr>\n",
       "      <th>709</th>\n",
       "      <td>5.145014e+08</td>\n",
       "      <td>9.506260e+08</td>\n",
       "      <td>2019-08-07</td>\n",
       "      <td>45880.0</td>\n",
       "      <td>A</td>\n",
       "    </tr>\n",
       "    <tr>\n",
       "      <th>755</th>\n",
       "      <td>1.234616e+09</td>\n",
       "      <td>2.279926e+09</td>\n",
       "      <td>2019-08-30</td>\n",
       "      <td>45780.0</td>\n",
       "      <td>B</td>\n",
       "    </tr>\n",
       "    <tr>\n",
       "      <th>530</th>\n",
       "      <td>3.970236e+09</td>\n",
       "      <td>2.912541e+09</td>\n",
       "      <td>2019-08-19</td>\n",
       "      <td>43990.0</td>\n",
       "      <td>A</td>\n",
       "    </tr>\n",
       "    <tr>\n",
       "      <th>648</th>\n",
       "      <td>1.646403e+09</td>\n",
       "      <td>3.828464e+08</td>\n",
       "      <td>2019-08-26</td>\n",
       "      <td>43690.0</td>\n",
       "      <td>A</td>\n",
       "    </tr>\n",
       "    <tr>\n",
       "      <th>684</th>\n",
       "      <td>3.964942e+09</td>\n",
       "      <td>3.589444e+08</td>\n",
       "      <td>2019-08-29</td>\n",
       "      <td>42740.0</td>\n",
       "      <td>A</td>\n",
       "    </tr>\n",
       "    <tr>\n",
       "      <th>339</th>\n",
       "      <td>2.216193e+09</td>\n",
       "      <td>8.347318e+08</td>\n",
       "      <td>2019-08-25</td>\n",
       "      <td>41450.0</td>\n",
       "      <td>B</td>\n",
       "    </tr>\n",
       "    <tr>\n",
       "      <th>78</th>\n",
       "      <td>7.736638e+08</td>\n",
       "      <td>3.288820e+09</td>\n",
       "      <td>2019-08-16</td>\n",
       "      <td>40740.0</td>\n",
       "      <td>B</td>\n",
       "    </tr>\n",
       "    <tr>\n",
       "      <th>1087</th>\n",
       "      <td>3.241711e+08</td>\n",
       "      <td>3.590656e+09</td>\n",
       "      <td>2019-08-12</td>\n",
       "      <td>39500.0</td>\n",
       "      <td>B</td>\n",
       "    </tr>\n",
       "    <tr>\n",
       "      <th>173</th>\n",
       "      <td>1.192036e+09</td>\n",
       "      <td>2.953427e+09</td>\n",
       "      <td>2019-08-02</td>\n",
       "      <td>38160.0</td>\n",
       "      <td>B</td>\n",
       "    </tr>\n",
       "    <tr>\n",
       "      <th>420</th>\n",
       "      <td>2.788225e+09</td>\n",
       "      <td>1.606766e+09</td>\n",
       "      <td>2019-08-06</td>\n",
       "      <td>37550.0</td>\n",
       "      <td>B</td>\n",
       "    </tr>\n",
       "    <tr>\n",
       "      <th>751</th>\n",
       "      <td>3.481431e+08</td>\n",
       "      <td>6.891293e+08</td>\n",
       "      <td>2019-08-20</td>\n",
       "      <td>37150.0</td>\n",
       "      <td>B</td>\n",
       "    </tr>\n",
       "    <tr>\n",
       "      <th>867</th>\n",
       "      <td>1.538887e+09</td>\n",
       "      <td>3.372131e+09</td>\n",
       "      <td>2019-08-30</td>\n",
       "      <td>35890.0</td>\n",
       "      <td>B</td>\n",
       "    </tr>\n",
       "    <tr>\n",
       "      <th>563</th>\n",
       "      <td>9.226386e+08</td>\n",
       "      <td>9.353494e+08</td>\n",
       "      <td>2019-08-26</td>\n",
       "      <td>35485.0</td>\n",
       "      <td>B</td>\n",
       "    </tr>\n",
       "    <tr>\n",
       "      <th>549</th>\n",
       "      <td>4.243941e+09</td>\n",
       "      <td>1.367935e+09</td>\n",
       "      <td>2019-08-29</td>\n",
       "      <td>35485.0</td>\n",
       "      <td>A</td>\n",
       "    </tr>\n",
       "  </tbody>\n",
       "</table>\n",
       "</div>"
      ],
      "text/plain": [
       "      transactionId     visitorId        date    revenue group\n",
       "425    5.904709e+08  1.920143e+09  2019-08-19  1294500.0     B\n",
       "1196   3.936777e+09  2.108081e+09  2019-08-15   202740.0     B\n",
       "1136   6.666105e+08  1.307669e+09  2019-08-13    92550.0     A\n",
       "744    3.668308e+09  8.885125e+08  2019-08-27    86620.0     B\n",
       "743    3.603576e+09  4.133035e+09  2019-08-09    67990.0     A\n",
       "1103   1.348774e+09  1.164614e+09  2019-08-12    66350.0     A\n",
       "1099   3.169240e+08  1.484273e+08  2019-08-12    65710.0     A\n",
       "949    1.347999e+09  8.879085e+08  2019-08-21    60450.0     A\n",
       "940    2.420051e+09  4.003629e+09  2019-08-08    58550.0     B\n",
       "131    3.163614e+09  2.254587e+09  2019-08-22    53904.0     A\n",
       "287    5.878721e+08  2.254456e+09  2019-08-24    53904.0     A\n",
       "613    4.071178e+09  3.931967e+09  2019-08-07    53904.0     B\n",
       "1006   1.861540e+09  2.261935e+09  2019-08-10    52900.0     A\n",
       "1142   3.815014e+09  2.606909e+09  2019-08-13    52900.0     B\n",
       "1137   2.183070e+09  7.594731e+08  2019-08-13    52480.0     A\n",
       "746    1.589083e+09  3.321014e+09  2019-08-27    49495.0     A\n",
       "709    5.145014e+08  9.506260e+08  2019-08-07    45880.0     A\n",
       "755    1.234616e+09  2.279926e+09  2019-08-30    45780.0     B\n",
       "530    3.970236e+09  2.912541e+09  2019-08-19    43990.0     A\n",
       "648    1.646403e+09  3.828464e+08  2019-08-26    43690.0     A\n",
       "684    3.964942e+09  3.589444e+08  2019-08-29    42740.0     A\n",
       "339    2.216193e+09  8.347318e+08  2019-08-25    41450.0     B\n",
       "78     7.736638e+08  3.288820e+09  2019-08-16    40740.0     B\n",
       "1087   3.241711e+08  3.590656e+09  2019-08-12    39500.0     B\n",
       "173    1.192036e+09  2.953427e+09  2019-08-02    38160.0     B\n",
       "420    2.788225e+09  1.606766e+09  2019-08-06    37550.0     B\n",
       "751    3.481431e+08  6.891293e+08  2019-08-20    37150.0     B\n",
       "867    1.538887e+09  3.372131e+09  2019-08-30    35890.0     B\n",
       "563    9.226386e+08  9.353494e+08  2019-08-26    35485.0     B\n",
       "549    4.243941e+09  1.367935e+09  2019-08-29    35485.0     A"
      ]
     },
     "metadata": {},
     "output_type": "display_data"
    },
    {
     "data": {
      "image/png": "[encoded data removed]",
      "text/plain": [
       "<Figure size 1080x792 with 1 Axes>"
      ]
     },
     "metadata": {},
     "output_type": "display_data"
    }
   ],
   "source": [
    "display(orders.sort_values(by='revenue', ascending=False).head(30))\n",
    "\n",
    "x_values = pd.Series(range(0, len(orders['revenue'])))\n",
    "plt.scatter(x_values, orders['revenue'],alpha=0.4) \n",
    "plt.show()"
   ]
  },
  {
   "cell_type": "markdown",
   "id": "0f88c91b",
   "metadata": {},
   "source": [
    "#### Вывод\n",
    "\n",
    "Из за аномально большого заказа в группе В, тяжело оценить по графику, что можно считать аномалиями. Прибегнем к процентилям "
   ]
  },
  {
   "cell_type": "markdown",
   "id": "3cab20f9",
   "metadata": {},
   "source": [
    "#### Посчитаем 95-й и 99-й перцентили стоимости заказов\n",
    "\n",
    "\n",
    "\n",
    "\n",
    "\n"
   ]
  },
  {
   "cell_type": "code",
   "execution_count": 26,
   "id": "9b710263",
   "metadata": {},
   "outputs": [
    {
     "name": "stdout",
     "output_type": "stream",
     "text": [
      "[26785. 53904.]\n"
     ]
    }
   ],
   "source": [
    "print(np.percentile(orders['revenue'], [95, 99])) "
   ]
  },
  {
   "cell_type": "markdown",
   "id": "5f79e7b6",
   "metadata": {},
   "source": [
    "#### Вывод\n",
    "\n",
    "Мы можем сказать, что самый резкий выброс укладывается в 99 процетиль. Убрав 1% значений, мы уберем основные аномальные значения"
   ]
  },
  {
   "cell_type": "markdown",
   "id": "b5534917",
   "metadata": {},
   "source": [
    "#### Посчитаем статистическую значимость различий в конверсии между группами по «сырым» данным.\n",
    "\n",
    "**Нулевая гипотеза:** Различий в конверсии между группами нет\n",
    "\n",
    "alfa = 5%"
   ]
  },
  {
   "cell_type": "code",
   "execution_count": 27,
   "id": "5065fa76",
   "metadata": {},
   "outputs": [
    {
     "name": "stdout",
     "output_type": "stream",
     "text": [
      "P-value = 0.01102\n",
      "Относительный рост: 0.160\n"
     ]
    }
   ],
   "source": [
    "visitorsADaily = visitors[visitors['group'] == 'A'][['date', 'visitors']]\n",
    "visitorsADaily.columns = ['date', 'visitorsPerDateA']\n",
    "\n",
    "visitorsACummulative = visitorsADaily.apply(\n",
    "    lambda x: visitorsADaily[visitorsADaily['date'] <= x['date']].agg(\n",
    "        {'date': 'max', 'visitorsPerDateA': 'sum'}\n",
    "    ),\n",
    "    axis=1,\n",
    ")\n",
    "visitorsACummulative.columns = ['date', 'visitorsCummulativeA']\n",
    "\n",
    "visitorsBDaily = visitors[visitors['group'] == 'B'][['date', 'visitors']]\n",
    "visitorsBDaily.columns = ['date', 'visitorsPerDateB']\n",
    "\n",
    "visitorsBCummulative = visitorsBDaily.apply(\n",
    "    lambda x: visitorsBDaily[visitorsBDaily['date'] <= x['date']].agg(\n",
    "        {'date': 'max', 'visitorsPerDateB': 'sum'}\n",
    "    ),\n",
    "    axis=1,\n",
    ")\n",
    "visitorsBCummulative.columns = ['date', 'visitorsCummulativeB']\n",
    "\n",
    "ordersADaily = (\n",
    "    orders[orders['group'] == 'A'][['date', 'transactionId', 'visitorId', 'revenue']]\n",
    "    .groupby('date', as_index=False)\n",
    "    .agg({'transactionId': pd.Series.nunique, 'revenue': 'sum'})\n",
    ")\n",
    "ordersADaily.columns = ['date', 'ordersPerDateA', 'revenuePerDateA']\n",
    "\n",
    "ordersACummulative = ordersADaily.apply(\n",
    "    lambda x: ordersADaily[ordersADaily['date'] <= x['date']].agg(\n",
    "        {'date': 'max', 'ordersPerDateA': 'sum', 'revenuePerDateA': 'sum'}\n",
    "    ),\n",
    "    axis=1,\n",
    ").sort_values(by=['date'])\n",
    "ordersACummulative.columns = [\n",
    "    'date',\n",
    "    'ordersCummulativeA',\n",
    "    'revenueCummulativeA',\n",
    "]\n",
    "\n",
    "ordersBDaily = (\n",
    "    orders[orders['group'] == 'B'][['date', 'transactionId', 'visitorId', 'revenue']]\n",
    "    .groupby('date', as_index=False)\n",
    "    .agg({'transactionId': pd.Series.nunique, 'revenue': 'sum'})\n",
    ")\n",
    "ordersBDaily.columns = ['date', 'ordersPerDateB', 'revenuePerDateB']\n",
    "\n",
    "ordersBCummulative = ordersBDaily.apply(\n",
    "    lambda x: ordersBDaily[ordersBDaily['date'] <= x['date']].agg(\n",
    "        {'date': 'max', 'ordersPerDateB': 'sum', 'revenuePerDateB': 'sum'}\n",
    "    ),\n",
    "    axis=1,\n",
    ").sort_values(by=['date'])\n",
    "ordersBCummulative.columns = [\n",
    "    'date',\n",
    "    'ordersCummulativeB',\n",
    "    'revenueCummulativeB',\n",
    "]\n",
    "\n",
    "data = (\n",
    "    ordersADaily.merge(\n",
    "        ordersBDaily, left_on='date', right_on='date', how='left'\n",
    "    )\n",
    "    .merge(ordersACummulative, left_on='date', right_on='date', how='left')\n",
    "    .merge(ordersBCummulative, left_on='date', right_on='date', how='left')\n",
    "    .merge(visitorsADaily, left_on='date', right_on='date', how='left')\n",
    "    .merge(visitorsBDaily, left_on='date', right_on='date', how='left')\n",
    "    .merge(visitorsACummulative, left_on='date', right_on='date', how='left')\n",
    "    .merge(visitorsBCummulative, left_on='date', right_on='date', how='left')\n",
    ")\n",
    "\n",
    "\n",
    "\n",
    "ordersByUsersA = (\n",
    "    orders[orders['group'] == 'A']\n",
    "    .groupby('visitorId', as_index=False)\n",
    "    .agg({'transactionId': pd.Series.nunique})\n",
    ")\n",
    "ordersByUsersA.columns = ['userId', 'orders']\n",
    "\n",
    "ordersByUsersB = (\n",
    "    orders[orders['group'] == 'B']\n",
    "    .groupby('visitorId', as_index=False)\n",
    "    .agg({'transactionId': pd.Series.nunique})\n",
    ")\n",
    "ordersByUsersB.columns = ['userId', 'orders'] \n",
    "\n",
    "sampleA = pd.concat([ordersByUsersA['orders'],pd.Series(0, index=np.arange(data['visitorsPerDateA'].sum() - len(ordersByUsersA['orders'])), name='orders')],axis=0)\n",
    "\n",
    "sampleB = pd.concat([ordersByUsersB['orders'],pd.Series(0, index=np.arange(data['visitorsPerDateB'].sum() - len(ordersByUsersB['orders'])), name='orders')],axis=0)\n",
    "ordersByUsersA = (\n",
    "    orders[orders['group'] == 'A']\n",
    "    .groupby('visitorId', as_index=False)\n",
    "    .agg({'transactionId': pd.Series.nunique})\n",
    ")\n",
    "ordersByUsersA.columns = ['userId', 'orders']\n",
    "\n",
    "ordersByUsersB = (\n",
    "    orders[orders['group'] == 'B']\n",
    "    .groupby('visitorId', as_index=False)\n",
    "    .agg({'transactionId': pd.Series.nunique})\n",
    ")\n",
    "ordersByUsersB.columns = ['userId', 'orders']\n",
    "\n",
    "sampleA = pd.concat(\n",
    "    [\n",
    "        ordersByUsersA['orders'],\n",
    "        pd.Series(\n",
    "            0,\n",
    "            index=np.arange(\n",
    "                data['visitorsPerDateA'].sum() - len(ordersByUsersA['orders'])\n",
    "            ),\n",
    "            name='orders',\n",
    "        ),\n",
    "    ],\n",
    "    axis=0,\n",
    ")\n",
    "\n",
    "sampleB = pd.concat(\n",
    "    [\n",
    "        ordersByUsersB['orders'],\n",
    "        pd.Series(\n",
    "            0,\n",
    "            index=np.arange(\n",
    "                data['visitorsPerDateB'].sum() - len(ordersByUsersB['orders'])\n",
    "            ),\n",
    "            name='orders',\n",
    "        ),\n",
    "    ],\n",
    "    axis=0,\n",
    ")\n",
    "\n",
    "print(\"P-value = {0:.5f}\".format(stats.mannwhitneyu(sampleA, sampleB)[1]))\n",
    "\n",
    "print(\"Относительный рост: {0:.3f}\".format(sampleB.mean() / sampleA.mean() - 1))"
   ]
  },
  {
   "cell_type": "markdown",
   "id": "af40a5cc",
   "metadata": {},
   "source": [
    "#### Вывод\n",
    "По сырым данным можно сказать, что нулевую гипотезу мы отвергам. Т.е различия между группами статистически значимы. Конверсия выросла на 16%\n"
   ]
  },
  {
   "cell_type": "markdown",
   "id": "42fe65c4",
   "metadata": {},
   "source": [
    "#### Посчитайте статистическую значимость различий в среднем чеке заказа между группами по «сырым» данным. \n",
    "\n",
    "**Нулевая гипотеза:** Различий в cреднем чеке между группами нет\n",
    "\n",
    "alfa = 5%"
   ]
  },
  {
   "cell_type": "code",
   "execution_count": 28,
   "id": "ef59f774",
   "metadata": {
    "scrolled": true
   },
   "outputs": [
    {
     "name": "stdout",
     "output_type": "stream",
     "text": [
      "P-value = 0.829\n",
      "Относительный рост: 0.287\n"
     ]
    }
   ],
   "source": [
    "print('P-value = {0:.3f}'.format(stats.mannwhitneyu(orders[orders['group']=='A']['revenue'], orders[orders['group']=='B']['revenue'])[1]))\n",
    "print('Относительный рост: {0:.3f}'.format(orders[orders['group']=='B']['revenue'].mean()/orders[orders['group']=='A']['revenue'].mean()-1)) "
   ]
  },
  {
   "cell_type": "markdown",
   "id": "19257d5f",
   "metadata": {},
   "source": [
    "#### Вывод\n",
    "По сырым данным можно сказать, что у нас нет основании отвергать нулевую гипотезу. Т.е различия между группами незначительны\n"
   ]
  },
  {
   "cell_type": "markdown",
   "id": "fc38303e",
   "metadata": {},
   "source": [
    "#### Посчитайте статистическую значимость различий в конверсии между группами по «очищенным» данным.\n",
    "\n",
    "**Нулевая гипотеза:** Различий в конверсии чеке между группами нет\n",
    "\n",
    "alfa = 5%"
   ]
  },
  {
   "cell_type": "code",
   "execution_count": 29,
   "id": "7145aa14",
   "metadata": {
    "scrolled": true
   },
   "outputs": [
    {
     "data": {
      "text/plain": [
       "1099    148427295.0\n",
       "33      249864742.0\n",
       "58      611059232.0\n",
       "949     887908475.0\n",
       "744     888512513.0\n",
       "dtype: float64"
      ]
     },
     "metadata": {},
     "output_type": "display_data"
    },
    {
     "name": "stdout",
     "output_type": "stream",
     "text": [
      "Число аномальных пользователей: 16\n"
     ]
    }
   ],
   "source": [
    "usersWithManyOrders = pd.concat(\n",
    "    [\n",
    "        ordersByUsersA[ordersByUsersA['orders'] > np.percentile(ordersByUsers['orders'], 99)]['userId'],\n",
    "        ordersByUsersB[ordersByUsersB['orders'] > np.percentile(ordersByUsers['orders'], 99)]['userId'],\n",
    "    ],\n",
    "    axis=0,\n",
    ")\n",
    "usersWithExpensiveOrders = orders[orders['revenue'] > np.percentile(orders['revenue'], 99)]['visitorId']\n",
    "abnormalUsers = (\n",
    "    pd.concat([usersWithManyOrders, usersWithExpensiveOrders], axis=0)\n",
    "    .drop_duplicates()\n",
    "    .sort_values()\n",
    ")\n",
    "display(abnormalUsers.head(5))\n",
    "print('Число аномальных пользователей:', abnormalUsers.shape[0]) "
   ]
  },
  {
   "cell_type": "code",
   "execution_count": 30,
   "id": "35aa1cba",
   "metadata": {},
   "outputs": [],
   "source": [
    "sampleAFiltered = pd.concat(\n",
    "    [\n",
    "        ordersByUsersA[\n",
    "            np.logical_not(ordersByUsersA['userId'].isin(abnormalUsers))\n",
    "        ]['orders'],\n",
    "        pd.Series(\n",
    "            0,\n",
    "            index=np.arange(\n",
    "                data['visitorsPerDateA'].sum() - len(ordersByUsersA['orders'])\n",
    "            ),\n",
    "            name='orders',\n",
    "        ),\n",
    "    ],\n",
    "    axis=0,\n",
    ")\n",
    "\n",
    "sampleBFiltered = pd.concat(\n",
    "    [\n",
    "        ordersByUsersB[\n",
    "            np.logical_not(ordersByUsersB['userId'].isin(abnormalUsers))\n",
    "        ]['orders'],\n",
    "        pd.Series(\n",
    "            0,\n",
    "            index=np.arange(\n",
    "                data['visitorsPerDateB'].sum() - len(ordersByUsersB['orders'])\n",
    "            ),\n",
    "            name='orders',\n",
    "        ),\n",
    "    ],\n",
    "    axis=0,\n",
    ") "
   ]
  },
  {
   "cell_type": "code",
   "execution_count": 31,
   "id": "767aa990",
   "metadata": {},
   "outputs": [
    {
     "name": "stdout",
     "output_type": "stream",
     "text": [
      "P-value = 0.00702\n",
      "Относительный прирост: 0.189\n"
     ]
    }
   ],
   "source": [
    "print('P-value = {0:.5f}'.format(stats.mannwhitneyu(sampleAFiltered, sampleBFiltered)[1]))\n",
    "print('Относительный прирост: {0:.3f}'.format(sampleBFiltered.mean()/sampleAFiltered.mean()-1)) "
   ]
  },
  {
   "cell_type": "markdown",
   "id": "505c5c0e",
   "metadata": {},
   "source": [
    "#### Вывод\n",
    "По очищенным данным можно сказать, что мы отвергаем нулевую гипотезу. Т.е различия между группами статистически значимы. Конверсия выросла на 18.9%\n"
   ]
  },
  {
   "cell_type": "markdown",
   "id": "af3c0916",
   "metadata": {},
   "source": [
    "#### Посчитайте статистическую значимость различий в среднем чеке заказа между группами по «очищенным» данным. \n",
    "\n",
    "**Нулевая гипотеза:** Различий в конверсии чеке между группами нет\n",
    "\n",
    "alfa = 5%"
   ]
  },
  {
   "cell_type": "code",
   "execution_count": 32,
   "id": "ff824a4b",
   "metadata": {},
   "outputs": [
    {
     "name": "stdout",
     "output_type": "stream",
     "text": [
      "P-value = 0.788\n",
      "Относительный прирост: -0.032\n"
     ]
    }
   ],
   "source": [
    "print(\n",
    "    'P-value = {0:.3f}'.format(\n",
    "        stats.mannwhitneyu(\n",
    "            orders[\n",
    "                np.logical_and(\n",
    "                    orders['group'] == 'A',\n",
    "                    np.logical_not(orders['visitorId'].isin(abnormalUsers)),\n",
    "                )\n",
    "            ]['revenue'],\n",
    "            orders[\n",
    "                np.logical_and(\n",
    "                    orders['group'] == 'B',\n",
    "                    np.logical_not(orders['visitorId'].isin(abnormalUsers)),\n",
    "                )\n",
    "            ]['revenue'],\n",
    "        )[1]\n",
    "    )\n",
    ")\n",
    "\n",
    "print(\n",
    "    \"Относительный прирост: {0:.3f}\".format(\n",
    "        orders[\n",
    "            np.logical_and(\n",
    "                orders['group'] == 'B',\n",
    "                np.logical_not(orders['visitorId'].isin(abnormalUsers)),\n",
    "            )\n",
    "        ]['revenue'].mean()\n",
    "        / orders[\n",
    "            np.logical_and(\n",
    "                orders['group'] == 'A',\n",
    "                np.logical_not(orders['visitorId'].isin(abnormalUsers)),\n",
    "            )\n",
    "        ]['revenue'].mean()\n",
    "        - 1\n",
    "    )\n",
    ") "
   ]
  },
  {
   "cell_type": "markdown",
   "id": "e78ad514",
   "metadata": {},
   "source": [
    "#### Вывод\n",
    "По очищенным данным можно сказать, что у нас нет основании отвергать нулевую гипотезу. Различия в среднем чеке по очищенным данным незначительны.\n"
   ]
  },
  {
   "cell_type": "markdown",
   "id": "be9f02a0",
   "metadata": {},
   "source": [
    "### Решение и общий вывод\n",
    "\n",
    "Выручка увеличивается в течении всего теста. \n",
    "В группе В на 2019-08-18 произошел резкий рост выручки, что свидетельствует о том, что в эту группу попал крупный заказ, стоит удалить аномалии в дальнейшем.\n",
    "Выручка по группе В  немного выше чем выручка по группе А.\n",
    "\n",
    "2019-08-18 произошел резкий скачек среднего чека в группе B, что так же подтверждает попадание крупного заказа в эту группу. При этом мы можем видеть, что средний чек в группе A большую часть времени был стабилен, кроме начала теста, однако мы не можем сделать вывод по данной метрике из за крупного заказа\n",
    "\n",
    "В начале теста конверсия в группе А была выше, однако быстро начала падать и на 6 день уже сравнялась с группой В. При этом несмотря на то, что по группе В конверсия выше, в обоих группах можно заметить слабый нисходящий тренд, что свидетельствует о медленной уменьшении конверсии. \n",
    "\n",
    "В начале теста конверсия в группе А была выше, однако конверсия по группе В на 6 день уже сравнялась с группой В и продолжила расти, пока не зафиксировалась на уровне выше 13% выше чем по группе А.\n",
    "\n",
    "Пользователей которые совершили более 2 заказов менее 1%, стоит признать число заказов более 2-х аномальными.\n",
    "\n",
    "Мы можем сказать, что самый резкий выброс по выручке укладывается в 99 процетиль. Убрав 1% значений, мы уберем основные аномальные значения\n",
    "\n",
    "По результатам теста мы можем сделать следующий вывод.\n",
    "\n",
    "После очистки аномальных значений мы можем сказать, что в группе В конверсия увеличилась, это подтверждает так же визуальные проверки, и тест по неочищенным данным.\n",
    "При этом разницы в среднем чеке нет, это подверждают тесты как с аномальными значениями так и без них.\n",
    "Рост конверсии составляет 18.9% по очищенным от аномалий данным.\n",
    "\n",
    "Мы можем сказать, что в группе В больше конверсия, а средний чек не изменился. Пользователи группы В чаще совершают покупки, а значит изменение положительно. Тест можно остановить. \n"
   ]
  },
  {
   "cell_type": "markdown",
   "id": "c2776dbd",
   "metadata": {},
   "source": [
    "## Чек лист\n",
    "\n",
    "Часть 1. Приоритизация гипотез.\n",
    "- [x] Открыть файл. Изучить датасет\n",
    "  - [x] Спланировать дальнейшую обработку датасета:\n",
    "- [x] Подготовить данные\n",
    "  - [x] Проверить необходимость обработки данных в случае необходимости обработать их\n",
    "- [x] Применить фреймворки для приоритизации гипотез\n",
    "    - [x] Примените фреймворк ICE для приоритизации гипотез\n",
    "    - [x] Примените фреймворк RICE для приоритизации гипотез.\n",
    "    - [x] Укажите, как изменилась приоритизация гипотез при применении RICE вместо ICE.\n",
    "Часть 2. Анализ A/B теста\n",
    "- [x] Открыть файл. Изучить датасет\n",
    "  - [x] Спланировать дальнейшую обработку датасета:\n",
    "- [x] Подготовить данные\n",
    "  - [x] Проверить необходимость обработки данных в случае необходимости обработать их\n",
    "- [x] Проанализируйте A/B тест\n",
    "    - [x] Постройте график кумулятивной выручки по группам. Сделайте выводы и предположения.\n",
    "    - [x] Постройте график кумулятивного среднего чека по группам. Сделайте выводы и предположения.\n",
    "    - [x] Постройте график относительного изменения кумулятивного среднего чека группы B к группе A. Сделайте выводы и предположения.\n",
    "    - [x] Постройте график кумулятивной конверсии по группам. Сделайте выводы и предположения.\n",
    "    - [x] Постройте график относительного изменения кумулятивной конверсии группы B к группе A. Сделайте выводы и предположения.\n",
    "    - [x] Постройте точечный график количества заказов по пользователям. Сделайте выводы и предположения.\n",
    "    - [x] Посчитайте 95-й и 99-й перцентили количества заказов на пользователя. Выберите границу для определения аномальных пользователей.\n",
    "    - [x] Постройте точечный график стоимостей заказов. Сделайте выводы и предположения.\n",
    "    - [x] Посчитайте 95-й и 99-й перцентили стоимости заказов. Выберите границу для определения аномальных заказов.\n",
    "    - [x] Посчитайте статистическую значимость различий в конверсии между группами по «сырым» данным. Сделайте выводы и предположения.\n",
    "    - [x] Посчитайте статистическую значимость различий в среднем чеке заказа между группами по «сырым» данным. Сделайте выводы и предположения.\n",
    "    - [x] Посчитайте статистическую значимость различий в конверсии между группами по «очищенным» данным. Сделайте выводы и предположения.\n",
    "    - [x] Посчитайте статистическую значимость различий в среднем чеке заказа между группами по «очищенным» данным. Сделайте выводы и предположения.\n",
    "    - [x] Примите решение по результатам теста и объясните его. Варианты решений: 1. Остановить тест, зафиксировать победу одной из групп. 2. Остановить тест, зафиксировать отсутствие различий между группами. 3. Продолжить тест.\n",
    "- [x] Есть общий вывод\n",
    "- [x] Есть выводы к каждым шагам\n"
   ]
  }
 ],
 "metadata": {
  "ExecuteTimeLog": [
   {
    "duration": 1414,
    "start_time": "2022-07-23T10:20:58.416Z"
   },
   {
    "duration": 87,
    "start_time": "2022-07-23T10:20:59.832Z"
   },
   {
    "duration": 5,
    "start_time": "2022-07-23T10:21:02.792Z"
   },
   {
    "duration": 51,
    "start_time": "2022-07-23T10:21:03.008Z"
   },
   {
    "duration": 21,
    "start_time": "2022-07-23T10:21:03.695Z"
   },
   {
    "duration": 4,
    "start_time": "2022-07-23T10:21:04.733Z"
   },
   {
    "duration": 13,
    "start_time": "2022-07-23T10:21:06.080Z"
   },
   {
    "duration": 15,
    "start_time": "2022-07-23T10:21:07.940Z"
   },
   {
    "duration": 165,
    "start_time": "2022-07-23T10:21:09.887Z"
   },
   {
    "duration": 23,
    "start_time": "2022-07-23T10:21:11.065Z"
   },
   {
    "duration": 7,
    "start_time": "2022-07-23T10:21:12.783Z"
   },
   {
    "duration": 904,
    "start_time": "2022-07-23T10:21:13.457Z"
   },
   {
    "duration": 113,
    "start_time": "2022-07-23T10:22:04.285Z"
   },
   {
    "duration": 19,
    "start_time": "2022-07-23T10:22:05.137Z"
   },
   {
    "duration": 6,
    "start_time": "2022-07-23T10:22:07.283Z"
   },
   {
    "duration": 17,
    "start_time": "2022-07-23T10:22:08.437Z"
   },
   {
    "duration": 25,
    "start_time": "2022-07-23T10:22:11.712Z"
   },
   {
    "duration": 8,
    "start_time": "2022-07-23T10:22:12.121Z"
   },
   {
    "duration": 291,
    "start_time": "2022-07-23T10:22:14.176Z"
   },
   {
    "duration": 434,
    "start_time": "2022-07-23T10:22:14.816Z"
   },
   {
    "duration": 445,
    "start_time": "2022-07-23T10:22:16.802Z"
   },
   {
    "duration": 403,
    "start_time": "2022-07-23T10:22:21.333Z"
   },
   {
    "duration": 610,
    "start_time": "2022-07-23T10:22:22.291Z"
   },
   {
    "duration": 452,
    "start_time": "2022-07-23T10:22:22.903Z"
   },
   {
    "duration": 519,
    "start_time": "2022-07-23T10:22:24.001Z"
   },
   {
    "duration": 238,
    "start_time": "2022-07-23T10:22:25.347Z"
   },
   {
    "duration": 5,
    "start_time": "2022-07-23T10:22:26.336Z"
   },
   {
    "duration": 211,
    "start_time": "2022-07-23T10:22:27.173Z"
   },
   {
    "duration": 4,
    "start_time": "2022-07-23T10:22:27.749Z"
   },
   {
    "duration": 638,
    "start_time": "2022-07-23T10:22:28.475Z"
   },
   {
    "duration": 16,
    "start_time": "2022-07-23T10:22:29.116Z"
   },
   {
    "duration": 11,
    "start_time": "2022-07-23T10:22:29.646Z"
   },
   {
    "duration": 9,
    "start_time": "2022-07-23T10:22:29.838Z"
   },
   {
    "duration": 16,
    "start_time": "2022-07-23T10:22:30.408Z"
   },
   {
    "duration": 9,
    "start_time": "2022-07-23T10:22:46.152Z"
   },
   {
    "duration": 8,
    "start_time": "2022-07-23T10:23:41.089Z"
   },
   {
    "duration": 22,
    "start_time": "2022-07-23T10:23:42.598Z"
   },
   {
    "duration": 13,
    "start_time": "2022-07-23T10:23:44.668Z"
   },
   {
    "duration": 1259,
    "start_time": "2022-07-23T18:49:51.259Z"
   },
   {
    "duration": 65,
    "start_time": "2022-07-23T18:49:52.520Z"
   },
   {
    "duration": 23,
    "start_time": "2022-07-23T18:49:52.588Z"
   },
   {
    "duration": 15,
    "start_time": "2022-07-23T18:49:52.613Z"
   },
   {
    "duration": 22,
    "start_time": "2022-07-23T18:49:52.630Z"
   },
   {
    "duration": 16,
    "start_time": "2022-07-23T18:49:52.654Z"
   },
   {
    "duration": 99,
    "start_time": "2022-07-23T18:49:52.673Z"
   },
   {
    "duration": 26,
    "start_time": "2022-07-23T18:49:52.775Z"
   },
   {
    "duration": 11,
    "start_time": "2022-07-23T18:49:52.803Z"
   },
   {
    "duration": 35,
    "start_time": "2022-07-23T18:49:52.818Z"
   },
   {
    "duration": 27,
    "start_time": "2022-07-23T18:49:52.855Z"
   },
   {
    "duration": 12,
    "start_time": "2022-07-23T18:49:52.885Z"
   },
   {
    "duration": 328,
    "start_time": "2022-07-23T18:49:52.898Z"
   },
   {
    "duration": 440,
    "start_time": "2022-07-23T18:49:53.228Z"
   },
   {
    "duration": 464,
    "start_time": "2022-07-23T18:49:53.670Z"
   },
   {
    "duration": 522,
    "start_time": "2022-07-23T18:49:54.145Z"
   },
   {
    "duration": 473,
    "start_time": "2022-07-23T18:49:54.669Z"
   },
   {
    "duration": 521,
    "start_time": "2022-07-23T18:49:55.146Z"
   },
   {
    "duration": 227,
    "start_time": "2022-07-23T18:49:55.670Z"
   },
   {
    "duration": 5,
    "start_time": "2022-07-23T18:49:55.898Z"
   },
   {
    "duration": 247,
    "start_time": "2022-07-23T18:49:55.905Z"
   },
   {
    "duration": 5,
    "start_time": "2022-07-23T18:49:56.154Z"
   },
   {
    "duration": 556,
    "start_time": "2022-07-23T18:49:56.161Z"
   },
   {
    "duration": 12,
    "start_time": "2022-07-23T18:49:56.720Z"
   },
   {
    "duration": 15,
    "start_time": "2022-07-23T18:49:56.746Z"
   },
   {
    "duration": 9,
    "start_time": "2022-07-23T18:49:56.763Z"
   },
   {
    "duration": 28,
    "start_time": "2022-07-23T18:49:56.774Z"
   },
   {
    "duration": 45,
    "start_time": "2022-07-23T18:49:56.806Z"
   },
   {
    "duration": 1238,
    "start_time": "2022-07-23T18:51:06.243Z"
   },
   {
    "duration": 67,
    "start_time": "2022-07-23T18:51:07.483Z"
   },
   {
    "duration": 23,
    "start_time": "2022-07-23T18:51:07.552Z"
   },
   {
    "duration": 5,
    "start_time": "2022-07-23T18:51:07.577Z"
   },
   {
    "duration": 17,
    "start_time": "2022-07-23T18:51:07.584Z"
   },
   {
    "duration": 12,
    "start_time": "2022-07-23T18:51:07.602Z"
   },
   {
    "duration": 97,
    "start_time": "2022-07-23T18:51:07.616Z"
   },
   {
    "duration": 22,
    "start_time": "2022-07-23T18:51:07.715Z"
   },
   {
    "duration": 8,
    "start_time": "2022-07-23T18:51:07.739Z"
   },
   {
    "duration": 17,
    "start_time": "2022-07-23T18:51:07.749Z"
   },
   {
    "duration": 20,
    "start_time": "2022-07-23T18:51:07.768Z"
   },
   {
    "duration": 7,
    "start_time": "2022-07-23T18:51:07.790Z"
   },
   {
    "duration": 316,
    "start_time": "2022-07-23T18:51:07.799Z"
   },
   {
    "duration": 443,
    "start_time": "2022-07-23T18:51:08.118Z"
   },
   {
    "duration": 462,
    "start_time": "2022-07-23T18:51:08.563Z"
   },
   {
    "duration": 535,
    "start_time": "2022-07-23T18:51:09.028Z"
   },
   {
    "duration": 420,
    "start_time": "2022-07-23T18:51:09.566Z"
   },
   {
    "duration": 566,
    "start_time": "2022-07-23T18:51:09.988Z"
   },
   {
    "duration": 244,
    "start_time": "2022-07-23T18:51:10.557Z"
   },
   {
    "duration": 5,
    "start_time": "2022-07-23T18:51:10.804Z"
   },
   {
    "duration": 239,
    "start_time": "2022-07-23T18:51:10.811Z"
   },
   {
    "duration": 5,
    "start_time": "2022-07-23T18:51:11.052Z"
   },
   {
    "duration": 537,
    "start_time": "2022-07-23T18:51:11.059Z"
   },
   {
    "duration": 10,
    "start_time": "2022-07-23T18:51:11.598Z"
   },
   {
    "duration": 40,
    "start_time": "2022-07-23T18:51:11.610Z"
   },
   {
    "duration": 11,
    "start_time": "2022-07-23T18:51:11.651Z"
   },
   {
    "duration": 25,
    "start_time": "2022-07-23T18:51:11.664Z"
   },
   {
    "duration": 14,
    "start_time": "2022-07-23T18:51:11.691Z"
   },
   {
    "duration": 1174,
    "start_time": "2022-07-24T09:54:07.192Z"
   },
   {
    "duration": 7,
    "start_time": "2022-07-24T09:54:36.535Z"
   },
   {
    "duration": 87,
    "start_time": "2022-07-24T09:54:37.011Z"
   },
   {
    "duration": 20,
    "start_time": "2022-07-24T09:54:38.335Z"
   },
   {
    "duration": 4,
    "start_time": "2022-07-24T09:56:05.962Z"
   },
   {
    "duration": 12,
    "start_time": "2022-07-24T09:56:07.143Z"
   },
   {
    "duration": 14,
    "start_time": "2022-07-24T09:56:09.939Z"
   },
   {
    "duration": 12,
    "start_time": "2022-07-24T09:56:54.415Z"
   },
   {
    "duration": 13,
    "start_time": "2022-07-24T09:57:30.666Z"
   },
   {
    "duration": 11,
    "start_time": "2022-07-24T09:57:42.249Z"
   },
   {
    "duration": 11,
    "start_time": "2022-07-24T09:57:47.934Z"
   },
   {
    "duration": 93,
    "start_time": "2022-07-24T10:00:22.355Z"
   },
   {
    "duration": 10,
    "start_time": "2022-07-24T10:00:32.815Z"
   },
   {
    "duration": 11,
    "start_time": "2022-07-24T10:00:34.161Z"
   },
   {
    "duration": 252,
    "start_time": "2022-07-24T10:00:35.343Z"
   },
   {
    "duration": 19,
    "start_time": "2022-07-24T10:00:35.769Z"
   },
   {
    "duration": 8,
    "start_time": "2022-07-24T10:00:36.549Z"
   },
   {
    "duration": 19,
    "start_time": "2022-07-24T10:00:36.745Z"
   },
   {
    "duration": 21,
    "start_time": "2022-07-24T10:00:37.092Z"
   },
   {
    "duration": 6,
    "start_time": "2022-07-24T10:00:37.336Z"
   },
   {
    "duration": 266,
    "start_time": "2022-07-24T10:00:38.243Z"
   },
   {
    "duration": 412,
    "start_time": "2022-07-24T10:00:38.511Z"
   },
   {
    "duration": 427,
    "start_time": "2022-07-24T10:00:39.177Z"
   },
   {
    "duration": 540,
    "start_time": "2022-07-24T10:00:39.915Z"
   },
   {
    "duration": 404,
    "start_time": "2022-07-24T10:00:41.693Z"
   },
   {
    "duration": 471,
    "start_time": "2022-07-24T10:00:52.433Z"
   },
   {
    "duration": 260,
    "start_time": "2022-07-24T10:00:55.884Z"
   },
   {
    "duration": 30,
    "start_time": "2022-07-24T10:01:14.118Z"
   },
   {
    "duration": 27,
    "start_time": "2022-07-24T10:02:26.541Z"
   },
   {
    "duration": 27,
    "start_time": "2022-07-24T10:04:20.215Z"
   },
   {
    "duration": 27,
    "start_time": "2022-07-24T10:06:57.368Z"
   },
   {
    "duration": 200,
    "start_time": "2022-07-24T10:07:13.481Z"
   },
   {
    "duration": 10,
    "start_time": "2022-07-24T10:08:10.948Z"
   },
   {
    "duration": 4,
    "start_time": "2022-07-24T10:08:22.080Z"
   },
   {
    "duration": 4,
    "start_time": "2022-07-24T10:08:27.497Z"
   },
   {
    "duration": 187,
    "start_time": "2022-07-24T10:08:28.522Z"
   },
   {
    "duration": 4,
    "start_time": "2022-07-24T10:08:29.686Z"
   },
   {
    "duration": 529,
    "start_time": "2022-07-24T10:08:30.980Z"
   },
   {
    "duration": 10,
    "start_time": "2022-07-24T10:08:38.281Z"
   },
   {
    "duration": 17,
    "start_time": "2022-07-24T10:08:39.887Z"
   },
   {
    "duration": 5,
    "start_time": "2022-07-24T10:09:09.138Z"
   },
   {
    "duration": 3,
    "start_time": "2022-07-24T10:09:33.239Z"
   },
   {
    "duration": 4,
    "start_time": "2022-07-24T10:09:41.910Z"
   },
   {
    "duration": 10,
    "start_time": "2022-07-24T10:09:52.363Z"
   },
   {
    "duration": 16,
    "start_time": "2022-07-24T10:10:39.650Z"
   },
   {
    "duration": 9,
    "start_time": "2022-07-24T10:11:06.457Z"
   },
   {
    "duration": 25,
    "start_time": "2022-07-24T10:11:06.874Z"
   },
   {
    "duration": 19,
    "start_time": "2022-07-24T10:11:08.906Z"
   }
  ],
  "kernelspec": {
   "display_name": "Python 3 (ipykernel)",
   "language": "python",
   "name": "python3"
  },
  "language_info": {
   "codemirror_mode": {
    "name": "ipython",
    "version": 3
   },
   "file_extension": ".py",
   "mimetype": "text/x-python",
   "name": "python",
   "nbconvert_exporter": "python",
   "pygments_lexer": "ipython3",
   "version": "3.9.7"
  },
  "toc": {
   "base_numbering": "",
   "nav_menu": {},
   "number_sections": false,
   "sideBar": true,
   "skip_h1_title": true,
   "title_cell": "Table of Contents",
   "title_sidebar": "Contents",
   "toc_cell": false,
   "toc_position": {},
   "toc_section_display": true,
   "toc_window_display": false
  }
 },
 "nbformat": 4,
 "nbformat_minor": 5
}
